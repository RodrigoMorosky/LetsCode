{
 "metadata": {
  "language_info": {
   "codemirror_mode": {
    "name": "ipython",
    "version": 3
   },
   "file_extension": ".py",
   "mimetype": "text/x-python",
   "name": "python",
   "nbconvert_exporter": "python",
   "pygments_lexer": "ipython3",
   "version": "3.8.5-final"
  },
  "orig_nbformat": 2,
  "kernelspec": {
   "name": "python3",
   "display_name": "Python 3.8.5 64-bit",
   "metadata": {
    "interpreter": {
     "hash": "2462a5e6d325a4f7fb86b9687f65f4e6709c3b54df771fa1746f94613b41bdab"
    }
   }
  }
 },
 "nbformat": 4,
 "nbformat_minor": 2,
 "cells": [
  {
   "cell_type": "code",
   "execution_count": 3,
   "metadata": {},
   "outputs": [],
   "source": [
    "# usando uma função da minha biblioteca\n",
    "from m_biblioteca import fatorial\n",
    "from statistics import mean\n",
    "import csv\n",
    "import pandas as pd"
   ]
  },
  {
   "cell_type": "code",
   "execution_count": 4,
   "metadata": {},
   "outputs": [
    {
     "output_type": "execute_result",
     "data": {
      "text/plain": [
       "120"
      ]
     },
     "metadata": {},
     "execution_count": 4
    }
   ],
   "source": [
    "fatorial(5)"
   ]
  },
  {
   "cell_type": "code",
   "execution_count": 9,
   "metadata": {},
   "outputs": [],
   "source": [
    "frases = ['a terra é redonda', 'meu carro quebrou', 'estou gripado']\n",
    "\n",
    "with open('frases.txt', 'w') as arquivo:\n",
    "    for i in frases:\n",
    "        arquivo.write(i + '\\n')\n"
   ]
  },
  {
   "cell_type": "code",
   "execution_count": 4,
   "metadata": {},
   "outputs": [
    {
     "output_type": "execute_result",
     "data": {
      "text/plain": [
       "[['Aluno', 'Nota 1', 'Nota 2', 'Nota 3'],\n",
       " ['Luke', '7', '9', '90'],\n",
       " ['Han', '4', '7.7', '60'],\n",
       " ['Leia', '9', '9', '100']]"
      ]
     },
     "metadata": {},
     "execution_count": 4
    }
   ],
   "source": [
    "with open('tabela.csv', 'r') as f:\n",
    "    reader = csv.reader(f, delimiter=';')\n",
    "    planilha = []\n",
    "    for linha in reader:\n",
    "        planilha.append(linha)\n",
    "planilha"
   ]
  },
  {
   "cell_type": "code",
   "execution_count": 6,
   "metadata": {},
   "outputs": [],
   "source": [
    "def media_aluno(planilha,nome):\n",
    "    if nome == 'Luke':\n",
    "        l = planilha[1]\n",
    "        for i in l:\n",
    "            if i == 'Luke':\n",
    "                vlr = vlr + 0\n",
    "            else:\n",
    "                vlr = vlr + i\n",
    "    elif nome == 'Han':\n",
    "         l = planilha[2]\n",
    "         for i in l:\n",
    "             if i == 'Han':\n",
    "                vlr = vlr + 0\n",
    "             else:\n",
    "                vlr = vlr + i       \n",
    "    elif nome == 'Leia':\n",
    "        l = planilha[3]\n",
    "        for i in l:\n",
    "            if i == 'Luke':\n",
    "                vlr = vlr + 0\n",
    "            else:\n",
    "                vlr = vlr + i\n",
    "    media = vlr / 3\n",
    "    return media"
   ]
  },
  {
   "cell_type": "code",
   "execution_count": 11,
   "metadata": {},
   "outputs": [],
   "source": [
    "# essa é a correção do exercício acima pelo professor\n",
    "def media_aluno_2(planilha,nome):\n",
    "    alunos = [linha[0] for linha in planilha]\n",
    "    idx = alunos.index(nome)\n",
    "    media = (float(planilha[idx][1]) + float(planilha[idx][2])) /2\n",
    "    return media"
   ]
  },
  {
   "cell_type": "code",
   "execution_count": 10,
   "metadata": {},
   "outputs": [
    {
     "output_type": "error",
     "ename": "NameError",
     "evalue": "name 'Han' is not defined",
     "traceback": [
      "\u001b[1;31m---------------------------------------------------------------------------\u001b[0m",
      "\u001b[1;31mNameError\u001b[0m                                 Traceback (most recent call last)",
      "\u001b[1;32m<ipython-input-10-0e7d74cc76b8>\u001b[0m in \u001b[0;36m<module>\u001b[1;34m\u001b[0m\n\u001b[1;32m----> 1\u001b[1;33m \u001b[0mmedia_aluno_2\u001b[0m\u001b[1;33m(\u001b[0m\u001b[0mplanilha\u001b[0m\u001b[1;33m,\u001b[0m\u001b[0mHan\u001b[0m\u001b[1;33m)\u001b[0m\u001b[1;33m\u001b[0m\u001b[1;33m\u001b[0m\u001b[0m\n\u001b[0m",
      "\u001b[1;31mNameError\u001b[0m: name 'Han' is not defined"
     ]
    }
   ],
   "source": [
    "media_aluno_2(planilha,Han)"
   ]
  },
  {
   "cell_type": "code",
   "execution_count": 56,
   "metadata": {},
   "outputs": [
    {
     "output_type": "error",
     "ename": "IndexError",
     "evalue": "list index out of range",
     "traceback": [
      "\u001b[1;31m---------------------------------------------------------------------------\u001b[0m",
      "\u001b[1;31mIndexError\u001b[0m                                Traceback (most recent call last)",
      "\u001b[1;32m<ipython-input-56-1215b4614ecd>\u001b[0m in \u001b[0;36m<module>\u001b[1;34m\u001b[0m\n\u001b[0;32m      4\u001b[0m     \u001b[0mlis_med\u001b[0m \u001b[1;33m=\u001b[0m \u001b[1;33m[\u001b[0m\u001b[1;33m]\u001b[0m\u001b[1;33m\u001b[0m\u001b[1;33m\u001b[0m\u001b[0m\n\u001b[0;32m      5\u001b[0m     \u001b[1;32mfor\u001b[0m \u001b[0mel\u001b[0m \u001b[1;32min\u001b[0m \u001b[0mrange\u001b[0m\u001b[1;33m(\u001b[0m\u001b[1;36m1\u001b[0m\u001b[1;33m,\u001b[0m\u001b[1;36m3\u001b[0m\u001b[1;33m)\u001b[0m\u001b[1;33m:\u001b[0m\u001b[1;33m\u001b[0m\u001b[1;33m\u001b[0m\u001b[0m\n\u001b[1;32m----> 6\u001b[1;33m         \u001b[0mvlr\u001b[0m \u001b[1;33m=\u001b[0m \u001b[0mvlr\u001b[0m \u001b[1;33m+\u001b[0m \u001b[0mlista2\u001b[0m\u001b[1;33m[\u001b[0m\u001b[0mel\u001b[0m\u001b[1;33m]\u001b[0m\u001b[1;33m\u001b[0m\u001b[1;33m\u001b[0m\u001b[0m\n\u001b[0m\u001b[0;32m      7\u001b[0m         \u001b[0mmedia\u001b[0m \u001b[1;33m=\u001b[0m \u001b[0mvlr\u001b[0m \u001b[1;33m/\u001b[0m \u001b[1;36m3\u001b[0m\u001b[1;33m\u001b[0m\u001b[1;33m\u001b[0m\u001b[0m\n\u001b[0;32m      8\u001b[0m         \u001b[0mlist_med\u001b[0m\u001b[1;33m.\u001b[0m\u001b[0mappend\u001b[0m\u001b[1;33m(\u001b[0m\u001b[0mmedia\u001b[0m\u001b[1;33m)\u001b[0m\u001b[1;33m\u001b[0m\u001b[1;33m\u001b[0m\u001b[0m\n",
      "\u001b[1;31mIndexError\u001b[0m: list index out of range"
     ]
    }
   ],
   "source": [
    "\n",
    "for i in range(1,3):\n",
    "    vlr = 0\n",
    "    lista2 = planilha[i]\n",
    "    lis_med = []\n",
    "    for el in range(1,3):\n",
    "        vlr = vlr + lista2[el]\n",
    "        media = vlr / 3\n",
    "        list_med.append(media)\n",
    "print(lis_med)\n"
   ]
  },
  {
   "cell_type": "code",
   "execution_count": 3,
   "metadata": {},
   "outputs": [
    {
     "output_type": "stream",
     "name": "stdout",
     "text": [
      "3 - 2\n<class 'int'> - <class 'int'>\n"
     ]
    }
   ],
   "source": [
    "lista = ['a','b','c']\n",
    "pala = 'as'\n",
    "\n",
    "l = len(lista)\n",
    "p = len(pala)\n",
    "\n",
    "print(l, '-', p)\n",
    "print (type(l), '-', type(p))"
   ]
  },
  {
   "cell_type": "code",
   "execution_count": null,
   "metadata": {},
   "outputs": [],
   "source": []
  }
 ]
}