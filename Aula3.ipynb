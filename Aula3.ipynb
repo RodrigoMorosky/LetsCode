{
 "metadata": {
  "language_info": {
   "codemirror_mode": {
    "name": "ipython",
    "version": 3
   },
   "file_extension": ".py",
   "mimetype": "text/x-python",
   "name": "python",
   "nbconvert_exporter": "python",
   "pygments_lexer": "ipython3",
   "version": "3.8.5-final"
  },
  "orig_nbformat": 2,
  "kernelspec": {
   "name": "python3",
   "display_name": "Python 3.8.5 64-bit",
   "metadata": {
    "interpreter": {
     "hash": "2462a5e6d325a4f7fb86b9687f65f4e6709c3b54df771fa1746f94613b41bdab"
    }
   }
  }
 },
 "nbformat": 4,
 "nbformat_minor": 2,
 "cells": [
  {
   "cell_type": "code",
   "execution_count": 2,
   "metadata": {},
   "outputs": [
    {
     "output_type": "stream",
     "name": "stdout",
     "text": [
      "1\n2\n3\n4\n5\n6\n7\n8\n9\n10\n"
     ]
    }
   ],
   "source": [
    "# LC | While\n",
    "# Faça um programa que peça ao usuário um número e imprima todos os números de um até o número dado.\n",
    "\n",
    "numero = int(input('Digite um número:'))\n",
    "num = 0\n",
    "while num < numero:\n",
    "    num +=1\n",
    "    print(num)"
   ]
  },
  {
   "cell_type": "code",
   "execution_count": 3,
   "metadata": {},
   "outputs": [
    {
     "output_type": "stream",
     "name": "stdout",
     "text": [
      "15\n"
     ]
    }
   ],
   "source": [
    "# Peça ao usuário para digitar um número N e some todos os números de 1 a N utilizando o laço de repetição while.\n",
    "numero = int(input('Digite um número:'))\n",
    "num = 0\n",
    "soma = 0\n",
    "while num < numero:\n",
    "    num +=1\n",
    "    soma = soma + num\n",
    "print(soma)"
   ]
  },
  {
   "cell_type": "code",
   "execution_count": 17,
   "metadata": {},
   "outputs": [
    {
     "output_type": "stream",
     "name": "stdout",
     "text": [
      "720\n"
     ]
    }
   ],
   "source": [
    "# Peça ao usuário para digitar um número e imprima o fatorial de n.\n",
    "numero = int(input('Digite um número:'))\n",
    "num = numero\n",
    "fatorial = 1\n",
    "while num > 0:\n",
    "    fatorial *= num\n",
    "    num -=1\n",
    "print(fatorial)"
   ]
  },
  {
   "cell_type": "code",
   "execution_count": 3,
   "metadata": {},
   "outputs": [
    {
     "output_type": "stream",
     "name": "stdout",
     "text": [
      "9 X 1 = 9\n9 X 2 = 18\n9 X 3 = 27\n9 X 4 = 36\n9 X 5 = 45\n9 X 6 = 54\n9 X 7 = 63\n9 X 8 = 72\n9 X 9 = 81\n9 X 10 = 90\n"
     ]
    }
   ],
   "source": [
    "# Faça um programa que imprima a tabuada do 9 (de 9*1 a 9*10) usando loops.\n",
    "numero = int(input('Digite um número:'))\n",
    "\n",
    "for i in range(1,11):\n",
    "    print('{} X {} = {}'.format(numero, i,numero*i ))\n"
   ]
  },
  {
   "cell_type": "code",
   "execution_count": 9,
   "metadata": {
    "tags": []
   },
   "outputs": [
    {
     "output_type": "stream",
     "name": "stdout",
     "text": [
      "O número é divisível por 1\nO número é divisível por 2\nO número é divisível por 5\nSão ao todo 3 divisores para este número\n"
     ]
    }
   ],
   "source": [
    "# Faça um programa que recebe um número inteiro do usuário e imprime na tela a quantidade de divisores desse número e quais são eles.\n",
    "numero = int(input('Digite um número:'))\n",
    "num = 1\n",
    "contador = 0\n",
    "while num < numero:\n",
    "    divisor = numero % num\n",
    "    if divisor ==0:\n",
    "        print('O número é divisível por {}'.format(num))\n",
    "        contador +=1\n",
    "        num +=1\n",
    "    else:\n",
    "        num +=1\n",
    "\n",
    "print('São ao todo {} divisores para este número'.format(contador))\n"
   ]
  },
  {
   "cell_type": "code",
   "execution_count": 16,
   "metadata": {
    "tags": []
   },
   "outputs": [
    {
     "output_type": "stream",
     "name": "stdout",
     "text": [
      "10\n",
      "8\n",
      "5\n",
      "A soma dos valores digitados é: 23\n"
     ]
    }
   ],
   "source": [
    "# Faça um programa, usando loops, que peça para um usuário digitar um número e que só finaliza quando o usuário digitar 0. Ao final imprima a soma de todos os números digitados.\n",
    "numero = int(input('Digite um número:'))\n",
    "lista = []\n",
    "while numero !=0:\n",
    "    print(numero)\n",
    "    lista.append(numero)\n",
    "    numero = int(input('Digite um número:'))\n",
    "print('A soma dos valores digitados é: {}'.format(sum(lista)))"
   ]
  },
  {
   "cell_type": "code",
   "execution_count": 17,
   "metadata": {},
   "outputs": [
    {
     "output_type": "stream",
     "name": "stdout",
     "text": [
      "Você errou! Tente novamente...\n",
      "Você errou! Tente novamente...\n",
      "Parabéns você acertou! Era o número 3\n"
     ]
    }
   ],
   "source": [
    "# Faça um programa que sorteia um número N e peça para o usuário adivinhar o número sorteado. A cada resposta errada, o seu programa deve imprimir um aviso dizendo que a resposta está errada e pedir novamente uma resposta ao usuário.\n",
    "from random import randint\n",
    "numero = randint(1,10)\n",
    "num = int(input('Tente adivinhar o número entre 1 e 10:'))\n",
    "while num != numero:\n",
    "    print('Você errou! Tente novamente...')\n",
    "    num = int(input('Tente adivinhar o número entre 1 e 10:'))\n",
    "print('Parabéns você acertou! Era o número {}'.format(numero))"
   ]
  },
  {
   "cell_type": "code",
   "execution_count": 7,
   "metadata": {},
   "outputs": [
    {
     "output_type": "stream",
     "name": "stdout",
     "text": [
      "ERRO: campo só recebe valor \"m\", \"f\" ou \"outro\"\n"
     ]
    }
   ],
   "source": [
    "# Faça um programa que peça para o usuário digitar a idade, o salário e o sexo de uma pessoa até que as entradas digitadas sejam válidas.\n",
    "idade = int(input('Digite a idade:'))\n",
    "\n",
    "while idade <0 or idade >150:\n",
    "    print('ERRO: Idade não pode ser menor que zero ou maior que 150')\n",
    "    idade = int(input('Digite a idade:'))\n",
    "\n",
    "salario = float(input('Digite o salário:'))\n",
    "while salario <0:\n",
    "    print('ERRO: salário não pode ser menor que zero.')\n",
    "    salario = float(input('Digite o salário:'))\n",
    "\n",
    "sexo = input('Digite o sexo (m, f ou outro):')\n",
    "lista = ['m', 'f', 'outro']\n",
    "\n",
    "while sexo not in lista:\n",
    "    print('ERRO: campo só recebe valor \"m\", \"f\" ou \"outro\"')\n",
    "    sexo = str(input('Digite o sexo:'))\n"
   ]
  },
  {
   "cell_type": "code",
   "execution_count": 30,
   "metadata": {},
   "outputs": [
    {
     "output_type": "stream",
     "name": "stdout",
     "text": [
      "2.0\n"
     ]
    }
   ],
   "source": [
    "# Desafio! - Calcule a soma de até mil termos da série 1 + 1/2 + 1/4 + 1/8 + 1/16 + ...\n",
    "contador = 0\n",
    "soma = 0\n",
    "termo = 1\n",
    "while contador <1000:\n",
    "    soma = soma + 1/termo\n",
    "    contador +=1\n",
    "    termo = termo *2\n",
    "print(soma)"
   ]
  },
  {
   "cell_type": "code",
   "execution_count": 35,
   "metadata": {
    "tags": []
   },
   "outputs": [
    {
     "output_type": "stream",
     "name": "stdout",
     "text": [
      "1.7182818284590455\n"
     ]
    }
   ],
   "source": [
    "# Super Desafio! - Calcule a soma de mil termos dos inversos dos fatoriais: 1/(1!) + 1/(2!) + 1/(3!) + 1/(4!) + ...\n",
    "contador = 0\n",
    "soma = 0\n",
    "termo = 1\n",
    "while contador <1000:\n",
    "    contador +=1\n",
    "    termo = termo * contador\n",
    "    soma = soma + 1/termo\n",
    "print(soma)"
   ]
  },
  {
   "cell_type": "code",
   "execution_count": 1,
   "metadata": {},
   "outputs": [
    {
     "output_type": "stream",
     "name": "stdout",
     "text": [
      "0\n1\n2\n0\n"
     ]
    }
   ],
   "source": [
    "i = 0\n",
    "while i < 3: \n",
    "    print(i) \n",
    "    i += 1\n",
    "else: \n",
    "    print(0)"
   ]
  },
  {
   "cell_type": "code",
   "execution_count": 2,
   "metadata": {},
   "outputs": [
    {
     "output_type": "stream",
     "name": "stdout",
     "text": [
      "1\n2\n"
     ]
    }
   ],
   "source": [
    "i = 1\n",
    "while True: \n",
    "    if i % 3 == 0: \n",
    "        break\n",
    "    print(i) \n",
    "    i += 1"
   ]
  },
  {
   "cell_type": "code",
   "execution_count": 6,
   "metadata": {},
   "outputs": [
    {
     "output_type": "stream",
     "name": "stdout",
     "text": [
      "['1', '2', '3', '4', '5']\n"
     ]
    }
   ],
   "source": [
    "lista = []\n",
    "for i in range(5):\n",
    "    vlr = input('Digite um número:')\n",
    "    lista.append(vlr)\n",
    "print(lista)"
   ]
  },
  {
   "cell_type": "code",
   "execution_count": 15,
   "metadata": {},
   "outputs": [
    {
     "output_type": "stream",
     "name": "stdout",
     "text": [
      "[1, 2, 3, 4, 5]\n"
     ]
    }
   ],
   "source": [
    "lista = ['1', '2', '3', '4', '5']\n",
    "lista_2 = []\n",
    "for i in lista:\n",
    "   #float(lista[i])\n",
    "   lista_2.append(int(i))\n",
    "print(lista_2)"
   ]
  },
  {
   "cell_type": "code",
   "execution_count": 2,
   "metadata": {},
   "outputs": [
    {
     "output_type": "stream",
     "name": "stdout",
     "text": [
      "7.5\n"
     ]
    }
   ],
   "source": [
    "# Faça um programa que peça as 4 notas bimestrais e mostre a média aritmética delas, usando listas.\n",
    "notas =[]\n",
    "media = 0\n",
    "for i in range(4):\n",
    "    notas.append(float(input('Digite a nota:')))\n",
    "for nota in notas:\n",
    "    media = media + nota\n",
    "print(media/len(notas))"
   ]
  },
  {
   "cell_type": "code",
   "execution_count": 20,
   "metadata": {},
   "outputs": [
    {
     "output_type": "stream",
     "name": "stdout",
     "text": [
      "A lista:\nA listas:  [1, 7, 4, 4, 1, 1, 4, 9, 3, 4]\na -  [1, 7, 4, 4]\nb -  [1, 4, 9, 3, 4]\nc -  7 4 1 9 4\nd -  1 4 1 4 3\ne -  [4, 3, 9, 4, 1, 1, 4, 4, 7, 1]\nf -  [1, 4, 4, 7, 1]\ng -  [4, 3, 9, 4, 1]\n"
     ]
    }
   ],
   "source": [
    "'''Sorteie uma lista de 10 números e imprima:\n",
    "\n",
    "a. uma lista com os 4 primeiros números;\n",
    "\n",
    "b. uma lista com os 5 últimos números;\n",
    "\n",
    "c. uma lista contendo apenas os elementos das posições pares;\n",
    "\n",
    "d. uma lista contendo apenas os elementos das posições ímpares;\n",
    "\n",
    "e. a lista inversa da lista sorteada (isto é, uma lista que começa com o último elemento da lista sorteada e termina com o primeiro);\n",
    "\n",
    "f. uma lista inversa dos 5 primeiros números;\n",
    "\n",
    "g. uma lista inversa dos 5 últimos números.'''\n",
    "\n",
    "import random\n",
    "\n",
    "numeros = []\n",
    "num_invertido = []\n",
    "for i in range(10):\n",
    "    numeros.append(random.randint(1,10))\n",
    "print('A lista:')\n",
    "print('A listas: ',numeros)\n",
    "\n",
    "print('a - ',numeros[:4])\n",
    "\n",
    "print('b - ',numeros[5:])\n",
    "\n",
    "print('c - ',numeros[1], numeros[3], numeros[5], numeros[7], numeros[9])\n",
    "\n",
    "print('d - ',numeros[0], numeros[2], numeros[4], numeros[6], numeros[8])\n",
    "\n",
    "indice = 9\n",
    "while indice >= 0:\n",
    "    n = numeros[indice]\n",
    "    num_invertido.append(n)\n",
    "    indice -=1\n",
    "print('e - ',num_invertido)\n",
    "print('f - ', num_invertido[5:])\n",
    "print('g - ', num_invertido[:5])"
   ]
  },
  {
   "cell_type": "code",
   "execution_count": 21,
   "metadata": {},
   "outputs": [
    {
     "output_type": "stream",
     "name": "stdout",
     "text": [
      "[33, 96, 77, 73, 82, 67, 72, 27, 80, 45]\n7\n"
     ]
    }
   ],
   "source": [
    "# Faça um programa que sorteia 10 números entre 0 e 100 e conte quantos números sorteados são maiores que 50.\n",
    "import random\n",
    "\n",
    "numeros = []\n",
    "maior = 0\n",
    "for i in range(10):\n",
    "    numeros.append(random.randint(1,100))\n",
    "\n",
    "for i in numeros:\n",
    "    if i >50:\n",
    "        maior +=1\n",
    "    else:\n",
    "        pass\n",
    "print(numeros)\n",
    "print(maior)"
   ]
  },
  {
   "cell_type": "code",
   "execution_count": 40,
   "metadata": {},
   "outputs": [
    {
     "output_type": "stream",
     "name": "stdout",
     "text": [
      "A lista é:  [4, 51, 78, 82, 71, 22, 73, 72, 13, 37]\na -  82\nb -  4\nc -  503\nd -  50.3\n"
     ]
    }
   ],
   "source": [
    "# Faça um programa que sorteie 10 números entre 0 e 100 e imprima:\n",
    "# a. o maior número sorteado;\n",
    "# b. o menor número sorteado;\n",
    "# c. a média dos números sorteados;\n",
    "# d. a soma dos números sorteados.\n",
    "import random\n",
    "\n",
    "numeros = []\n",
    "\n",
    "for i in range(10):\n",
    "    numeros.append(random.randint(1,100))\n",
    "print('A lista é: ',numeros)\n",
    "print('a - ',max(numeros))\n",
    "print('b - ',min(numeros))\n",
    "print('c - ', sum(numeros)/len(numeros))\n",
    "print('d - ', sum(numeros))\n"
   ]
  },
  {
   "cell_type": "code",
   "execution_count": 66,
   "metadata": {},
   "outputs": [
    {
     "output_type": "stream",
     "name": "stdout",
     "text": [
      "CPF válido!\n"
     ]
    }
   ],
   "source": [
    "# Desafio 3 - Faça um programa que pede para o usuário digitar o CPF e verifica se ele é válido. Para isso, primeiramente o programa deve multiplicar cada um dos 9 primeiros dígitos do CPF pelos números de 10 a 2 e somar todas as respostas. O resultado deve ser multiplicado por 10 e dividido por 11. O resto dessa divisão deve ser igual ao primeiro dígito verificador (10º dígito). Em seguida, o programa deve multiplicar cada um dos 10 primeiros dígitos do CPF pelos números de 11 a 2 e repetir o procedimento anterior para verificar o segundo dígito verificador.\n",
    "cpf = input('Digite seu CPF sem . e sem -:')\n",
    "lista_tx = list(cpf)\n",
    "lista = []\n",
    "\n",
    "for el in lista_tx:\n",
    "    lista.append(int(el))\n",
    "\n",
    "primeiro = 10\n",
    "soma = 0\n",
    "for i in range(9):\n",
    "    vlr = lista[i] * primeiro\n",
    "    soma = soma + vlr\n",
    "    primeiro -=1\n",
    "\n",
    "if soma*10%11 == lista[9]:\n",
    "    segundo = 11\n",
    "    segsoma = 0\n",
    "    for n in range(10):\n",
    "        vlr_2 = lista[n] * segundo\n",
    "        segsoma = segsoma + vlr_2\n",
    "        segundo -=1\n",
    "    \n",
    "    if segsoma*10%11 == lista[10]:\n",
    "        print('CPF válido!')\n",
    "    else:\n",
    "        print('CPF inválido!')\n",
    "else:\n",
    "    print('CPF inválido!')"
   ]
  },
  {
   "cell_type": "code",
   "execution_count": 62,
   "metadata": {},
   "outputs": [
    {
     "output_type": "stream",
     "name": "stdout",
     "text": [
      "['0', '9', '7', '9', '6', '9', '5', '2', '7', '9', '3']\n[0, 9, 7, 9, 6, 9, 5, 2, 7, 9, 3]\n9\n"
     ]
    }
   ],
   "source": [
    "print(lista_tx)\n",
    "print(lista)\n",
    "print(lista[9])"
   ]
  },
  {
   "cell_type": "code",
   "execution_count": 67,
   "metadata": {},
   "outputs": [],
   "source": [
    "'''Desafio 1 - Faça um programa que peça para o usuário digitar o nome e a idade de um aluno e o número de provas que esse aluno fez. Depois, o programa deve pedir para o usuário digitar as notas de cada prova do aluno. Ao final o programa deve imprimir uma lista contendo:\n",
    "a. Nome do aluno na posição 0;\n",
    "b. Idade do aluno na posição 1;\n",
    "c. Uma lista com todas as notas na posição 2;\n",
    "d. A média do aluno na posição 3;\n",
    "e. True ou False, caso a média seja maior que 5 ou não, na posição 4.'''\n",
    "\n",
    "nome = input('Digite o nome do aluno:')\n",
    "idade = input('Digite a idade do aluno:')\n",
    "n_notas = int(input('Digite o número de provas feitas:'))\n",
    "notas = []\n",
    "\n",
    "for i in range(n_notas):\n",
    "    n = float(input('Digite a nota:'))\n",
    "    notas.append(n)\n",
    "\n",
    "media = sum(notas)/len(notas)\n",
    "validacao = media >5\n",
    "\n",
    "ls = [nome, idade, notas, media, validacao]\n",
    "print(ls)"
   ]
  },
  {
   "cell_type": "code",
   "execution_count": 69,
   "metadata": {},
   "outputs": [
    {
     "output_type": "stream",
     "name": "stdout",
     "text": [
      "['Rodrigo', '36', [10.0, 9.0, 8.0, 7.0], 8.5, True]\n"
     ]
    }
   ],
   "source": [
    "# Desafio 2 - Faça um programa como o do item anterior, porém que imprima a média sem considerar a maior e menor nota do aluno (nesse caso o número de provas precisa ser obrigatoriamente maior que dois).\n",
    "nome = input('Digite o nome do aluno:')\n",
    "idade = input('Digite a idade do aluno:')\n",
    "n_notas = int(input('Digite o número de provas feitas:'))\n",
    "notas = []\n",
    "\n",
    "for i in range(n_notas):\n",
    "    n = float(input('Digite a nota:'))\n",
    "    notas.append(n)\n",
    "\n",
    "media = (sum(notas)-max(notas) - min(notas))/(len(notas)-2)\n",
    "validacao = media >5\n",
    "\n",
    "ls = [nome, idade, notas, media, validacao]\n",
    "print(ls)"
   ]
  },
  {
   "cell_type": "code",
   "execution_count": null,
   "metadata": {},
   "outputs": [],
   "source": []
  }
 ]
}