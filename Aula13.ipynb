{
 "metadata": {
  "language_info": {
   "codemirror_mode": {
    "name": "ipython",
    "version": 3
   },
   "file_extension": ".py",
   "mimetype": "text/x-python",
   "name": "python",
   "nbconvert_exporter": "python",
   "pygments_lexer": "ipython3",
   "version": "3.8.5-final"
  },
  "orig_nbformat": 2,
  "kernelspec": {
   "name": "python385jvsc74a57bd02462a5e6d325a4f7fb86b9687f65f4e6709c3b54df771fa1746f94613b41bdab",
   "display_name": "Python 3.8.5 64-bit"
  },
  "metadata": {
   "interpreter": {
    "hash": "2462a5e6d325a4f7fb86b9687f65f4e6709c3b54df771fa1746f94613b41bdab"
   }
  }
 },
 "nbformat": 4,
 "nbformat_minor": 2,
 "cells": [
  {
   "cell_type": "code",
   "execution_count": 1,
   "metadata": {},
   "outputs": [],
   "source": [
    "# Interface gráfica Tkinter\n",
    "from tkinter import *"
   ]
  },
  {
   "cell_type": "code",
   "execution_count": 6,
   "metadata": {},
   "outputs": [],
   "source": [
    "janela = Tk()\n",
    "texto = Label(janela, text='Olá Mundo!')\n",
    "texto.pack()\n",
    "janela.mainloop()"
   ]
  },
  {
   "cell_type": "code",
   "execution_count": 12,
   "metadata": {},
   "outputs": [],
   "source": [
    "janela = Tk()\n",
    "entrada_var = StringVar()\n",
    "texto_digitado = Label(janela, textvariable = entrada_var)\n",
    "entrada = Entry(janela, textvariable = texto_digitado)\n",
    "entrada.pack()\n",
    "texto_digitado.pack()\n",
    "janela.mainloop()"
   ]
  },
  {
   "cell_type": "code",
   "execution_count": 13,
   "metadata": {},
   "outputs": [],
   "source": [
    "from tkinter import filedialog\n",
    "\n",
    "janela = Tk()\n",
    "file = StringVar()\n",
    "Label(janela, textvariable=file).pack(fill=X, expand=True)\n",
    "\n",
    "Button(janela, text='Open file', font=('Arial', 20),\n",
    "command=lambda: file.set(filedialog.askopenfilenames())).pack()\n",
    "\n",
    "janela.mainloop()"
   ]
  },
  {
   "cell_type": "code",
   "execution_count": null,
   "metadata": {},
   "outputs": [],
   "source": []
  }
 ]
}