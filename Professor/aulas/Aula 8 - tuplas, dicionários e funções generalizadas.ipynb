{
 "cells": [
  {
   "cell_type": "markdown",
   "metadata": {},
   "source": [
    "# Aula 7 - tuplas, dicionários e funções generalizadas\n",
    "\n",
    "Na aula de hoje, vamos explorar os seguintes tópicos em Python:\n",
    "\n",
    "- 1) Tuplas\n",
    "- 2) Dicionários\n",
    "- 3) Funções com parâmetros variáveis\n",
    "- 4) Funções com parâmetros opcionais\n",
    "\n",
    "_______\n",
    "\n"
   ]
  },
  {
   "cell_type": "markdown",
   "metadata": {},
   "source": [
    "____\n",
    "____\n",
    "____"
   ]
  },
  {
   "cell_type": "markdown",
   "metadata": {},
   "source": [
    "## 1) Tuplas\n",
    "\n",
    "Até o momento, temos utilizado **listas** pra armazenar uma coleção de dados.\n",
    "\n",
    "Aprenderemos agora sobre uma nova **estrutura de dados**: tuplas!\n",
    "\n",
    "Tuplas são estruturas bastante parecidas com listas:\n",
    "\n",
    "- Podem guardar **tipos diferentes de dados**.\n",
    "- São indexadas (podemos **acessar elementos por índices**).\n",
    "- São iteráveis (**podemos percorrer com o `for`**)."
   ]
  },
  {
   "cell_type": "markdown",
   "metadata": {},
   "source": [
    "A principal diferença é: tuplas são **imutáveis**!\n",
    "\n",
    "Para tuplas **não é possível**: alterar elementos individuais, adicionar elementos, remover elementos ou alterar a ordem dos elementos. Uma vez criada, não é possível alterar nada de uma tupla!\n",
    "\n",
    "Mas, então, pra que servem as tuplas?\n",
    "\n",
    "- É um jeito de **sinalizar que esses dados não deveriam ser alterados**. \n",
    "\n",
    "- É um meio de garantir que os elementos estarão **em uma ordem específica**.\n",
    "\n",
    "- O acesso a elementos de uma tupla **é bem mais rápido**."
   ]
  },
  {
   "cell_type": "markdown",
   "metadata": {},
   "source": [
    "Tuplas são indicadas entre **parênteses ()**\n"
   ]
  },
  {
   "cell_type": "code",
   "execution_count": 2,
   "metadata": {},
   "outputs": [
    {
     "data": {
      "text/plain": [
       "(1, 2, 'Vinicius', [1, 2])"
      ]
     },
     "execution_count": 2,
     "metadata": {},
     "output_type": "execute_result"
    }
   ],
   "source": [
    "tupla = (1, 2, 'Vinicius', [1,2])\n",
    "tupla"
   ]
  },
  {
   "cell_type": "markdown",
   "metadata": {},
   "source": [
    "No entanto, é possível definir tuplas sem a utilização de parênteses, apenas **listando os elementos, separados por vírgula**"
   ]
  },
  {
   "cell_type": "code",
   "execution_count": 3,
   "metadata": {},
   "outputs": [
    {
     "data": {
      "text/plain": [
       "(1, 2, 'Vinicius', [1, 2])"
      ]
     },
     "execution_count": 3,
     "metadata": {},
     "output_type": "execute_result"
    }
   ],
   "source": [
    "tupla = 1, 2, 'Vinicius', [1,2]\n",
    "tupla"
   ]
  },
  {
   "cell_type": "markdown",
   "metadata": {},
   "source": [
    "para acessar um elemento pelo índice ainda usamos colchete"
   ]
  },
  {
   "cell_type": "code",
   "execution_count": 5,
   "metadata": {},
   "outputs": [
    {
     "data": {
      "text/plain": [
       "'Vinicius'"
      ]
     },
     "execution_count": 5,
     "metadata": {},
     "output_type": "execute_result"
    }
   ],
   "source": [
    "tupla[2]"
   ]
  },
  {
   "cell_type": "markdown",
   "metadata": {},
   "source": [
    "a tupla é iteravel, logo podemos utilizar o `for in`"
   ]
  },
  {
   "cell_type": "code",
   "execution_count": 6,
   "metadata": {},
   "outputs": [
    {
     "name": "stdout",
     "output_type": "stream",
     "text": [
      "1\n",
      "2\n",
      "Vinicius\n",
      "[1, 2]\n"
     ]
    }
   ],
   "source": [
    "for el in tupla:\n",
    "    print(el)"
   ]
  },
  {
   "cell_type": "markdown",
   "metadata": {},
   "source": [
    "Mas, como dissemos, a tupla é **imutável!** Assim, se tentarmos mudar algum dos seus elementos, teremos um erro:"
   ]
  },
  {
   "cell_type": "code",
   "execution_count": 7,
   "metadata": {},
   "outputs": [
    {
     "ename": "TypeError",
     "evalue": "'tuple' object does not support item assignment",
     "output_type": "error",
     "traceback": [
      "\u001b[0;31m---------------------------------------------------------------------------\u001b[0m",
      "\u001b[0;31mTypeError\u001b[0m                                 Traceback (most recent call last)",
      "\u001b[0;32m<ipython-input-7-a4c6133c0bbb>\u001b[0m in \u001b[0;36m<module>\u001b[0;34m\u001b[0m\n\u001b[0;32m----> 1\u001b[0;31m \u001b[0mtupla\u001b[0m\u001b[0;34m[\u001b[0m\u001b[0;36m2\u001b[0m\u001b[0;34m]\u001b[0m \u001b[0;34m=\u001b[0m \u001b[0;34m'bla'\u001b[0m\u001b[0;34m\u001b[0m\u001b[0;34m\u001b[0m\u001b[0m\n\u001b[0m",
      "\u001b[0;31mTypeError\u001b[0m: 'tuple' object does not support item assignment"
     ]
    }
   ],
   "source": [
    "tupla[2] = 'bla'"
   ]
  },
  {
   "cell_type": "markdown",
   "metadata": {},
   "source": [
    "Para \"alterar uma tupla\", podemos fazer um procedimento bem forçado: primeiro, transformamos a tupla em lista; aí, alteramos a lista; depois, transformamos a lista de volta em tupla:"
   ]
  },
  {
   "cell_type": "code",
   "execution_count": 18,
   "metadata": {},
   "outputs": [
    {
     "data": {
      "text/plain": [
       "(1, 2, 'bla', [1, 2])"
      ]
     },
     "execution_count": 18,
     "metadata": {},
     "output_type": "execute_result"
    }
   ],
   "source": [
    "tupla_como_lista = list(tupla)\n",
    "tupla_como_lista[2] = 'bla'\n",
    "tupla_como_lista_como_tupla = tuple(tupla_como_lista)\n",
    "tupla_como_lista_como_tupla"
   ]
  },
  {
   "cell_type": "markdown",
   "metadata": {},
   "source": [
    "No entanto, note que a tupla original permaneceu inalterada:"
   ]
  },
  {
   "cell_type": "code",
   "execution_count": 19,
   "metadata": {},
   "outputs": [
    {
     "data": {
      "text/plain": [
       "(1, 2, 'bla', [1, 2])"
      ]
     },
     "execution_count": 19,
     "metadata": {},
     "output_type": "execute_result"
    }
   ],
   "source": [
    "tupla"
   ]
  },
  {
   "cell_type": "markdown",
   "metadata": {},
   "source": [
    "Outra utilidade de tuplas: fazer uma função **retornar mais de um valor**"
   ]
  },
  {
   "cell_type": "code",
   "execution_count": 29,
   "metadata": {},
   "outputs": [],
   "source": [
    "import math\n",
    "def info_circulo(r):\n",
    "    # retorna o perimetro e area do circulo\n",
    "    return 2 * math.pi * r, math.pi * r**2"
   ]
  },
  {
   "cell_type": "code",
   "execution_count": 35,
   "metadata": {},
   "outputs": [
    {
     "name": "stdout",
     "output_type": "stream",
     "text": [
      "6.283185307179586 3.141592653589793\n"
     ]
    },
    {
     "data": {
      "text/plain": [
       "(6.283185307179586, 3.141592653589793)"
      ]
     },
     "execution_count": 35,
     "metadata": {},
     "output_type": "execute_result"
    }
   ],
   "source": [
    "perimetro, area = info_circulo(1)\n",
    "# perimetro, area = info \n",
    "print(perimetro, area)\n",
    "info"
   ]
  },
  {
   "cell_type": "markdown",
   "metadata": {},
   "source": [
    "____\n",
    "____\n",
    "____"
   ]
  },
  {
   "cell_type": "markdown",
   "metadata": {},
   "source": [
    "## 2) Dicionários\n",
    "\n",
    "Uma outra estrutura de dados bem importante em Python são os **dicionários**.\n",
    "\n",
    "O dicionário também é uma **coleção de dados**. \n",
    "\n",
    "A diferença é que um dicionário é definido a partir de **dois elementos**: uma **chave** e um **valor**.\n",
    "\n",
    "- A **chave** é uma string ou int que é utilizada como se fosse um índice, identificando os respectivos valores.\n",
    "\n",
    "- O **valor** pode ser qualquer dado: um int, um float, uma str, um bool, uma lista, uma tupla, outro dicionário...\n",
    "\n"
   ]
  },
  {
   "cell_type": "markdown",
   "metadata": {},
   "source": [
    "Dicionários são indicados **entre chaves{}**, segundo a estrutura:\n",
    "\n",
    "```python\n",
    "dicionario = {\"chave\": valor}\n",
    "```"
   ]
  },
  {
   "cell_type": "code",
   "execution_count": 36,
   "metadata": {},
   "outputs": [
    {
     "data": {
      "text/plain": [
       "{'nome': 'Joãozinho',\n",
       " 'idade': 32,\n",
       " 'cidade': 'Mauá',\n",
       " 'filhos': 0,\n",
       " 'altura': 1.8}"
      ]
     },
     "execution_count": 36,
     "metadata": {},
     "output_type": "execute_result"
    }
   ],
   "source": [
    "# definindo um dicionário\n",
    "\n",
    "dicionario = {\n",
    "    \"nome\" : \"Joãozinho\",\n",
    "    \"idade\" : 32,\n",
    "    \"cidade\" : \"Mauá\",\n",
    "    \"filhos\": 0,\n",
    "    \"altura\" : 1.80\n",
    "}\n",
    "\n",
    "dicionario"
   ]
  },
  {
   "cell_type": "code",
   "execution_count": 37,
   "metadata": {},
   "outputs": [
    {
     "data": {
      "text/plain": [
       "{'nomes': ['Joãozinho', 'Mariazinha'],\n",
       " 'idades': [32, 25],\n",
       " 'cidades': ['Mauá', 'Santo André'],\n",
       " 'filhos': [0, 0],\n",
       " 'altura': [1.8, 1.65]}"
      ]
     },
     "execution_count": 37,
     "metadata": {},
     "output_type": "execute_result"
    }
   ],
   "source": [
    "cadastro = {\n",
    "    \"nomes\" : [\"Joãozinho\", \"Mariazinha\"],\n",
    "    \"idades\" : [32, 25],\n",
    "    \"cidades\" : [\"Mauá\", \"Santo André\"],\n",
    "    \"filhos\": [0, 0],\n",
    "    \"altura\" : [1.80, 1.65]\n",
    "}\n",
    "\n",
    "cadastro"
   ]
  },
  {
   "cell_type": "code",
   "execution_count": 39,
   "metadata": {},
   "outputs": [
    {
     "data": {
      "text/plain": [
       "['Joãozinho', 'Mariazinha']"
      ]
     },
     "execution_count": 39,
     "metadata": {},
     "output_type": "execute_result"
    }
   ],
   "source": [
    "# acessando valores dos dicionários\n",
    "cadastro['nomes']\n"
   ]
  },
  {
   "cell_type": "markdown",
   "metadata": {},
   "source": [
    "Poderíamos, ao invés de um dicionário, usar uma lista de listas, como abaixo. \n",
    "\n",
    "Porém, neste caso, fica bem menos intuitivo quando queremos selecionar os elementos que representam nomes ou cidades, porque somos obrigado a usar números para indexar, ao invés das chaves."
   ]
  },
  {
   "cell_type": "code",
   "execution_count": 40,
   "metadata": {
    "scrolled": true
   },
   "outputs": [
    {
     "data": {
      "text/plain": [
       "[['Joãozinho', 'Mariazinha'],\n",
       " [32, 25],\n",
       " ['Mauá', 'Santo André'],\n",
       " [0, 0],\n",
       " [1.8, 1.65]]"
      ]
     },
     "execution_count": 40,
     "metadata": {},
     "output_type": "execute_result"
    }
   ],
   "source": [
    "cadastro_lista = [\n",
    "    [\"Joãozinho\", \"Mariazinha\"], \n",
    "    [32, 25], \n",
    "    [\"Mauá\", \"Santo André\"], \n",
    "    [0, 0], \n",
    "    [1.80, 1.65]\n",
    "]\n",
    "\n",
    "cadastro_lista"
   ]
  },
  {
   "cell_type": "code",
   "execution_count": 41,
   "metadata": {},
   "outputs": [
    {
     "data": {
      "text/plain": [
       "['Joãozinho', 'Mariazinha']"
      ]
     },
     "execution_count": 41,
     "metadata": {},
     "output_type": "execute_result"
    }
   ],
   "source": [
    "cadastro_lista[0]"
   ]
  },
  {
   "cell_type": "markdown",
   "metadata": {},
   "source": [
    "Para adicionar elementos ao dicionário, não precisamos de uma função pronta (como o append das listas). \n",
    "\n",
    "Basta definir a nova chave como uma variável, e atribuir um novo valor a ela:\n"
   ]
  },
  {
   "cell_type": "code",
   "execution_count": 43,
   "metadata": {},
   "outputs": [],
   "source": [
    "cadastro['pets'] = ['cachorro', 'gato']"
   ]
  },
  {
   "cell_type": "markdown",
   "metadata": {},
   "source": [
    "Automaticamente, o elemento criado é adicionado ao fim!"
   ]
  },
  {
   "cell_type": "code",
   "execution_count": 44,
   "metadata": {},
   "outputs": [
    {
     "data": {
      "text/plain": [
       "{'nomes': ['Joãozinho', 'Mariazinha'],\n",
       " 'idades': [32, 25],\n",
       " 'cidades': ['Mauá', 'Santo André'],\n",
       " 'filhos': [0, 0],\n",
       " 'altura': [1.8, 1.65],\n",
       " 'pets': ['cachorro', 'gato']}"
      ]
     },
     "execution_count": 44,
     "metadata": {},
     "output_type": "execute_result"
    }
   ],
   "source": [
    "cadastro"
   ]
  },
  {
   "cell_type": "markdown",
   "metadata": {},
   "source": [
    "__Para apagar uma chave, utilize o \"pop\"__"
   ]
  },
  {
   "cell_type": "code",
   "execution_count": 45,
   "metadata": {},
   "outputs": [
    {
     "data": {
      "text/plain": [
       "['cachorro', 'gato']"
      ]
     },
     "execution_count": 45,
     "metadata": {},
     "output_type": "execute_result"
    }
   ],
   "source": [
    "cadastro.pop('pets')"
   ]
  },
  {
   "cell_type": "code",
   "execution_count": 46,
   "metadata": {},
   "outputs": [
    {
     "data": {
      "text/plain": [
       "{'nomes': ['Joãozinho', 'Mariazinha'],\n",
       " 'idades': [32, 25],\n",
       " 'cidades': ['Mauá', 'Santo André'],\n",
       " 'filhos': [0, 0],\n",
       " 'altura': [1.8, 1.65]}"
      ]
     },
     "execution_count": 46,
     "metadata": {},
     "output_type": "execute_result"
    }
   ],
   "source": [
    "cadastro"
   ]
  },
  {
   "cell_type": "markdown",
   "metadata": {},
   "source": [
    "__Ou, utilize o \"del\"__"
   ]
  },
  {
   "cell_type": "code",
   "execution_count": 47,
   "metadata": {},
   "outputs": [],
   "source": [
    "del cadastro['filhos']"
   ]
  },
  {
   "cell_type": "code",
   "execution_count": 48,
   "metadata": {},
   "outputs": [
    {
     "data": {
      "text/plain": [
       "{'nomes': ['Joãozinho', 'Mariazinha'],\n",
       " 'idades': [32, 25],\n",
       " 'cidades': ['Mauá', 'Santo André'],\n",
       " 'altura': [1.8, 1.65]}"
      ]
     },
     "execution_count": 48,
     "metadata": {},
     "output_type": "execute_result"
    }
   ],
   "source": [
    "cadastro"
   ]
  },
  {
   "cell_type": "markdown",
   "metadata": {},
   "source": [
    "Alterar os valores também é possível:"
   ]
  },
  {
   "cell_type": "code",
   "execution_count": 52,
   "metadata": {},
   "outputs": [
    {
     "data": {
      "text/plain": [
       "{'nomes': ['Joãozinho', 'Mariazinha'],\n",
       " 'idades': [10, 12],\n",
       " 'cidades': ['Mauá', 'Santo André'],\n",
       " 'altura': [1.8, 1.65]}"
      ]
     },
     "execution_count": 52,
     "metadata": {},
     "output_type": "execute_result"
    }
   ],
   "source": [
    "cadastro['idades'] = [10, 12]\n",
    "cadastro"
   ]
  },
  {
   "cell_type": "markdown",
   "metadata": {},
   "source": [
    "Posso também alterar elementos individuais dos valores, os indexando\n",
    "\n",
    "(Lembre-se que, neste caso, os valores são listas! Então, devo indexá-las para alterar seus elementos!)"
   ]
  },
  {
   "cell_type": "code",
   "execution_count": 56,
   "metadata": {},
   "outputs": [
    {
     "data": {
      "text/plain": [
       "{'nomes': ['Joãozinho', 'Mariazinha'],\n",
       " 'idades': [30, 12],\n",
       " 'cidades': ['Mauá', 'Santo André'],\n",
       " 'altura': [1.8, 1.65]}"
      ]
     },
     "execution_count": 56,
     "metadata": {},
     "output_type": "execute_result"
    }
   ],
   "source": [
    "cadastro['idades'][0] = 30\n",
    "cadastro"
   ]
  },
  {
   "cell_type": "code",
   "execution_count": 59,
   "metadata": {},
   "outputs": [
    {
     "name": "stdout",
     "output_type": "stream",
     "text": [
      "[50, 12]\n"
     ]
    },
    {
     "data": {
      "text/plain": [
       "{'nomes': ['Joãozinho', 'Mariazinha'],\n",
       " 'idades': [50, 12],\n",
       " 'cidades': ['Mauá', 'Santo André'],\n",
       " 'altura': [1.8, 1.65]}"
      ]
     },
     "execution_count": 59,
     "metadata": {},
     "output_type": "execute_result"
    }
   ],
   "source": [
    "idades = cadastro['idades']\n",
    "idades[0] = 50\n",
    "print(idades)\n",
    "cadastro"
   ]
  },
  {
   "cell_type": "code",
   "execution_count": 62,
   "metadata": {},
   "outputs": [
    {
     "name": "stdout",
     "output_type": "stream",
     "text": [
      "[50, 100]\n"
     ]
    },
    {
     "data": {
      "text/plain": [
       "{'nomes': ['Joãozinho', 'Mariazinha'],\n",
       " 'idades': [50, 100],\n",
       " 'cidades': ['Mauá', 'Santo André'],\n",
       " 'altura': [1.8, 1.65]}"
      ]
     },
     "execution_count": 62,
     "metadata": {},
     "output_type": "execute_result"
    }
   ],
   "source": [
    "idades = cadastro['idades']\n",
    "idades = [50, 100]\n",
    "print(idades)\n",
    "cadastro"
   ]
  },
  {
   "cell_type": "markdown",
   "metadata": {},
   "source": [
    "Para adicionar novos elementos aos valores (que são listas), usamos o append:"
   ]
  },
  {
   "cell_type": "code",
   "execution_count": 66,
   "metadata": {},
   "outputs": [
    {
     "data": {
      "text/plain": [
       "{'nomes': ['Joãozinho', 'Mariazinha'],\n",
       " 'idades': [50, 100, 10, 10, 10, 10],\n",
       " 'cidades': ['Mauá', 'Santo André'],\n",
       " 'altura': [1.8, 1.65]}"
      ]
     },
     "execution_count": 66,
     "metadata": {},
     "output_type": "execute_result"
    }
   ],
   "source": [
    "cadastro['idades'].append(10)\n",
    "cadastro"
   ]
  },
  {
   "cell_type": "code",
   "execution_count": 69,
   "metadata": {},
   "outputs": [
    {
     "data": {
      "text/plain": [
       "{'nomes': ['Joãozinho', 'Mariazinha'],\n",
       " 'idades': [50, 100, 10, 10, 10, 10],\n",
       " 'cidades': ['Mauá', 'São Paulo', 'Santo André'],\n",
       " 'altura': [1.8, 1.65]}"
      ]
     },
     "execution_count": 69,
     "metadata": {},
     "output_type": "execute_result"
    }
   ],
   "source": [
    "cadastro = {'nomes': ['Joãozinho', 'Mariazinha'],\n",
    " 'idades': [50, 100, 10, 10, 10, 10],\n",
    " 'cidades': ['Mauá', 'Santo André'],\n",
    " 'altura': [1.8, 1.65]}\n",
    "cadastro['cidades'].insert(1, 'São Paulo')\n",
    "cadastro"
   ]
  },
  {
   "cell_type": "markdown",
   "metadata": {},
   "source": [
    "Dicionários podem ser percorridos com um for. \n",
    "\n",
    "Ao fazer isso, **as chaves serão percorridas** \n",
    "\n",
    "Porém, a partir da chave obtém-se o valor:"
   ]
  },
  {
   "cell_type": "code",
   "execution_count": 74,
   "metadata": {},
   "outputs": [],
   "source": [
    "cadastro = {\n",
    "    \"nomes\" : [\"Joãozinho\", \"Mariazinha\"],\n",
    "    \"idades\" : [32, 25],\n",
    "    \"cidades\" : [\"Mauá\", \"Santo André\"],\n",
    "    \"filhos\": [0, 0],\n",
    "    \"altura\" : [1.80, 1.65]\n",
    "}"
   ]
  },
  {
   "cell_type": "code",
   "execution_count": 75,
   "metadata": {},
   "outputs": [
    {
     "name": "stdout",
     "output_type": "stream",
     "text": [
      "nomes\n",
      "idades\n",
      "cidades\n",
      "filhos\n",
      "altura\n"
     ]
    }
   ],
   "source": [
    "# percorrendo as chaves e accessando os valores\n",
    "\n",
    "for chave in cadastro:\n",
    "    \n",
    "    print(chave)"
   ]
  },
  {
   "cell_type": "code",
   "execution_count": 76,
   "metadata": {},
   "outputs": [
    {
     "name": "stdout",
     "output_type": "stream",
     "text": [
      "nomes ['Joãozinho', 'Mariazinha']\n",
      "idades [32, 25]\n",
      "cidades ['Mauá', 'Santo André']\n",
      "filhos [0, 0]\n",
      "altura [1.8, 1.65]\n"
     ]
    }
   ],
   "source": [
    "# percorrendo as chaves, e acessando os valores\n",
    "for chave in cadastro:\n",
    "    \n",
    "    print(chave, cadastro[chave])"
   ]
  },
  {
   "cell_type": "markdown",
   "metadata": {},
   "source": [
    "Uma utilidade disso é para pegar os dados respectivos de cada elemento do cadastro:"
   ]
  },
  {
   "cell_type": "code",
   "execution_count": 80,
   "metadata": {},
   "outputs": [
    {
     "data": {
      "text/plain": [
       "['Mariazinha', 25, 'Santo André', 0, 1.65]"
      ]
     },
     "execution_count": 80,
     "metadata": {},
     "output_type": "execute_result"
    }
   ],
   "source": [
    "# percorrendo as chaves e accessando os valores\n",
    "\n",
    "dados = []\n",
    "pos = cadastro[\"nomes\"].index('Mariazinha')\n",
    "\n",
    "for chave in cadastro:\n",
    "    info = cadastro[chave][pos]\n",
    "    \n",
    "    dados.append(info)\n",
    "    \n",
    "dados"
   ]
  },
  {
   "cell_type": "markdown",
   "metadata": {},
   "source": [
    "Mas também é possível acessar apenas os valores do dicionário com o método `values()`"
   ]
  },
  {
   "cell_type": "code",
   "execution_count": 81,
   "metadata": {},
   "outputs": [
    {
     "data": {
      "text/plain": [
       "dict_values([['Joãozinho', 'Mariazinha'], [32, 25], ['Mauá', 'Santo André'], [0, 0], [1.8, 1.65]])"
      ]
     },
     "execution_count": 81,
     "metadata": {},
     "output_type": "execute_result"
    }
   ],
   "source": [
    "cadastro.values()"
   ]
  },
  {
   "cell_type": "code",
   "execution_count": 82,
   "metadata": {},
   "outputs": [
    {
     "data": {
      "text/plain": [
       "['Mariazinha', 25, 'Santo André', 0, 1.65]"
      ]
     },
     "execution_count": 82,
     "metadata": {},
     "output_type": "execute_result"
    }
   ],
   "source": [
    "# percorrendo os valores em si\n",
    "\n",
    "dados = []\n",
    "pos = cadastro[\"nomes\"].index('Mariazinha')\n",
    "\n",
    "for value in cadastro.values():\n",
    "    info = value[pos]\n",
    "    \n",
    "    dados.append(info)\n",
    "    \n",
    "dados"
   ]
  },
  {
   "cell_type": "code",
   "execution_count": 88,
   "metadata": {},
   "outputs": [
    {
     "data": {
      "text/plain": [
       "{'chave': (1, 2, 3, 4)}"
      ]
     },
     "execution_count": 88,
     "metadata": {},
     "output_type": "execute_result"
    }
   ],
   "source": [
    "{\n",
    "    'chave': 1,\n",
    "    'chave': (1, 2, 3, 4), \n",
    "}"
   ]
  },
  {
   "cell_type": "markdown",
   "metadata": {},
   "source": [
    "Usando compreensão de listas, fica ainda mais simples:"
   ]
  },
  {
   "cell_type": "code",
   "execution_count": null,
   "metadata": {},
   "outputs": [],
   "source": [
    "# percorrendo as chaves e accessando os valores\n",
    "\n",
    "dados = []\n",
    "\n",
    "\n",
    "for chave in cadastro:\n",
    "\n",
    "    dados.append(cadastro[chave][cadastro[\"nomes\"].index('Mariazinha')])\n",
    "    \n",
    "dados"
   ]
  },
  {
   "cell_type": "code",
   "execution_count": 85,
   "metadata": {},
   "outputs": [
    {
     "data": {
      "text/plain": [
       "['Mariazinha', 25, 'Santo André', 0, 1.65]"
      ]
     },
     "execution_count": 85,
     "metadata": {},
     "output_type": "execute_result"
    }
   ],
   "source": [
    "[cadastro[chave][cadastro[\"nomes\"].index('Mariazinha')] for chave in cadastro]"
   ]
  },
  {
   "cell_type": "code",
   "execution_count": 84,
   "metadata": {},
   "outputs": [
    {
     "data": {
      "text/plain": [
       "['Mariazinha', 25, 'Santo André', 0, 1.65]"
      ]
     },
     "execution_count": 84,
     "metadata": {},
     "output_type": "execute_result"
    }
   ],
   "source": [
    "[value[cadastro[\"nomes\"].index('Mariazinha')] for value in cadastro.values()]"
   ]
  },
  {
   "cell_type": "markdown",
   "metadata": {},
   "source": [
    "É possível obter chaves e valores separadamente.\n",
    "\n",
    "Para isso, usamos os métodos `keys()` e `values()`. "
   ]
  },
  {
   "cell_type": "code",
   "execution_count": 91,
   "metadata": {},
   "outputs": [
    {
     "data": {
      "text/plain": [
       "{'nomes': ['Joãozinho', 'Mariazinha'],\n",
       " 'idades': [32, 25],\n",
       " 'cidades': ['Mauá', 'Santo André'],\n",
       " 'filhos': [0, 0],\n",
       " 'altura': [1.8, 1.65]}"
      ]
     },
     "execution_count": 91,
     "metadata": {},
     "output_type": "execute_result"
    }
   ],
   "source": [
    "cadastro"
   ]
  },
  {
   "cell_type": "code",
   "execution_count": 90,
   "metadata": {},
   "outputs": [
    {
     "name": "stdout",
     "output_type": "stream",
     "text": [
      "dict_keys(['nomes', 'idades', 'cidades', 'filhos', 'altura'])\n",
      "dict_values([['Joãozinho', 'Mariazinha'], [32, 25], ['Mauá', 'Santo André'], [0, 0], [1.8, 1.65]])\n"
     ]
    }
   ],
   "source": [
    "# acessando chaves e valores\n",
    "\n",
    "print(cadastro.keys())\n",
    "print(cadastro.values())"
   ]
  },
  {
   "cell_type": "markdown",
   "metadata": {},
   "source": [
    "E esses valores podem ser transformados em listas com a função `list()`"
   ]
  },
  {
   "cell_type": "code",
   "execution_count": 92,
   "metadata": {},
   "outputs": [
    {
     "data": {
      "text/plain": [
       "['nomes', 'idades', 'cidades', 'filhos', 'altura']"
      ]
     },
     "execution_count": 92,
     "metadata": {},
     "output_type": "execute_result"
    }
   ],
   "source": [
    "# tomando uma lista com chaves\n",
    "\n",
    "list(cadastro.keys())"
   ]
  },
  {
   "cell_type": "markdown",
   "metadata": {},
   "source": [
    "Deixando todos os valores em uma unica lista, a partir da lista de listas.\n",
    "\n",
    "Esta lista terá todos os valores dentro do dicionario"
   ]
  },
  {
   "cell_type": "code",
   "execution_count": 93,
   "metadata": {},
   "outputs": [
    {
     "data": {
      "text/plain": [
       "[['Joãozinho', 'Mariazinha'],\n",
       " [32, 25],\n",
       " ['Mauá', 'Santo André'],\n",
       " [0, 0],\n",
       " [1.8, 1.65]]"
      ]
     },
     "execution_count": 93,
     "metadata": {},
     "output_type": "execute_result"
    }
   ],
   "source": [
    "list(cadastro.values())"
   ]
  },
  {
   "cell_type": "markdown",
   "metadata": {},
   "source": [
    "É possivel também iterar juntamente nas chaves e valores com a função `items()`"
   ]
  },
  {
   "cell_type": "code",
   "execution_count": 94,
   "metadata": {},
   "outputs": [
    {
     "name": "stdout",
     "output_type": "stream",
     "text": [
      "nomes ['Joãozinho', 'Mariazinha']\n",
      "idades [32, 25]\n",
      "cidades ['Mauá', 'Santo André']\n",
      "filhos [0, 0]\n",
      "altura [1.8, 1.65]\n"
     ]
    }
   ],
   "source": [
    "for chave, valor in cadastro.items():\n",
    "    print(chave, valor)"
   ]
  },
  {
   "cell_type": "markdown",
   "metadata": {},
   "source": [
    "## Exemplo \n",
    "tem uma cifra que converte todas as letras p em q, q em m, e m em p.\n",
    "Dado um texto, contrua um programa que entrega a cifra\n",
    "\n",
    "porque -> qormue -> porque"
   ]
  },
  {
   "cell_type": "code",
   "execution_count": 95,
   "metadata": {},
   "outputs": [],
   "source": [
    "def cifra(palavra):\n",
    "    resposta = ''\n",
    "    for ch in palavra:\n",
    "        if ch == 'p':\n",
    "            resposta += 'q'\n",
    "        elif ch == 'q':\n",
    "            resposta += 'm'\n",
    "        elif ch == 'm':\n",
    "            resposta += 'p'\n",
    "        else: \n",
    "            resposta += ch\n",
    "    return resposta\n",
    "        "
   ]
  },
  {
   "cell_type": "code",
   "execution_count": 96,
   "metadata": {},
   "outputs": [
    {
     "data": {
      "text/plain": [
       "'qormue'"
      ]
     },
     "execution_count": 96,
     "metadata": {},
     "output_type": "execute_result"
    }
   ],
   "source": [
    "cifra('porque')"
   ]
  },
  {
   "cell_type": "code",
   "execution_count": 97,
   "metadata": {},
   "outputs": [],
   "source": [
    "def cifra(palavra):\n",
    "    substituicoes = {\n",
    "        'p': 'q',\n",
    "        'q': 'm',\n",
    "        'm': 'q'\n",
    "    }\n",
    "    resposta = ''\n",
    "    for ch in palavra:\n",
    "        if ch in substituicoes: \n",
    "            resposta += substituicoes[ch]\n",
    "        else: \n",
    "            resposta += ch\n",
    "    return resposta"
   ]
  },
  {
   "cell_type": "code",
   "execution_count": 98,
   "metadata": {},
   "outputs": [
    {
     "data": {
      "text/plain": [
       "'qormue'"
      ]
     },
     "execution_count": 98,
     "metadata": {},
     "output_type": "execute_result"
    }
   ],
   "source": [
    "cifra('porque')"
   ]
  },
  {
   "cell_type": "markdown",
   "metadata": {},
   "source": [
    "____\n",
    "____\n",
    "____\n",
    "___"
   ]
  },
  {
   "cell_type": "code",
   "execution_count": 110,
   "metadata": {},
   "outputs": [
    {
     "name": "stdout",
     "output_type": "stream",
     "text": [
      "10202\n"
     ]
    }
   ],
   "source": [
    "print(10, 20, 2, sep='')"
   ]
  },
  {
   "cell_type": "markdown",
   "metadata": {},
   "source": [
    "## 3) Funções com parâmetros variáveis\n",
    "\n",
    "Se não quisermos especificar **quais** e **quantos** são os parâmetros de uma função, passamos o argumento com **um asterisco**\n",
    "\n",
    "- Os parâmetros passados são **agrupados em uma tupla**, automaticamente, pelo python.\n",
    "\n",
    "Porém, o usuário não precisa passar uma tupla: basta passar vários argumentos separados por vírgula, e o Python automaticamente criará uma tupla com eles. \n",
    "\n",
    "Uma função que segue exatamente essa estrutura é o `print()`!\n",
    "\n",
    "Vamos criar uma função desta forma:"
   ]
  },
  {
   "cell_type": "code",
   "execution_count": null,
   "metadata": {},
   "outputs": [],
   "source": [
    "somatorio(1, 2, 3, 4, 5) -> 15"
   ]
  },
  {
   "cell_type": "code",
   "execution_count": 116,
   "metadata": {},
   "outputs": [
    {
     "name": "stdout",
     "output_type": "stream",
     "text": [
      "(1, 2, 3, 4)\n"
     ]
    },
    {
     "data": {
      "text/plain": [
       "10"
      ]
     },
     "execution_count": 116,
     "metadata": {},
     "output_type": "execute_result"
    }
   ],
   "source": [
    "# uma função que soma quantos numeros forem passados como argumento\n",
    "def somatorio(*numeros):\n",
    "    print(numeros)\n",
    "    total = 0\n",
    "    for numero in numeros:\n",
    "        total += numero\n",
    "    return total\n",
    "somatorio(1, 2, 3, 4)"
   ]
  },
  {
   "cell_type": "markdown",
   "metadata": {},
   "source": [
    "Função que soma os elementos de listas, quantas forem passadas como argumento.\n",
    "\n",
    "O retorno é a soma de todos os elementos de todas as listas"
   ]
  },
  {
   "cell_type": "code",
   "execution_count": 119,
   "metadata": {},
   "outputs": [
    {
     "name": "stdout",
     "output_type": "stream",
     "text": [
      "[3, 7, 11]\n"
     ]
    },
    {
     "data": {
      "text/plain": [
       "21"
      ]
     },
     "execution_count": 119,
     "metadata": {},
     "output_type": "execute_result"
    }
   ],
   "source": [
    "def soma_listas(*tupla): \n",
    "    total=[] \n",
    "    for lista in tupla: \n",
    "        total_lista = sum(lista) \n",
    "        total.append(total_lista) \n",
    "    print(total)\n",
    "    return sum(total) \n",
    "soma_listas([1,2], [3,4], [5,6]) "
   ]
  },
  {
   "cell_type": "code",
   "execution_count": 117,
   "metadata": {},
   "outputs": [
    {
     "data": {
      "text/plain": [
       "21"
      ]
     },
     "execution_count": 117,
     "metadata": {},
     "output_type": "execute_result"
    }
   ],
   "source": [
    "1+2+3+4+5+6"
   ]
  },
  {
   "cell_type": "markdown",
   "metadata": {},
   "source": [
    "Se quisermos passar como argumento uma lista para a função somatório, teremos um erro:"
   ]
  },
  {
   "cell_type": "code",
   "execution_count": 125,
   "metadata": {},
   "outputs": [
    {
     "data": {
      "text/plain": [
       "1"
      ]
     },
     "execution_count": 125,
     "metadata": {},
     "output_type": "execute_result"
    }
   ],
   "source": [
    "len((10,)) "
   ]
  },
  {
   "cell_type": "code",
   "execution_count": 127,
   "metadata": {},
   "outputs": [
    {
     "name": "stdout",
     "output_type": "stream",
     "text": [
      "(20, 17, 34, 27)\n"
     ]
    },
    {
     "data": {
      "text/plain": [
       "98"
      ]
     },
     "execution_count": 127,
     "metadata": {},
     "output_type": "execute_result"
    }
   ],
   "source": [
    "idades = [20, 17, 34, 27]\n",
    "somatorio(*idades)\n",
    "# somatorio(*[20, 17, 34, 27])\n",
    "# somatorio(20, 17, 34, 27)"
   ]
  },
  {
   "cell_type": "markdown",
   "metadata": {},
   "source": [
    "Pra resolver isso, colocamos o **asterisco no argumento**, diretamente. \n",
    "\n",
    "Com isso, o Python entende que a lista passada como argumento é pra ser interpretada como uma sequência de elementos passados separadamente à função como argumentos"
   ]
  },
  {
   "cell_type": "code",
   "execution_count": null,
   "metadata": {},
   "outputs": [],
   "source": []
  },
  {
   "cell_type": "code",
   "execution_count": null,
   "metadata": {},
   "outputs": [],
   "source": []
  },
  {
   "cell_type": "markdown",
   "metadata": {},
   "source": [
    "Os argumentos variaveis passados para a função que vimos até agora são argumentos posicionais. Também é possivel passar argumentos nomeados variaveis, usando dois asteriscos. Nesse caso, os argumentos são recebidos pela função em um dicionario\n",
    "\n"
   ]
  },
  {
   "cell_type": "code",
   "execution_count": 128,
   "metadata": {},
   "outputs": [],
   "source": [
    "def soma(num1, num2):\n",
    "    return num1 + num2"
   ]
  },
  {
   "cell_type": "code",
   "execution_count": 130,
   "metadata": {},
   "outputs": [
    {
     "data": {
      "text/plain": [
       "20"
      ]
     },
     "execution_count": 130,
     "metadata": {},
     "output_type": "execute_result"
    }
   ],
   "source": [
    "soma(num2=10, num1=10)"
   ]
  },
  {
   "cell_type": "code",
   "execution_count": 140,
   "metadata": {},
   "outputs": [
    {
     "name": "stdout",
     "output_type": "stream",
     "text": [
      "a 10\n",
      "b bola\n"
     ]
    }
   ],
   "source": [
    "def imprime_coisas(**coisas):\n",
    "    for key, value in coisas.items():\n",
    "        print(key, value)\n",
    "imprime_coisas(a=10, b='bola')"
   ]
  },
  {
   "cell_type": "code",
   "execution_count": 137,
   "metadata": {},
   "outputs": [
    {
     "data": {
      "text/plain": [
       "{'nomes': ['Joãozinho', 'Mariazinha'],\n",
       " 'idades': [32, 25],\n",
       " 'cidades': ['Mauá', 'Santo André'],\n",
       " 'filhos': [0, 0],\n",
       " 'altura': [1.8, 1.65]}"
      ]
     },
     "execution_count": 137,
     "metadata": {},
     "output_type": "execute_result"
    }
   ],
   "source": [
    "cadastro"
   ]
  },
  {
   "cell_type": "code",
   "execution_count": 136,
   "metadata": {},
   "outputs": [
    {
     "name": "stdout",
     "output_type": "stream",
     "text": [
      "{'chave': {'nomes': ['Joãozinho', 'Mariazinha'], 'idades': [32, 25], 'cidades': ['Mauá', 'Santo André'], 'filhos': [0, 0], 'altura': [1.8, 1.65]}}\n"
     ]
    }
   ],
   "source": [
    "imprime_coisas(cadastro)\n",
    "imprime_coisas(nomes=['Joãozinho', 'Mariazinha'],\n",
    "    idades=[32, 25],\n",
    "    ...)\n"
   ]
  },
  {
   "cell_type": "code",
   "execution_count": 141,
   "metadata": {},
   "outputs": [
    {
     "name": "stdout",
     "output_type": "stream",
     "text": [
      "nomes ['Joãozinho', 'Mariazinha']\n",
      "idades [32, 25]\n",
      "cidades ['Mauá', 'Santo André']\n",
      "filhos [0, 0]\n",
      "altura [1.8, 1.65]\n"
     ]
    }
   ],
   "source": [
    "imprime_coisas(**cadastro)"
   ]
  },
  {
   "cell_type": "code",
   "execution_count": 144,
   "metadata": {},
   "outputs": [
    {
     "ename": "TypeError",
     "evalue": "avalia_cliente() got an unexpected keyword argument 'idade2'",
     "output_type": "error",
     "traceback": [
      "\u001b[0;31m---------------------------------------------------------------------------\u001b[0m",
      "\u001b[0;31mTypeError\u001b[0m                                 Traceback (most recent call last)",
      "\u001b[0;32m<ipython-input-144-8647e8ec10d7>\u001b[0m in \u001b[0;36m<module>\u001b[0;34m\u001b[0m\n\u001b[1;32m      7\u001b[0m }\n\u001b[1;32m      8\u001b[0m \u001b[0;31m# avalia_cliente(**cliente)\u001b[0m\u001b[0;34m\u001b[0m\u001b[0;34m\u001b[0m\u001b[0;34m\u001b[0m\u001b[0m\n\u001b[0;32m----> 9\u001b[0;31m \u001b[0mavalia_cliente\u001b[0m\u001b[0;34m(\u001b[0m\u001b[0midade2\u001b[0m\u001b[0;34m=\u001b[0m\u001b[0;36m20\u001b[0m\u001b[0;34m,\u001b[0m \u001b[0mnome\u001b[0m\u001b[0;34m=\u001b[0m\u001b[0;34m'rafa'\u001b[0m\u001b[0;34m,\u001b[0m \u001b[0mscore_de_credito\u001b[0m\u001b[0;34m=\u001b[0m\u001b[0;36m0.5\u001b[0m\u001b[0;34m)\u001b[0m\u001b[0;34m\u001b[0m\u001b[0;34m\u001b[0m\u001b[0m\n\u001b[0m",
      "\u001b[0;31mTypeError\u001b[0m: avalia_cliente() got an unexpected keyword argument 'idade2'"
     ]
    }
   ],
   "source": [
    "def avalia_cliente(nome, idade, score_de_credito):\n",
    "    print(nome, idade, score_de_credito)\n",
    "cliente = {\n",
    "    'idade2': 20,\n",
    "    'nome': 'Rafa',\n",
    "    'score_de_credito': 0.5\n",
    "}\n",
    "# avalia_cliente(**cliente)\n",
    "avalia_cliente(idade2=20, nome='rafa', score_de_credito=0.5)"
   ]
  },
  {
   "cell_type": "code",
   "execution_count": 155,
   "metadata": {},
   "outputs": [],
   "source": [
    "def potencia_e_soma(base, expoente, *parcelas, **impressao):\n",
    "    print(impressao)\n",
    "    print(parcelas)\n",
    "    return base**expoente + sum(parcelas) "
   ]
  },
  {
   "cell_type": "code",
   "execution_count": 156,
   "metadata": {},
   "outputs": [
    {
     "name": "stdout",
     "output_type": "stream",
     "text": [
      "{'param2': 10, 'param1': 10}\n",
      "()\n"
     ]
    },
    {
     "data": {
      "text/plain": [
       "100"
      ]
     },
     "execution_count": 156,
     "metadata": {},
     "output_type": "execute_result"
    }
   ],
   "source": [
    "potencia_e_soma(10, 2, param2=10, param1=10)"
   ]
  },
  {
   "cell_type": "code",
   "execution_count": null,
   "metadata": {},
   "outputs": [],
   "source": [
    "def plota_grafico(x, y, *args, **kwargs):\n",
    "    ...\n",
    "    plot(*args, **kwargs)"
   ]
  },
  {
   "cell_type": "markdown",
   "metadata": {},
   "source": [
    "______\n",
    "_________\n",
    "________"
   ]
  },
  {
   "cell_type": "markdown",
   "metadata": {},
   "source": [
    "## 4) Funções com parâmetros opcionais\n",
    "\n",
    "Também é possível fazer funções com **argumentos opcionais**. Nesse caso, os argumentos recebem um valor padrão caso não sejam especificados pelo usuario\n",
    "\n",
    "\n",
    "O exemplo abaixo cadastra usuários em uma base de dados.\n",
    "\n",
    "Até agora, sabemos apenas definir funções com argumentos **obrigatórios**: se algum deles não for passado, a função nos avisará isso!"
   ]
  },
  {
   "cell_type": "code",
   "execution_count": 157,
   "metadata": {},
   "outputs": [],
   "source": [
    "def cadastro(cpf, nome):\n",
    "    cc"
   ]
  },
  {
   "cell_type": "code",
   "execution_count": 158,
   "metadata": {},
   "outputs": [
    {
     "ename": "TypeError",
     "evalue": "cadastro() missing 1 required positional argument: 'nome'",
     "output_type": "error",
     "traceback": [
      "\u001b[0;31m---------------------------------------------------------------------------\u001b[0m",
      "\u001b[0;31mTypeError\u001b[0m                                 Traceback (most recent call last)",
      "\u001b[0;32m<ipython-input-158-4c44282a67e4>\u001b[0m in \u001b[0;36m<module>\u001b[0;34m\u001b[0m\n\u001b[0;32m----> 1\u001b[0;31m \u001b[0mcadastro\u001b[0m\u001b[0;34m(\u001b[0m\u001b[0mcpf\u001b[0m\u001b[0;34m=\u001b[0m\u001b[0;36m3433435434\u001b[0m\u001b[0;34m)\u001b[0m\u001b[0;34m\u001b[0m\u001b[0;34m\u001b[0m\u001b[0m\n\u001b[0m",
      "\u001b[0;31mTypeError\u001b[0m: cadastro() missing 1 required positional argument: 'nome'"
     ]
    }
   ],
   "source": [
    "cadastro(cpf=3433435434)"
   ]
  },
  {
   "cell_type": "markdown",
   "metadata": {},
   "source": [
    " Podemos modificar a função para que um usuário possa fornecer unicamente seu nome e CPF; ou ambos, opcionalmente."
   ]
  },
  {
   "cell_type": "code",
   "execution_count": 161,
   "metadata": {},
   "outputs": [],
   "source": [
    "def cadastro(cpf=-1, nome='bl'):\n",
    "    print(cpf, nome)\n"
   ]
  },
  {
   "cell_type": "code",
   "execution_count": 162,
   "metadata": {},
   "outputs": [
    {
     "name": "stdout",
     "output_type": "stream",
     "text": [
      "3433435434 bl\n"
     ]
    }
   ],
   "source": [
    "cadastro(cpf=3433435434)"
   ]
  },
  {
   "cell_type": "code",
   "execution_count": 169,
   "metadata": {},
   "outputs": [],
   "source": [
    "def add(valor, lista=[]):\n",
    "    lista.append(valor)\n",
    "    return lista\n",
    "\n"
   ]
  },
  {
   "cell_type": "code",
   "execution_count": 172,
   "metadata": {},
   "outputs": [
    {
     "data": {
      "text/plain": [
       "[10, 10, 20]"
      ]
     },
     "execution_count": 172,
     "metadata": {},
     "output_type": "execute_result"
    }
   ],
   "source": [
    "add(20)"
   ]
  },
  {
   "cell_type": "code",
   "execution_count": 176,
   "metadata": {},
   "outputs": [
    {
     "name": "stdout",
     "output_type": "stream",
     "text": [
      "<built-in function sum>\n"
     ]
    },
    {
     "data": {
      "text/plain": [
       "20"
      ]
     },
     "execution_count": 176,
     "metadata": {},
     "output_type": "execute_result"
    }
   ],
   "source": [
    "def aplica_funcao(func, valor):\n",
    "    print(func)\n",
    "    return func(valor)\n",
    "\n",
    "aplica_funcao(sum, [10, 10])"
   ]
  },
  {
   "cell_type": "markdown",
   "metadata": {},
   "source": [
    "_"
   ]
  },
  {
   "cell_type": "markdown",
   "metadata": {},
   "source": [
    "# Exercicio"
   ]
  },
  {
   "cell_type": "markdown",
   "metadata": {},
   "source": [
    "### Exercicio\n",
    "Os mapeamento de conceitos para notas são definidos como:\n",
    "\n",
    "- A -> 10\n",
    "- B -> 8.5\n",
    "- C -> 7.5\n",
    "- D -> 6.5\n",
    "- F -> 0\n",
    "\n",
    "Faça um programa que:\n",
    "\n",
    "1. Leia 3 conceitos e imprima a média\n",
    "\n",
    "\n",
    "Ao construir o seu programa divida a parte de leitura e a parte de processamento, para fins do exercicio"
   ]
  },
  {
   "cell_type": "code",
   "execution_count": 104,
   "metadata": {},
   "outputs": [
    {
     "name": "stdout",
     "output_type": "stream",
     "text": [
      "Digite aqui três conceitos para calcular a média: A B A\n",
      "9.5\n"
     ]
    }
   ],
   "source": [
    "user_inputs = (input('Digite aqui três conceitos para calcular a média: ') \n",
    "              .upper()\n",
    "              .strip()\n",
    "              .split())\n",
    "conceitos = { 'A': 10, 'B': 8.5, 'C': 7.5, 'D': 6.5, 'F': 0 } \n",
    "conceitos_l = [] \n",
    "for el in user_inputs:\n",
    "    valor = conceitos[el]\n",
    "    conceitos_l.append(valor) \n",
    "media = sum(conceitos_l)/len(conceitos_l) \n",
    "print(media) "
   ]
  },
  {
   "cell_type": "code",
   "execution_count": 101,
   "metadata": {},
   "outputs": [
    {
     "data": {
      "text/plain": [
       "[10, 8.5]"
      ]
     },
     "execution_count": 101,
     "metadata": {},
     "output_type": "execute_result"
    }
   ],
   "source": [
    "conceitos_l"
   ]
  },
  {
   "cell_type": "code",
   "execution_count": null,
   "metadata": {},
   "outputs": [],
   "source": [
    "user = {'nome': 'Vinicius', 'nascimento': '1994-01-01', }"
   ]
  }
 ],
 "metadata": {
  "kernelspec": {
   "display_name": "Python 3",
   "language": "python",
   "name": "python3"
  },
  "language_info": {
   "codemirror_mode": {
    "name": "ipython",
    "version": 3
   },
   "file_extension": ".py",
   "mimetype": "text/x-python",
   "name": "python",
   "nbconvert_exporter": "python",
   "pygments_lexer": "ipython3",
   "version": "3.8.3"
  }
 },
 "nbformat": 4,
 "nbformat_minor": 4
}
