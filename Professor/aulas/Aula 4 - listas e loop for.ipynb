{
 "cells": [
  {
   "cell_type": "markdown",
   "metadata": {},
   "source": [
    "# Aula 4- listas e loop for\n",
    "\n",
    "Na aula de hoje, vamos explorar os seguintes tópicos em Python:\n",
    "\n",
    "- 1) Listas\n",
    "- 2) Funções de listas\n",
    "- 3) Laços de repetição (for)\n",
    "    - 3.1) Compreensão de listas\n",
    "\n"
   ]
  },
  {
   "cell_type": "markdown",
   "metadata": {},
   "source": [
    "____\n",
    "____\n",
    "____"
   ]
  },
  {
   "cell_type": "markdown",
   "metadata": {},
   "source": [
    "## 1) Listas\n",
    "\n",
    "Imagine que você quer armazenar várias variáveis relacionadas, como, por exemplo, todas suas notas em provas.\n",
    "\n",
    "Se houver muitas notas, não é muito prático criar uma variável para cada uma. Seria muito mais conveniente armazenar todas as notas em uma **lista**, não é mesmo? \n",
    "\n",
    "Em python, temos uma estrutura de dados que é exatamente isso: uma lista! Listas são indicadas por colchete []\n",
    "\n",
    "Uma lista nada mais é que um **conjunto de objetos**, que podem ser de diversos tipos:"
   ]
  },
  {
   "cell_type": "markdown",
   "metadata": {},
   "source": [
    "Lista de números (int e float)"
   ]
  },
  {
   "cell_type": "code",
   "execution_count": 3,
   "metadata": {},
   "outputs": [],
   "source": [
    "lista = [10, 20, 0.1]"
   ]
  },
  {
   "cell_type": "code",
   "execution_count": 4,
   "metadata": {},
   "outputs": [
    {
     "data": {
      "text/plain": [
       "[10, 20, 0.1]"
      ]
     },
     "execution_count": 4,
     "metadata": {},
     "output_type": "execute_result"
    }
   ],
   "source": [
    "lista"
   ]
  },
  {
   "cell_type": "code",
   "execution_count": 5,
   "metadata": {},
   "outputs": [
    {
     "data": {
      "text/plain": [
       "list"
      ]
     },
     "execution_count": 5,
     "metadata": {},
     "output_type": "execute_result"
    }
   ],
   "source": [
    "type(lista)"
   ]
  },
  {
   "cell_type": "markdown",
   "metadata": {},
   "source": [
    "Lista de strings"
   ]
  },
  {
   "cell_type": "code",
   "execution_count": 7,
   "metadata": {},
   "outputs": [],
   "source": [
    "lista2 = ['a', 'olá, mundo', 'andré']"
   ]
  },
  {
   "cell_type": "code",
   "execution_count": 8,
   "metadata": {},
   "outputs": [
    {
     "data": {
      "text/plain": [
       "['a', 'olá, mundo', 'andré']"
      ]
     },
     "execution_count": 8,
     "metadata": {},
     "output_type": "execute_result"
    }
   ],
   "source": [
    "lista2"
   ]
  },
  {
   "cell_type": "markdown",
   "metadata": {},
   "source": [
    "Lista de números e strings"
   ]
  },
  {
   "cell_type": "code",
   "execution_count": 10,
   "metadata": {},
   "outputs": [
    {
     "data": {
      "text/plain": [
       "['andré', 343, -34.545]"
      ]
     },
     "execution_count": 10,
     "metadata": {},
     "output_type": "execute_result"
    }
   ],
   "source": [
    "lista3 = ['andré', 343, -34.545]\n",
    "lista3"
   ]
  },
  {
   "cell_type": "markdown",
   "metadata": {},
   "source": [
    "Lista de listas"
   ]
  },
  {
   "cell_type": "code",
   "execution_count": 12,
   "metadata": {},
   "outputs": [
    {
     "data": {
      "text/plain": [
       "[[1, 2, 3], ['oi', 'python']]"
      ]
     },
     "execution_count": 12,
     "metadata": {},
     "output_type": "execute_result"
    }
   ],
   "source": [
    "lista4 = [[1, 2, 3], ['oi', 'python']]\n",
    "lista4"
   ]
  },
  {
   "cell_type": "code",
   "execution_count": 13,
   "metadata": {},
   "outputs": [
    {
     "data": {
      "text/plain": [
       "[[10, 20, 0.1], ['a', 'olá, mundo', 'andré'], ['andré', 343, -34.545]]"
      ]
     },
     "execution_count": 13,
     "metadata": {},
     "output_type": "execute_result"
    }
   ],
   "source": [
    "lista5 = [lista, lista2, lista3]\n",
    "lista5"
   ]
  },
  {
   "cell_type": "markdown",
   "metadata": {},
   "source": [
    "Tudo junto"
   ]
  },
  {
   "cell_type": "code",
   "execution_count": 14,
   "metadata": {},
   "outputs": [
    {
     "data": {
      "text/plain": [
       "[10, 10.8, 'bla', True, [1, 2]]"
      ]
     },
     "execution_count": 14,
     "metadata": {},
     "output_type": "execute_result"
    }
   ],
   "source": [
    "lista6 = [10, 10.8, 'bla', True, [1,2]]\n",
    "lista6"
   ]
  },
  {
   "cell_type": "markdown",
   "metadata": {},
   "source": [
    "Muitas vezes, queremos **acessar elementos individuais** da lista. \n",
    "\n",
    "Para fazer isso, devemos indicar qual é o **índice** respectivo ao elemento, isto é, qual é a **posição** do elemento dentro da lista\n",
    "\n",
    "Para acessar o elemento na **posição i** da lista \"minha_lista\", fazemos:\n",
    "\n",
    "```python\n",
    "minha_lista[i]\n",
    "```\n",
    "\n",
    "__MUITO IMPORTANTE: a numeração de índice começa em zero!__\n",
    "\n",
    "Ou seja:\n",
    "\n",
    "- O primeiro elemento tem índice 0: ```minha_lista[0]``` ,\n",
    "- O segundo tem índice 1: ```minha_lista[1]```,\n",
    "\n",
    "E assim por diante!\n",
    "\n",
    "Também podemos acessar os últimos elementos, usando índices negativos:\n",
    "\n",
    "- O último elemento tem índice -1: ```minha_lista[-1]```,\n",
    "- O penúltimo tem índice -2: ```minha_lista[-2]```,\n",
    "\n",
    "E assim por diante!"
   ]
  },
  {
   "cell_type": "code",
   "execution_count": 15,
   "metadata": {},
   "outputs": [
    {
     "data": {
      "text/plain": [
       "[10, 10.8, 'bla', True, [1, 2]]"
      ]
     },
     "execution_count": 15,
     "metadata": {},
     "output_type": "execute_result"
    }
   ],
   "source": [
    "lista6"
   ]
  },
  {
   "cell_type": "code",
   "execution_count": 16,
   "metadata": {},
   "outputs": [
    {
     "data": {
      "text/plain": [
       "10"
      ]
     },
     "execution_count": 16,
     "metadata": {},
     "output_type": "execute_result"
    }
   ],
   "source": [
    "lista6[0]"
   ]
  },
  {
   "cell_type": "code",
   "execution_count": 17,
   "metadata": {},
   "outputs": [
    {
     "data": {
      "text/plain": [
       "10.8"
      ]
     },
     "execution_count": 17,
     "metadata": {},
     "output_type": "execute_result"
    }
   ],
   "source": [
    "lista6[1]"
   ]
  },
  {
   "cell_type": "code",
   "execution_count": 19,
   "metadata": {},
   "outputs": [
    {
     "data": {
      "text/plain": [
       "1"
      ]
     },
     "execution_count": 19,
     "metadata": {},
     "output_type": "execute_result"
    }
   ],
   "source": [
    "lista6[-1][0]"
   ]
  },
  {
   "cell_type": "markdown",
   "metadata": {},
   "source": [
    "Também podemos **acessar pedaços da lista**, indicando o intervalo de índices que queremos, separados por \":\",  **com intervalo superior aberto**:\n",
    "\n",
    "- ```minha_lista[1:3]```: seleciona os elementos de indice 1 até indice 2\n",
    "- ```minha_lista[:4]```: seleciona do primeiro elemento até o de índice 3\n",
    "- ```minha_lista[3:]```: seleciona do elemento de índice 3 até o final\n",
    "- ```minha_lista[:]```: seleciona a lista inteira\n",
    "\n",
    "Este conceito é chamado de \"slicing\" em Python, pois você está pegando \"fatias\" da lista!"
   ]
  },
  {
   "cell_type": "code",
   "execution_count": 20,
   "metadata": {},
   "outputs": [
    {
     "data": {
      "text/plain": [
       "[10, 10.8, 'bla', True, [1, 2]]"
      ]
     },
     "execution_count": 20,
     "metadata": {},
     "output_type": "execute_result"
    }
   ],
   "source": [
    "lista6"
   ]
  },
  {
   "cell_type": "code",
   "execution_count": 29,
   "metadata": {},
   "outputs": [
    {
     "data": {
      "text/plain": [
       "[10, 10.8, 'bla', True, [1, 2]]"
      ]
     },
     "execution_count": 29,
     "metadata": {},
     "output_type": "execute_result"
    }
   ],
   "source": [
    "lista6[:]"
   ]
  },
  {
   "cell_type": "code",
   "execution_count": null,
   "metadata": {},
   "outputs": [],
   "source": []
  },
  {
   "cell_type": "code",
   "execution_count": null,
   "metadata": {},
   "outputs": [],
   "source": []
  },
  {
   "cell_type": "markdown",
   "metadata": {},
   "source": [
    "Podemos também especificar um passo para os elementos que pegamos. Por exemplo:\n",
    "- `minha_lista[1:6:2]`: seleciona os elementos do indice 1 ao 5 pulando de dois em dois. Note que ele comeca a selecionar do 1 e vai pulando de dois em dois até o indice ser maior ou igual a 6. Ele não considera essa ultima posição na seleção \n",
    "\n",
    "_"
   ]
  },
  {
   "cell_type": "code",
   "execution_count": 32,
   "metadata": {},
   "outputs": [
    {
     "data": {
      "text/plain": [
       "[10, 'bla']"
      ]
     },
     "execution_count": 32,
     "metadata": {},
     "output_type": "execute_result"
    }
   ],
   "source": [
    "lista6[:3:2]"
   ]
  },
  {
   "cell_type": "code",
   "execution_count": 33,
   "metadata": {},
   "outputs": [
    {
     "data": {
      "text/plain": [
       "[10, 10.8, 'bla', True, [1, 2]]"
      ]
     },
     "execution_count": 33,
     "metadata": {},
     "output_type": "execute_result"
    }
   ],
   "source": [
    "lista6"
   ]
  },
  {
   "cell_type": "code",
   "execution_count": 38,
   "metadata": {},
   "outputs": [
    {
     "data": {
      "text/plain": [
       "[10, 10.8, 'bla']"
      ]
     },
     "execution_count": 38,
     "metadata": {},
     "output_type": "execute_result"
    }
   ],
   "source": [
    "lista6[:3:1]"
   ]
  },
  {
   "cell_type": "code",
   "execution_count": 35,
   "metadata": {},
   "outputs": [
    {
     "data": {
      "text/plain": [
       "[True, [1, 2]]"
      ]
     },
     "execution_count": 35,
     "metadata": {},
     "output_type": "execute_result"
    }
   ],
   "source": [
    "lista6[3:]"
   ]
  },
  {
   "cell_type": "code",
   "execution_count": 41,
   "metadata": {},
   "outputs": [
    {
     "data": {
      "text/plain": [
       "[[1, 2], True, 'bla', 10.8, 10]"
      ]
     },
     "execution_count": 41,
     "metadata": {},
     "output_type": "execute_result"
    }
   ],
   "source": [
    "lista6[::-1]"
   ]
  },
  {
   "cell_type": "code",
   "execution_count": null,
   "metadata": {},
   "outputs": [],
   "source": [
    "[]"
   ]
  },
  {
   "cell_type": "markdown",
   "metadata": {},
   "source": [
    "Podemos também fazer algumas **operações com listas**"
   ]
  },
  {
   "cell_type": "markdown",
   "metadata": {},
   "source": [
    "Soma de listas: ao **somar listas**, os elementos são **concatenados**, na ordem dada, para formar uma lista maior:"
   ]
  },
  {
   "cell_type": "code",
   "execution_count": 45,
   "metadata": {},
   "outputs": [
    {
     "data": {
      "text/plain": [
       "[1, 2, 3, 4, 'a', True]"
      ]
     },
     "execution_count": 45,
     "metadata": {},
     "output_type": "execute_result"
    }
   ],
   "source": [
    "lista_conc = [1,2] + [3,4,'a', True]\n",
    "lista_conc"
   ]
  },
  {
   "cell_type": "markdown",
   "metadata": {},
   "source": [
    "Ao **multiplicar listas por um inteiro**, os elementos são repetidos, na ordem que aparecem:"
   ]
  },
  {
   "cell_type": "code",
   "execution_count": 47,
   "metadata": {},
   "outputs": [
    {
     "ename": "TypeError",
     "evalue": "unsupported operand type(s) for /: 'list' and 'int'",
     "output_type": "error",
     "traceback": [
      "\u001b[0;31m---------------------------------------------------------------------------\u001b[0m",
      "\u001b[0;31mTypeError\u001b[0m                                 Traceback (most recent call last)",
      "\u001b[0;32m<ipython-input-47-07e90d306201>\u001b[0m in \u001b[0;36m<module>\u001b[0;34m\u001b[0m\n\u001b[0;32m----> 1\u001b[0;31m \u001b[0;34m[\u001b[0m\u001b[0;36m1\u001b[0m\u001b[0;34m,\u001b[0m \u001b[0;36m2\u001b[0m\u001b[0;34m]\u001b[0m \u001b[0;34m/\u001b[0m \u001b[0;36m6\u001b[0m\u001b[0;34m\u001b[0m\u001b[0;34m\u001b[0m\u001b[0m\n\u001b[0m",
      "\u001b[0;31mTypeError\u001b[0m: unsupported operand type(s) for /: 'list' and 'int'"
     ]
    }
   ],
   "source": [
    "[1, 2] / 6 "
   ]
  },
  {
   "cell_type": "markdown",
   "metadata": {},
   "source": [
    "Se quisermos somar os elementos de duas listas, ou multiplicá-los por algum número, temos que usar um **laço**, como veremos logo mais!"
   ]
  },
  {
   "cell_type": "markdown",
   "metadata": {},
   "source": [
    "É possível transformar strings em uma **lista de caracteres**:"
   ]
  },
  {
   "cell_type": "code",
   "execution_count": 48,
   "metadata": {},
   "outputs": [
    {
     "data": {
      "text/plain": [
       "['a', 'b', 'c', 'd']"
      ]
     },
     "execution_count": 48,
     "metadata": {},
     "output_type": "execute_result"
    }
   ],
   "source": [
    "list('abcd')"
   ]
  },
  {
   "cell_type": "markdown",
   "metadata": {},
   "source": [
    "Listas também podem ser comparadas com == e !=. Listas serão iguais de tiverem todos os elementos iguais. \n",
    "\n",
    "Obs: Note que nesse caso as operações de igualdade entre os valores em posições correspondente nas listas devem existir"
   ]
  },
  {
   "cell_type": "code",
   "execution_count": 58,
   "metadata": {},
   "outputs": [
    {
     "data": {
      "text/plain": [
       "False"
      ]
     },
     "execution_count": 58,
     "metadata": {},
     "output_type": "execute_result"
    }
   ],
   "source": [
    "[1,2,3,4] != [1,2,3,4]"
   ]
  },
  {
   "cell_type": "markdown",
   "metadata": {},
   "source": [
    "Listas também podem ser comparadas com > >= < <=, contanto que as posições equivalentes nas listas possam ser comparadas com o operador em questão. Da mesma forma que em strings, a ordem das listas é definida pela ordem do primeiro elemento diferente"
   ]
  },
  {
   "cell_type": "code",
   "execution_count": 64,
   "metadata": {},
   "outputs": [
    {
     "data": {
      "text/plain": [
       "False"
      ]
     },
     "execution_count": 64,
     "metadata": {},
     "output_type": "execute_result"
    }
   ],
   "source": [
    "[1,2,3,4] > [1,2,3,4]"
   ]
  },
  {
   "cell_type": "markdown",
   "metadata": {},
   "source": [
    "__________\n",
    "__________\n",
    "__________"
   ]
  },
  {
   "cell_type": "markdown",
   "metadata": {},
   "source": [
    "## 2) Funções de listas"
   ]
  },
  {
   "cell_type": "markdown",
   "metadata": {},
   "source": [
    "Podemos começar com uma lista vazia, e preenchê-la aos poucos.\n",
    "\n",
    "Para **criar uma lista vazia**, fazemos:"
   ]
  },
  {
   "cell_type": "code",
   "execution_count": 65,
   "metadata": {},
   "outputs": [
    {
     "data": {
      "text/plain": [
       "[]"
      ]
     },
     "execution_count": 65,
     "metadata": {},
     "output_type": "execute_result"
    }
   ],
   "source": [
    "lista = []\n",
    "lista"
   ]
  },
  {
   "cell_type": "markdown",
   "metadata": {},
   "source": [
    "Para adicionar um elemento **ao fim da lista**, usamos a função \"append()\".\n",
    "\n",
    "**OBS.: só podemos apendar um único elemento por vez! Para apendar varios elementos de uma vez usamos `.extend()`**"
   ]
  },
  {
   "cell_type": "code",
   "execution_count": 70,
   "metadata": {},
   "outputs": [],
   "source": [
    "variavel = 'a'\n",
    "lista.append(variavel)"
   ]
  },
  {
   "cell_type": "code",
   "execution_count": 71,
   "metadata": {},
   "outputs": [
    {
     "data": {
      "text/plain": [
       "[10, 20, 'a']"
      ]
     },
     "execution_count": 71,
     "metadata": {},
     "output_type": "execute_result"
    }
   ],
   "source": [
    "lista"
   ]
  },
  {
   "cell_type": "code",
   "execution_count": null,
   "metadata": {},
   "outputs": [],
   "source": []
  },
  {
   "cell_type": "markdown",
   "metadata": {},
   "source": [
    "Se você quiser adicionar um elemento numa **posição específica**, use a função \"insert()\", onde o primeiro argumento é a posição, e o segundo é o elemento:\n",
    "\n",
    "**OBS.: só podemos inserir um único elemento por vez!**"
   ]
  },
  {
   "cell_type": "code",
   "execution_count": 72,
   "metadata": {},
   "outputs": [],
   "source": [
    "lista.insert(1, 'pos1')"
   ]
  },
  {
   "cell_type": "code",
   "execution_count": 73,
   "metadata": {},
   "outputs": [
    {
     "data": {
      "text/plain": [
       "[10, 'pos1', 20, 'a']"
      ]
     },
     "execution_count": 73,
     "metadata": {},
     "output_type": "execute_result"
    }
   ],
   "source": [
    "lista"
   ]
  },
  {
   "cell_type": "markdown",
   "metadata": {},
   "source": [
    "Podemos, também, **redefinir um elemento da lista individualmente**. Para isso, basta selecionarmos este elemento, e redefiní-lo:"
   ]
  },
  {
   "cell_type": "code",
   "execution_count": 74,
   "metadata": {},
   "outputs": [],
   "source": [
    "lista[1] = 0.5"
   ]
  },
  {
   "cell_type": "code",
   "execution_count": 75,
   "metadata": {},
   "outputs": [
    {
     "data": {
      "text/plain": [
       "[10, 0.5, 20, 'a']"
      ]
     },
     "execution_count": 75,
     "metadata": {},
     "output_type": "execute_result"
    }
   ],
   "source": [
    "lista"
   ]
  },
  {
   "cell_type": "markdown",
   "metadata": {},
   "source": [
    "Para **remover um elemento da lista**, use a função \"remove()\". \n",
    "\n",
    "**OBS.: Essa função remove apenas a primeira aparição do elemento**"
   ]
  },
  {
   "cell_type": "code",
   "execution_count": 78,
   "metadata": {},
   "outputs": [],
   "source": [
    "lista.append(10)\n",
    "lista.insert(0, 100)"
   ]
  },
  {
   "cell_type": "code",
   "execution_count": 79,
   "metadata": {},
   "outputs": [
    {
     "data": {
      "text/plain": [
       "[100, 10, 0.5, 20, 'a', 10, 10]"
      ]
     },
     "execution_count": 79,
     "metadata": {},
     "output_type": "execute_result"
    }
   ],
   "source": [
    "lista\n"
   ]
  },
  {
   "cell_type": "code",
   "execution_count": 82,
   "metadata": {},
   "outputs": [],
   "source": [
    "lista.remove(10)"
   ]
  },
  {
   "cell_type": "code",
   "execution_count": 83,
   "metadata": {},
   "outputs": [
    {
     "data": {
      "text/plain": [
       "[100, 0.5, 20, 'a', 10]"
      ]
     },
     "execution_count": 83,
     "metadata": {},
     "output_type": "execute_result"
    }
   ],
   "source": [
    "lista"
   ]
  },
  {
   "cell_type": "markdown",
   "metadata": {},
   "source": [
    "Se você quiser remover um elemento de determinado índice, use a função \"pop()\":"
   ]
  },
  {
   "cell_type": "code",
   "execution_count": 84,
   "metadata": {},
   "outputs": [
    {
     "data": {
      "text/plain": [
       "20"
      ]
     },
     "execution_count": 84,
     "metadata": {},
     "output_type": "execute_result"
    }
   ],
   "source": [
    "lista.pop(2)"
   ]
  },
  {
   "cell_type": "code",
   "execution_count": 85,
   "metadata": {},
   "outputs": [
    {
     "data": {
      "text/plain": [
       "[100, 0.5, 'a', 10]"
      ]
     },
     "execution_count": 85,
     "metadata": {},
     "output_type": "execute_result"
    }
   ],
   "source": [
    "lista"
   ]
  },
  {
   "cell_type": "markdown",
   "metadata": {},
   "source": [
    "Podemos verificar a presença de um valor numa lista com o operador `in`"
   ]
  },
  {
   "cell_type": "code",
   "execution_count": 90,
   "metadata": {},
   "outputs": [
    {
     "data": {
      "text/plain": [
       "False"
      ]
     },
     "execution_count": 90,
     "metadata": {},
     "output_type": "execute_result"
    }
   ],
   "source": [
    "0.7 in lista"
   ]
  },
  {
   "cell_type": "markdown",
   "metadata": {},
   "source": [
    "O inverso do operador `in` é o `not in`"
   ]
  },
  {
   "cell_type": "code",
   "execution_count": 88,
   "metadata": {},
   "outputs": [
    {
     "data": {
      "text/plain": [
       "True"
      ]
     },
     "execution_count": 88,
     "metadata": {},
     "output_type": "execute_result"
    }
   ],
   "source": [
    "0.7 not in lista"
   ]
  },
  {
   "cell_type": "markdown",
   "metadata": {},
   "source": [
    "Muitas vezes é interessante **ordenar a lista**. Pra fazer isso, usamos a função \"sorted\".\n",
    "\n",
    "**OBS: essa função só funciona para listas com dados que tenham o `>` e `<` definidos entre si!**"
   ]
  },
  {
   "cell_type": "code",
   "execution_count": 94,
   "metadata": {},
   "outputs": [
    {
     "data": {
      "text/plain": [
       "[20, 10, 5, 0]"
      ]
     },
     "execution_count": 94,
     "metadata": {},
     "output_type": "execute_result"
    }
   ],
   "source": [
    "lista_num = [10, 20, 0, 5]\n",
    "lista_sorted = sorted(lista_num, reverse=True)\n",
    "lista_sorted"
   ]
  },
  {
   "cell_type": "markdown",
   "metadata": {},
   "source": [
    "Se quisermos saber **qual é a posição (índice) de determinado elemento**, usamos o método \".index()\".\n",
    "\n",
    "Este método retorna apenas a **primeira aparição** do elemento:"
   ]
  },
  {
   "cell_type": "code",
   "execution_count": 107,
   "metadata": {},
   "outputs": [
    {
     "data": {
      "text/plain": [
       "3"
      ]
     },
     "execution_count": 107,
     "metadata": {},
     "output_type": "execute_result"
    }
   ],
   "source": [
    "lista = [1,3,2,3,2,3]\n",
    "primeiro3 = lista.index(3)\n",
    "segundo3 = lista.index(3, primeiro3 + 1)\n",
    "segundo3"
   ]
  },
  {
   "cell_type": "markdown",
   "metadata": {},
   "source": [
    "Por fim, podemos encontrar algumas **propriedades dos elementos da lista:**"
   ]
  },
  {
   "cell_type": "markdown",
   "metadata": {},
   "source": [
    "Para encontrar o maior elemento, use \"max()\":"
   ]
  },
  {
   "cell_type": "code",
   "execution_count": 108,
   "metadata": {},
   "outputs": [
    {
     "data": {
      "text/plain": [
       "3"
      ]
     },
     "execution_count": 108,
     "metadata": {},
     "output_type": "execute_result"
    }
   ],
   "source": [
    "max(lista)"
   ]
  },
  {
   "cell_type": "markdown",
   "metadata": {},
   "source": [
    "Para encontrar o menor elemento, use \"min()\":"
   ]
  },
  {
   "cell_type": "code",
   "execution_count": 109,
   "metadata": {},
   "outputs": [
    {
     "data": {
      "text/plain": [
       "1"
      ]
     },
     "execution_count": 109,
     "metadata": {},
     "output_type": "execute_result"
    }
   ],
   "source": [
    "min(lista)"
   ]
  },
  {
   "cell_type": "markdown",
   "metadata": {},
   "source": [
    "Para encontrar o número de elementos (ou seja, qual é o \"tamanho\" da lista), use \"len()\":"
   ]
  },
  {
   "cell_type": "code",
   "execution_count": 110,
   "metadata": {},
   "outputs": [
    {
     "data": {
      "text/plain": [
       "6"
      ]
     },
     "execution_count": 110,
     "metadata": {},
     "output_type": "execute_result"
    }
   ],
   "source": [
    "len(lista)"
   ]
  },
  {
   "cell_type": "markdown",
   "metadata": {},
   "source": [
    "Para somar os elementos da lista, use \"sum()\":"
   ]
  },
  {
   "cell_type": "code",
   "execution_count": 111,
   "metadata": {},
   "outputs": [
    {
     "data": {
      "text/plain": [
       "14"
      ]
     },
     "execution_count": 111,
     "metadata": {},
     "output_type": "execute_result"
    }
   ],
   "source": [
    "sum(lista)"
   ]
  },
  {
   "cell_type": "markdown",
   "metadata": {},
   "source": [
    "Agora fica bem fácil encontrar a média dos números em uma lista:"
   ]
  },
  {
   "cell_type": "code",
   "execution_count": 112,
   "metadata": {},
   "outputs": [
    {
     "data": {
      "text/plain": [
       "2.3333333333333335"
      ]
     },
     "execution_count": 112,
     "metadata": {},
     "output_type": "execute_result"
    }
   ],
   "source": [
    "sum(lista)/len(lista)"
   ]
  },
  {
   "cell_type": "markdown",
   "metadata": {},
   "source": [
    "__Um exemplo para o cálculo de média dos valores em uma lista...__\n",
    "\n",
    "Mas fazemos o usuário digitar os elementos da lista, um a um!"
   ]
  },
  {
   "cell_type": "code",
   "execution_count": null,
   "metadata": {},
   "outputs": [],
   "source": []
  },
  {
   "cell_type": "markdown",
   "metadata": {},
   "source": [
    "### Exercicio\n",
    "Execute os seguintes passos:\n",
    "1. Crie uma lista com as letras de 'a' a 'z' em ordem alfabetica (letras em ordem alfabetica: abcdefghijklmnopqrstuvwxyz)\n",
    "2. Insira o valor 'bola' na posição 1 da sua lista\n",
    "3. Imprima o valor na posição 12\n",
    "4. Substitua o valor na posição 12 pela string '12'\n",
    "5. Selecione os valores da posição 1 a posição 20, com passo 5.\n",
    "6. Selecione os valores da posição 0 a posição 20, com passo 2.\n",
    "7. Junte os resultados dos passos 5 e 6 em uma unica lista\n",
    "8. Ordene a lista do passo 7\n",
    "9. Inverta a ordem da lista do passo 8\n"
   ]
  },
  {
   "cell_type": "code",
   "execution_count": 120,
   "metadata": {},
   "outputs": [
    {
     "name": "stdout",
     "output_type": "stream",
     "text": [
      "l\n",
      "['12', 'a', 'b', 'bola', 'd', 'f', 'f', 'h', 'j', 'k', 'n', 'p', 'p', 'r']\n",
      "['r', 'p', 'p', 'n', 'k', 'j', 'h', 'f', 'f', 'd', 'bola', 'b', 'a', '12']\n"
     ]
    }
   ],
   "source": [
    "letras = 'abcdefghijklmnopqrstuvwxyz'\n",
    "# 1\n",
    "alpha_beta = list(letras)\n",
    "# 2\n",
    "alpha_beta.insert(1, 'bola')\n",
    "# 3\n",
    "print(alpha_beta[12])\n",
    "# 4\n",
    "alpha_beta[12] = '12'\n",
    "# 5\n",
    "step5 = alpha_beta[1:20:5]\n",
    "# 6\n",
    "step6 = alpha_beta[:20:2]\n",
    "# 7\n",
    "step7 = step5 + step6\n",
    "# 8\n",
    "step8 = sorted(step7)\n",
    "# 9\n",
    "step9 = step8[::-1]\n",
    "\n",
    "# print(alpha_beta)\n",
    "print(step8)\n",
    "print(step9)"
   ]
  },
  {
   "cell_type": "markdown",
   "metadata": {},
   "source": [
    "__________\n",
    "__________\n",
    "__________"
   ]
  },
  {
   "cell_type": "markdown",
   "metadata": {},
   "source": [
    "## 3) Laços de repetição (for)\n",
    "\n",
    "Na última aula, vimos como usar o laço de repetição \"while\" para repetir operações em Python\n",
    "\n",
    "Agora, veremos um outro laço, o **for**\n",
    "\n",
    "Mas, antes de vermos como este laço pode ser utilizado para **repetir operações**, é interessante entender o `for` como sendo, na realidade, um operador utilizado para **percorrer elementos de uma lista** (na verdade, de qualquer objeto **iterável**. Conheceremos outros objetos assim mais pra frente...)\n",
    "\n",
    "A estrutura do for é:\n",
    "\n",
    "```python\n",
    "for item in lista:\n",
    "    operacao_feita_pra_cada_item\n",
    "```"
   ]
  },
  {
   "cell_type": "code",
   "execution_count": 121,
   "metadata": {},
   "outputs": [
    {
     "data": {
      "text/plain": [
       "['a', 'b', 'c', 'd', 'e']"
      ]
     },
     "execution_count": 121,
     "metadata": {},
     "output_type": "execute_result"
    }
   ],
   "source": [
    "lista = list('abcde')\n",
    "lista"
   ]
  },
  {
   "cell_type": "code",
   "execution_count": 122,
   "metadata": {},
   "outputs": [
    {
     "name": "stdout",
     "output_type": "stream",
     "text": [
      "a\n",
      "b\n",
      "c\n",
      "d\n",
      "e\n"
     ]
    }
   ],
   "source": [
    "for item in lista:\n",
    "    print(item)"
   ]
  },
  {
   "cell_type": "markdown",
   "metadata": {},
   "source": [
    "O código acima é equivalente a:"
   ]
  },
  {
   "cell_type": "code",
   "execution_count": 124,
   "metadata": {},
   "outputs": [
    {
     "name": "stdout",
     "output_type": "stream",
     "text": [
      "a\n",
      "b\n",
      "c\n",
      "d\n",
      "e\n"
     ]
    }
   ],
   "source": [
    "item = lista[0]\n",
    "print(item)\n",
    "item = lista[1]\n",
    "print(item)\n",
    "item = lista[2]\n",
    "print(item)\n",
    "item = lista[3]\n",
    "print(item)\n",
    "item = lista[4]\n",
    "print(item)"
   ]
  },
  {
   "cell_type": "markdown",
   "metadata": {},
   "source": [
    "__Um exemplo de uso...__\n",
    "\n",
    "Separando números positivos e negativos de uma lista de números"
   ]
  },
  {
   "cell_type": "code",
   "execution_count": 130,
   "metadata": {},
   "outputs": [
    {
     "name": "stdout",
     "output_type": "stream",
     "text": [
      "[4, 5, 6, 5, 56, 7, 78, 80, 9, 0]\n",
      "[-6, -10]\n"
     ]
    }
   ],
   "source": [
    "lista = [4, 5, 6, 5, -6, 56, 7, -10, 78, 80, 9, 0]\n",
    "\n",
    "lista_neg = []\n",
    "lista_pos = []\n",
    "for item in lista:\n",
    "    if item >= 0:\n",
    "        lista_pos += [item]\n",
    "    else:\n",
    "        lista_neg.append(item)\n",
    "print(lista_pos)\n",
    "print(lista_neg)"
   ]
  },
  {
   "cell_type": "markdown",
   "metadata": {},
   "source": [
    "Podemos fazer operações com os elementos de umas lista e usá-los pra preencher outra lista:"
   ]
  },
  {
   "cell_type": "code",
   "execution_count": 131,
   "metadata": {},
   "outputs": [
    {
     "data": {
      "text/plain": [
       "[0.0, 3.141592653589793, 12.566370614359172, 38.48451000647496]"
      ]
     },
     "execution_count": 131,
     "metadata": {},
     "output_type": "execute_result"
    }
   ],
   "source": [
    "import math\n",
    "raios = [0,1,2,3.5]\n",
    "areas = []\n",
    "for r in raios:\n",
    "    areas.append(math.pi * r **2)\n",
    "areas"
   ]
  },
  {
   "cell_type": "code",
   "execution_count": 133,
   "metadata": {},
   "outputs": [
    {
     "data": {
      "text/plain": [
       "[0.0, 3.141592653589793, 12.566370614359172, 38.48451000647496]"
      ]
     },
     "execution_count": 133,
     "metadata": {},
     "output_type": "execute_result"
    }
   ],
   "source": [
    "cont = 0\n",
    "areas = []\n",
    "while cont < len(raios):\n",
    "    r = raios[cont]\n",
    "    areas.append(math.pi * r **2)\n",
    "    cont += 1\n",
    "areas"
   ]
  },
  {
   "cell_type": "markdown",
   "metadata": {},
   "source": [
    "Podemos utilizar o `break` e o `continue` no `for` tb"
   ]
  },
  {
   "cell_type": "code",
   "execution_count": 134,
   "metadata": {},
   "outputs": [
    {
     "data": {
      "text/plain": [
       "[0.0, 3.141592653589793, 12.566370614359172]"
      ]
     },
     "execution_count": 134,
     "metadata": {},
     "output_type": "execute_result"
    }
   ],
   "source": []
  },
  {
   "cell_type": "markdown",
   "metadata": {},
   "source": [
    "### Exercicio\n",
    "Faça um programa que pega uma lista e cria outra lista com os valores da primeira elevados ao quadrado"
   ]
  },
  {
   "cell_type": "code",
   "execution_count": 135,
   "metadata": {},
   "outputs": [
    {
     "data": {
      "text/plain": [
       "[1, 4, 9, 16, 25]"
      ]
     },
     "execution_count": 135,
     "metadata": {},
     "output_type": "execute_result"
    }
   ],
   "source": [
    "lista0 = [1, 2, 3, 4, 5]\n",
    "quadrados = []\n",
    "for q in lista0:\n",
    "    quadrados.append(q**2)\n",
    "quadrados"
   ]
  },
  {
   "cell_type": "markdown",
   "metadata": {},
   "source": [
    "_____\n",
    "\n",
    "### 3.1) Compreensão de listas\n",
    "\n",
    "Uma estrutura extremamente útil em python é a __compreensão de listas__ (list comprehension), com a qual é possível construir listas novas a partir de outras listas de forma bem condensada!\n",
    "\n",
    "A sintaxe é: \n",
    "\n",
    "```python\n",
    "[operacao_sobre_os_items for item in lista_base]\n",
    "```"
   ]
  },
  {
   "cell_type": "markdown",
   "metadata": {},
   "source": [
    "Por exemplo, é possível criar a mesma \"lista_quadrado\" definida acima, de forma muito mais condensada:\n",
    "\n",
    "_"
   ]
  },
  {
   "cell_type": "code",
   "execution_count": 136,
   "metadata": {},
   "outputs": [
    {
     "data": {
      "text/plain": [
       "[1, 4, 9, 16, 25]"
      ]
     },
     "execution_count": 136,
     "metadata": {},
     "output_type": "execute_result"
    }
   ],
   "source": [
    "[q**2 for q in lista0]"
   ]
  },
  {
   "cell_type": "code",
   "execution_count": 137,
   "metadata": {},
   "outputs": [
    {
     "data": {
      "text/plain": [
       "[1, 2, 3, 4]"
      ]
     },
     "execution_count": 137,
     "metadata": {},
     "output_type": "execute_result"
    }
   ],
   "source": [
    "lista = [[1,2], [3,4]]\n",
    "# [1,2,3,4]\n",
    "lista_nova = []\n",
    "for sublista in lista:\n",
    "    for el in sublista:\n",
    "        lista_nova.append(el)\n",
    "lista_nova"
   ]
  },
  {
   "cell_type": "code",
   "execution_count": 138,
   "metadata": {},
   "outputs": [
    {
     "data": {
      "text/plain": [
       "[1, 2, 3, 4]"
      ]
     },
     "execution_count": 138,
     "metadata": {},
     "output_type": "execute_result"
    }
   ],
   "source": [
    "[el for sublista in lista for el in sublista]"
   ]
  },
  {
   "cell_type": "markdown",
   "metadata": {},
   "source": [
    "Também é possível filtrar os items da lista usando compreensão de listas!\n",
    "\n",
    "A sintaxe é:\n",
    "\n",
    "```python\n",
    "[operacao_sobre_os_items for item in lista_base if condicao]\n",
    "```"
   ]
  },
  {
   "cell_type": "code",
   "execution_count": 141,
   "metadata": {},
   "outputs": [
    {
     "name": "stdout",
     "output_type": "stream",
     "text": [
      "[4, 5, 6, 5, 56, 7, 78, 80, 9, 0]\n",
      "[-6, -10]\n"
     ]
    }
   ],
   "source": [
    "lista = [4, 5, 6, 5, -6, 56, 7, -10, 78, 80, 9, 0]\n",
    "\n",
    "lista_pos = [el for el in lista if el >= 0]\n",
    "lista_neg = [el for el in lista if el < 0]\n",
    "\n",
    "print(lista_pos)\n",
    "print(lista_neg)"
   ]
  },
  {
   "cell_type": "markdown",
   "metadata": {},
   "source": [
    "É também possivel definir um `if-else` dentro da compreensão de listas:\n",
    "\n",
    "```python\n",
    "[valor_caso_if if condicao else valor_caso_else for item in lista_base]\n",
    "```\n",
    "\n",
    "_\n"
   ]
  },
  {
   "cell_type": "code",
   "execution_count": 144,
   "metadata": {},
   "outputs": [
    {
     "data": {
      "text/plain": [
       "'a'"
      ]
     },
     "execution_count": 144,
     "metadata": {},
     "output_type": "execute_result"
    }
   ],
   "source": [
    "a = -10\n",
    "b = 1 if a > 0 else 'a'\n",
    "b"
   ]
  },
  {
   "cell_type": "code",
   "execution_count": null,
   "metadata": {},
   "outputs": [],
   "source": [
    "a=10\n",
    "if a > 0:\n",
    "    b = 1\n",
    "else: \n",
    "    b = 0"
   ]
  },
  {
   "cell_type": "code",
   "execution_count": 145,
   "metadata": {},
   "outputs": [
    {
     "data": {
      "text/plain": [
       "[1, 1, 1, 1, -1, 1, 1, -1, 1, 1, 1, -1]"
      ]
     },
     "execution_count": 145,
     "metadata": {},
     "output_type": "execute_result"
    }
   ],
   "source": [
    "lista = [4, 5, 6, 5, -6, 56, 7, -10, 78, 80, 9, 0]\n",
    "[1 if el > 0 else -1 for el in lista]"
   ]
  },
  {
   "cell_type": "markdown",
   "metadata": {},
   "source": [
    "### Exercicio\n",
    "Faça um programa que pega uma lista e cria outra lista com os valores da primeira elevados ao quadrado. \n",
    "Dessa vez, use Compreensão de Listas"
   ]
  },
  {
   "cell_type": "code",
   "execution_count": 38,
   "metadata": {},
   "outputs": [],
   "source": [
    "lista0 = [1, 2, 3, 4, 5]"
   ]
  },
  {
   "cell_type": "code",
   "execution_count": null,
   "metadata": {},
   "outputs": [],
   "source": [
    "#TODO"
   ]
  },
  {
   "cell_type": "markdown",
   "metadata": {},
   "source": [
    "_____\n",
    "_____"
   ]
  },
  {
   "cell_type": "markdown",
   "metadata": {},
   "source": [
    "É muito comum utilizarmos a função \"range()\" juntamente do for\n",
    "\n",
    "Essa função cria um **intervalo** (fechado no começo, aberto no final) que é uma espécie de \"lista virtual\" de **números em sequência**. Sua sintaxe é:\n",
    "\n",
    "- range(primeiro_numero, último_numero, passo)\n",
    "\n",
    "Se for dado apenas um argumento, o padrão é começar por zero, e ir de 1 em 1:\n",
    "\n",
    "- range(10) é equivalente a range(0, 10, 1), cria uma sequência de 0 a 9, de 1 em 1\n",
    "- range(-12, 12, 2): cria uma sequência de -12 a 11, de 2 em 2\n",
    "\n",
    "Ao fazermos list(range()), obtermos uma lista correspondente ao iterável.\n",
    "\n",
    "**OBS: só podemos fazer iteráveis de int!**"
   ]
  },
  {
   "cell_type": "code",
   "execution_count": 153,
   "metadata": {},
   "outputs": [
    {
     "data": {
      "text/plain": [
       "[0, 2, 4, 6, 8]"
      ]
     },
     "execution_count": 153,
     "metadata": {},
     "output_type": "execute_result"
    }
   ],
   "source": [
    "list(range(0, 10, 2))"
   ]
  },
  {
   "cell_type": "markdown",
   "metadata": {},
   "source": [
    "É muito comum usar o for com o range para **percorrer os índices de uma lista**, e assim também **acessar os elementos da lista através do índice**.\n",
    "\n",
    "Isso é feito passando pro range o comprinento da lista como argumento!"
   ]
  },
  {
   "cell_type": "code",
   "execution_count": 154,
   "metadata": {},
   "outputs": [
    {
     "name": "stdout",
     "output_type": "stream",
     "text": [
      "4\n",
      "5\n",
      "6\n",
      "5\n",
      "-6\n",
      "56\n",
      "7\n",
      "-10\n",
      "78\n",
      "80\n",
      "9\n",
      "0\n"
     ]
    }
   ],
   "source": [
    "lista = [4, 5, 6, 5, -6, 56, 7, -10, 78, 80, 9, 0]\n",
    "for idx in range(len(lista)):\n",
    "    print(lista[idx])"
   ]
  },
  {
   "cell_type": "markdown",
   "metadata": {},
   "source": [
    "Note a diferença do que foi feito acima e o que é feito abaixo:"
   ]
  },
  {
   "cell_type": "code",
   "execution_count": 155,
   "metadata": {},
   "outputs": [
    {
     "name": "stdout",
     "output_type": "stream",
     "text": [
      "4\n",
      "5\n",
      "6\n",
      "5\n",
      "-6\n",
      "56\n",
      "7\n",
      "-10\n",
      "78\n",
      "80\n",
      "9\n",
      "0\n"
     ]
    }
   ],
   "source": [
    "for el in lista:\n",
    "    print(el)"
   ]
  },
  {
   "cell_type": "markdown",
   "metadata": {},
   "source": [
    "O range é muito interessante caso **queiramos repetir determinada instrução**\n",
    "\n",
    "Se vc quer repetir N vezes, basta fazer:\n",
    "\n",
    "```python\n",
    "for i in range(N):\n",
    "    operacao_repetida\n",
    "```\n",
    "\n",
    "É neste sentido que o `for` passa a ser explicitamente um laço de repetição!\n",
    "\n",
    "Mas note que este laço se diferencia do while no fato de **não precisar de uma condição explícita**\n",
    "\n",
    "Este laço determina que as operações sejam repetidas **para valores em uma lista** (que no caso é o `range`).\n",
    "\n",
    "Este laço é, portanto, bem mais controlado -- dificilmente ocorrerá loops infinitos!"
   ]
  },
  {
   "cell_type": "code",
   "execution_count": 157,
   "metadata": {},
   "outputs": [
    {
     "name": "stdout",
     "output_type": "stream",
     "text": [
      "Olá Mundo!\n",
      "Olá Mundo!\n",
      "Olá Mundo!\n",
      "Olá Mundo!\n",
      "Olá Mundo!\n"
     ]
    }
   ],
   "source": [
    "for i in range(5):\n",
    "    print('Olá Mundo!')"
   ]
  },
  {
   "cell_type": "code",
   "execution_count": null,
   "metadata": {},
   "outputs": [],
   "source": [
    "cont = 0\n",
    "while cont < 5:\n",
    "    print(...)\n",
    "    cont += 1"
   ]
  },
  {
   "cell_type": "markdown",
   "metadata": {},
   "source": [
    "Note que o código acima é equivalente a:"
   ]
  },
  {
   "cell_type": "code",
   "execution_count": 158,
   "metadata": {},
   "outputs": [
    {
     "name": "stdout",
     "output_type": "stream",
     "text": [
      "Olá Mundo!\n",
      "Olá Mundo!\n",
      "Olá Mundo!\n",
      "Olá Mundo!\n",
      "Olá Mundo!\n"
     ]
    }
   ],
   "source": [
    "for i in [0,1,2,3,4]:\n",
    "    print('Olá Mundo!')"
   ]
  },
  {
   "cell_type": "code",
   "execution_count": 160,
   "metadata": {},
   "outputs": [
    {
     "data": {
      "text/plain": [
       "[0, 1, 2, 3, 4]"
      ]
     },
     "execution_count": 160,
     "metadata": {},
     "output_type": "execute_result"
    }
   ],
   "source": [
    "list(range(5))"
   ]
  },
  {
   "cell_type": "code",
   "execution_count": 159,
   "metadata": {},
   "outputs": [
    {
     "name": "stdout",
     "output_type": "stream",
     "text": [
      "Olá Mundo!\n",
      "Olá Mundo!\n",
      "Olá Mundo!\n",
      "Olá Mundo!\n",
      "Olá Mundo!\n"
     ]
    }
   ],
   "source": [
    "for i in list(range(5)):\n",
    "    print('Olá Mundo!')"
   ]
  },
  {
   "cell_type": "markdown",
   "metadata": {},
   "source": [
    "Uma situação muito comum é quando você precisa, além do valor do item, da posição dele dentro da lista. Para isso, tem a função `enumerate`"
   ]
  },
  {
   "cell_type": "code",
   "execution_count": 161,
   "metadata": {},
   "outputs": [
    {
     "name": "stdout",
     "output_type": "stream",
     "text": [
      "0 4\n",
      "1 5\n",
      "2 6\n",
      "3 5\n",
      "4 -6\n",
      "5 56\n",
      "6 7\n",
      "7 -10\n",
      "8 78\n",
      "9 80\n",
      "10 9\n",
      "11 0\n"
     ]
    }
   ],
   "source": [
    "lista = [4, 5, 6, 5, -6, 56, 7, -10, 78, 80, 9, 0]\n",
    "for idx in range(len(lista)):\n",
    "    el = lista[idx]\n",
    "    print(idx, lista[idx])"
   ]
  },
  {
   "cell_type": "code",
   "execution_count": 168,
   "metadata": {},
   "outputs": [
    {
     "name": "stdout",
     "output_type": "stream",
     "text": [
      "5 56\n",
      "6 7\n",
      "7 -10\n",
      "8 78\n",
      "9 80\n",
      "10 9\n",
      "11 0\n"
     ]
    }
   ],
   "source": [
    "for idx, el in enumerate(lista[5:], start=5):\n",
    "    print(idx, el)"
   ]
  },
  {
   "cell_type": "markdown",
   "metadata": {},
   "source": [
    "___\n",
    "___\n",
    "\n"
   ]
  },
  {
   "cell_type": "markdown",
   "metadata": {},
   "source": [
    "### Exercicio\n",
    "Os mapeamento de notas para conceitos e de conceitos para notas são definidos como:\n",
    "\n",
    "- [9, 10] -> A -> 10\n",
    "- [8, 9[  -> B -> 8.5\n",
    "- [7, 8[  -> C -> 7.5\n",
    "- [6, 7[  -> D -> 6.5\n",
    "- [0, 6[  -> F -> 0\n",
    "\n",
    "Faça um programa que:\n",
    "\n",
    "1. Leia 3 conceitos e imprima a média\n",
    "2. Leia 3 conceitos (com validação da entrada) e imprima a média\n",
    "3. Leia 3 conceitos (com validação da entrada) e imprima a média e quantas vezes cada conceito apareceu.\n",
    "4. Leia conceitos (com validação da entrada) até que o usuário digite 'sair' e imprima a média e quantas vezes cada conceito apareceu.\n",
    "\n",
    "Ao construir o seu programa divida a parte de leitura e a parte de processamento, para fins do exercicio\n",
    "\n"
   ]
  },
  {
   "cell_type": "code",
   "execution_count": 2,
   "metadata": {},
   "outputs": [
    {
     "name": "stdout",
     "output_type": "stream",
     "text": [
      "Digite um conceito e para terminar digite `sair`: A\n",
      "Digite um conceito e para terminar digite `sair`: B\n",
      "Digite um conceito e para terminar digite `sair`: F\n",
      "Digite um conceito e para terminar digite `sair`: A\n",
      "Digite um conceito e para terminar digite `sair`: B\n",
      "Digite um conceito e para terminar digite `sair`: V\n",
      "Valores invalidos\n",
      "Digite um conceito: sair\n",
      "Média: 7.4\n",
      "N items A : 2\n",
      "N items B : 2\n",
      "N items C : 0\n",
      "N items D : 0\n",
      "N items F : 1\n"
     ]
    }
   ],
   "source": [
    "# Parte 1 - Leitura das entradas\n",
    "conceitos_existentes = ['A', 'B', 'C', 'D', 'F']\n",
    "conceitos = []\n",
    "user_input = ''\n",
    "while user_input != 'sair':\n",
    "    user_input = input('Digite um conceito e para terminar digite `sair`: ')\n",
    "    while user_input not in conceitos_existentes + ['sair']:\n",
    "        print('Valores invalidos')\n",
    "        user_input = input('Digite um conceito: ')\n",
    "    if user_input != 'sair':\n",
    "        conceitos.append(user_input)\n",
    "# fim da parte 1\n",
    "\n",
    "# conceitos = [...] # lista com os conceitos\n",
    "\n",
    "# Parte 2 - Processamento\n",
    "conceitos_num = []\n",
    "for c in conceitos:\n",
    "    if c == 'A':\n",
    "        conceitos_num.append(10)\n",
    "    elif c == 'B':\n",
    "        conceitos_num.append(8.5)\n",
    "    elif c == 'C':\n",
    "        conceitos_num.append(7.5)\n",
    "    elif c == 'D':\n",
    "        conceitos_num.append(6.5)\n",
    "    elif c == 'F':\n",
    "        conceitos_num.append(0)\n",
    "\n",
    "print('Média:', sum(conceitos_num)/len(conceitos_num))\n",
    "# conceitos = ['A', 'A', 'A']\n",
    "for qualquer_coisa in conceitos_existentes:\n",
    "    print('N items', qualquer_coisa, ':', len([el for el in conceitos if el == qualquer_coisa]))\n",
    "# print('N items B:', len([el for el in conceitos if el == 'B']))\n",
    "# print('N items C:', len([el for el in conceitos if el == 'C']))\n",
    "# print('N items D:', len([el for el in conceitos if el == 'D']))\n",
    "# print('N items F:', len([el for el in conceitos if el == 'F']))\n",
    "# fim da parte 2"
   ]
  },
  {
   "cell_type": "code",
   "execution_count": 16,
   "metadata": {},
   "outputs": [
    {
     "data": {
      "text/plain": [
       "['A', 'B', 'C']"
      ]
     },
     "execution_count": 16,
     "metadata": {},
     "output_type": "execute_result"
    }
   ],
   "source": [
    "conceitos"
   ]
  },
  {
   "cell_type": "code",
   "execution_count": 11,
   "metadata": {},
   "outputs": [
    {
     "data": {
      "text/plain": [
       "[8.5, 7.5]"
      ]
     },
     "execution_count": 11,
     "metadata": {},
     "output_type": "execute_result"
    }
   ],
   "source": [
    "conceitos_num"
   ]
  },
  {
   "cell_type": "code",
   "execution_count": 8,
   "metadata": {},
   "outputs": [
    {
     "data": {
      "text/plain": [
       "26.0"
      ]
     },
     "execution_count": 8,
     "metadata": {},
     "output_type": "execute_result"
    }
   ],
   "source": [
    "10+8.5+7.5"
   ]
  },
  {
   "cell_type": "code",
   "execution_count": 20,
   "metadata": {},
   "outputs": [],
   "source": [
    "lista = list('AAAABBBBCCC')"
   ]
  },
  {
   "cell_type": "code",
   "execution_count": 21,
   "metadata": {},
   "outputs": [
    {
     "data": {
      "text/plain": [
       "['A', 'A', 'A', 'A', 'B', 'B', 'B', 'B', 'C', 'C', 'C']"
      ]
     },
     "execution_count": 21,
     "metadata": {},
     "output_type": "execute_result"
    }
   ],
   "source": [
    "lista"
   ]
  },
  {
   "cell_type": "code",
   "execution_count": 23,
   "metadata": {},
   "outputs": [
    {
     "data": {
      "text/plain": [
       "4"
      ]
     },
     "execution_count": 23,
     "metadata": {},
     "output_type": "execute_result"
    }
   ],
   "source": [
    "a = [el for el in lista if el == 'A']\n",
    "len(a)"
   ]
  },
  {
   "cell_type": "code",
   "execution_count": 24,
   "metadata": {},
   "outputs": [
    {
     "data": {
      "text/plain": [
       "4"
      ]
     },
     "execution_count": 24,
     "metadata": {},
     "output_type": "execute_result"
    }
   ],
   "source": [
    "len([el for el in lista if el == 'A'])"
   ]
  },
  {
   "cell_type": "code",
   "execution_count": null,
   "metadata": {},
   "outputs": [],
   "source": []
  }
 ],
 "metadata": {
  "kernelspec": {
   "display_name": "Python 3",
   "language": "python",
   "name": "python3"
  },
  "language_info": {
   "codemirror_mode": {
    "name": "ipython",
    "version": 3
   },
   "file_extension": ".py",
   "mimetype": "text/x-python",
   "name": "python",
   "nbconvert_exporter": "python",
   "pygments_lexer": "ipython3",
   "version": "3.8.3"
  }
 },
 "nbformat": 4,
 "nbformat_minor": 4
}
