{
 "cells": [
  {
   "cell_type": "markdown",
   "metadata": {},
   "source": [
    "# Aula 9 - programação orientada a objetos\n",
    "\n",
    "Na aula de hoje, vamos explorar os seguintes tópicos em Python:\n",
    "\n",
    "\n",
    "- 1) Programação Orientada a Objetos;\n",
    "- 2) Classes, Atributos, Objetos e Métodos;\n",
    "- 3) Atributos e métodos estáticos;\n",
    "- 4) Métodos Mágicos;\n",
    "- 5) Herança e Polimorfismo.\n",
    "\n"
   ]
  },
  {
   "cell_type": "markdown",
   "metadata": {},
   "source": [
    "____\n",
    "____\n",
    "____"
   ]
  },
  {
   "cell_type": "markdown",
   "metadata": {},
   "source": [
    "## 1) Programação Orientada a Objetos\n",
    "\n",
    "O Python, como outras linguagens, é classificada como uma **linguagem de programação orientada a objetos (POO)** (outros exemplos: Java, C++, etc). \n",
    "\n",
    "Esta classificação é uma dos chamados \"paradigmas de programação\". Isso porque uma linguagem de POO é fundamentalmente diferente de linguagens de outros paradigmas.\n",
    "\n",
    "O grande objetivo da POO é a **reutilização de código**.\n",
    "\n",
    "Os programas devem ser **modularizados**, de modo que diferentes pessoas possam implementar módulos diferentes e juntá-los ao final, e reaporveitar modulos diferentes.\n",
    "\n",
    "Dentro de POO, tudo isso é feito de acordo com as seguintes **entidades**:\n",
    "\n",
    "- Classes\n",
    "\n",
    "> As classes são os \"moldes\" dos objetos, as entidades abstratas. Elas contêm as informações e os comportamentos que os objetos terão. Todos os objetos pertencentes a uma mesma classe terão características em comum. **Ex: Pessoa**\n",
    "\n",
    "- Objetos\n",
    "\n",
    "> Os objetos são as instâncias concretas das classes, que são abstratas. Os objetos contêm as características comuns à classe, mas cada um tem suas particularidades. **Ex: você!**\n",
    "\n",
    "\n",
    "- Atributos\n",
    "\n",
    "> Cada objeto particular de uma mesma classe tem valores diferentes para as variáveis internas da classe. Essas \"variáveis do objeto\" chamamos de atributos. **Ex: a cor do seu cabelo**\n",
    "\n",
    "- Métodos\n",
    "\n",
    "> Métodos são funções dentro da classe, que não podem ser executadas arbitrariamente, mas deverão ser chamadas necessariamente pelos objetos. Os métodos podem utilizar os atributos e até mesmo alterá-los. **Ex: você pintar seu cabelo para mudar a cor** \n",
    "\n",
    "\n",
    "Em POO, há **4 princípios de boas práticas** para a criação das entidades:\n",
    "\n",
    "- **Encapsulamento**: cada classe deve conter todas as informações necessárias para seu funcionamento bem como todos os métodos necessários para alterar essas informações.\n",
    "\n",
    "- **Abstração**: as classes devem apresentar interfaces simples para o uso por outros desenvolvedores e para a interação com outras classes. Todos os detalhes complicados de seu funcionamento devem estar \"escondidos\" dentro de métodos simples de usar, com parâmetros e retornos bem definidos. \n",
    "\n",
    "- **Herança**: se várias classes terão atributos e métodos em comum, não devemos ter que redigitá-los várias vezes. Ao invés disso, criamos uma classe com esses atributos comuns e as outras classes irão herdá-los.\n",
    "        \n",
    "- **Polimorfismo**: objetos de diferentes classes herdeiras de uma mesma classe mãe podem ser tratados genericamente como objetos pertencentes à classe mãe.\n",
    "\n",
    "Vamos agora a exemplos específicos para ilustrar e concretizar todos os conceitos discutidos acima!"
   ]
  },
  {
   "cell_type": "markdown",
   "metadata": {},
   "source": [
    "_____\n",
    "_____\n",
    "_____"
   ]
  },
  {
   "cell_type": "markdown",
   "metadata": {},
   "source": [
    "## 2) Classes, Atributos, Objetos e Métodos\n",
    "\n",
    "\n",
    "### Criando uma classe\n",
    "\n",
    "A criação de classes é feita segundo a seguinte estrutura:\n",
    "\n",
    "```python\n",
    "class NomeDaClasse:\n",
    "    \n",
    "    # método construtor\n",
    "    def __init__(self, atributos):\n",
    "        \n",
    "        # definição dos atributos\n",
    "        self.atributos = atributos\n",
    "        \n",
    "    # definição de outros métodos\n",
    "    def metodo(self, parametros):\n",
    "        operacoes\n",
    "```\n",
    "\n",
    "O **método construtor** é onde inicializamos alguns atributos que os objetos da classe terão!\n",
    "\n",
    "- Esse método é opcional.\n",
    "- Sempre que um objeto é criado, este método é chamado, automaticamente"
   ]
  },
  {
   "cell_type": "markdown",
   "metadata": {},
   "source": [
    "O **\"self\"** sempre será o primeiro parâmetro dos métodos de uma classe, e ele é necessário para **fazer referência ao objeto**\n",
    "\n",
    "Assim, em geral, sempre usaremos dentro dos métodos alguma operação que **faça uso dos atributos da classe**, que é referenciada através do `self`."
   ]
  },
  {
   "cell_type": "code",
   "execution_count": 27,
   "metadata": {},
   "outputs": [],
   "source": [
    "class Pessoa:\n",
    "    def __init__(self, personalidade, idade, altura, id_):\n",
    "        self.personalidade = personalidade\n",
    "        self.idade = idade\n",
    "        self.altura = altura\n",
    "        self.id = id_\n",
    "        self.salario = None"
   ]
  },
  {
   "cell_type": "markdown",
   "metadata": {},
   "source": [
    "### Criação de objeto: instanciando uma classe\n",
    "\n",
    "Para criarmos um objeto (instância da classe), nós fazemos o processo de **instanciação**, que nada mais é do que **chamar a classe**, com os argumentos definidos no método construtor"
   ]
  },
  {
   "cell_type": "code",
   "execution_count": 28,
   "metadata": {},
   "outputs": [],
   "source": [
    "ana = Pessoa('nervosa', 28, 1.70, 123)"
   ]
  },
  {
   "cell_type": "code",
   "execution_count": 29,
   "metadata": {},
   "outputs": [],
   "source": [
    "bob = Pessoa('nervoso', 20, 1.80, 1234)"
   ]
  },
  {
   "cell_type": "markdown",
   "metadata": {},
   "source": [
    "Se chamarmos a variável com o objeto, aparece apenas o endereço respectivo ao objeto:"
   ]
  },
  {
   "cell_type": "code",
   "execution_count": 30,
   "metadata": {},
   "outputs": [
    {
     "data": {
      "text/plain": [
       "<__main__.Pessoa at 0x7ff2c4595b50>"
      ]
     },
     "execution_count": 30,
     "metadata": {},
     "output_type": "execute_result"
    }
   ],
   "source": [
    "ana"
   ]
  },
  {
   "cell_type": "markdown",
   "metadata": {},
   "source": [
    "Mas podemos acessar cada um dos atributos deste objeto, que são aqueles definidos na classe. \n",
    "\n",
    "Para isso, seguimos a sintaxe\n",
    "\n",
    "```python\n",
    "nome_do_objeto.nome_do_atributo\n",
    "```"
   ]
  },
  {
   "cell_type": "code",
   "execution_count": 31,
   "metadata": {},
   "outputs": [
    {
     "ename": "AttributeError",
     "evalue": "'Pessoa' object has no attribute 'idade'",
     "output_type": "error",
     "traceback": [
      "\u001b[0;31m---------------------------------------------------------------------------\u001b[0m",
      "\u001b[0;31mAttributeError\u001b[0m                            Traceback (most recent call last)",
      "\u001b[0;32m<ipython-input-31-8842d696bd64>\u001b[0m in \u001b[0;36m<module>\u001b[0;34m\u001b[0m\n\u001b[0;32m----> 1\u001b[0;31m \u001b[0mana\u001b[0m\u001b[0;34m.\u001b[0m\u001b[0midade\u001b[0m\u001b[0;34m\u001b[0m\u001b[0;34m\u001b[0m\u001b[0m\n\u001b[0m",
      "\u001b[0;31mAttributeError\u001b[0m: 'Pessoa' object has no attribute 'idade'"
     ]
    }
   ],
   "source": [
    "ana.idade"
   ]
  },
  {
   "cell_type": "code",
   "execution_count": 22,
   "metadata": {},
   "outputs": [
    {
     "data": {
      "text/plain": [
       "20"
      ]
     },
     "execution_count": 22,
     "metadata": {},
     "output_type": "execute_result"
    }
   ],
   "source": [
    "bob.idade"
   ]
  },
  {
   "cell_type": "markdown",
   "metadata": {},
   "source": [
    "Os atributos são mutáveis! Para mudá-los, basta redefinir novos valores:"
   ]
  },
  {
   "cell_type": "code",
   "execution_count": 23,
   "metadata": {},
   "outputs": [
    {
     "data": {
      "text/plain": [
       "100"
      ]
     },
     "execution_count": 23,
     "metadata": {},
     "output_type": "execute_result"
    }
   ],
   "source": [
    "ana.idade = 100\n",
    "ana.idade"
   ]
  },
  {
   "cell_type": "code",
   "execution_count": 24,
   "metadata": {},
   "outputs": [
    {
     "data": {
      "text/plain": [
       "20"
      ]
     },
     "execution_count": 24,
     "metadata": {},
     "output_type": "execute_result"
    }
   ],
   "source": [
    "bob.idade"
   ]
  },
  {
   "cell_type": "markdown",
   "metadata": {},
   "source": [
    "Podemos, também, adicionar novos atributos que não sejam **obrigatoriamente definidos na instanciação da classe**. É uma boa prática os inicializamos como vazios:"
   ]
  },
  {
   "cell_type": "code",
   "execution_count": 25,
   "metadata": {},
   "outputs": [
    {
     "data": {
      "text/plain": [
       "1000"
      ]
     },
     "execution_count": 25,
     "metadata": {},
     "output_type": "execute_result"
    }
   ],
   "source": [
    "bob.salario = 1000\n",
    "bob.salario"
   ]
  },
  {
   "cell_type": "code",
   "execution_count": 26,
   "metadata": {},
   "outputs": [],
   "source": [
    "ana.salario"
   ]
  },
  {
   "cell_type": "code",
   "execution_count": null,
   "metadata": {},
   "outputs": [],
   "source": [
    "class Pessoa:\n",
    "    def __init__(self, personalidade, idade, altura, id_):\n",
    "        self.personalidade = personalidade\n",
    "        self.idade = idade\n",
    "        self.altura = altura\n",
    "        self.id = id_\n",
    "        self.salario = None"
   ]
  },
  {
   "cell_type": "markdown",
   "metadata": {},
   "source": [
    "### Exercicio\n",
    "Crie uma classe chamada Robot que representará a posição do robô em questão em \n",
    "um plano infinito. No construtor, poderá ser passado a posição inicial `(x, y)`\n",
    "desse robô e para qual direção ele está olhando (`n`orte, `s`ul, `l`este, \n",
    "`o`este). Caso a posição inicial não seja passada, devemos assumir que é \n",
    "`(0, 0)`. Caso a direção não seja passada, devemos assumir `n`."
   ]
  },
  {
   "cell_type": "code",
   "execution_count": 32,
   "metadata": {},
   "outputs": [
    {
     "data": {
      "text/plain": [
       "<__main__.Robot at 0x7ff2c44cad30>"
      ]
     },
     "execution_count": 32,
     "metadata": {},
     "output_type": "execute_result"
    }
   ],
   "source": [
    "class Robot: \n",
    "    def __init__(self, pos_inicial_x, pos_inicial_y, direcao): \n",
    "        self.pos_inicial_x = pos_inicial_x \n",
    "        self.pos_inicial_y = pos_inicial_y \n",
    "        self.direcao = direcao \n",
    "Robot(1,5,'s') "
   ]
  },
  {
   "cell_type": "markdown",
   "metadata": {},
   "source": [
    "### Métodos da classe: definindo e chamando\n",
    "\n",
    "Os métodos são **funções específicas de uma classe**, que só podem ser usadas após a criação de um objeto instância da classe.\n",
    "\n",
    "Assim, definimos os métodos dentro da classe, fazendo sempre referência à classe e seus atributos através do parâmetro self:"
   ]
  },
  {
   "cell_type": "code",
   "execution_count": 38,
   "metadata": {},
   "outputs": [],
   "source": [
    "class Pessoa:\n",
    "    def __init__(self, nome, personalidade, idade, altura, id_):\n",
    "        self.nome = nome\n",
    "        self.personalidade = personalidade\n",
    "        self.idade = idade\n",
    "        self.altura = altura\n",
    "        self.id = id_\n",
    "        self.salario = None\n",
    "    \n",
    "    def fala(self, texto):\n",
    "        print(self.nome, 'diz:', self.fala_tudo(texto))\n",
    "    \n",
    "    def fala_tudo(self, texto):\n",
    "        return 'blaaaaaaaaaaaa ' + texto"
   ]
  },
  {
   "cell_type": "markdown",
   "metadata": {},
   "source": [
    "#### Chamando o método, após instanciar a classe.\n",
    "\n",
    "O primeiro argumento do método, o \"self\", **é ignorado**! Ele é apenas usado para referenciair os atributos da classe!"
   ]
  },
  {
   "cell_type": "code",
   "execution_count": 39,
   "metadata": {},
   "outputs": [],
   "source": [
    "ana = Pessoa('Ana', 'carinhosa', 30, 1.70, 123)\n"
   ]
  },
  {
   "cell_type": "code",
   "execution_count": 40,
   "metadata": {},
   "outputs": [
    {
     "name": "stdout",
     "output_type": "stream",
     "text": [
      "Ana diz: blaaaaaaaaaaaa Olá mundo!\n"
     ]
    }
   ],
   "source": [
    "ana.fala('Olá mundo!')"
   ]
  },
  {
   "cell_type": "markdown",
   "metadata": {},
   "source": [
    "Vamos criar um método que altera diretamente um atributo:"
   ]
  },
  {
   "cell_type": "code",
   "execution_count": 41,
   "metadata": {},
   "outputs": [],
   "source": [
    "class Pessoa:\n",
    "    def __init__(self, nome, personalidade, idade, altura, id_):\n",
    "        self.nome = nome\n",
    "        self.personalidade = personalidade\n",
    "        self.idade = idade\n",
    "        self.altura = altura\n",
    "        self.id = id_\n",
    "        self.salario = 1000\n",
    "    \n",
    "    def fala(self, texto):\n",
    "        print(self.nome, 'diz:', self.fala_tudo(texto))\n",
    "    \n",
    "    def fala_tudo(self, texto):\n",
    "        return 'blaaaaaaaaaaaa ' + texto\n",
    "    \n",
    "    def aumenta_salario(self, porcentagem):\n",
    "        self.salario *= (1 + porcentagem / 100)"
   ]
  },
  {
   "cell_type": "code",
   "execution_count": 42,
   "metadata": {},
   "outputs": [
    {
     "data": {
      "text/plain": [
       "1000"
      ]
     },
     "execution_count": 42,
     "metadata": {},
     "output_type": "execute_result"
    }
   ],
   "source": [
    "ana = Pessoa('Ana', 'carinhosa', 30, 1.70, 123)\n",
    "ana.salario"
   ]
  },
  {
   "cell_type": "code",
   "execution_count": 43,
   "metadata": {},
   "outputs": [
    {
     "data": {
      "text/plain": [
       "2000.0"
      ]
     },
     "execution_count": 43,
     "metadata": {},
     "output_type": "execute_result"
    }
   ],
   "source": [
    "ana.aumenta_salario(100)\n",
    "ana.salario"
   ]
  },
  {
   "cell_type": "markdown",
   "metadata": {},
   "source": [
    "A este ponto, conseguimos reconhecer que já fizemos muito o uso de métodos e objetos.\n",
    "\n",
    "Por exemplo, para strings, usamos métodos como `.upper()`, `.lower()`, `.replace()`, etc.\n",
    "\n",
    "Isso mostra que `str`, `list` e `dict` são estruturas de classe! E, realmente, eles são! Nos bastidores do Python, muita coisa é feita com classes, sem que ao menos percebamos! E esse é uma das grandes vantagens desses métodos!"
   ]
  },
  {
   "cell_type": "code",
   "execution_count": 44,
   "metadata": {},
   "outputs": [
    {
     "data": {
      "text/plain": [
       "'BLA'"
      ]
     },
     "execution_count": 44,
     "metadata": {},
     "output_type": "execute_result"
    }
   ],
   "source": [
    "minha_str = 'Bla'\n",
    "minha_str.upper()"
   ]
  },
  {
   "cell_type": "code",
   "execution_count": null,
   "metadata": {},
   "outputs": [],
   "source": [
    "class Pessoa:\n",
    "    def __init__(self, nome, personalidade, idade, altura, id_):\n",
    "        self.nome = nome\n",
    "        self.personalidade = personalidade\n",
    "        self.idade = idade\n",
    "        self.altura = altura\n",
    "        self.id = id_\n",
    "        self.salario = 1000\n",
    "    \n",
    "    def fala(self, texto):\n",
    "        print(self.nome, 'diz:', self.fala_tudo(texto))\n",
    "    \n",
    "    def fala_tudo(self, texto):\n",
    "        return 'blaaaaaaaaaaaa ' + texto\n",
    "    \n",
    "    def aumenta_salario(self, porcentagem):\n",
    "        self.salario *= (1 + porcentagem / 100)"
   ]
  },
  {
   "cell_type": "markdown",
   "metadata": {},
   "source": [
    "### Exercicio\n",
    "\n",
    "Para o Robo criado acima, vamos definir os método `virar_direita()` e \n",
    "`virar_esquerda()`. Esses métodos irão fazer um robô trocar a sua posição, de \n",
    "acordo com a atual. Por exemplo:\n",
    "\n",
    "- Se um robô está olhando para o `n` e mandarmos ele `virar_esquerda()`, ele \n",
    "passará a olhar para o `o`;\n",
    "- Se um robô está olhando para o `l` e mandarmos ele `virar_direita()`, ele \n",
    "passará a olhar para o `s`.\n",
    "\n",
    "Agora, crie o método `avancar(i)`, que irá fazer o robô andar `i` posições no \n",
    "plano na direção que ele está olhando. Por exemplo:\n",
    "\n",
    "- Se um robô estiver na posição `(0, 0)` olhando para o `n` e mandarmos ele \n",
    "avançar `5` posições, ele deverá ir para a posição `(0, 5)`;\n",
    "- Se um robô estiver na posição `(0, 0)` olhando para o `s` e mandarmos ele\n",
    "avançar `3` posições, ele deverá ir para a posição `(0, -3)`;\n",
    "- Se um robô estiver na posição `(0, 0)` olhando para o `l` e mandarmos ele \n",
    "avançar `1` posições, ele deverá ir para a posição `(1, 0)`;\n",
    "- Se um robô estiver na posição `(0, 0)` olhando para o `o` e mandarmos ele \n",
    "avançar `7` posições, ele deverá ir para a posição `(-7, 0)`.\n",
    "\n",
    "Cria um método `distancia(r)` que recebe como parâmetro um segundo robô (`r`) \n",
    "e retorna a distância do primeiro (`self`) para segundo (`r`)."
   ]
  },
  {
   "cell_type": "code",
   "execution_count": null,
   "metadata": {},
   "outputs": [],
   "source": [
    "dist = ((x1-x2)**2 + (y1-y2)**2)**(0.5)"
   ]
  },
  {
   "cell_type": "code",
   "execution_count": 47,
   "metadata": {},
   "outputs": [
    {
     "name": "stdout",
     "output_type": "stream",
     "text": [
      "s 1 5\n",
      "l 1 5\n",
      "l 11 5\n"
     ]
    }
   ],
   "source": [
    "class Robot: \n",
    "    def __init__(self, x, y, direcao): \n",
    "        self.x = x \n",
    "        self.y = y \n",
    "        self.direcao = direcao\n",
    "    \n",
    "    def virar_esquerda(self):\n",
    "        move = {\n",
    "            'n': 'o',\n",
    "            'o': 's',\n",
    "            's': 'l',\n",
    "            'l': 'n'\n",
    "        }\n",
    "        self.direcao = move[self.direcao]\n",
    "        \n",
    "    def virar_direita(self): \n",
    "        move = { \n",
    "            'n': 'l', \n",
    "            'l': 's', \n",
    "            's': 'o', \n",
    "            'o': 'n', \n",
    "        }\n",
    "        self.direcao = move[self.direcao]\n",
    "    \n",
    "    def avancar(self, i):\n",
    "        if self.direcao == 'n':\n",
    "            self.y += i\n",
    "        elif self.direcao == 'l': \n",
    "            self.x += i\n",
    "        elif self.direcao == 's':\n",
    "            self.y -= i\n",
    "        else:\n",
    "            self.x -= i\n",
    "            \n",
    "r = Robot(1,5,'s')\n",
    "print(r.direcao, r.x, r.y)\n",
    "r.virar_esquerda()\n",
    "print(r.direcao, r.x, r.y)\n",
    "r.avancar(10) \n",
    "print(r.direcao, r.x, r.y)"
   ]
  },
  {
   "cell_type": "code",
   "execution_count": 48,
   "metadata": {},
   "outputs": [],
   "source": [
    "class Robot: \n",
    "    def __init__(self, posicao_x, posicao_y, direcao): \n",
    "        self.posicao_x = posicao_x \n",
    "        self.posicao_y = posicao_y \n",
    "        self.direcao = direcao \n",
    "        \n",
    "    def virar_esquerda(self):\n",
    "        move = { \n",
    "            'n':'o', \n",
    "            'o':'s', \n",
    "            's':'l', \n",
    "            'l':'n' \n",
    "        } \n",
    "        self.direcao = move[self.direcao] \n",
    "        \n",
    "    def virar_direita(self): \n",
    "        move = { \n",
    "            'n':'l', \n",
    "            'o':'n', \n",
    "            's':'o', \n",
    "            'l':'s' \n",
    "        } \n",
    "        self.direcao = move[self.direcao] \n",
    "        \n",
    "    def avancar(self,i): \n",
    "        if self.direcao == 'n': \n",
    "            self.posicao_y += i \n",
    "        elif self.direcao == 'l': \n",
    "            self.posicao_x += i \n",
    "        elif self.direcao == 's': \n",
    "            self.posicao_y -= i \n",
    "        else: self.posicao_x -= i "
   ]
  },
  {
   "cell_type": "markdown",
   "metadata": {},
   "source": [
    "_____\n",
    "_____\n",
    "_____"
   ]
  },
  {
   "cell_type": "markdown",
   "metadata": {},
   "source": [
    "## 3) Atributos e métodos estáticos\n",
    "\n",
    "Se quisermos criar atributos e métodos que pertençam **à classe**, e não exatamente a um objeto instanciado desta, usamos suas versões **estáticas**\n",
    "\n",
    "- Para criar um atributo estático, basta **criar uma variável (atribuindo um valor inicial a ela) dentro da classe**, mas **fora de qualquer um de seus métodos**;\n",
    "- Para criar um método estático, use antes de sua criação **@staticmethod**"
   ]
  },
  {
   "cell_type": "code",
   "execution_count": 73,
   "metadata": {},
   "outputs": [],
   "source": [
    "class Pessoa:\n",
    "    populacao = 0\n",
    "    def __init__(self, nome, personalidade, idade, altura, id_):\n",
    "        self.nome = nome\n",
    "        self.personalidade = personalidade\n",
    "        self.idade = idade\n",
    "        self.altura = altura\n",
    "        self.id = id_\n",
    "        self.salario = 1000\n",
    "        \n",
    "        Pessoa.populacao += 1\n",
    "    \n",
    "    def fala(self, texto):\n",
    "        print(self.nome, 'diz:', self.fala_tudo(texto))\n",
    "    \n",
    "    def fala_tudo(self, texto):\n",
    "        return 'blaaaaaaaaaaaa ' + texto\n",
    "    \n",
    "    def aumenta_salario(self, porcentagem):\n",
    "        self.salario *= (1 + porcentagem / 100)\n",
    "    \n",
    "    @staticmethod\n",
    "    def zera_populacao():\n",
    "        Pessoa.populacao = 0\n",
    "        \n",
    "    def mata_todo_mundo(self):\n",
    "        Pessoa.populacao = 1\n",
    "    \n",
    "    "
   ]
  },
  {
   "cell_type": "markdown",
   "metadata": {},
   "source": [
    "__Atributos estáticos podem ser acessados tanto pela classe quanto por algum objeto da classe__"
   ]
  },
  {
   "cell_type": "code",
   "execution_count": 74,
   "metadata": {},
   "outputs": [
    {
     "data": {
      "text/plain": [
       "(100, 2)"
      ]
     },
     "execution_count": 74,
     "metadata": {},
     "output_type": "execute_result"
    }
   ],
   "source": [
    "ana = Pessoa('Ana', 'carinhosa', 30, 1.70, 123)\n",
    "bob = Pessoa('Bob', 'carinhosa', 30, 1.70, 123)\n",
    "ana.populacao = 100\n",
    "ana.populacao, bob.populacao"
   ]
  },
  {
   "cell_type": "code",
   "execution_count": 75,
   "metadata": {},
   "outputs": [
    {
     "data": {
      "text/plain": [
       "2"
      ]
     },
     "execution_count": 75,
     "metadata": {},
     "output_type": "execute_result"
    }
   ],
   "source": [
    "# Pessoa.populacao = 1000\n",
    "Pessoa.populacao"
   ]
  },
  {
   "cell_type": "code",
   "execution_count": 69,
   "metadata": {},
   "outputs": [],
   "source": [
    "ana.mata_todo_mundo()"
   ]
  },
  {
   "cell_type": "code",
   "execution_count": 61,
   "metadata": {},
   "outputs": [
    {
     "data": {
      "text/plain": [
       "(100, 1000)"
      ]
     },
     "execution_count": 61,
     "metadata": {},
     "output_type": "execute_result"
    }
   ],
   "source": [
    "ana.populacao, bob.populacao"
   ]
  },
  {
   "cell_type": "code",
   "execution_count": 62,
   "metadata": {},
   "outputs": [
    {
     "data": {
      "text/plain": [
       "1001"
      ]
     },
     "execution_count": 62,
     "metadata": {},
     "output_type": "execute_result"
    }
   ],
   "source": [
    "carl = Pessoa('Carl', 'carinhosa', 30, 1.70, 123)\n",
    "carl.populacao"
   ]
  },
  {
   "cell_type": "code",
   "execution_count": 77,
   "metadata": {},
   "outputs": [],
   "source": [
    "Pessoa.zera_populacao()"
   ]
  },
  {
   "cell_type": "code",
   "execution_count": 78,
   "metadata": {},
   "outputs": [
    {
     "data": {
      "text/plain": [
       "0"
      ]
     },
     "execution_count": 78,
     "metadata": {},
     "output_type": "execute_result"
    }
   ],
   "source": [
    "Pessoa.populacao"
   ]
  },
  {
   "cell_type": "code",
   "execution_count": null,
   "metadata": {},
   "outputs": [],
   "source": [
    "class Pessoa:\n",
    "    populacao = 0\n",
    "    def __init__(self, nome, personalidade, idade, altura, id_):\n",
    "        self.nome = nome\n",
    "        self.personalidade = personalidade\n",
    "        self.idade = idade\n",
    "        self.altura = altura\n",
    "        self.id = id_\n",
    "        self.salario = 1000\n",
    "        \n",
    "        Pessoa.populacao += 1\n",
    "    \n",
    "    @staticmethod\n",
    "    def zera_populacao():\n",
    "        Pessoa.populacao = 0\n",
    "\n",
    "    "
   ]
  },
  {
   "cell_type": "markdown",
   "metadata": {},
   "source": [
    "### Exercicio\n",
    "Crie um metodo para a classe Robo que converte coordenadas cartesianas (x, y) para polares (r, $\\theta$). Lembrando que:\n",
    "\n",
    "$$r=\\sqrt{x^2+y^2}$$\n",
    "$$\\theta=atan2(y, x)$$"
   ]
  },
  {
   "cell_type": "code",
   "execution_count": 79,
   "metadata": {},
   "outputs": [],
   "source": [
    "import math\n",
    "math.atan2(10, 10)\n",
    "\n",
    "class Robot: \n",
    "    def __init__(self, posicao_x, posicao_y, direcao): \n",
    "        self.posicao_x = posicao_x \n",
    "        self.posicao_y = posicao_y \n",
    "        self.direcao = direcao \n",
    "        \n",
    "    def virar_esquerda(self):\n",
    "        move = { \n",
    "            'n':'o', \n",
    "            'o':'s', \n",
    "            's':'l', \n",
    "            'l':'n' \n",
    "        } \n",
    "        self.direcao = move[self.direcao] \n",
    "        \n",
    "    def virar_direita(self): \n",
    "        move = { \n",
    "            'n':'l', \n",
    "            'o':'n', \n",
    "            's':'o', \n",
    "            'l':'s' \n",
    "        } \n",
    "        self.direcao = move[self.direcao] \n",
    "        \n",
    "    def avancar(self,i): \n",
    "        if self.direcao == 'n': \n",
    "            self.posicao_y += i \n",
    "        elif self.direcao == 'l': \n",
    "            self.posicao_x += i \n",
    "        elif self.direcao == 's': \n",
    "            self.posicao_y -= i \n",
    "        else: self.posicao_x -= i \n",
    "            \n",
    "    @staticmethod \n",
    "    def coordenada_polar(posicao_x, posicao_y): \n",
    "        r = (posicao_x ** 2 + posicao_y ** 2) ** 0.5 \n",
    "        theta = math.atan2(posicao_y, posicao_x) \n",
    "        return r, theta   "
   ]
  },
  {
   "cell_type": "code",
   "execution_count": 80,
   "metadata": {},
   "outputs": [
    {
     "data": {
      "text/plain": [
       "(14.142135623730951, 0.7853981633974483)"
      ]
     },
     "execution_count": 80,
     "metadata": {},
     "output_type": "execute_result"
    }
   ],
   "source": [
    "Robot.coordenada_polar(10, 10)"
   ]
  },
  {
   "cell_type": "markdown",
   "metadata": {},
   "source": [
    "___\n",
    "___\n",
    "___"
   ]
  },
  {
   "cell_type": "markdown",
   "metadata": {},
   "source": [
    "## 4) Métodos mágicos\n",
    "\n",
    "https://docs.python.org/3/reference/datamodel.html\n",
    "\n",
    "Como o python entende que o sinal \"+\", quando aplicado à objetos da classe `str` deve **concatenar** as duas strings, ao invés de fazer alguma outra operação estranha de soma?\n",
    "\n",
    "Isso é feito a partir dos **métodos mágicos**\n",
    "\n",
    "Para ilustrar os usos desses métodos, vamos criar uma classe de horário:"
   ]
  },
  {
   "cell_type": "code",
   "execution_count": 81,
   "metadata": {},
   "outputs": [],
   "source": [
    "class Horario:\n",
    "    def __init__(self, h=0, m=0, s=0):\n",
    "        self.h = h\n",
    "        self.m = m\n",
    "        self.s = s"
   ]
  },
  {
   "cell_type": "code",
   "execution_count": 84,
   "metadata": {},
   "outputs": [
    {
     "data": {
      "text/plain": [
       "<__main__.Horario at 0x7ff2b600e280>"
      ]
     },
     "execution_count": 84,
     "metadata": {},
     "output_type": "execute_result"
    }
   ],
   "source": [
    "hora = Horario()\n",
    "hora"
   ]
  },
  {
   "cell_type": "markdown",
   "metadata": {},
   "source": [
    "### Método de representação\n",
    "\n",
    "O método `__repr__` é um método mágico que permite dar um \"print\" diretamente no objeto, segundo o formato estabelecido!\n",
    "\n",
    "Sem definir este método na classe, o print mostra apenas o endereço do método:"
   ]
  },
  {
   "cell_type": "code",
   "execution_count": 85,
   "metadata": {},
   "outputs": [
    {
     "name": "stdout",
     "output_type": "stream",
     "text": [
      "<__main__.Horario object at 0x7ff2b600e280>\n"
     ]
    }
   ],
   "source": [
    "print(hora)"
   ]
  },
  {
   "cell_type": "markdown",
   "metadata": {},
   "source": [
    "Mas, se redefinirmos a classe com o método de representação:"
   ]
  },
  {
   "cell_type": "code",
   "execution_count": 86,
   "metadata": {},
   "outputs": [],
   "source": [
    "class Horario:\n",
    "    def __init__(self, h=0, m=0, s=0):\n",
    "        self.h = h\n",
    "        self.m = m\n",
    "        self.s = s\n",
    "        \n",
    "    def __repr__(self):\n",
    "        representacao = '{:02d}:{:02d}:{:02d}'.format(self.h, self.m, self.s)\n",
    "        return representacao    "
   ]
  },
  {
   "cell_type": "code",
   "execution_count": 87,
   "metadata": {},
   "outputs": [
    {
     "name": "stdout",
     "output_type": "stream",
     "text": [
      "00:00:00\n"
     ]
    }
   ],
   "source": [
    "hora = Horario()\n",
    "print(hora)"
   ]
  },
  {
   "cell_type": "markdown",
   "metadata": {},
   "source": [
    "### Métodos aritméticos\n",
    "\n",
    "Como o \"+\" é entendido como concatenação entre objetos da classe `str`?\n",
    "\n",
    "Isso se faz através dos __métodos mágicos aritméticos__, que substituem os símbolos aritméticos pelas operações que forem definidas dentro da classe!\n",
    "\n",
    "Temos os seguintes métodos mágicos aritméticos:\n",
    "\n",
    "- \\__add\\__:  soma: +\n",
    "- \\__sub\\__:  subtração: -\n",
    "- \\__mul\\__:  multiplicação: *\n",
    "- \\__truediv\\__:  divisão: /\n",
    "- \\__floordiv\\__:  divisão inteira: //\n",
    "- \\__mod\\__:  resto de divisão: %\n",
    "- \\__pow\\__:  potência: **\n",
    "\n",
    "Vamos, a seguir, definir um método de soma de horas na nossa classe, que vai ser chamado pelo operador aritmético \"+\" (ou seja, será o método `__add__`)"
   ]
  },
  {
   "cell_type": "code",
   "execution_count": 88,
   "metadata": {},
   "outputs": [],
   "source": [
    "class Horario:\n",
    "    def __init__(self, h=0, m=0, s=0):\n",
    "        self.h = h\n",
    "        self.m = m\n",
    "        self.s = s\n",
    "        \n",
    "    def __repr__(self):\n",
    "        representacao = '{:02d}:{:02d}:{:02d}'.format(self.h, self.m, self.s)\n",
    "        return representacao   \n",
    "\n",
    "    def __add__(self, other):\n",
    "        # soma hora com hora, minuto com minuto e segundo com segundo\n",
    "        ho = self.h + other.h\n",
    "        mi = self.m + other.m\n",
    "        se = self.s + other.s\n",
    "\n",
    "        # corrige os segundos em excesso\n",
    "        if se >= 60:\n",
    "            se = se - 60\n",
    "            mi = mi + 1\n",
    "\n",
    "        # corrige os minutos em excesso\n",
    "        if mi >= 60:\n",
    "            mi = mi - 60\n",
    "            ho = ho + 1\n",
    "\n",
    "        # aqui, criamos um novo objeto da classe horario, com os atributos calculados acima\n",
    "        # (ou seja, com a soma dos dois horarios)\n",
    "        resultado = Horario(h=ho, m=mi, s=se)\n",
    "\n",
    "        # retornando o resultado, que é a soma dos dois horarios\n",
    "        return resultado"
   ]
  },
  {
   "cell_type": "code",
   "execution_count": 90,
   "metadata": {},
   "outputs": [
    {
     "data": {
      "text/plain": [
       "12:41:20"
      ]
     },
     "execution_count": 90,
     "metadata": {},
     "output_type": "execute_result"
    }
   ],
   "source": [
    "hora = Horario(10,20, 50)\n",
    "hora2 = Horario(2, 20, 30)\n",
    "hora + hora2"
   ]
  },
  {
   "cell_type": "markdown",
   "metadata": {},
   "source": [
    "### Métodos lógicos\n",
    "\n",
    "Da mesma forma que há metódos mágicos para operações aritméticas, há também para **operações lógicas!**\n",
    "\n",
    "Naturalmente, estes métodos retornaram True ou False.\n",
    "\n",
    "Os métodos lógicos são:\n",
    "\n",
    "- \\__gt\\__: maior que (greater than): >\n",
    "- \\__ge\\__: maior ou igual (greater or equal): >=\n",
    "- \\__lt\\__: menor que (less than): <\n",
    "- \\__le\\__: menor ou igual (less or equal): <=\n",
    "- \\__eq\\__: igual (equal): ==\n",
    "- \\__ne\\__: diferente (not equal): !=\n",
    "\n",
    "\n",
    "Como fazer um método para comparar dois horários?\n"
   ]
  },
  {
   "cell_type": "code",
   "execution_count": null,
   "metadata": {},
   "outputs": [],
   "source": []
  },
  {
   "cell_type": "code",
   "execution_count": null,
   "metadata": {},
   "outputs": [],
   "source": [
    "class Horario:\n",
    "    def __init__(self, h=0, m=0, s=0):\n",
    "        self.h = h\n",
    "        self.m = m\n",
    "        self.s = s\n",
    "        \n",
    "    def __repr__(self):\n",
    "        representacao = '{:02d}:{:02d}:{:02d}'.format(self.h, self.m, self.s)\n",
    "        return representacao   \n",
    "\n",
    "    def __add__(self, other):\n",
    "        # soma hora com hora, minuto com minuto e segundo com segundo\n",
    "        ho = self.h + other.h\n",
    "        mi = self.m + other.m\n",
    "        se = self.s + other.s\n",
    "\n",
    "        # corrige os segundos em excesso\n",
    "        if se >= 60:\n",
    "            se = se - 60\n",
    "            mi = mi + 1\n",
    "\n",
    "        # corrige os minutos em excesso\n",
    "        if mi >= 60:\n",
    "            mi = mi - 60\n",
    "            ho = ho + 1\n",
    "\n",
    "        # aqui, criamos um novo objeto da classe horario, com os atributos calculados acima\n",
    "        # (ou seja, com a soma dos dois horarios)\n",
    "        resultado = Horario(h=ho, m=mi, s=se)\n",
    "\n",
    "        # retornando o resultado, que é a soma dos dois horarios\n",
    "        return resultado"
   ]
  },
  {
   "cell_type": "markdown",
   "metadata": {},
   "source": [
    "### Exercicio\n",
    "Adicione o método `__repr__()` que retorna uma `string` que informa a posição do robô e em\n",
    "qual direção ele está olhando.\n"
   ]
  },
  {
   "cell_type": "code",
   "execution_count": 94,
   "metadata": {},
   "outputs": [
    {
     "name": "stdout",
     "output_type": "stream",
     "text": [
      "Posicao: (1.00, 5.00)\tOrientacão: s\n"
     ]
    }
   ],
   "source": [
    "class Robot: \n",
    "    def __init__(self, x, y, direcao): \n",
    "        self.x = x \n",
    "        self.y = y \n",
    "        self.direcao = direcao\n",
    "    \n",
    "    def virar_esquerda(self):\n",
    "        move = {\n",
    "            'n': 'o',\n",
    "            'o': 's',\n",
    "            's': 'l',\n",
    "            'l': 'n'\n",
    "        }\n",
    "        self.direcao = move[self.direcao]\n",
    "        \n",
    "    def virar_direita(self): \n",
    "        move = { \n",
    "            'n': 'l', \n",
    "            'l': 's', \n",
    "            's': 'o', \n",
    "            'o': 'n', \n",
    "        }\n",
    "        self.direcao = move[self.direcao]\n",
    "    \n",
    "    def avancar(self, i):\n",
    "        if self.direcao == 'n':\n",
    "            self.y += i\n",
    "        elif self.direcao == 'l': \n",
    "            self.x += i\n",
    "        elif self.direcao == 's':\n",
    "            self.y -= i\n",
    "        else:\n",
    "            self.x -= i\n",
    "\n",
    "    def __repr__(self): \n",
    "        representacao = \"Posicao: ({:.2f}, {:.2f})\\tOrientacão: {}\".format(self.x, self.y, self.direcao) \n",
    "        return representacao \n",
    "    \n",
    "r = Robot(1,5,'s')\n",
    "print(r)\n"
   ]
  },
  {
   "cell_type": "markdown",
   "metadata": {},
   "source": [
    "___\n",
    "___\n",
    "___"
   ]
  },
  {
   "cell_type": "markdown",
   "metadata": {},
   "source": [
    "## 5) Herança e Polimorfismo"
   ]
  },
  {
   "cell_type": "markdown",
   "metadata": {},
   "source": [
    "Imagine que você tenha várias classes com os mesmos atributos, os mesmos métodos e mesmos parâmetros. \n",
    "\n",
    "Reescrevê-los várias vezes é um desperdício de tempo! Além disso, se pecisarmos atualizar um método, precisaremos fazer a modificação múltiplas vezes. \n",
    "\n",
    "Para solucionar esta questão, trateremos dos conceitos de **herança** e **polimorfismo**.\n"
   ]
  },
  {
   "cell_type": "markdown",
   "metadata": {},
   "source": [
    "### Herança\n",
    "\n",
    "É possível criar **classes filhas** que herdem atributos e métodos de uma **classe mãe** através de **herança**.\n",
    "\n",
    "Para herdar, colocamos o **nome da classe mãe entre parênteses** na frente do nome da classe filha em sua definição.\n",
    "\n",
    "Se necessário, podemos redefinir um método na classe filha."
   ]
  },
  {
   "cell_type": "code",
   "execution_count": 97,
   "metadata": {},
   "outputs": [],
   "source": [
    "class Animal:\n",
    "    def __init__(self, nome):\n",
    "        self.nome = nome\n",
    "\n",
    "    def fala(self):\n",
    "        print(self.nome, 'faz barulho.')\n",
    "        \n",
    "        \n",
    "class Cachorro(Animal):\n",
    "    def fala(self):\n",
    "        print(self.nome, 'faz au au.')   \n",
    "        \n",
    "class Gato(Animal):\n",
    "    def fala(self):\n",
    "        print(self.nome, 'faz miau.')\n",
    "        \n",
    "class Dinossauro(Animal):\n",
    "    pass"
   ]
  },
  {
   "cell_type": "code",
   "execution_count": 99,
   "metadata": {},
   "outputs": [],
   "source": [
    "cachorrinho = Cachorro('Bidu')\n",
    "gatinho = Gato('Mingau')\n",
    "dino = Dinossauro('Horácio')"
   ]
  },
  {
   "cell_type": "code",
   "execution_count": 100,
   "metadata": {},
   "outputs": [
    {
     "name": "stdout",
     "output_type": "stream",
     "text": [
      "Bidu faz au au.\n",
      "Mingau faz miau.\n",
      "Horácio faz barulho.\n"
     ]
    }
   ],
   "source": [
    "cachorrinho.fala()\n",
    "gatinho.fala()\n",
    "dino.fala()"
   ]
  },
  {
   "cell_type": "markdown",
   "metadata": {},
   "source": [
    "Imagine agora que queremos herdar um método **parcialmente**, com a possibilidade de alterá-lo.\n",
    "\n",
    "(Isso é importante, pois se apenas copiássemos o método original, qualquer alteração nele teria de ser feita em todos os locais onde ele é copiado...)\n",
    "\n",
    "Para isso, usamos o método `super()`"
   ]
  },
  {
   "cell_type": "code",
   "execution_count": 102,
   "metadata": {},
   "outputs": [],
   "source": [
    "class Animal:\n",
    "    def __init__(self, nome):\n",
    "        self.nome = nome\n",
    "\n",
    "    def fala(self):\n",
    "        print(self.nome, 'faz barulho.')\n",
    "        \n",
    "        \n",
    "class Cachorro(Animal):\n",
    "    def fala(self):\n",
    "        super().fala()\n",
    "        print(self.nome, 'faz au au.')   \n",
    "        \n",
    "class Gato(Animal):\n",
    "    def fala(self):\n",
    "        print(self.nome, 'faz miau.')\n",
    "        \n",
    "class Dinossauro(Animal):\n",
    "    pass"
   ]
  },
  {
   "cell_type": "code",
   "execution_count": 105,
   "metadata": {},
   "outputs": [
    {
     "name": "stdout",
     "output_type": "stream",
     "text": [
      "Bidu faz barulho.\n",
      "Bidu faz au au.\n",
      "Mingau faz miau.\n",
      "Horácio faz barulho.\n"
     ]
    }
   ],
   "source": [
    "cachorrinho = Cachorro('Bidu')\n",
    "gatinho = Gato('Mingau')\n",
    "dino = Dinossauro('Horácio')\n",
    "cachorrinho.fala()\n",
    "gatinho.fala()\n",
    "dino.fala()"
   ]
  },
  {
   "cell_type": "markdown",
   "metadata": {},
   "source": [
    "### Polimorfismo\n",
    "\n",
    "Do grego, **\"várias formas\"**. A ideia é que um objeto de uma certa classe pode se comportar como objeto de outras classes. \n",
    "\n",
    "Mais especificamente, **objetos de uma classe filha podem também ser tratados como se pertencessem à classe mãe**.\n",
    "\n",
    "O método `isinstance` recebe 2 parâmetros: um objeto e uma classe. \n",
    "\n",
    "Ele retorna True caso o objeto pertenca à classe, e False caso não pertença."
   ]
  },
  {
   "cell_type": "code",
   "execution_count": 106,
   "metadata": {},
   "outputs": [],
   "source": [
    "def irrita_animal(animal):\n",
    "    animal.fala()\n"
   ]
  },
  {
   "cell_type": "code",
   "execution_count": 109,
   "metadata": {},
   "outputs": [
    {
     "name": "stdout",
     "output_type": "stream",
     "text": [
      "Horácio faz barulho.\n"
     ]
    }
   ],
   "source": [
    "irrita_animal(dino)"
   ]
  },
  {
   "cell_type": "code",
   "execution_count": 113,
   "metadata": {},
   "outputs": [
    {
     "data": {
      "text/plain": [
       "True"
      ]
     },
     "execution_count": 113,
     "metadata": {},
     "output_type": "execute_result"
    }
   ],
   "source": [
    "isinstance(gatinho, Animal)"
   ]
  },
  {
   "cell_type": "markdown",
   "metadata": {},
   "source": [
    "Isso é útil porque uma função que seja feita para lidar com Animal será capaz de lidar com qualquer classe herdeira de Animal com a mesma facilidade."
   ]
  },
  {
   "cell_type": "markdown",
   "metadata": {},
   "source": [
    "### Exercicio\n",
    "Vamo criar um robo rápido e um robo lento. Ambos vão ser subclasses de Robo. Elas devem implementar o método `avancar(i)`, avancando o dobro e a metade do valor de entrada, respectivamente. \n",
    "\n",
    "Depois, vamos criar uma função que aceita uma lista de movimentos do robo, com letras `r` ou `l` indicando as rotações e inteiros indicando movimentos. A função terá a seguinte assinatura:\n",
    "\n",
    "```python\n",
    "def executa_percurso(robo, percurso):\n",
    "    ...\n",
    "```"
   ]
  },
  {
   "cell_type": "markdown",
   "metadata": {},
   "source": [
    "___\n",
    "___\n",
    "___"
   ]
  },
  {
   "cell_type": "markdown",
   "metadata": {},
   "source": [
    "http://pythontutor.com/live.html#mode=edit"
   ]
  },
  {
   "cell_type": "code",
   "execution_count": 1,
   "metadata": {},
   "outputs": [],
   "source": [
    "d = {'a':[[1,2], False]}\n",
    "a = d['a']\n",
    "el0 = a[0]\n",
    "a = [10, 20]"
   ]
  },
  {
   "cell_type": "code",
   "execution_count": null,
   "metadata": {},
   "outputs": [],
   "source": []
  }
 ],
 "metadata": {
  "kernelspec": {
   "display_name": "Python 3",
   "language": "python",
   "name": "python3"
  },
  "language_info": {
   "codemirror_mode": {
    "name": "ipython",
    "version": 3
   },
   "file_extension": ".py",
   "mimetype": "text/x-python",
   "name": "python",
   "nbconvert_exporter": "python",
   "pygments_lexer": "ipython3",
   "version": "3.8.3"
  }
 },
 "nbformat": 4,
 "nbformat_minor": 4
}
