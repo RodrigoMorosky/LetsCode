{
 "metadata": {
  "language_info": {
   "codemirror_mode": {
    "name": "ipython",
    "version": 3
   },
   "file_extension": ".py",
   "mimetype": "text/x-python",
   "name": "python",
   "nbconvert_exporter": "python",
   "pygments_lexer": "ipython3",
   "version": "3.8.5-final"
  },
  "orig_nbformat": 2,
  "kernelspec": {
   "name": "python3",
   "display_name": "Python 3.8.5 64-bit",
   "metadata": {
    "interpreter": {
     "hash": "2462a5e6d325a4f7fb86b9687f65f4e6709c3b54df771fa1746f94613b41bdab"
    }
   }
  }
 },
 "nbformat": 4,
 "nbformat_minor": 2,
 "cells": [
  {
   "cell_type": "code",
   "execution_count": 2,
   "metadata": {},
   "outputs": [
    {
     "output_type": "stream",
     "name": "stdout",
     "text": [
      "Bem vindo ao Soma 2\n",
      "O resultado é  12.0\n"
     ]
    }
   ],
   "source": [
    "# execício 1 da segunda lista do class\n",
    "print('Bem vindo ao Soma 2')\n",
    "numero  = input('Digite um número') #colocar como float\n",
    "resultado = numero + 2 \n",
    "print('O resultado é ', resultado)"
   ]
  },
  {
   "cell_type": "code",
   "execution_count": 8,
   "metadata": {},
   "outputs": [
    {
     "output_type": "stream",
     "name": "stdout",
     "text": [
      "5\n4 10\n"
     ]
    }
   ],
   "source": [
    "a = 2\n",
    "b = 5\n",
    "print(b)\n",
    "a = 4\n",
    "b = 10\n",
    "print(a, b)"
   ]
  },
  {
   "cell_type": "code",
   "execution_count": 10,
   "metadata": {},
   "outputs": [
    {
     "output_type": "stream",
     "name": "stdout",
     "text": [
      "8.333333333333334\n"
     ]
    }
   ],
   "source": [
    "# Faça um programa que imprima a média de 3 numeros informados pelo usuário. Use while loop\n",
    "contador = 0\n",
    "valor = 0\n",
    "while contador <=2:\n",
    "    vlr = float(input(\"Digite um valor:\"))\n",
    "    valor = valor + vlr\n",
    "    contador +=1\n",
    "print(valor/contador)"
   ]
  },
  {
   "cell_type": "code",
   "execution_count": 19,
   "metadata": {},
   "outputs": [
    {
     "output_type": "stream",
     "name": "stdout",
     "text": [
      "3.0\n15\n5.0\n"
     ]
    }
   ],
   "source": [
    "# Faça um programa que imprima a média de n numeros, sendo n e os números informado pelo usuário.\n",
    "inicio = 0\n",
    "fim = float(input('Digite o valor final:'))\n",
    "soma = 0\n",
    "while inicio <= fim:\n",
    "    soma = soma + inicio\n",
    "    inicio +=1\n",
    "print(soma / fim)"
   ]
  },
  {
   "cell_type": "code",
   "execution_count": 21,
   "metadata": {},
   "outputs": [
    {
     "output_type": "stream",
     "name": "stdout",
     "text": [
      "Total de dias: 3\nDistância média por dia: 466.6666666666667\n"
     ]
    }
   ],
   "source": [
    "# Faça um programa que lê o número de km que um viajante percorre a cada dia. Quando a distancia total percorrida ultrapassar 1000km, o programa imprime o número total de dias que o viajante levou e a distância média percorrida por dia.\n",
    "distancia = 0\n",
    "dist_acum = 0\n",
    "dia = 0\n",
    "while dist_acum <= 1000:\n",
    "   distancia =float(input('Digite a distância em km:'))\n",
    "   dist_acum = dist_acum + distancia\n",
    "   dia +=1\n",
    "print('Total de dias: {}'.format(dia))\n",
    "print('Distância média por dia: {}'.format(dist_acum / dia))\n"
   ]
  },
  {
   "cell_type": "code",
   "execution_count": 8,
   "metadata": {},
   "outputs": [
    {
     "output_type": "execute_result",
     "data": {
      "text/plain": [
       "[10]"
      ]
     },
     "metadata": {},
     "execution_count": 8
    }
   ],
   "source": [
    "### Aula 4 ###\n",
    "# Listas e Loop for\n",
    "# lista = [x,y,z,1,True] -- \n",
    "# lista[inicio:fim(excluindo):passos]\n",
    "lista = []\n",
    "lista.append(10) # coloca um valor ao final da lista\n",
    "lista.insert(1,'pos1') # insere um valor na lista em uma posição específicia insert(posição, valor)\n",
    "lista.remove('pos1') #remove o primeiro valor encontrado na lista\n",
    "lista"
   ]
  },
  {
   "cell_type": "code",
   "execution_count": 12,
   "metadata": {},
   "outputs": [
    {
     "output_type": "stream",
     "name": "stdout",
     "text": [
      "[1, 4, 9, 16, 25]\n"
     ]
    }
   ],
   "source": [
    "# exercício de aula - \n",
    "lista0 = [1,2,3,4,5]\n",
    "lista1 = []\n",
    "for i in lista0:\n",
    "    lista1.append(i**2) # ou lista1 = lista1 + [i**2]\n",
    "print(lista1)"
   ]
  },
  {
   "cell_type": "code",
   "execution_count": 13,
   "metadata": {},
   "outputs": [
    {
     "output_type": "execute_result",
     "data": {
      "text/plain": [
       "[1, 4, 9, 16, 25]"
      ]
     },
     "metadata": {},
     "execution_count": 13
    }
   ],
   "source": [
    "# outra forma de fazer\n",
    "lista2 = [q**2 for q in lista0]\n",
    "lista2"
   ]
  },
  {
   "cell_type": "code",
   "execution_count": 14,
   "metadata": {},
   "outputs": [],
   "source": [
    "import tkinter"
   ]
  },
  {
   "cell_type": "code",
   "execution_count": 1,
   "metadata": {},
   "outputs": [
    {
     "output_type": "stream",
     "name": "stdout",
     "text": [
      "Pedra\nPapel\nTesoura\n"
     ]
    }
   ],
   "source": [
    "# LC | Listas e For\n",
    "# Crie uma lista qualquer e faça um programa que imprima cada elemento da lista usando o for.\n",
    "lista = ['Pedra','Papel','Tesoura']\n",
    "for el in lista:\n",
    "    print(el)"
   ]
  },
  {
   "cell_type": "code",
   "execution_count": 6,
   "metadata": {
    "tags": []
   },
   "outputs": [
    {
     "output_type": "stream",
     "name": "stdout",
     "text": [
      "Pedra\nPapel\nTesoura\n"
     ]
    }
   ],
   "source": [
    "# Faça um programa que imprima todos os itens de uma lista usando while e compare com o exercício 1.\n",
    "lista = ['Pedra','Papel','Tesoura']\n",
    "elemento = len(lista)\n",
    "item = 0\n",
    "while item < elemento:\n",
    "    print(lista[item])\n",
    "    item +=1"
   ]
  },
  {
   "cell_type": "code",
   "execution_count": 8,
   "metadata": {},
   "outputs": [
    {
     "output_type": "stream",
     "name": "stdout",
     "text": [
      "[0, 1, 2, 3, 4, 5, 6, 7, 8, 9]\n"
     ]
    }
   ],
   "source": [
    "# Faça um programa que peça para o usuário digitar um número n e imprima uma lista com todos os números de 0 a n-1.\n",
    "numero = int(input('Digite um número:'))\n",
    "n_numero = 0\n",
    "lista_numero = []\n",
    "while n_numero < numero:\n",
    "    lista_numero.append(n_numero)\n",
    "    n_numero +=1\n",
    "print(lista_numero)"
   ]
  },
  {
   "cell_type": "code",
   "execution_count": 9,
   "metadata": {},
   "outputs": [
    {
     "output_type": "stream",
     "name": "stdout",
     "text": [
      "4\n"
     ]
    }
   ],
   "source": [
    "# Faça um programa que olhe todos os itens de uma lista e diga quantos deles são pares.\n",
    "lista1 = [1, 2, 3, 4, 5, 6, 7, 8, 9]\n",
    "pares = 0\n",
    "for el in lista1:\n",
    "    if el %2 == 0:\n",
    "       pares +=1\n",
    "    else:\n",
    "        pass\n",
    "print(pares)"
   ]
  },
  {
   "cell_type": "code",
   "execution_count": 21,
   "metadata": {},
   "outputs": [
    {
     "output_type": "execute_result",
     "data": {
      "text/plain": [
       "[80]"
      ]
     },
     "metadata": {},
     "execution_count": 21
    }
   ],
   "source": [
    "# Faça um programa que imprima o maior número de uma lista, sem usar a função max().\n",
    "lista1 = [6,5,78,80,10]\n",
    "lista1.sort()\n",
    "maior = len(lista1)-1\n",
    "lista1[maior:]"
   ]
  },
  {
   "cell_type": "code",
   "execution_count": 26,
   "metadata": {},
   "outputs": [
    {
     "output_type": "stream",
     "name": "stdout",
     "text": [
      "80\n78\n10\n[6, 5]\n"
     ]
    }
   ],
   "source": [
    "# Agora usando a função max() faça um programa que imprima os três maiores números de uma lista.\n",
    "# Dica: Use o método próprio de listas .remove().\n",
    "lista1 = [6,5,78,80,10]\n",
    "maior = 0\n",
    "for i in range(3):\n",
    "    maior = max(lista1)\n",
    "    print(maior)\n",
    "    lista1.remove(maior)\n",
    "print(lista1)"
   ]
  },
  {
   "cell_type": "code",
   "execution_count": 27,
   "metadata": {},
   "outputs": [
    {
     "output_type": "execute_result",
     "data": {
      "text/plain": [
       "[21, 32, 43, 54, 65]"
      ]
     },
     "metadata": {},
     "execution_count": 27
    }
   ],
   "source": [
    "# Faça um programa que, dadas duas listas de mesmo tamanho, crie uma nova lista com cada elemento igual a soma dos elementos da lista 1 com os da lista 2, na mesma posição.\n",
    "lista_A = [1,2,3,4,5]\n",
    "lista_B = [20,30,40,50,60]\n",
    "lista_AB = []\n",
    "idx = 0\n",
    "for el in lista_A:\n",
    "   lista_AB.append(lista_A[idx] + lista_B[idx])\n",
    "   idx +=1\n",
    "lista_AB"
   ]
  },
  {
   "cell_type": "code",
   "execution_count": 28,
   "metadata": {},
   "outputs": [
    {
     "output_type": "stream",
     "name": "stdout",
     "text": [
      "700\n"
     ]
    }
   ],
   "source": [
    "# Faça um programa que dadas duas listas de mesmo tamanho, imprima o produto escalar entre elas.\n",
    "lista_A = [1,2,3,4,5]\n",
    "lista_B = [20,30,40,50,60]\n",
    "lista_AB = []\n",
    "idx = 0\n",
    "ultimo = len(lista_A)\n",
    "while idx < ultimo:\n",
    "    lista_AB.append(lista_A[idx] * lista_B[idx])\n",
    "    idx +=1\n",
    "print(sum(lista_AB))"
   ]
  },
  {
   "cell_type": "code",
   "execution_count": null,
   "metadata": {},
   "outputs": [],
   "source": []
  }
 ]
}