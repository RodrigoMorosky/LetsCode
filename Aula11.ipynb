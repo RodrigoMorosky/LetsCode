{
 "metadata": {
  "language_info": {
   "codemirror_mode": {
    "name": "ipython",
    "version": 3
   },
   "file_extension": ".py",
   "mimetype": "text/x-python",
   "name": "python",
   "nbconvert_exporter": "python",
   "pygments_lexer": "ipython3",
   "version": "3.8.5"
  },
  "orig_nbformat": 2,
  "kernelspec": {
   "name": "python3",
   "display_name": "Python 3.8.5 64-bit"
  },
  "metadata": {
   "interpreter": {
    "hash": "2462a5e6d325a4f7fb86b9687f65f4e6709c3b54df771fa1746f94613b41bdab"
   }
  },
  "interpreter": {
   "hash": "2462a5e6d325a4f7fb86b9687f65f4e6709c3b54df771fa1746f94613b41bdab"
  }
 },
 "nbformat": 4,
 "nbformat_minor": 2,
 "cells": [
  {
   "cell_type": "code",
   "execution_count": 3,
   "source": [
    "# Requests, json e API\r\n",
    "import requests\r\n",
    "import pandas as pd\r\n",
    "import json"
   ],
   "outputs": [],
   "metadata": {}
  },
  {
   "cell_type": "code",
   "execution_count": 5,
   "source": [
    "chave = '8a4b0ef1'\r\n",
    "api = 'http://www.omdbapi.com/?apikey={}&t={}'.format(chave,titulo)\r\n",
    "dic = requests.get(api)"
   ],
   "outputs": [],
   "metadata": {}
  },
  {
   "cell_type": "code",
   "execution_count": 4,
   "source": [
    "titulo = 'titanic'\r\n"
   ],
   "outputs": [],
   "metadata": {}
  },
  {
   "cell_type": "code",
   "execution_count": 5,
   "source": [
    "fil"
   ],
   "outputs": [
    {
     "output_type": "error",
     "ename": "NameError",
     "evalue": "name 'fil' is not defined",
     "traceback": [
      "\u001b[1;31m---------------------------------------------------------------------------\u001b[0m",
      "\u001b[1;31mNameError\u001b[0m                                 Traceback (most recent call last)",
      "\u001b[1;32m<ipython-input-5-96b47d69616f>\u001b[0m in \u001b[0;36m<module>\u001b[1;34m\u001b[0m\n\u001b[1;32m----> 1\u001b[1;33m \u001b[0mfil\u001b[0m\u001b[1;33m\u001b[0m\u001b[1;33m\u001b[0m\u001b[0m\n\u001b[0m",
      "\u001b[1;31mNameError\u001b[0m: name 'fil' is not defined"
     ]
    }
   ],
   "metadata": {}
  },
  {
   "cell_type": "code",
   "execution_count": 6,
   "source": [
    "dic.json()"
   ],
   "outputs": [
    {
     "output_type": "execute_result",
     "data": {
      "text/plain": [
       "{'Title': 'Titanic',\n",
       " 'Year': '1997',\n",
       " 'Rated': 'PG-13',\n",
       " 'Released': '19 Dec 1997',\n",
       " 'Runtime': '194 min',\n",
       " 'Genre': 'Drama, Romance',\n",
       " 'Director': 'James Cameron',\n",
       " 'Writer': 'James Cameron',\n",
       " 'Actors': 'Leonardo DiCaprio, Kate Winslet, Billy Zane',\n",
       " 'Plot': 'A seventeen-year-old aristocrat falls in love with a kind but poor artist aboard the luxurious, ill-fated R.M.S. Titanic.',\n",
       " 'Language': 'English, Swedish, Italian, French',\n",
       " 'Country': 'United States, Mexico, Australia',\n",
       " 'Awards': 'Won 11 Oscars. 125 wins & 83 nominations total',\n",
       " 'Poster': 'https://m.media-amazon.com/images/M/MV5BMDdmZGU3NDQtY2E5My00ZTliLWIzOTUtMTY4ZGI1YjdiNjk3XkEyXkFqcGdeQXVyNTA4NzY1MzY@._V1_SX300.jpg',\n",
       " 'Ratings': [{'Source': 'Internet Movie Database', 'Value': '7.8/10'},\n",
       "  {'Source': 'Metacritic', 'Value': '75/100'}],\n",
       " 'Metascore': '75',\n",
       " 'imdbRating': '7.8',\n",
       " 'imdbVotes': '1,087,852',\n",
       " 'imdbID': 'tt0120338',\n",
       " 'Type': 'movie',\n",
       " 'DVD': '08 Jan 2002',\n",
       " 'BoxOffice': '$659,363,944',\n",
       " 'Production': '20th Century Fox, Lightstorm Entertainment, Paramount Pictures',\n",
       " 'Website': 'N/A',\n",
       " 'Response': 'True'}"
      ]
     },
     "metadata": {},
     "execution_count": 6
    }
   ],
   "metadata": {}
  },
  {
   "cell_type": "code",
   "execution_count": 7,
   "source": [
    "a = dic.json()\r\n"
   ],
   "outputs": [],
   "metadata": {}
  },
  {
   "cell_type": "code",
   "execution_count": 8,
   "source": [
    "df = pd.DataFrame(a)"
   ],
   "outputs": [],
   "metadata": {}
  },
  {
   "cell_type": "code",
   "execution_count": 9,
   "source": [
    "df"
   ],
   "outputs": [
    {
     "output_type": "execute_result",
     "data": {
      "text/html": [
       "<div>\n",
       "<style scoped>\n",
       "    .dataframe tbody tr th:only-of-type {\n",
       "        vertical-align: middle;\n",
       "    }\n",
       "\n",
       "    .dataframe tbody tr th {\n",
       "        vertical-align: top;\n",
       "    }\n",
       "\n",
       "    .dataframe thead th {\n",
       "        text-align: right;\n",
       "    }\n",
       "</style>\n",
       "<table border=\"1\" class=\"dataframe\">\n",
       "  <thead>\n",
       "    <tr style=\"text-align: right;\">\n",
       "      <th></th>\n",
       "      <th>Title</th>\n",
       "      <th>Year</th>\n",
       "      <th>Rated</th>\n",
       "      <th>Released</th>\n",
       "      <th>Runtime</th>\n",
       "      <th>Genre</th>\n",
       "      <th>Director</th>\n",
       "      <th>Writer</th>\n",
       "      <th>Actors</th>\n",
       "      <th>Plot</th>\n",
       "      <th>...</th>\n",
       "      <th>Metascore</th>\n",
       "      <th>imdbRating</th>\n",
       "      <th>imdbVotes</th>\n",
       "      <th>imdbID</th>\n",
       "      <th>Type</th>\n",
       "      <th>DVD</th>\n",
       "      <th>BoxOffice</th>\n",
       "      <th>Production</th>\n",
       "      <th>Website</th>\n",
       "      <th>Response</th>\n",
       "    </tr>\n",
       "  </thead>\n",
       "  <tbody>\n",
       "    <tr>\n",
       "      <th>0</th>\n",
       "      <td>Titanic</td>\n",
       "      <td>1997</td>\n",
       "      <td>PG-13</td>\n",
       "      <td>19 Dec 1997</td>\n",
       "      <td>194 min</td>\n",
       "      <td>Drama, Romance</td>\n",
       "      <td>James Cameron</td>\n",
       "      <td>James Cameron</td>\n",
       "      <td>Leonardo DiCaprio, Kate Winslet, Billy Zane</td>\n",
       "      <td>A seventeen-year-old aristocrat falls in love ...</td>\n",
       "      <td>...</td>\n",
       "      <td>75</td>\n",
       "      <td>7.8</td>\n",
       "      <td>1,087,852</td>\n",
       "      <td>tt0120338</td>\n",
       "      <td>movie</td>\n",
       "      <td>08 Jan 2002</td>\n",
       "      <td>$659,363,944</td>\n",
       "      <td>20th Century Fox, Lightstorm Entertainment, Pa...</td>\n",
       "      <td>N/A</td>\n",
       "      <td>True</td>\n",
       "    </tr>\n",
       "    <tr>\n",
       "      <th>1</th>\n",
       "      <td>Titanic</td>\n",
       "      <td>1997</td>\n",
       "      <td>PG-13</td>\n",
       "      <td>19 Dec 1997</td>\n",
       "      <td>194 min</td>\n",
       "      <td>Drama, Romance</td>\n",
       "      <td>James Cameron</td>\n",
       "      <td>James Cameron</td>\n",
       "      <td>Leonardo DiCaprio, Kate Winslet, Billy Zane</td>\n",
       "      <td>A seventeen-year-old aristocrat falls in love ...</td>\n",
       "      <td>...</td>\n",
       "      <td>75</td>\n",
       "      <td>7.8</td>\n",
       "      <td>1,087,852</td>\n",
       "      <td>tt0120338</td>\n",
       "      <td>movie</td>\n",
       "      <td>08 Jan 2002</td>\n",
       "      <td>$659,363,944</td>\n",
       "      <td>20th Century Fox, Lightstorm Entertainment, Pa...</td>\n",
       "      <td>N/A</td>\n",
       "      <td>True</td>\n",
       "    </tr>\n",
       "  </tbody>\n",
       "</table>\n",
       "<p>2 rows × 25 columns</p>\n",
       "</div>"
      ],
      "text/plain": [
       "     Title  Year  Rated     Released  Runtime           Genre       Director  \\\n",
       "0  Titanic  1997  PG-13  19 Dec 1997  194 min  Drama, Romance  James Cameron   \n",
       "1  Titanic  1997  PG-13  19 Dec 1997  194 min  Drama, Romance  James Cameron   \n",
       "\n",
       "          Writer                                       Actors  \\\n",
       "0  James Cameron  Leonardo DiCaprio, Kate Winslet, Billy Zane   \n",
       "1  James Cameron  Leonardo DiCaprio, Kate Winslet, Billy Zane   \n",
       "\n",
       "                                                Plot  ... Metascore  \\\n",
       "0  A seventeen-year-old aristocrat falls in love ...  ...        75   \n",
       "1  A seventeen-year-old aristocrat falls in love ...  ...        75   \n",
       "\n",
       "  imdbRating  imdbVotes     imdbID   Type          DVD     BoxOffice  \\\n",
       "0        7.8  1,087,852  tt0120338  movie  08 Jan 2002  $659,363,944   \n",
       "1        7.8  1,087,852  tt0120338  movie  08 Jan 2002  $659,363,944   \n",
       "\n",
       "                                          Production Website Response  \n",
       "0  20th Century Fox, Lightstorm Entertainment, Pa...     N/A     True  \n",
       "1  20th Century Fox, Lightstorm Entertainment, Pa...     N/A     True  \n",
       "\n",
       "[2 rows x 25 columns]"
      ]
     },
     "metadata": {},
     "execution_count": 9
    }
   ],
   "metadata": {}
  }
 ]
}