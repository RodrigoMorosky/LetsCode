{
 "metadata": {
  "language_info": {
   "codemirror_mode": {
    "name": "ipython",
    "version": 3
   },
   "file_extension": ".py",
   "mimetype": "text/x-python",
   "name": "python",
   "nbconvert_exporter": "python",
   "pygments_lexer": "ipython3",
   "version": "3.8.5-final"
  },
  "orig_nbformat": 2,
  "kernelspec": {
   "name": "python3",
   "display_name": "Python 3.8.5 64-bit",
   "metadata": {
    "interpreter": {
     "hash": "2462a5e6d325a4f7fb86b9687f65f4e6709c3b54df771fa1746f94613b41bdab"
    }
   }
  }
 },
 "nbformat": 4,
 "nbformat_minor": 2,
 "cells": [
  {
   "cell_type": "code",
   "execution_count": 3,
   "metadata": {},
   "outputs": [
    {
     "output_type": "execute_result",
     "data": {
      "text/plain": [
       "['João', 'Maria', 'José', 'Carla', 'Lucas', 'Joana']"
      ]
     },
     "metadata": {},
     "execution_count": 3
    }
   ],
   "source": [
    "string = 'João,Maria,José,Carla,Lucas,Joana'\n",
    "resultado = string.split(',')\n",
    "resultado"
   ]
  },
  {
   "cell_type": "code",
   "execution_count": 8,
   "metadata": {},
   "outputs": [],
   "source": [
    "# Funções\n",
    "\n",
    "def cumprimenta (): # função sem argumento e sem return\n",
    "    print('Olá Mundo!')\n",
    "\n",
    "def meu_print(texto): # função com argumento e sem return\n",
    "    print(texto)\n",
    "\n",
    "def cumprimenta_horario(nome, horario):\n",
    "    if horario <12:\n",
    "        print(\"Bom dia {}\".format(nome))\n",
    "    elif horario <18:\n",
    "        print(\"Boa tarde {}\".format(nome))\n",
    "    else:\n",
    "        print(\"Boa noite {}\".format(nome))\n",
    "\n",
    "def soma(num1, num2):\n",
    "    total = num1 + num2\n",
    "    return total"
   ]
  },
  {
   "cell_type": "code",
   "execution_count": 9,
   "metadata": {},
   "outputs": [
    {
     "output_type": "stream",
     "name": "stdout",
     "text": [
      "Olá Mundo!\nRodrigo\nBom dia Erika\nBoa tarde Erika\nBoa noite Erika\n"
     ]
    },
    {
     "output_type": "execute_result",
     "data": {
      "text/plain": [
       "100"
      ]
     },
     "metadata": {},
     "execution_count": 9
    }
   ],
   "source": [
    "cumprimenta()\n",
    "meu_print('Rodrigo')\n",
    "cumprimenta_horario('Erika', 10)\n",
    "cumprimenta_horario('Erika', 15)\n",
    "cumprimenta_horario('Erika', 20)\n",
    "soma(10,90)"
   ]
  },
  {
   "cell_type": "code",
   "execution_count": 20,
   "metadata": {},
   "outputs": [],
   "source": [
    "def calculadora (num1, num2, operador):\n",
    "    if operador =='+':\n",
    "        calculo = num1 + num2\n",
    "    elif operador =='-':\n",
    "        calculo = num1 - num2\n",
    "    elif operador =='/':\n",
    "        calculo = num1 / num2\n",
    "    elif operador =='*':\n",
    "        calculo = num1 * num2\n",
    "    else:\n",
    "        calculo = num1 ** num2\n",
    "        raise ValueError('Essa operação não existe!')\n",
    "    return calculo"
   ]
  },
  {
   "cell_type": "code",
   "execution_count": 22,
   "metadata": {},
   "outputs": [
    {
     "output_type": "execute_result",
     "data": {
      "text/plain": [
       "4"
      ]
     },
     "metadata": {},
     "execution_count": 22
    }
   ],
   "source": [
    "calculadora(2,2,'+')"
   ]
  },
  {
   "cell_type": "code",
   "execution_count": 2,
   "metadata": {},
   "outputs": [
    {
     "output_type": "stream",
     "name": "stdout",
     "text": [
      "R\no\nd\nr\ni\ng\no\n"
     ]
    }
   ],
   "source": [
    "## STRINGS\n",
    "# Faça um programa que peça para o usuário digitar uma palavra e imprima cada letra em uma linha.\n",
    "palavra = input('Digite uma palavra:')\n",
    "for i in palavra:\n",
    "    print(i)"
   ]
  },
  {
   "cell_type": "code",
   "execution_count": 4,
   "metadata": {},
   "outputs": [
    {
     "output_type": "stream",
     "name": "stdout",
     "text": [
      "['R', 'o', 'd', 'r', 'i', 'g', 'o']\nRodrigo\n"
     ]
    }
   ],
   "source": [
    "# Faça um programa que pede para o usuário digitar uma palavra e cria uma nova string igual, copiando letra por letra a palavra digitada, depois imprima a nova string.\n",
    "palavra = input('Digite uma palavra:')\n",
    "palavra_2 = list(palavra)\n",
    "print(palavra_2)\n",
    "plvr = ''\n",
    "for i in palavra_2:\n",
    "    plvr = plvr + i\n",
    "print(plvr)"
   ]
  },
  {
   "cell_type": "code",
   "execution_count": 25,
   "metadata": {},
   "outputs": [
    {
     "output_type": "stream",
     "name": "stdout",
     "text": [
      "rodrigo\nRoDrIgO\n"
     ]
    }
   ],
   "source": [
    "# Altere o exercício anterior para que a string copiada alterne entre letras maiúsculas e minúsculas.\n",
    "palavra = input('Digite uma palavra:')\n",
    "palavra_2 = list(palavra)\n",
    "print(palavra)\n",
    "plvr = []\n",
    "\n",
    "for i in range(len(palavra_2)):\n",
    "    if i %2 == 0:\n",
    "        p = palavra_2[i].upper()\n",
    "        plvr.append(p)\n",
    "    else:\n",
    "        p = palavra_2[i].lower()\n",
    "        plvr.append(p)\n",
    "\n",
    "\n",
    "pal = ''\n",
    "for l in plvr:\n",
    "    pal = pal + l\n",
    "\n",
    "print(pal)"
   ]
  },
  {
   "cell_type": "code",
   "execution_count": 27,
   "metadata": {},
   "outputs": [
    {
     "output_type": "stream",
     "name": "stdout",
     "text": [
      "p y t h o n \n"
     ]
    }
   ],
   "source": [
    "palavra = input('Digite uma palavra:')\n",
    "palavra_3 = ''\n",
    "for i in palavra:\n",
    "    palavra_3 = palavra_3 + i + ' '\n",
    "print(palavra_3)"
   ]
  },
  {
   "cell_type": "code",
   "execution_count": 35,
   "metadata": {},
   "outputs": [
    {
     "output_type": "stream",
     "name": "stdout",
     "text": [
      "313f4n73\n"
     ]
    }
   ],
   "source": [
    "'''Faça uma função que receba uma string e retorne uma nova string substituindo:\n",
    "\n",
    "'a' por '4'\n",
    "\n",
    "'e' por '3'\n",
    "\n",
    "'I' por '1'\n",
    "\n",
    "'t' por '7'''\n",
    "\n",
    "def substituir(texto):\n",
    "    texto_2 = ''\n",
    "    for i in palavra:\n",
    "        if i == 'a' or i == 'e' or i == 'l' or i == 't':\n",
    "            texto_2 = texto.replace('a','4')\n",
    "            texto_2 = texto_2.replace('e','3')\n",
    "            texto_2 = texto_2.replace('l','1')\n",
    "            texto_2 = texto_2.replace('t','7')\n",
    "    return texto_2\n",
    "\n",
    "palavra = input('Digite uma palavra:')\n",
    "n_palavra = substituir(palavra)\n",
    "print(n_palavra)"
   ]
  },
  {
   "cell_type": "code",
   "execution_count": 37,
   "metadata": {},
   "outputs": [
    {
     "output_type": "stream",
     "name": "stdout",
     "text": [
      "teste\netset\n"
     ]
    }
   ],
   "source": [
    "# Faça uma função que recebe uma string e retorna ela ao contrário.\n",
    "def inverter_texto(texto):\n",
    "    texto_2 = ''\n",
    "    n = len(texto)-1\n",
    "    while n >=0:\n",
    "        texto_2 = texto_2 + texto[n]\n",
    "        n -=1\n",
    "    return texto_2\n",
    "\n",
    "palavra = input('Digite uma palavra:')\n",
    "palavra_invertida = inverter_texto(palavra)\n",
    "print(palavra)\n",
    "print(palavra_invertida)"
   ]
  },
  {
   "cell_type": "code",
   "execution_count": 39,
   "metadata": {},
   "outputs": [
    {
     "output_type": "stream",
     "name": "stdout",
     "text": [
      "Essa palavra não é um palíndromo!\n"
     ]
    }
   ],
   "source": [
    "# Agora faça uma função que recebe uma palavra e diz se ela é um palíndromo, ou seja, se ela é igual a ela mesma ao contrário.\n",
    "def palindromo(texto):\n",
    "    texto_2 = ''\n",
    "    n = len(texto)-1\n",
    "    while n >=0:\n",
    "        texto_2 = texto_2 + texto[n]\n",
    "        n -=1\n",
    "    if texto_2 == texto:\n",
    "        r = 'Essa palavra é um palíndromo!'\n",
    "    else:\n",
    "        r = 'Essa palavra não é um palíndromo!'\n",
    "    return r\n",
    "\n",
    "palavra = input('Digite uma palavra:')\n",
    "pali = palindromo(palavra)\n",
    "print(pali)"
   ]
  },
  {
   "cell_type": "code",
   "execution_count": 41,
   "metadata": {},
   "outputs": [
    {
     "output_type": "stream",
     "name": "stdout",
     "text": [
      "False\n"
     ]
    }
   ],
   "source": [
    "# Faça uma função que receba um texto e uma palavra, então verifique se a palavra está no texto, retornando True ou False.\n",
    "def procura_texto(texto, palavra):\n",
    "    n = texto.count(palavra)\n",
    "    if n >0:\n",
    "        return True\n",
    "    else:\n",
    "        return False\n",
    "\n",
    "txt = input('Digite o texto:')\n",
    "palavra = input('Digite a palavra a ser procurada no texto:')\n",
    "palavra_texto = procura_texto(txt, palavra)\n",
    "print(palavra_texto)"
   ]
  },
  {
   "cell_type": "code",
   "execution_count": 1,
   "metadata": {},
   "outputs": [
    {
     "output_type": "stream",
     "name": "stdout",
     "text": [
      " \n \n"
     ]
    }
   ],
   "source": [
    "# Faça uma função que receba uma string que contém tanto números quanto letras e caracteres especiais, e que separe as letras em uma variável e os números em outra (os caracteres especiais podem ser descartados). Ao final a função deve imprimir as duas variáveis.\n",
    "def separa_num_txt(texto):\n",
    "    letras = ''\n",
    "    numero = ''\n",
    "    for i in texto:\n",
    "        if i.isdigit():\n",
    "            numero = numero + i\n",
    "        elif i.isalpha():\n",
    "            letras = letras + i\n",
    "        else:\n",
    "            pass\n",
    "    return print(letras,'\\n', numero)\n",
    "\n",
    "txt = input('Digite o texto:')\n",
    "separa_num_txt(txt)"
   ]
  },
  {
   "cell_type": "code",
   "execution_count": null,
   "metadata": {},
   "outputs": [],
   "source": [
    "''' Desafio - Faça uma função que receba uma string e uma letra e:\n",
    "a. imprima quantas vezes a letra aparece na string;\n",
    "b. imprima todas as posições em que a letra aparece na string;\n",
    "c. retorne a distância entre a primeira e a última aparição dessa letra na string.'''\n"
   ]
  },
  {
   "cell_type": "code",
   "execution_count": null,
   "metadata": {},
   "outputs": [],
   "source": [
    "''' Super Desafio! - faça uma função que criptografa uma mensagem substituindo cada letra pela letra oposta do dicionário:\n",
    "'a' por 'z'\n",
    "'b' por 'y'\n",
    "'c' por 'x' '''\n"
   ]
  }
 ]
}