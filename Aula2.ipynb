{
 "metadata": {
  "language_info": {
   "codemirror_mode": {
    "name": "ipython",
    "version": 3
   },
   "file_extension": ".py",
   "mimetype": "text/x-python",
   "name": "python",
   "nbconvert_exporter": "python",
   "pygments_lexer": "ipython3",
   "version": "3.8.5-final"
  },
  "orig_nbformat": 2,
  "kernelspec": {
   "name": "python3",
   "display_name": "Python 3.8.5 64-bit",
   "metadata": {
    "interpreter": {
     "hash": "2462a5e6d325a4f7fb86b9687f65f4e6709c3b54df771fa1746f94613b41bdab"
    }
   }
  }
 },
 "nbformat": 4,
 "nbformat_minor": 2,
 "cells": [
  {
   "cell_type": "code",
   "execution_count": 3,
   "metadata": {},
   "outputs": [],
   "source": [
    "# perdi os arquivos até a aula 3\n",
    "# usei esse para fazer os exercícios do Class"
   ]
  },
  {
   "cell_type": "code",
   "execution_count": 5,
   "metadata": {},
   "outputs": [
    {
     "output_type": "stream",
     "name": "stdout",
     "text": [
      "Você ainda é menor de idade.\n"
     ]
    }
   ],
   "source": [
    "# Faça um programa que peça a idade do usuário e imprima se ele é maior ou menor de 18 anos.\n",
    "idade = int(input('Digite sua idade:'))\n",
    "if idade >=18:\n",
    "    print('Você é maior de idade.')\n",
    "else:\n",
    "    print('Você ainda é menor de idade.')"
   ]
  },
  {
   "cell_type": "code",
   "execution_count": 7,
   "metadata": {},
   "outputs": [
    {
     "output_type": "stream",
     "name": "stdout",
     "text": [
      "Este é um número negativo.\n"
     ]
    }
   ],
   "source": [
    "# Faça um programa que peça um número e mostre se ele é positivo ou negativo.\n",
    "numero = float(input('Digite um número:'))\n",
    "if numero >=0:\n",
    "    print('Este é um número positivo.')\n",
    "else:\n",
    "    print('Este é um número negativo.')"
   ]
  },
  {
   "cell_type": "code",
   "execution_count": 11,
   "metadata": {},
   "outputs": [
    {
     "output_type": "stream",
     "name": "stdout",
     "text": [
      "15.0\n"
     ]
    }
   ],
   "source": [
    "# Faça um programa que peça dois números e mostre o maior deles.\n",
    "num1 = float(input('Digite um valor:'))\n",
    "num2 = float(input('Digite outro valor:'))\n",
    "if num1 > num2:\n",
    "    print(num1)\n",
    "else:\n",
    "    print(num2)"
   ]
  },
  {
   "cell_type": "code",
   "execution_count": 3,
   "metadata": {
    "tags": []
   },
   "outputs": [
    {
     "output_type": "stream",
     "name": "stdout",
     "text": [
      "ERRO: Idade não pode ser menor que zero ou maior que 150\n",
      "ERRO: salário não pode ser menor que zero.\n",
      "ERRO: campo só recebe valor \"M\", \"F\" ou \"Outro\"\n"
     ]
    },
    {
     "output_type": "error",
     "ename": "KeyboardInterrupt",
     "evalue": "Interrupted by user",
     "traceback": [
      "\u001b[1;31m---------------------------------------------------------------------------\u001b[0m",
      "\u001b[1;31mKeyboardInterrupt\u001b[0m                         Traceback (most recent call last)",
      "\u001b[1;32m<ipython-input-3-2e45f1ffcee2>\u001b[0m in \u001b[0;36m<module>\u001b[1;34m\u001b[0m\n\u001b[0;32m     14\u001b[0m \u001b[1;32mwhile\u001b[0m \u001b[0msexo\u001b[0m\u001b[1;33m.\u001b[0m\u001b[0mupper\u001b[0m \u001b[1;33m!=\u001b[0m \u001b[1;34m'M'\u001b[0m \u001b[1;32mor\u001b[0m \u001b[0msexo\u001b[0m\u001b[1;33m.\u001b[0m\u001b[0mupper\u001b[0m \u001b[1;33m!=\u001b[0m \u001b[1;34m'F'\u001b[0m \u001b[1;32mor\u001b[0m \u001b[0msexo\u001b[0m\u001b[1;33m.\u001b[0m\u001b[0mupper\u001b[0m \u001b[1;33m!=\u001b[0m \u001b[1;34m'Outro'\u001b[0m\u001b[1;33m:\u001b[0m\u001b[1;33m\u001b[0m\u001b[1;33m\u001b[0m\u001b[0m\n\u001b[0;32m     15\u001b[0m     \u001b[0mprint\u001b[0m\u001b[1;33m(\u001b[0m\u001b[1;34m'ERRO: campo só recebe valor \"M\", \"F\" ou \"Outro\"'\u001b[0m\u001b[1;33m)\u001b[0m\u001b[1;33m\u001b[0m\u001b[1;33m\u001b[0m\u001b[0m\n\u001b[1;32m---> 16\u001b[1;33m     \u001b[0msexo\u001b[0m \u001b[1;33m=\u001b[0m \u001b[0mstr\u001b[0m\u001b[1;33m(\u001b[0m\u001b[0minput\u001b[0m\u001b[1;33m(\u001b[0m\u001b[1;34m'Digite o sexo:'\u001b[0m\u001b[1;33m)\u001b[0m\u001b[1;33m)\u001b[0m\u001b[1;33m\u001b[0m\u001b[1;33m\u001b[0m\u001b[0m\n\u001b[0m",
      "\u001b[1;32m~\\AppData\\Roaming\\Python\\Python38\\site-packages\\ipykernel\\kernelbase.py\u001b[0m in \u001b[0;36mraw_input\u001b[1;34m(self, prompt)\u001b[0m\n\u001b[0;32m    855\u001b[0m                 \u001b[1;34m\"raw_input was called, but this frontend does not support input requests.\"\u001b[0m\u001b[1;33m\u001b[0m\u001b[1;33m\u001b[0m\u001b[0m\n\u001b[0;32m    856\u001b[0m             )\n\u001b[1;32m--> 857\u001b[1;33m         return self._input_request(str(prompt),\n\u001b[0m\u001b[0;32m    858\u001b[0m             \u001b[0mself\u001b[0m\u001b[1;33m.\u001b[0m\u001b[0m_parent_ident\u001b[0m\u001b[1;33m,\u001b[0m\u001b[1;33m\u001b[0m\u001b[1;33m\u001b[0m\u001b[0m\n\u001b[0;32m    859\u001b[0m             \u001b[0mself\u001b[0m\u001b[1;33m.\u001b[0m\u001b[0m_parent_header\u001b[0m\u001b[1;33m,\u001b[0m\u001b[1;33m\u001b[0m\u001b[1;33m\u001b[0m\u001b[0m\n",
      "\u001b[1;32m~\\AppData\\Roaming\\Python\\Python38\\site-packages\\ipykernel\\kernelbase.py\u001b[0m in \u001b[0;36m_input_request\u001b[1;34m(self, prompt, ident, parent, password)\u001b[0m\n\u001b[0;32m    899\u001b[0m             \u001b[1;32mexcept\u001b[0m \u001b[0mKeyboardInterrupt\u001b[0m\u001b[1;33m:\u001b[0m\u001b[1;33m\u001b[0m\u001b[1;33m\u001b[0m\u001b[0m\n\u001b[0;32m    900\u001b[0m                 \u001b[1;31m# re-raise KeyboardInterrupt, to truncate traceback\u001b[0m\u001b[1;33m\u001b[0m\u001b[1;33m\u001b[0m\u001b[1;33m\u001b[0m\u001b[0m\n\u001b[1;32m--> 901\u001b[1;33m                 \u001b[1;32mraise\u001b[0m \u001b[0mKeyboardInterrupt\u001b[0m\u001b[1;33m(\u001b[0m\u001b[1;34m\"Interrupted by user\"\u001b[0m\u001b[1;33m)\u001b[0m \u001b[1;32mfrom\u001b[0m \u001b[1;32mNone\u001b[0m\u001b[1;33m\u001b[0m\u001b[1;33m\u001b[0m\u001b[0m\n\u001b[0m\u001b[0;32m    902\u001b[0m             \u001b[1;32mexcept\u001b[0m \u001b[0mException\u001b[0m \u001b[1;32mas\u001b[0m \u001b[0me\u001b[0m\u001b[1;33m:\u001b[0m\u001b[1;33m\u001b[0m\u001b[1;33m\u001b[0m\u001b[0m\n\u001b[0;32m    903\u001b[0m                 \u001b[0mself\u001b[0m\u001b[1;33m.\u001b[0m\u001b[0mlog\u001b[0m\u001b[1;33m.\u001b[0m\u001b[0mwarning\u001b[0m\u001b[1;33m(\u001b[0m\u001b[1;34m\"Invalid Message:\"\u001b[0m\u001b[1;33m,\u001b[0m \u001b[0mexc_info\u001b[0m\u001b[1;33m=\u001b[0m\u001b[1;32mTrue\u001b[0m\u001b[1;33m)\u001b[0m\u001b[1;33m\u001b[0m\u001b[1;33m\u001b[0m\u001b[0m\n",
      "\u001b[1;31mKeyboardInterrupt\u001b[0m: Interrupted by user"
     ]
    }
   ],
   "source": [
    "# Faça um programa que leia a validade das informações:\n",
    "idade = int(input('Digite a idade:'))\n",
    "\n",
    "while idade <0 or idade >150:\n",
    "    print('ERRO: Idade não pode ser menor que zero ou maior que 150')\n",
    "    idade = int(input('Digite a idade:'))\n",
    "\n",
    "salario = float(input('Digite o salário:'))\n",
    "while salario <0:\n",
    "    print('ERRO: salário não pode ser menor que zero.')\n",
    "    salario = float(input('Digite o salário:'))\n",
    "\n",
    "sexo = str(input('Digite o sexo (M, F ou Outro):'))\n",
    "while sexo.upper != 'M' or sexo.upper != 'F' or sexo.upper != 'Outro':\n",
    "    print('ERRO: campo só recebe valor \"M\", \"F\" ou \"Outro\"')\n",
    "    sexo = str(input('Digite o sexo:'))"
   ]
  },
  {
   "cell_type": "code",
   "execution_count": 5,
   "metadata": {},
   "outputs": [
    {
     "output_type": "stream",
     "name": "stdout",
     "text": [
      "Você foi reprovado!\n"
     ]
    }
   ],
   "source": [
    "#Escreva um programa que peça a nota de 3 provas de um aluno e verifique se ele passou ou não de ano.\n",
    "#Obs.: O aluno irá passar de ano se sua média for maior que 6.\n",
    "nota1 = float(input('Digite a primeira nota:'))\n",
    "nota2 = float(input('Digite a segunda nota:'))\n",
    "nota3 = float(input('Digite a terceira nota:'))\n",
    "media = (nota1 + nota2 + nota3) / 3\n",
    "if media <=6:\n",
    "    print('Você foi reprovado!')\n",
    "else:\n",
    "    print('Você foi aprovado!')"
   ]
  },
  {
   "cell_type": "code",
   "execution_count": 22,
   "metadata": {},
   "outputs": [
    {
     "output_type": "stream",
     "name": "stdout",
     "text": [
      "Quando você quer aprender programação quem você procura?\n",
      " 1 - Lets Code\n",
      " 2 - Show da Xuxa\n",
      " 3 - Escolinha do professor Raimundo\n",
      " 4 - Escola de Artes\n",
      " 5 - Escola dos X-man\n",
      "Você acertou respondendo 1!\n"
     ]
    }
   ],
   "source": [
    "# Faça um programa que mostre uma questão de múltipla escolha com 5 opções (letras a, b, c, d, e). Sabendo a resposta certa, o programa deve receber a opção do usuário e informar a letra que o usuário marcou e se a resposta está certa ou errada.\n",
    "questao = 'Quando você quer aprender programação quem você procura?\\n 1 - Lets Code\\n 2 - Show da Xuxa\\n 3 - Escolinha do professor Raimundo\\n 4 - Escola de Artes\\n 5 - Escola dos X-man'\n",
    "print(questao)\n",
    "resposta = int(input('Responda 1, 2, 3, 4 ou 5:'))\n",
    "\n",
    "if resposta == 1:\n",
    "    print('Você acertou respondendo 1!')\n",
    "else:\n",
    "    print('Você errou respondendo {}'.format(resposta))"
   ]
  },
  {
   "cell_type": "code",
   "execution_count": 26,
   "metadata": {},
   "outputs": [
    {
     "output_type": "stream",
     "name": "stdout",
     "text": [
      "O indivíduo é cúmplice.\n"
     ]
    }
   ],
   "source": [
    "'''Vamos fazer um programa para verificar quem é o assassino de um crime. Para descobrir o assassino, a polícia faz um pequeno questionário com 5 perguntas onde a resposta só pode ser sim ou não:\n",
    "\n",
    "a. Mora perto da vítima?\n",
    "\n",
    "b. Já trabalhou com a vítima?\n",
    "\n",
    "c. Telefonou para a vítima?\n",
    "\n",
    "d. Esteve no local do crime?\n",
    "\n",
    "e. Devia para a vítima?\n",
    "\n",
    "Cada resposta sim dá um ponto para o suspeito. A polícia considera que os suspeitos com 5 pontos são os assassinos, com 4 a 3 pontos são cúmplices e 2 pontos são apenas suspeitos, necessitando outras investigações. Valores iguais ou abaixo de 1 são liberados.'''\n",
    "inquerito = 0\n",
    "q1 = int(input('Você mora perto da vítima? (Digite 1 para sim e 0 para não)'))\n",
    "if q1 ==1:\n",
    "    inquerito +=1\n",
    "else:\n",
    "    pass\n",
    "q2 = int(input('Já trabalhou com a vítima? (Digite 1 para sim e 0 para não)'))\n",
    "if q2 ==1:\n",
    "    inquerito +=1\n",
    "else:\n",
    "    pass\n",
    "q3 = int(input('Telefonou para a vítima? (Digite 1 para sim e 0 para não)'))\n",
    "if q3 ==1:\n",
    "    inquerito +=1\n",
    "else:\n",
    "    pass\n",
    "q4 = int(input('Esteve no local do crime? (Digite 1 para sim e 0 para não)'))\n",
    "if q4 ==1:\n",
    "    inquerito +=1\n",
    "else:\n",
    "    pass\n",
    "q5 = int(input('Devia para a vítima? (Digite 1 para sim e 0 para não)'))\n",
    "if q5 ==1:\n",
    "    inquerito +=1\n",
    "else:\n",
    "    pass\n",
    "if inquerito ==5:\n",
    "    print('O indivíduo é o assassino.')\n",
    "elif inquerito == 4 or inquerito ==3:\n",
    "    print('O indivíduo é cúmplice.')\n",
    "else:\n",
    "    print('O indivíduo é apenas suspeito. É necessário que a investigação continue!')"
   ]
  },
  {
   "cell_type": "code",
   "execution_count": 29,
   "metadata": {},
   "outputs": [
    {
     "output_type": "stream",
     "name": "stdout",
     "text": [
      "O novo preço é 169.49999999999997 e está caro!\n"
     ]
    }
   ],
   "source": [
    "preco = float(input('Digite o preço antigo do produto:'))\n",
    "npreco = 0\n",
    "\n",
    "if preco <= 50:\n",
    "    npreco =preco * 1.05\n",
    "elif preco >50 and preco <=100:\n",
    "    npreco = preco * 1.1\n",
    "elif preco >100 and preco <=150:\n",
    "    npreco = preco * 1.13\n",
    "elif preco >150:\n",
    "    npreco = preco * 1.15\n",
    "\n",
    "if npreco <=80:\n",
    "    print('O novo preço é {} e está barato!'.format(npreco))\n",
    "elif npreco >80 and npreco <=115:\n",
    "    print('O novo preço é {} e está razoável.'.format(npreco))\n",
    "elif npreco >115 and npreco <=150:\n",
    "    print('O novo preço é {} e está normal.'.format(npreco))\n",
    "elif npreco >150 and npreco <=170:\n",
    "    print('O novo preço é {} e está caro!'.format(npreco))\n",
    "else:\n",
    "    print('O novo preço é {} e está muito caro!'.format(npreco))"
   ]
  },
  {
   "cell_type": "code",
   "execution_count": 40,
   "metadata": {},
   "outputs": [
    {
     "output_type": "stream",
     "name": "stdout",
     "text": [
      "[180.0, 4.0, 5.0]\n[180.0]\n"
     ]
    }
   ],
   "source": [
    "# Desafio 1 - Faça um programa que leia 3 números e informe o maior deles.\n",
    "lista = []\n",
    "for i in range(3):\n",
    "    numero = float(input('Digite um número:'))\n",
    "    lista.append(numero)\n",
    "\n",
    "lista.sort()\n",
    "print(lista[2:])\n"
   ]
  },
  {
   "cell_type": "code",
   "execution_count": 41,
   "metadata": {},
   "outputs": [
    {
     "output_type": "stream",
     "name": "stdout",
     "text": [
      "[180.0]\n"
     ]
    }
   ],
   "source": [
    "# Desafio 2 - Faça o mesmo programa do exercício anterior, porém com 4 números.\n",
    "lista = []\n",
    "for i in range(4):\n",
    "    numero = float(input('Digite um número:'))\n",
    "    lista.append(numero)\n",
    "\n",
    "lista.sort()\n",
    "print(lista[3:])\n"
   ]
  },
  {
   "cell_type": "code",
   "execution_count": 49,
   "metadata": {},
   "outputs": [
    {
     "output_type": "stream",
     "name": "stdout",
     "text": [
      "['não', 'não', 'não', 'não', 'não']\nSem doenças\n"
     ]
    }
   ],
   "source": [
    "'''Desafio 3 - Um hospital quer fazer o diagnóstico de gripe ou dengue a partir de um questionário de sintomas, tendo as perguntas abaixo, faça um programa que faça o diagnóstico deste hospital:\n",
    "\n",
    "a. Sente dor no corpo?\n",
    "\n",
    "b. Você tem febre?\n",
    "\n",
    "c. Você tem tosse?\n",
    "\n",
    "d. Está com congestão nasal?\n",
    "\n",
    "e. Tem manchas pelo corpo?\n",
    "\n",
    "Para o diagnóstico ele tem a seguinte tabela:\n",
    "\n",
    "A\tB\tC\tD\tE\tResultado\n",
    "Sim\tSim\tNão\tNão\tSim\tDengue\n",
    "Sim\tSim\tSim\tSim\tNão\tGripe\n",
    "Não\tSim\tSim\tSim\tNão\tGripe\n",
    "Sim\tNão\tNão\tNão\tNão\tSem doenças\n",
    "Não\tNão\tNão\tNão\tNão\tSem doenças'''\n",
    "perguntas = ['Sente dor no corpo?', 'Você tem febre?', 'Você tem tosse?', 'Está com congestão nasal?', 'Tem manchas pelo corpo?']\n",
    "respostas = []\n",
    "for p in perguntas:\n",
    "  a = input(p)\n",
    "  respostas.append(a)\n",
    "\n",
    "print(respostas)\n",
    "\n",
    "if respostas == ['sim','sim','não','não','sim']:\n",
    "    print('Dengue')\n",
    "elif respostas == ['sim','sim','sim','sim','não'] or respostas == ['não', 'sim','sim', 'sim','não']:\n",
    "    print('Gripe')\n",
    "elif respostas == ['sim','não','não','não','não'] or respostas == ['não','não','não','não','não']:\n",
    "    print('Sem doenças')"
   ]
  },
  {
   "cell_type": "code",
   "execution_count": null,
   "metadata": {},
   "outputs": [],
   "source": []
  }
 ]
}