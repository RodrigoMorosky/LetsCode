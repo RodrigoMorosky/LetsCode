{
 "metadata": {
  "language_info": {
   "codemirror_mode": {
    "name": "ipython",
    "version": 3
   },
   "file_extension": ".py",
   "mimetype": "text/x-python",
   "name": "python",
   "nbconvert_exporter": "python",
   "pygments_lexer": "ipython3",
   "version": "3.8.5-final"
  },
  "orig_nbformat": 2,
  "kernelspec": {
   "name": "python385jvsc74a57bd02462a5e6d325a4f7fb86b9687f65f4e6709c3b54df771fa1746f94613b41bdab",
   "display_name": "Python 3.8.5 64-bit"
  },
  "metadata": {
   "interpreter": {
    "hash": "2462a5e6d325a4f7fb86b9687f65f4e6709c3b54df771fa1746f94613b41bdab"
   }
  }
 },
 "nbformat": 4,
 "nbformat_minor": 2,
 "cells": [
  {
   "cell_type": "code",
   "execution_count": 1,
   "metadata": {},
   "outputs": [],
   "source": [
    "# Programação orientada a objeto POO\n"
   ]
  },
  {
   "cell_type": "code",
   "execution_count": null,
   "metadata": {},
   "outputs": [],
   "source": [
    "# Criando uma classe\n",
    "class NomeDaClasse:\n",
    "\n",
    "    #método construtor\n",
    "    def __init__(self, atributos):\n",
    "        # definição dos atributos\n",
    "        self.atributos = atributos\n",
    "\n",
    "    # definição de outros métodos\n",
    "    def metodo(self, paramentros):\n",
    "        operacoes\n",
    "    \n"
   ]
  },
  {
   "cell_type": "code",
   "execution_count": 20,
   "metadata": {},
   "outputs": [],
   "source": [
    "class Pessoa:\n",
    "    def __init__(self, personalidade, idade, altura, id_):\n",
    "        self.personalidade = personalidade\n",
    "        self.idade = idade\n",
    "        self.altura = altura\n",
    "        self.id = id_\n",
    "        self.salario = None\n",
    "\n",
    "    "
   ]
  },
  {
   "cell_type": "code",
   "execution_count": 22,
   "metadata": {},
   "outputs": [],
   "source": [
    "ana = Pessoa('nervosa', 28, 1.70, 123)\n",
    "bob = Pessoa('nervoso', 20, 1.80, 1234)"
   ]
  },
  {
   "cell_type": "code",
   "execution_count": 8,
   "metadata": {},
   "outputs": [
    {
     "output_type": "execute_result",
     "data": {
      "text/plain": [
       "28"
      ]
     },
     "metadata": {},
     "execution_count": 8
    }
   ],
   "source": [
    "ana.idade"
   ]
  },
  {
   "cell_type": "code",
   "execution_count": 9,
   "metadata": {},
   "outputs": [
    {
     "output_type": "execute_result",
     "data": {
      "text/plain": [
       "20"
      ]
     },
     "metadata": {},
     "execution_count": 9
    }
   ],
   "source": [
    "bob.idade"
   ]
  },
  {
   "cell_type": "code",
   "execution_count": 10,
   "metadata": {},
   "outputs": [],
   "source": [
    "ana.idade = 36"
   ]
  },
  {
   "cell_type": "code",
   "execution_count": 11,
   "metadata": {},
   "outputs": [
    {
     "output_type": "execute_result",
     "data": {
      "text/plain": [
       "36"
      ]
     },
     "metadata": {},
     "execution_count": 11
    }
   ],
   "source": [
    "ana.idade"
   ]
  },
  {
   "cell_type": "code",
   "execution_count": 14,
   "metadata": {},
   "outputs": [],
   "source": [
    "bob.salario = 1000"
   ]
  },
  {
   "cell_type": "code",
   "execution_count": 15,
   "metadata": {},
   "outputs": [
    {
     "output_type": "execute_result",
     "data": {
      "text/plain": [
       "1000"
      ]
     },
     "metadata": {},
     "execution_count": 15
    }
   ],
   "source": [
    "bob.salario"
   ]
  },
  {
   "cell_type": "code",
   "execution_count": 26,
   "metadata": {},
   "outputs": [],
   "source": [
    "ana.salario"
   ]
  },
  {
   "cell_type": "code",
   "execution_count": 29,
   "metadata": {},
   "outputs": [],
   "source": [
    "class Robot:\n",
    "    def __init__(self, posicao_x, posicao_y, direcao):\n",
    "        self.posicao_x = posicao_x\n",
    "        self.posicao_y = posicao_y\n",
    "        self.direcao = direcao"
   ]
  },
  {
   "cell_type": "code",
   "execution_count": 30,
   "metadata": {},
   "outputs": [],
   "source": [
    "walle = Robot(10, 3, 'S')"
   ]
  },
  {
   "cell_type": "code",
   "execution_count": 43,
   "metadata": {},
   "outputs": [],
   "source": [
    "class Pessoa:\n",
    "    def __init__(self, nome, personalidade, idade, altura, id_):\n",
    "        self.nome = nome\n",
    "        self.personalidade = personalidade\n",
    "        self.idade = idade\n",
    "        self.altura = altura\n",
    "        self.id = id_\n",
    "        self.salario = 1000\n",
    "\n",
    "    def fala(self, texto):\n",
    "        print(self.nome, 'diz:', texto)\n",
    "\n",
    "    def fala_tudo(self, texto):\n",
    "        return 'bla... bla...' + texto\n",
    "    \n",
    "    def aumenta_salario(self, porcentagem):\n",
    "        self.salario *= (1+ porcentagem / 100)\n"
   ]
  },
  {
   "cell_type": "code",
   "execution_count": 44,
   "metadata": {},
   "outputs": [],
   "source": [
    "jhon = Pessoa('Jhon', 'calmo', 38, 1.65, 12345)"
   ]
  },
  {
   "cell_type": "code",
   "execution_count": 45,
   "metadata": {},
   "outputs": [
    {
     "output_type": "stream",
     "name": "stdout",
     "text": [
      "Jhon diz: Olá mundo!\n"
     ]
    },
    {
     "output_type": "execute_result",
     "data": {
      "text/plain": [
       "'bla... bla...Muita doideira... bem abstrato ainda de entender!'"
      ]
     },
     "metadata": {},
     "execution_count": 45
    }
   ],
   "source": [
    "jhon.fala('Olá mundo!')\n",
    "jhon.fala_tudo('Muita doideira... bem abstrato ainda de entender!')"
   ]
  },
  {
   "cell_type": "code",
   "execution_count": 46,
   "metadata": {},
   "outputs": [],
   "source": [
    "jhon.aumenta_salario(32.58)"
   ]
  },
  {
   "cell_type": "code",
   "execution_count": 47,
   "metadata": {},
   "outputs": [
    {
     "output_type": "execute_result",
     "data": {
      "text/plain": [
       "1325.8000000000002"
      ]
     },
     "metadata": {},
     "execution_count": 47
    }
   ],
   "source": [
    "jhon.salario"
   ]
  },
  {
   "cell_type": "code",
   "execution_count": 63,
   "metadata": {},
   "outputs": [],
   "source": [
    "class Robot:\n",
    "    def __init__(self, posicao_x, posicao_y, direcao):\n",
    "        self.posicao_x = posicao_x\n",
    "        self.posicao_y = posicao_y\n",
    "        self.direcao = direcao\n",
    "    \n",
    "    def virar_esquerda(self):\n",
    "        move = {'n':'o','o':'s','s':'l','l':'n'}\n",
    "        self.direcao = move[self.direcao]\n",
    "\n",
    "    def virar_direita(self):\n",
    "       move = {'n':'l','o':'n','s':'o','l':'s'}\n",
    "       self.direcao = move[self.direcao]\n",
    "    \n",
    "    def avancar(self,i):\n",
    "        if self.direcao == 'n':\n",
    "            self.posicao_y += i\n",
    "        elif self.direcao == 'l':\n",
    "            self.posicao_x += i\n",
    "        elif self.direcao == 's':\n",
    "            self.posicao_y -= i\n",
    "        else:\n",
    "            self.posicao_x -= i\n"
   ]
  },
  {
   "cell_type": "code",
   "execution_count": 72,
   "metadata": {},
   "outputs": [],
   "source": [
    "# atributos estáticos\n",
    "class Pessoa:\n",
    "    populacao = 0\n",
    "    def __init__(self, nome, personalidade, idade, altura, id_):\n",
    "        self.nome = nome\n",
    "        self.personalidade = personalidade\n",
    "        self.idade = idade\n",
    "        self.altura = altura\n",
    "        self.id = id_\n",
    "        self.salario = 1000\n",
    "        Pessoa.populacao +=1 #cria um contador de pessoas criadas pela classe\n",
    "\n",
    "    def fala(self, texto):\n",
    "        print(self.nome, 'diz:', texto)\n",
    "\n",
    "    def fala_tudo(self, texto):\n",
    "        return 'bla... bla...' + texto\n",
    "    \n",
    "    def aumenta_salario(self, porcentagem):\n",
    "        self.salario *= (1+ porcentagem / 100)\n",
    "    \n",
    "    def mata_todo_mundo(self):\n",
    "        Pessoa.populacao = 1\n",
    "    \n",
    "    @staticmethod\n",
    "    def zera_populacao():\n",
    "        Pessoa.populacao = 0"
   ]
  },
  {
   "cell_type": "code",
   "execution_count": 70,
   "metadata": {},
   "outputs": [],
   "source": [
    "jhon = Pessoa('Jhon', 'calmo', 38, 1.65, 12345)\n",
    "ana = Pessoa('Ana','nervosa', 28, 1.70, 123)\n",
    "bob = Pessoa('Bob','nervoso', 20, 1.80, 1234)"
   ]
  },
  {
   "cell_type": "code",
   "execution_count": 71,
   "metadata": {},
   "outputs": [
    {
     "output_type": "execute_result",
     "data": {
      "text/plain": [
       "8"
      ]
     },
     "metadata": {},
     "execution_count": 71
    }
   ],
   "source": [
    "jhon.populacao\n",
    "ana.populacao\n",
    "bob.populacao"
   ]
  },
  {
   "cell_type": "code",
   "execution_count": 73,
   "metadata": {},
   "outputs": [],
   "source": [
    "Pessoa.zera_populacao()"
   ]
  },
  {
   "cell_type": "code",
   "execution_count": 74,
   "metadata": {},
   "outputs": [
    {
     "output_type": "execute_result",
     "data": {
      "text/plain": [
       "0"
      ]
     },
     "metadata": {},
     "execution_count": 74
    }
   ],
   "source": [
    "Pessoa.populacao"
   ]
  },
  {
   "cell_type": "code",
   "execution_count": 85,
   "metadata": {},
   "outputs": [],
   "source": [
    "import math\n",
    "class Robot:\n",
    "    def __init__(self, posicao_x, posicao_y, direcao):\n",
    "        self.posicao_x = posicao_x\n",
    "        self.posicao_y = posicao_y\n",
    "        self.direcao = direcao\n",
    "    \n",
    "    def virar_esquerda(self):\n",
    "        move = {'n':'o','o':'s','s':'l','l':'n'}\n",
    "        self.direcao = move[self.direcao]\n",
    "\n",
    "    def virar_direita(self):\n",
    "       move = {'n':'l','o':'n','s':'o','l':'s'}\n",
    "       self.direcao = move[self.direcao]\n",
    "    \n",
    "    def avancar(self,i):\n",
    "        if self.direcao == 'n':\n",
    "            self.posicao_y += i\n",
    "        elif self.direcao == 'l':\n",
    "            self.posicao_x += i\n",
    "        elif self.direcao == 's':\n",
    "            self.posicao_y -= i\n",
    "        else:\n",
    "            self.posicao_x -= i\n",
    "    \n",
    "    @staticmethod\n",
    "    def coordenada_polar(posicao_x, posicao_y):\n",
    "        r = (posicao_x **2 + posicao_y **2)**0.5\n",
    "        theta = math.atan2(posicao_y, posicao_x)\n",
    "        return r, theta\n",
    "\n",
    "    def __repr__(self):\n",
    "        localizacao = 'Posição: ({:.2f},{:.2f}) Orientação: {}'.format(self.posicao_x, self.posicao_y, self.direcao)\n",
    "        return localizacao"
   ]
  },
  {
   "cell_type": "code",
   "execution_count": 80,
   "metadata": {},
   "outputs": [
    {
     "output_type": "execute_result",
     "data": {
      "text/plain": [
       "(14.142135623730951, 0.7853981633974483)"
      ]
     },
     "metadata": {},
     "execution_count": 80
    }
   ],
   "source": [
    "Robot.coordenada_polar(10,10)"
   ]
  },
  {
   "cell_type": "code",
   "execution_count": 81,
   "metadata": {},
   "outputs": [],
   "source": [
    "# Metodo mágico\n",
    "class Horario:\n",
    "    def __init__(self, h=0, m=0, s=0):\n",
    "        self.h = h\n",
    "        self.m = m\n",
    "        self.s = s\n",
    "    \n",
    "    def __repr__(self):\n",
    "        representacao = '{:02d}:{:02d}:{:02d}'.format(self.h, self.m, self.s)\n",
    "        return representacao"
   ]
  },
  {
   "cell_type": "code",
   "execution_count": 13,
   "metadata": {},
   "outputs": [],
   "source": [
    "# Crie uma classe Bola cujos atributos são cor e raio. Crie um método que imprime a cor da bola. Crie um método para calcular a área dessa bola. Crie um método para calcular o volume da bola. Crie um objeto dessa classe e calcule a área e o volume, imprimindo ambos em seguida.\n",
    "\n",
    "class Bola:\n",
    "    def __init__(self, cor, raio):\n",
    "        self.cor = cor\n",
    "        self.raio = raio\n",
    "    \n",
    "    def area_bola(self):\n",
    "        area = 4 * 3.14 * self.raio **2\n",
    "        return area\n",
    "    \n",
    "    def volume_bola(self):\n",
    "        volume = 4 * 3.14 * self.raio ** 3 /3\n",
    "        return volume"
   ]
  },
  {
   "cell_type": "code",
   "execution_count": 14,
   "metadata": {},
   "outputs": [],
   "source": [
    "Bola_amarela = Bola('amarela', 5)"
   ]
  },
  {
   "cell_type": "code",
   "execution_count": 15,
   "metadata": {},
   "outputs": [
    {
     "output_type": "execute_result",
     "data": {
      "text/plain": [
       "5"
      ]
     },
     "metadata": {},
     "execution_count": 15
    }
   ],
   "source": [
    "Bola_amarela.raio"
   ]
  },
  {
   "cell_type": "code",
   "execution_count": 21,
   "metadata": {},
   "outputs": [
    {
     "output_type": "execute_result",
     "data": {
      "text/plain": [
       "523.3333333333334"
      ]
     },
     "metadata": {},
     "execution_count": 21
    }
   ],
   "source": [
    "Bola_amarela.area_bola()\n",
    "Bola_amarela.volume_bola()"
   ]
  },
  {
   "cell_type": "code",
   "execution_count": 1,
   "metadata": {},
   "outputs": [],
   "source": [
    "#Crie uma classe Retângulo cujos atributos são lado_a e lado_b. Crie um método para calcular a área desse retângulo. Crie um objeto dessa classe e calcule a área e a imprima em seguida.\n",
    "class retangulo:\n",
    "    def __init__(self, lado_a, lado_b):\n",
    "        self.lado_a = lado_a\n",
    "        self.lado_b = lado_b\n",
    "    \n",
    "    def area_retangulo(self):\n",
    "        area = self.lado_a * self.lado_b\n",
    "        return area"
   ]
  },
  {
   "cell_type": "code",
   "execution_count": 2,
   "metadata": {},
   "outputs": [],
   "source": [
    "retangulo_primeiro = retangulo(10,50)"
   ]
  },
  {
   "cell_type": "code",
   "execution_count": 3,
   "metadata": {},
   "outputs": [
    {
     "output_type": "execute_result",
     "data": {
      "text/plain": [
       "500"
      ]
     },
     "metadata": {},
     "execution_count": 3
    }
   ],
   "source": [
    "retangulo_primeiro.area_retangulo()"
   ]
  },
  {
   "cell_type": "code",
   "execution_count": 5,
   "metadata": {},
   "outputs": [],
   "source": [
    "#Crie uma classe Funcionario cujos atributos são nome e e-mail. Guarde as horas trabalhadas em um dicionário cujas chaves são o mês em questão e, em outro dicionário, guarde o salário por hora relativo ao mês em questão. Crie um método que retorna o salário mensal do funcionário.\n",
    "class funcionario:\n",
    "    def __init__(self, Nome, Email):\n",
    "        self.Nome = Nome\n",
    "        self.Email = Email\n",
    "        hora_trabalho = {'abril':'hora_trabalho'}\n",
    "        salario_hora = {'abril':'salario_hora'}\n",
    "\n",
    "    def salario_mes(self):\n",
    "        salario = hora_trabalho * salario_hora\n",
    "        return salario"
   ]
  },
  {
   "cell_type": "code",
   "execution_count": null,
   "metadata": {},
   "outputs": [],
   "source": []
  }
 ]
}