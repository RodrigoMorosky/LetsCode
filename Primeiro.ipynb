{
 "metadata": {
  "language_info": {
   "codemirror_mode": {
    "name": "ipython",
    "version": 3
   },
   "file_extension": ".py",
   "mimetype": "text/x-python",
   "name": "python",
   "nbconvert_exporter": "python",
   "pygments_lexer": "ipython3",
   "version": "3.8.5"
  },
  "orig_nbformat": 2,
  "kernelspec": {
   "name": "python385jvsc74a57bd02462a5e6d325a4f7fb86b9687f65f4e6709c3b54df771fa1746f94613b41bdab",
   "display_name": "Python 3.8.5 64-bit"
  },
  "metadata": {
   "interpreter": {
    "hash": "2462a5e6d325a4f7fb86b9687f65f4e6709c3b54df771fa1746f94613b41bdab"
   }
  }
 },
 "nbformat": 4,
 "nbformat_minor": 2,
 "cells": [
  {
   "cell_type": "code",
   "execution_count": 1,
   "metadata": {},
   "outputs": [],
   "source": [
    "import bs4\n",
    "#import xml.etree.ElementTree as et\n",
    "from lxml import etree\n",
    "import pandas as pd\n",
    "import os"
   ]
  },
  {
   "cell_type": "code",
   "execution_count": 35,
   "metadata": {},
   "outputs": [
    {
     "output_type": "stream",
     "name": "stderr",
     "text": [
      "C:\\Users\\rodri\\AppData\\Local\\Programs\\Python\\Python38\\lib\\site-packages\\bs4\\__init__.py:332: MarkupResemblesLocatorWarning: \"32210405974276000194550010003266491001224468-NF-e.xml\" looks like a filename, not markup. You should probably open this file and pass the filehandle into Beautiful Soup.\n  warnings.warn(\n"
     ]
    }
   ],
   "source": [
    "arquivo = '32210405974276000194550010003266491001224468-NF-e.xml'\n",
    "#tree = etree.parse(arquivo)\n",
    "leitura = bs4.BeautifulSoup(arquivo, 'lxml')"
   ]
  },
  {
   "cell_type": "code",
   "execution_count": 36,
   "metadata": {},
   "outputs": [],
   "source": [
    "with open(arquivo) as f:\n",
    "    leitura = bs4.BeautifulSoup(f, 'lxml')"
   ]
  },
  {
   "cell_type": "code",
   "execution_count": 10,
   "metadata": {},
   "outputs": [
    {
     "output_type": "stream",
     "name": "stdout",
     "text": [
      "<html>\n <body>\n  <nfeproc versao=\"4.00\" xmlns=\"http://www.portalfiscal.inf.br/nfe\">\n   <nfe xmlns=\"http://www.portalfiscal.inf.br/nfe\">\n    <infnfe id=\"NFe32210405974276000194550010003266491001224468\" versao=\"4.00\">\n     <ide>\n      <cuf>\n       32\n      </cuf>\n      <cnf>\n       00122446\n      </cnf>\n      <natop>\n       VENDA MERCAD. COMERCIALIZACAO\n      </natop>\n      <mod>\n       55\n      </mod>\n      <serie>\n       1\n      </serie>\n      <nnf>\n       326649\n      </nnf>\n      <dhemi>\n       2021-04-06T13:48:21-03:00\n      </dhemi>\n      <dhsaient>\n       2021-04-06T13:48:21-03:00\n      </dhsaient>\n      <tpnf>\n       1\n      </tpnf>\n      <iddest>\n       1\n      </iddest>\n      <cmunfg>\n       3205200\n      </cmunfg>\n      <tpimp>\n       1\n      </tpimp>\n      <tpemis>\n       1\n      </tpemis>\n      <cdv>\n       8\n      </cdv>\n      <tpamb>\n       1\n      </tpamb>\n      <finnfe>\n       1\n      </finnfe>\n      <indfinal>\n       0\n      </indfinal>\n      <indpres>\n       3\n      </indpres>\n      <procemi>\n       0\n      </procemi>\n      <verproc>\n       ACIM 4.00\n      </verproc>\n     </ide>\n     <emit>\n      <cnpj>\n       05974276000194\n      </cnpj>\n      <xnome>\n       FRINCARNES FRIGORIF INDUSTR DE CARNES DO ES EIRELI\n      </xnome>\n      <xfant>\n       FRIGORIFICO FRINCARNES\n      </xfant>\n      <enderemit>\n       <xlgr>\n        RUA JOSE ROSALEM\n       </xlgr>\n       <nro>\n        5\n       </nro>\n       <xbairro>\n        SANTA INES\n       </xbairro>\n       <cmun>\n        3205200\n       </cmun>\n       <xmun>\n        VILA VELHA\n       </xmun>\n       <uf>\n        ES\n       </uf>\n       <cep>\n        29105645\n       </cep>\n       <cpais>\n        1058\n       </cpais>\n       <xpais>\n        BRASIL\n       </xpais>\n       <fone>\n        2733910985\n       </fone>\n      </enderemit>\n      <ie>\n       082244731\n      </ie>\n      <crt>\n       3\n      </crt>\n     </emit>\n     <dest>\n      <cnpj>\n       27151620000188\n      </cnpj>\n      <xnome>\n       SUPERMERCADO BOBBIO LTDA\n      </xnome>\n      <enderdest>\n       <xlgr>\n        AVE ANGELO SUZANO,578\n       </xlgr>\n       <nro>\n        00000\n       </nro>\n       <xbairro>\n        CENTRO\n       </xbairro>\n       <cmun>\n        3205010\n       </cmun>\n       <xmun>\n        SOORETAMA\n       </xmun>\n       <uf>\n        ES\n       </uf>\n       <cep>\n        29927000\n       </cep>\n       <cpais>\n        1058\n       </cpais>\n       <xpais>\n        BRASIL\n       </xpais>\n       <fone>\n        2732731104\n       </fone>\n      </enderdest>\n      <indiedest>\n       1\n      </indiedest>\n      <ie>\n       080308660\n      </ie>\n     </dest>\n     <det nitem=\"1\">\n      <prod>\n       <cprod>\n        2\n       </cprod>\n       <cean>\n        SEM GTIN\n       </cean>\n       <xprod>\n        CARNE BOVINA DIANTEIRO\n       </xprod>\n       <ncm>\n        02012010\n       </ncm>\n       <cest>\n        1708400\n       </cest>\n       <cfop>\n        5403\n       </cfop>\n       <ucom>\n        KG\n       </ucom>\n       <qcom>\n        70.9000\n       </qcom>\n       <vuncom>\n        19.000000\n       </vuncom>\n       <vprod>\n        1347.10\n       </vprod>\n       <ceantrib>\n       </ceantrib>\n       <utrib>\n        KG\n       </utrib>\n       <qtrib>\n        70.9000\n       </qtrib>\n       <vuntrib>\n        19.000000\n       </vuntrib>\n       <indtot>\n        1\n       </indtot>\n       <xped>\n        0\n       </xped>\n       <nitemped>\n        1\n       </nitemped>\n      </prod>\n      <imposto>\n       <icms>\n        <icms70>\n         <orig>\n          0\n         </orig>\n         <cst>\n          70\n         </cst>\n         <modbc>\n          0\n         </modbc>\n         <predbc>\n          58.82\n         </predbc>\n         <vbc>\n          554.69\n         </vbc>\n         <picms>\n          17.00\n         </picms>\n         <vicms>\n          94.30\n         </vicms>\n         <modbcst>\n          4\n         </modbcst>\n         <pmvast>\n          11.38\n         </pmvast>\n         <predbcst>\n          58.82\n         </predbcst>\n         <vbcst>\n          617.82\n         </vbcst>\n         <picmsst>\n          17.00\n         </picmsst>\n         <vicmsst>\n          10.73\n         </vicmsst>\n        </icms70>\n       </icms>\n       <pis>\n        <pisnt>\n         <cst>\n          06\n         </cst>\n        </pisnt>\n       </pis>\n       <cofins>\n        <cofinsnt>\n         <cst>\n          06\n         </cst>\n        </cofinsnt>\n       </cofins>\n      </imposto>\n     </det>\n     <det nitem=\"2\">\n      <prod>\n       <cprod>\n        1\n       </cprod>\n       <cean>\n        SEM GTIN\n       </cean>\n       <xprod>\n        CARNE BOVINA TRASEIRO\n       </xprod>\n       <ncm>\n        02012020\n       </ncm>\n       <cest>\n        1708400\n       </cest>\n       <cfop>\n        5403\n       </cfop>\n       <ucom>\n        KG\n       </ucom>\n       <qcom>\n        143.7000\n       </qcom>\n       <vuncom>\n        26.000000\n       </vuncom>\n       <vprod>\n        3736.20\n       </vprod>\n       <ceantrib>\n       </ceantrib>\n       <utrib>\n        KG\n       </utrib>\n       <qtrib>\n        143.7000\n       </qtrib>\n       <vuntrib>\n        26.000000\n       </vuntrib>\n       <indtot>\n        1\n       </indtot>\n       <xped>\n        0\n       </xped>\n       <nitemped>\n        2\n       </nitemped>\n      </prod>\n      <imposto>\n       <icms>\n        <icms70>\n         <orig>\n          0\n         </orig>\n         <cst>\n          70\n         </cst>\n         <modbc>\n          0\n         </modbc>\n         <predbc>\n          58.82\n         </predbc>\n         <vbc>\n          1538.44\n         </vbc>\n         <picms>\n          17.00\n         </picms>\n         <vicms>\n          261.53\n         </vicms>\n         <modbcst>\n          4\n         </modbcst>\n         <pmvast>\n          11.38\n         </pmvast>\n         <predbcst>\n          58.82\n         </predbcst>\n         <vbcst>\n          1713.54\n         </vbcst>\n         <picmsst>\n          17.00\n         </picmsst>\n         <vicmsst>\n          29.77\n         </vicmsst>\n        </icms70>\n       </icms>\n       <pis>\n        <pisnt>\n         <cst>\n          06\n         </cst>\n        </pisnt>\n       </pis>\n       <cofins>\n        <cofinsnt>\n         <cst>\n          06\n         </cst>\n        </cofinsnt>\n       </cofins>\n      </imposto>\n     </det>\n     <total>\n      <icmstot>\n       <vbc>\n        2093.13\n       </vbc>\n       <vicms>\n        355.83\n       </vicms>\n       <vicmsdeson>\n        0.00\n       </vicmsdeson>\n       <vfcpufdest>\n        0.00\n       </vfcpufdest>\n       <vfcp>\n        0.00\n       </vfcp>\n       <vbcst>\n        2331.36\n       </vbcst>\n       <vst>\n        40.50\n       </vst>\n       <vfcpst>\n        0.00\n       </vfcpst>\n       <vfcpstret>\n        0.00\n       </vfcpstret>\n       <vprod>\n        5083.30\n       </vprod>\n       <vfrete>\n        0.00\n       </vfrete>\n       <vseg>\n        0.00\n       </vseg>\n       <vdesc>\n        0.00\n       </vdesc>\n       <vii>\n        0.00\n       </vii>\n       <vipi>\n        0.00\n       </vipi>\n       <vipidevol>\n        0.00\n       </vipidevol>\n       <vpis>\n        0.00\n       </vpis>\n       <vcofins>\n        0.00\n       </vcofins>\n       <voutro>\n        0.00\n       </voutro>\n       <vnf>\n        5123.80\n       </vnf>\n      </icmstot>\n     </total>\n     <transp>\n      <modfrete>\n       0\n      </modfrete>\n      <transporta>\n       <cpf>\n        61053554591\n       </cpf>\n       <xnome>\n        CARLOS ALBERTO SOUZA GUIMARAES\n       </xnome>\n       <xender>\n        RUA JOSE ROSALEM,5\n       </xender>\n       <xmun>\n        VILA VELHA\n       </xmun>\n       <uf>\n        ES\n       </uf>\n      </transporta>\n      <veictransp>\n       <placa>\n        RBF5A77\n       </placa>\n       <uf>\n        ES\n       </uf>\n      </veictransp>\n      <vol>\n       <qvol>\n        214\n       </qvol>\n       <marca>\n        VOLUMES\n       </marca>\n       <pesol>\n        214.600\n       </pesol>\n       <pesob>\n        214.600\n       </pesob>\n      </vol>\n     </transp>\n     <cobr>\n      <fat>\n       <nfat>\n        326649\n       </nfat>\n       <vorig>\n        5123.80\n       </vorig>\n       <vdesc>\n        0.00\n       </vdesc>\n       <vliq>\n        5123.80\n       </vliq>\n      </fat>\n      <dup>\n       <ndup>\n        001\n       </ndup>\n       <dvenc>\n        2021-04-07\n       </dvenc>\n       <vdup>\n        5123.80\n       </vdup>\n      </dup>\n     </cobr>\n     <pag>\n      <detpag>\n       <indpag>\n        1\n       </indpag>\n       <tpag>\n        99\n       </tpag>\n       <vpag>\n        5123.80\n       </vpag>\n      </detpag>\n     </pag>\n     <infadic>\n      <infadfisco>\n       NA\n      </infadfisco>\n      <infcpl>\n       CENTRAL DE COMPRAS SOORETAMA TP.PAGTO.DINHEIRO RED.BC CONF. ART534. ZZA RICMS DEC 1090R CAP XLI-L PERCENTUAL DO MVA 15 PERC REDUZIDA EM 24,12 PERC PORTARIA 042-R DE 07-10-2015 CONTRIB SUBSTITUTO CF.PORTARIA 22-R DE 31-07-2018, PROCESSO 86992961 MANDADO DE SEGURAN A C VEL - NR 0013230-18.2020.8.08.0000(100200035028).\n      </infcpl>\n     </infadic>\n    </infnfe>\n    <signature xmlns=\"http://www.w3.org/2000/09/xmldsig#\">\n     <signedinfo>\n      <canonicalizationmethod algorithm=\"http://www.w3.org/TR/2001/REC-xml-c14n-20010315\">\n      </canonicalizationmethod>\n      <signaturemethod algorithm=\"http://www.w3.org/2000/09/xmldsig#rsa-sha1\">\n      </signaturemethod>\n      <reference uri=\"#NFe32210405974276000194550010003266491001224468\">\n       <transforms>\n        <transform algorithm=\"http://www.w3.org/2000/09/xmldsig#enveloped-signature\">\n        </transform>\n        <transform algorithm=\"http://www.w3.org/TR/2001/REC-xml-c14n-20010315\">\n        </transform>\n       </transforms>\n       <digestmethod algorithm=\"http://www.w3.org/2000/09/xmldsig#sha1\">\n       </digestmethod>\n       <digestvalue>\n        Sct0rtZBarBDkODuU8bWT/dAmh4=\n       </digestvalue>\n      </reference>\n     </signedinfo>\n     <signaturevalue>\n      H1+6GuzvgGtm9XOIpUgpWhbIE4PqSn9SjcOiZmIDU6DDLE3kES0TBtupGH/4+9ACg3RYubIG8DVylO6z49TPezda9CO4b+QR6EzXIDqpsxfoXm7kmulUVKGn6Hbo3fV2UJSNuywFMjI/8V+RuyDkMuYBgeGH4NLz+61zwvXi+g9nxkDTN4Q1kqvGIvNky79GEJxLa0YVypve1eRPG1MeSVElZbAopTxlRCPDU6mXRYazKwdfxPzJOqBEdPuprrxpaPAekijutmq3Tv7SAdQVle/LHUR56sRXxmIf3f3cgko+7SXqFp6rM05T42hbzH2IIZh+sMSxMEfI6Z4e6jcA+Q==\n     </signaturevalue>\n     <keyinfo>\n      <x509data>\n       <x509certificate>\n        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\n       </x509certificate>\n      </x509data>\n     </keyinfo>\n    </signature>\n   </nfe>\n   <protnfe versao=\"4.00\">\n    <infprot>\n     <tpamb>\n      1\n     </tpamb>\n     <veraplic>\n      SVRS202103300813\n     </veraplic>\n     <chnfe>\n      32210405974276000194550010003266491001224468\n     </chnfe>\n     <dhrecbto>\n      2021-04-06T13:48:37-03:00\n     </dhrecbto>\n     <nprot>\n      332210021462769\n     </nprot>\n     <digval>\n      Sct0rtZBarBDkODuU8bWT/dAmh4=\n     </digval>\n     <cstat>\n      100\n     </cstat>\n     <xmotivo>\n      Autorizado o uso da NF-e\n     </xmotivo>\n    </infprot>\n   </protnfe>\n  </nfeproc>\n </body>\n</html>\n"
     ]
    }
   ],
   "source": [
    "print(leitura.html.prettify())"
   ]
  },
  {
   "cell_type": "code",
   "execution_count": 37,
   "metadata": {},
   "outputs": [],
   "source": [
    "nome_produto = leitura.find_all('xprod')\n",
    "info_complementar = leitura.find('infcpl')\n",
    "nota = leitura.find('ide')\n",
    "emitente = leitura.find('emit')\n",
    "destinatario = leitura.find('dest')\n",
    "chave = leitura.find('chnfe')"
   ]
  },
  {
   "cell_type": "code",
   "execution_count": 37,
   "metadata": {},
   "outputs": [
    {
     "output_type": "stream",
     "name": "stdout",
     "text": [
      "<ide><cuf>32</cuf><cnf>00122446</cnf><natop>VENDA MERCAD. COMERCIALIZACAO</natop><mod>55</mod><serie>1</serie><nnf>326649</nnf><dhemi>2021-04-06T13:48:21-03:00</dhemi><dhsaient>2021-04-06T13:48:21-03:00</dhsaient><tpnf>1</tpnf><iddest>1</iddest><cmunfg>3205200</cmunfg><tpimp>1</tpimp><tpemis>1</tpemis><cdv>8</cdv><tpamb>1</tpamb><finnfe>1</finnfe><indfinal>0</indfinal><indpres>3</indpres><procemi>0</procemi><verproc>ACIM 4.00</verproc></ide>\n326649\n<emit><cnpj>05974276000194</cnpj><xnome>FRINCARNES FRIGORIF INDUSTR DE CARNES DO ES EIRELI</xnome><xfant>FRIGORIFICO FRINCARNES</xfant><enderemit><xlgr>RUA JOSE ROSALEM</xlgr><nro>5</nro><xbairro>SANTA INES</xbairro><cmun>3205200</cmun><xmun>VILA VELHA</xmun><uf>ES</uf><cep>29105645</cep><cpais>1058</cpais><xpais>BRASIL</xpais><fone>2733910985</fone></enderemit><ie>082244731</ie><crt>3</crt></emit>\n<dest><cnpj>27151620000188</cnpj><xnome>SUPERMERCADO BOBBIO LTDA</xnome><enderdest><xlgr>AVE ANGELO SUZANO,578</xlgr><nro>00000</nro><xbairro>CENTRO</xbairro><cmun>3205010</cmun><xmun>SOORETAMA</xmun><uf>ES</uf><cep>29927000</cep><cpais>1058</cpais><xpais>BRASIL</xpais><fone>2732731104</fone></enderdest><indiedest>1</indiedest><ie>080308660</ie></dest>\n<chnfe>32210405974276000194550010003266491001224468</chnfe>\n"
     ]
    }
   ],
   "source": [
    "print(nota)\n",
    "print(nota.find('nnf').text)\n",
    "print(emitente)\n",
    "print(destinatario)\n",
    "print(chave)"
   ]
  },
  {
   "cell_type": "code",
   "execution_count": 7,
   "metadata": {},
   "outputs": [
    {
     "output_type": "stream",
     "name": "stdout",
     "text": [
      "CARNE BOVINA DIANTEIRO\nCARNE BOVINA TRASEIRO\n"
     ]
    }
   ],
   "source": [
    "for i in nome_produto:\n",
    "    print(i.text)"
   ]
  },
  {
   "cell_type": "code",
   "execution_count": 38,
   "metadata": {},
   "outputs": [],
   "source": [
    "produtos = leitura.find_all('det')"
   ]
  },
  {
   "cell_type": "code",
   "execution_count": 39,
   "metadata": {},
   "outputs": [],
   "source": [
    "# Dataframe\n",
    "tabela = pd.DataFrame(columns=['Natu.Oper','Modelo','Num NF','Emissao','CNPJ Emit.','Emitente', 'IE Emit.','Destinatário','CNPJ Dest.','IE Dest.','EAN','EANtrib','Codigo','Produto','NCM','CEST','CFOP','UND','QTD','Preco','Origem','CST','Valor','Base de Calculo','Alíquota','ICMS','Reducao','MVA','BCR-ST','Aliq.ST','ICMS-ST','Chave','Inf. Compl.'])"
   ]
  },
  {
   "cell_type": "code",
   "execution_count": 40,
   "metadata": {},
   "outputs": [],
   "source": [
    "indice = 0\n",
    "for el in produtos:\n",
    "    tabela.loc[indice]=[nota.find('natop').text,\n",
    "    nota.find('mod').text,\n",
    "    nota.find('nnf').text,\n",
    "    nota.find('dhemi').text,\n",
    "    emitente.find('cnpj').text,\n",
    "    emitente.find('xnome').text,\n",
    "    emitente.find('ie').text,\n",
    "    destinatario.find('xnome').text,\n",
    "    destinatario.find('cnpj').text,\n",
    "    destinatario.find('ie').text,\n",
    "    el.find('cean').text,\n",
    "    el.find('ceantrib').text,\n",
    "    el.find('cprod').text,\n",
    "    el.find('xprod').text,\n",
    "    el.find('ncm').text,\n",
    "    el.find('cest').text,\n",
    "    el.find('cfop').text,\n",
    "    el.find('ucom').text,\n",
    "    el.find('qcom').text,\n",
    "    el.find('vuncom').text,\n",
    "    el.find('orig').text,\n",
    "    el.find('cst').text,\n",
    "    el.find('vprod').text,\n",
    "    el.find('vbc').text,\n",
    "    el.find('picms').text,\n",
    "    el.find('vicms').text,\n",
    "    el.find('predbc').text,\n",
    "    el.find('pmvast').text,\n",
    "    el.find('vbcst').text,\n",
    "    el.find('picmsst').text,\n",
    "    el.find('vicmsst').text,\n",
    "    chave.text,\n",
    "    info_complementar.text]\n",
    "    indice +=1\n",
    "    "
   ]
  },
  {
   "cell_type": "code",
   "execution_count": 52,
   "metadata": {},
   "outputs": [
    {
     "output_type": "execute_result",
     "data": {
      "text/plain": [
       "'06'"
      ]
     },
     "metadata": {},
     "execution_count": 52
    }
   ],
   "source": [
    "produtos[0].find('pis').find('cst').text"
   ]
  },
  {
   "cell_type": "code",
   "execution_count": 53,
   "metadata": {},
   "outputs": [
    {
     "output_type": "stream",
     "name": "stdout",
     "text": [
      "2\nCARNE BOVINA DIANTEIRO\n02012010\n70\n1\nCARNE BOVINA TRASEIRO\n02012020\n70\n"
     ]
    }
   ],
   "source": [
    "for el in produtos:\n",
    "    print(el.find('cprod').text)\n",
    "    print(el.find('xprod').text)\n",
    "    print(el.find('ncm').text)\n",
    "    print(el.find('cst').text)"
   ]
  },
  {
   "cell_type": "code",
   "execution_count": 41,
   "metadata": {},
   "outputs": [
    {
     "output_type": "execute_result",
     "data": {
      "text/plain": [
       "                       Natu.Oper Modelo  Num NF                    Emissao  \\\n",
       "0  VENDA MERCAD. COMERCIALIZACAO     55  326649  2021-04-06T13:48:21-03:00   \n",
       "1  VENDA MERCAD. COMERCIALIZACAO     55  326649  2021-04-06T13:48:21-03:00   \n",
       "\n",
       "       CNPJ Emit.                                           Emitente  \\\n",
       "0  05974276000194  FRINCARNES FRIGORIF INDUSTR DE CARNES DO ES EI...   \n",
       "1  05974276000194  FRINCARNES FRIGORIF INDUSTR DE CARNES DO ES EI...   \n",
       "\n",
       "    IE Emit.              Destinatário      CNPJ Dest.   IE Dest.  ...  \\\n",
       "0  082244731  SUPERMERCADO BOBBIO LTDA  27151620000188  080308660  ...   \n",
       "1  082244731  SUPERMERCADO BOBBIO LTDA  27151620000188  080308660  ...   \n",
       "\n",
       "  Base de Calculo Alíquota    ICMS Reducao    MVA   BCR-ST Aliq.ST ICMS-ST  \\\n",
       "0          554.69    17.00   94.30   58.82  11.38   617.82   17.00   10.73   \n",
       "1         1538.44    17.00  261.53   58.82  11.38  1713.54   17.00   29.77   \n",
       "\n",
       "                                          Chave  \\\n",
       "0  32210405974276000194550010003266491001224468   \n",
       "1  32210405974276000194550010003266491001224468   \n",
       "\n",
       "                                         Inf. Compl.  \n",
       "0  CENTRAL DE COMPRAS SOORETAMA TP.PAGTO.DINHEIRO...  \n",
       "1  CENTRAL DE COMPRAS SOORETAMA TP.PAGTO.DINHEIRO...  \n",
       "\n",
       "[2 rows x 33 columns]"
      ],
      "text/html": "<div>\n<style scoped>\n    .dataframe tbody tr th:only-of-type {\n        vertical-align: middle;\n    }\n\n    .dataframe tbody tr th {\n        vertical-align: top;\n    }\n\n    .dataframe thead th {\n        text-align: right;\n    }\n</style>\n<table border=\"1\" class=\"dataframe\">\n  <thead>\n    <tr style=\"text-align: right;\">\n      <th></th>\n      <th>Natu.Oper</th>\n      <th>Modelo</th>\n      <th>Num NF</th>\n      <th>Emissao</th>\n      <th>CNPJ Emit.</th>\n      <th>Emitente</th>\n      <th>IE Emit.</th>\n      <th>Destinatário</th>\n      <th>CNPJ Dest.</th>\n      <th>IE Dest.</th>\n      <th>...</th>\n      <th>Base de Calculo</th>\n      <th>Alíquota</th>\n      <th>ICMS</th>\n      <th>Reducao</th>\n      <th>MVA</th>\n      <th>BCR-ST</th>\n      <th>Aliq.ST</th>\n      <th>ICMS-ST</th>\n      <th>Chave</th>\n      <th>Inf. Compl.</th>\n    </tr>\n  </thead>\n  <tbody>\n    <tr>\n      <th>0</th>\n      <td>VENDA MERCAD. COMERCIALIZACAO</td>\n      <td>55</td>\n      <td>326649</td>\n      <td>2021-04-06T13:48:21-03:00</td>\n      <td>05974276000194</td>\n      <td>FRINCARNES FRIGORIF INDUSTR DE CARNES DO ES EI...</td>\n      <td>082244731</td>\n      <td>SUPERMERCADO BOBBIO LTDA</td>\n      <td>27151620000188</td>\n      <td>080308660</td>\n      <td>...</td>\n      <td>554.69</td>\n      <td>17.00</td>\n      <td>94.30</td>\n      <td>58.82</td>\n      <td>11.38</td>\n      <td>617.82</td>\n      <td>17.00</td>\n      <td>10.73</td>\n      <td>32210405974276000194550010003266491001224468</td>\n      <td>CENTRAL DE COMPRAS SOORETAMA TP.PAGTO.DINHEIRO...</td>\n    </tr>\n    <tr>\n      <th>1</th>\n      <td>VENDA MERCAD. COMERCIALIZACAO</td>\n      <td>55</td>\n      <td>326649</td>\n      <td>2021-04-06T13:48:21-03:00</td>\n      <td>05974276000194</td>\n      <td>FRINCARNES FRIGORIF INDUSTR DE CARNES DO ES EI...</td>\n      <td>082244731</td>\n      <td>SUPERMERCADO BOBBIO LTDA</td>\n      <td>27151620000188</td>\n      <td>080308660</td>\n      <td>...</td>\n      <td>1538.44</td>\n      <td>17.00</td>\n      <td>261.53</td>\n      <td>58.82</td>\n      <td>11.38</td>\n      <td>1713.54</td>\n      <td>17.00</td>\n      <td>29.77</td>\n      <td>32210405974276000194550010003266491001224468</td>\n      <td>CENTRAL DE COMPRAS SOORETAMA TP.PAGTO.DINHEIRO...</td>\n    </tr>\n  </tbody>\n</table>\n<p>2 rows × 33 columns</p>\n</div>"
     },
     "metadata": {},
     "execution_count": 41
    }
   ],
   "source": [
    "tabela"
   ]
  },
  {
   "cell_type": "code",
   "execution_count": 76,
   "metadata": {},
   "outputs": [],
   "source": [
    "tabela.to_excel('notas.xlsx') # os valores estão indo com ponto no lugar da vírgula"
   ]
  },
  {
   "cell_type": "code",
   "execution_count": 44,
   "metadata": {},
   "outputs": [
    {
     "output_type": "error",
     "ename": "AttributeError",
     "evalue": "ResultSet object has no attribute 'find_all'. You're probably treating a list of elements like a single element. Did you call find_all() when you meant to call find()?",
     "traceback": [
      "\u001b[1;31m---------------------------------------------------------------------------\u001b[0m",
      "\u001b[1;31mAttributeError\u001b[0m                            Traceback (most recent call last)",
      "\u001b[1;32m<ipython-input-44-86f520a4f02a>\u001b[0m in \u001b[0;36m<module>\u001b[1;34m\u001b[0m\n\u001b[1;32m----> 1\u001b[1;33m \u001b[0mcst\u001b[0m \u001b[1;33m=\u001b[0m \u001b[0mprodutos\u001b[0m\u001b[1;33m.\u001b[0m\u001b[0mfind_all\u001b[0m\u001b[1;33m(\u001b[0m\u001b[1;34m'cst'\u001b[0m\u001b[1;33m)\u001b[0m\u001b[1;33m\u001b[0m\u001b[1;33m\u001b[0m\u001b[0m\n\u001b[0m",
      "\u001b[1;32m~\\AppData\\Local\\Programs\\Python\\Python38\\lib\\site-packages\\bs4\\element.py\u001b[0m in \u001b[0;36m__getattr__\u001b[1;34m(self, key)\u001b[0m\n\u001b[0;32m   2171\u001b[0m     \u001b[1;32mdef\u001b[0m \u001b[0m__getattr__\u001b[0m\u001b[1;33m(\u001b[0m\u001b[0mself\u001b[0m\u001b[1;33m,\u001b[0m \u001b[0mkey\u001b[0m\u001b[1;33m)\u001b[0m\u001b[1;33m:\u001b[0m\u001b[1;33m\u001b[0m\u001b[1;33m\u001b[0m\u001b[0m\n\u001b[0;32m   2172\u001b[0m         \u001b[1;34m\"\"\"Raise a helpful exception to explain a common code fix.\"\"\"\u001b[0m\u001b[1;33m\u001b[0m\u001b[1;33m\u001b[0m\u001b[0m\n\u001b[1;32m-> 2173\u001b[1;33m         raise AttributeError(\n\u001b[0m\u001b[0;32m   2174\u001b[0m             \u001b[1;34m\"ResultSet object has no attribute '%s'. You're probably treating a list of elements like a single element. Did you call find_all() when you meant to call find()?\"\u001b[0m \u001b[1;33m%\u001b[0m \u001b[0mkey\u001b[0m\u001b[1;33m\u001b[0m\u001b[1;33m\u001b[0m\u001b[0m\n\u001b[0;32m   2175\u001b[0m         )\n",
      "\u001b[1;31mAttributeError\u001b[0m: ResultSet object has no attribute 'find_all'. You're probably treating a list of elements like a single element. Did you call find_all() when you meant to call find()?"
     ]
    }
   ],
   "source": [
    "cst = produtos.find('cst')"
   ]
  },
  {
   "cell_type": "code",
   "execution_count": 43,
   "metadata": {},
   "outputs": [
    {
     "output_type": "execute_result",
     "data": {
      "text/plain": [
       "[<cst>70</cst>,\n",
       " <cst>06</cst>,\n",
       " <cst>06</cst>,\n",
       " <cst>70</cst>,\n",
       " <cst>06</cst>,\n",
       " <cst>06</cst>]"
      ]
     },
     "metadata": {},
     "execution_count": 43
    }
   ],
   "source": [
    "cst"
   ]
  },
  {
   "cell_type": "code",
   "execution_count": 21,
   "metadata": {},
   "outputs": [],
   "source": [
    "pasta = os.listdir('XML/')\n",
    "path = 'XML/'"
   ]
  },
  {
   "cell_type": "code",
   "execution_count": 22,
   "metadata": {},
   "outputs": [
    {
     "output_type": "execute_result",
     "data": {
      "text/plain": [
       "['DELL NF 1755896-35200272381189001001550010017558961706772924.xml',\n",
       " 'DELL NF 1756145-35200272381189001001550010017561451510082213.xml',\n",
       " 'DELL NF 1757540-35200272381189001001550010017575401976761647.xml',\n",
       " 'DELL NF 1758122-35200272381189001001550010017581221045988133.xml',\n",
       " 'DELL NF 1854096-35200372381189001001550010018540961380640220.xml',\n",
       " 'DELL NF 61240-35200272381189001001550040000612401269860509.xml',\n",
       " 'FIOROT 164569 CTe-35200300252984000360570010001645691091002191.xml',\n",
       " 'FR SANTOS NF 3657-35200332741955000196550010000036571066579133.xml',\n",
       " 'IDK 4452 CTe-41200301311447000144570010000044521000045986.xml',\n",
       " 'MET SIEMSEN NF 178575-42200382983032000119550020001785751001792293.xml',\n",
       " 'WALMONOF NF 5812-35200361074431000197550010000058121537344247.xml']"
      ]
     },
     "metadata": {},
     "execution_count": 22
    }
   ],
   "source": [
    "pasta"
   ]
  },
  {
   "cell_type": "code",
   "execution_count": 32,
   "metadata": {},
   "outputs": [],
   "source": [
    "def Ler_Xml(arquivo):\n",
    "    with open(arq) as a:\n",
    "        leitura = bs4.BeautifulSoup(a, 'lxml')\n",
    "\n",
    "        nome_produto = leitura.find_all('xprod')\n",
    "        info_complementar = leitura.find('infcpl')\n",
    "        nota = leitura.find('ide')\n",
    "        emitente = leitura.find('emit')\n",
    "        destinatario = leitura.find('dest')\n",
    "        chave = leitura.find('chnfe')\n",
    "        produtos = leitura.find_all('det')\n",
    "\n",
    "        tabela = pd.DataFrame(columns=['Natu.Oper','Modelo','Num NF','Emissao','CNPJ Emit.','Emitente', 'IE Emit.','Destinatário','CNPJ Dest.','IE Dest.','EAN','EANtrib','Codigo','Produto','NCM','CEST','CFOP','UND','QTD','Preco','Origem','CST','Valor','Base de Calculo','Alíquota','ICMS','Reducao','MVA','BCR-ST','Aliq.ST','ICMS-ST','Chave','Inf. Compl.'])\n",
    "\n",
    "        indice = 0\n",
    "        for el in produtos:\n",
    "            tabela.loc[indice]=[nota.find('natop').text,\n",
    "            nota.find('mod').text,\n",
    "            nota.find('nnf').text,\n",
    "            nota.find('dhemi').text,\n",
    "            emitente.find('cnpj').text,\n",
    "            emitente.find('xnome').text,\n",
    "            emitente.find('ie').text,\n",
    "            destinatario.find('xnome').text,\n",
    "            destinatario.find('cnpj').text,\n",
    "            destinatario.find('ie').text,\n",
    "            el.find('cean').text,\n",
    "            el.find('ceantrib').text,\n",
    "            el.find('cprod').text,\n",
    "            el.find('xprod').text,\n",
    "            el.find('ncm').text,\n",
    "            el.find('cest').text,\n",
    "            el.find('cfop').text,\n",
    "            el.find('ucom').text,\n",
    "            el.find('qcom').text,\n",
    "            el.find('vuncom').text,\n",
    "            el.find('orig').text,\n",
    "            el.find('cst').text,\n",
    "            el.find('vprod').text,\n",
    "            el.find('vbc').text,\n",
    "            el.find('picms').text,\n",
    "            el.find('vicms').text,\n",
    "            el.find('predbc').text,\n",
    "            el.find('pmvast').text,\n",
    "            el.find('vbcst').text,\n",
    "            el.find('picmsst').text,\n",
    "            el.find('vicmsst').text,\n",
    "            chave.text,\n",
    "            info_complementar.text]\n",
    "            indice +=1\n",
    "\n",
    "    return tabela"
   ]
  },
  {
   "cell_type": "code",
   "execution_count": 33,
   "metadata": {},
   "outputs": [
    {
     "output_type": "error",
     "ename": "FileNotFoundError",
     "evalue": "[Errno 2] No such file or directory: 'DELL NF 1755896-35200272381189001001550010017558961706772924.xml'",
     "traceback": [
      "\u001b[1;31m---------------------------------------------------------------------------\u001b[0m",
      "\u001b[1;31mFileNotFoundError\u001b[0m                         Traceback (most recent call last)",
      "\u001b[1;32m<ipython-input-33-679cac894f45>\u001b[0m in \u001b[0;36m<module>\u001b[1;34m\u001b[0m\n\u001b[1;32m----> 1\u001b[1;33m \u001b[0mLer_Xml\u001b[0m\u001b[1;33m(\u001b[0m\u001b[1;34m'32210405974276000194550010003266491001224468-NF-e.xml'\u001b[0m\u001b[1;33m)\u001b[0m\u001b[1;33m\u001b[0m\u001b[1;33m\u001b[0m\u001b[0m\n\u001b[0m",
      "\u001b[1;32m<ipython-input-32-2089d0a5e33a>\u001b[0m in \u001b[0;36mLer_Xml\u001b[1;34m(arquivo)\u001b[0m\n\u001b[0;32m      1\u001b[0m \u001b[1;32mdef\u001b[0m \u001b[0mLer_Xml\u001b[0m\u001b[1;33m(\u001b[0m\u001b[0marquivo\u001b[0m\u001b[1;33m)\u001b[0m\u001b[1;33m:\u001b[0m\u001b[1;33m\u001b[0m\u001b[1;33m\u001b[0m\u001b[0m\n\u001b[1;32m----> 2\u001b[1;33m     \u001b[1;32mwith\u001b[0m \u001b[0mopen\u001b[0m\u001b[1;33m(\u001b[0m\u001b[0marq\u001b[0m\u001b[1;33m)\u001b[0m \u001b[1;32mas\u001b[0m \u001b[0ma\u001b[0m\u001b[1;33m:\u001b[0m\u001b[1;33m\u001b[0m\u001b[1;33m\u001b[0m\u001b[0m\n\u001b[0m\u001b[0;32m      3\u001b[0m         \u001b[0mleitura\u001b[0m \u001b[1;33m=\u001b[0m \u001b[0mbs4\u001b[0m\u001b[1;33m.\u001b[0m\u001b[0mBeautifulSoup\u001b[0m\u001b[1;33m(\u001b[0m\u001b[0ma\u001b[0m\u001b[1;33m,\u001b[0m \u001b[1;34m'lxml'\u001b[0m\u001b[1;33m)\u001b[0m\u001b[1;33m\u001b[0m\u001b[1;33m\u001b[0m\u001b[0m\n\u001b[0;32m      4\u001b[0m \u001b[1;33m\u001b[0m\u001b[0m\n\u001b[0;32m      5\u001b[0m         \u001b[0mnome_produto\u001b[0m \u001b[1;33m=\u001b[0m \u001b[0mleitura\u001b[0m\u001b[1;33m.\u001b[0m\u001b[0mfind_all\u001b[0m\u001b[1;33m(\u001b[0m\u001b[1;34m'xprod'\u001b[0m\u001b[1;33m)\u001b[0m\u001b[1;33m\u001b[0m\u001b[1;33m\u001b[0m\u001b[0m\n",
      "\u001b[1;31mFileNotFoundError\u001b[0m: [Errno 2] No such file or directory: 'DELL NF 1755896-35200272381189001001550010017558961706772924.xml'"
     ]
    }
   ],
   "source": [
    "Ler_Xml('32210405974276000194550010003266491001224468-NF-e.xml')"
   ]
  },
  {
   "cell_type": "code",
   "execution_count": 44,
   "metadata": {},
   "outputs": [],
   "source": [
    "notas = pd.read_excel('notas.xlsx')"
   ]
  },
  {
   "cell_type": "code",
   "execution_count": 45,
   "metadata": {},
   "outputs": [
    {
     "output_type": "execute_result",
     "data": {
      "text/plain": [
       "     Unnamed: 0                                          Natu.Oper  Modelo  \\\n",
       "0             0                      VENDA MERCAD. COMERCIALIZACAO      55   \n",
       "1             1                      VENDA MERCAD. COMERCIALIZACAO      55   \n",
       "2             2                      VENDA MERCAD. COMERCIALIZACAO      55   \n",
       "3             3                      VENDA MERCAD. COMERCIALIZACAO      55   \n",
       "4             4  VENDA DE MERC. ADQUIRIDA OU RECEBIDA DE TERCEIROS      65   \n",
       "..          ...                                                ...     ...   \n",
       "497         497  VENDA DE MERC. ADQUIRIDA OU RECEBIDA DE TERCEIROS      65   \n",
       "498         498  VENDA DE MERC. ADQUIRIDA OU RECEBIDA DE TERCEIROS      65   \n",
       "499         499  VENDA DE MERC. ADQUIRIDA OU RECEBIDA DE TERCEIROS      65   \n",
       "500         500                     VENDA MERCAD RECEB ADQ TERCEIR      55   \n",
       "501         501                     VENDA MERCAD RECEB ADQ TERCEIR      55   \n",
       "\n",
       "     Serie  Num NF     Emissao  Tipo Oper  Destino  Tipo Emissao  Finalidade  \\\n",
       "0        1  326649  06/04/2021          1        1             1           1   \n",
       "1        1  326649  06/04/2021          1        1             1           1   \n",
       "2        1  328440  26/04/2021          1        1             1           1   \n",
       "3        1  328440  26/04/2021          1        1             1           1   \n",
       "4      202    6209  14/05/2020          1        1             1           1   \n",
       "..     ...     ...         ...        ...      ...           ...         ...   \n",
       "497    216  212527  08/04/2020          1        1             1           1   \n",
       "498    216  212527  08/04/2020          1        1             1           1   \n",
       "499    216  212527  08/04/2020          1        1             1           1   \n",
       "500      4   61240  19/02/2020          1        2             1           1   \n",
       "501      4   61240  19/02/2020          1        2             1           1   \n",
       "\n",
       "     ...   BC PIS  Qtd. BC PIS  Aliq. PIS  PIS qtd. Vlr PIS  Aliq. COFINS  \\\n",
       "0    ...      NaN          NaN        NaN       NaN     NaN           NaN   \n",
       "1    ...      NaN          NaN        NaN       NaN     NaN           NaN   \n",
       "2    ...      NaN          NaN        NaN       NaN     NaN           NaN   \n",
       "3    ...      NaN          NaN        NaN       NaN     NaN           NaN   \n",
       "4    ...      NaN          NaN        NaN       NaN     NaN           NaN   \n",
       "..   ...      ...          ...        ...       ...     ...           ...   \n",
       "497  ...     6.99          NaN       1.65       NaN    0.12           7.6   \n",
       "498  ...     3.99          NaN       1.65       NaN    0.07           7.6   \n",
       "499  ...     2.89          NaN       1.65       NaN    0.05           7.6   \n",
       "500  ...  2163.27          NaN       1.65       NaN   35.69           7.6   \n",
       "501  ...  1060.60          NaN       1.65       NaN   17.49           7.6   \n",
       "\n",
       "    Vlr. COFINS                                         Chave  \\\n",
       "0           NaN  32210405974276000194550010003266491001224468   \n",
       "1           NaN  32210405974276000194550010003266491001224468   \n",
       "2           NaN  32210405974276000194550010003284401001242582   \n",
       "3           NaN  32210405974276000194550010003284401001242582   \n",
       "4           NaN  32200527555390000112652020000062091003288015   \n",
       "..          ...                                           ...   \n",
       "497        0.53  32200427555390000112652160002125271003022484   \n",
       "498        0.30  32200427555390000112652160002125271003022484   \n",
       "499        0.22  32200427555390000112652160002125271003022484   \n",
       "500      164.40  35200272381189001001550040000612401269860509   \n",
       "501       80.60  35200272381189001001550040000612401269860509   \n",
       "\n",
       "                                           Inf. Compl.  Inf. Fisco  \n",
       "0    CENTRAL DE COMPRAS SOORETAMA TP.PAGTO.DINHEIRO...         NaN  \n",
       "1    CENTRAL DE COMPRAS SOORETAMA TP.PAGTO.DINHEIRO...         NaN  \n",
       "2    SUPER CANGURU H HORIZONTE TP.PAGTO.DINHEIRO RE...         NaN  \n",
       "3    SUPER CANGURU H HORIZONTE TP.PAGTO.DINHEIRO RE...         NaN  \n",
       "4                                                  NaN         NaN  \n",
       "..                                                 ...         ...  \n",
       "497                                                NaN         NaN  \n",
       "498                                                NaN         NaN  \n",
       "499                                                NaN         NaN  \n",
       "500  02-609437124 M   1029805669965 Aliquota de 12%...         NaN  \n",
       "501  02-609437124 M   1029805669965 Aliquota de 12%...         NaN  \n",
       "\n",
       "[502 rows x 71 columns]"
      ],
      "text/html": "<div>\n<style scoped>\n    .dataframe tbody tr th:only-of-type {\n        vertical-align: middle;\n    }\n\n    .dataframe tbody tr th {\n        vertical-align: top;\n    }\n\n    .dataframe thead th {\n        text-align: right;\n    }\n</style>\n<table border=\"1\" class=\"dataframe\">\n  <thead>\n    <tr style=\"text-align: right;\">\n      <th></th>\n      <th>Unnamed: 0</th>\n      <th>Natu.Oper</th>\n      <th>Modelo</th>\n      <th>Serie</th>\n      <th>Num NF</th>\n      <th>Emissao</th>\n      <th>Tipo Oper</th>\n      <th>Destino</th>\n      <th>Tipo Emissao</th>\n      <th>Finalidade</th>\n      <th>...</th>\n      <th>BC PIS</th>\n      <th>Qtd. BC PIS</th>\n      <th>Aliq. PIS</th>\n      <th>PIS qtd.</th>\n      <th>Vlr PIS</th>\n      <th>Aliq. COFINS</th>\n      <th>Vlr. COFINS</th>\n      <th>Chave</th>\n      <th>Inf. Compl.</th>\n      <th>Inf. Fisco</th>\n    </tr>\n  </thead>\n  <tbody>\n    <tr>\n      <th>0</th>\n      <td>0</td>\n      <td>VENDA MERCAD. COMERCIALIZACAO</td>\n      <td>55</td>\n      <td>1</td>\n      <td>326649</td>\n      <td>06/04/2021</td>\n      <td>1</td>\n      <td>1</td>\n      <td>1</td>\n      <td>1</td>\n      <td>...</td>\n      <td>NaN</td>\n      <td>NaN</td>\n      <td>NaN</td>\n      <td>NaN</td>\n      <td>NaN</td>\n      <td>NaN</td>\n      <td>NaN</td>\n      <td>32210405974276000194550010003266491001224468</td>\n      <td>CENTRAL DE COMPRAS SOORETAMA TP.PAGTO.DINHEIRO...</td>\n      <td>NaN</td>\n    </tr>\n    <tr>\n      <th>1</th>\n      <td>1</td>\n      <td>VENDA MERCAD. COMERCIALIZACAO</td>\n      <td>55</td>\n      <td>1</td>\n      <td>326649</td>\n      <td>06/04/2021</td>\n      <td>1</td>\n      <td>1</td>\n      <td>1</td>\n      <td>1</td>\n      <td>...</td>\n      <td>NaN</td>\n      <td>NaN</td>\n      <td>NaN</td>\n      <td>NaN</td>\n      <td>NaN</td>\n      <td>NaN</td>\n      <td>NaN</td>\n      <td>32210405974276000194550010003266491001224468</td>\n      <td>CENTRAL DE COMPRAS SOORETAMA TP.PAGTO.DINHEIRO...</td>\n      <td>NaN</td>\n    </tr>\n    <tr>\n      <th>2</th>\n      <td>2</td>\n      <td>VENDA MERCAD. COMERCIALIZACAO</td>\n      <td>55</td>\n      <td>1</td>\n      <td>328440</td>\n      <td>26/04/2021</td>\n      <td>1</td>\n      <td>1</td>\n      <td>1</td>\n      <td>1</td>\n      <td>...</td>\n      <td>NaN</td>\n      <td>NaN</td>\n      <td>NaN</td>\n      <td>NaN</td>\n      <td>NaN</td>\n      <td>NaN</td>\n      <td>NaN</td>\n      <td>32210405974276000194550010003284401001242582</td>\n      <td>SUPER CANGURU H HORIZONTE TP.PAGTO.DINHEIRO RE...</td>\n      <td>NaN</td>\n    </tr>\n    <tr>\n      <th>3</th>\n      <td>3</td>\n      <td>VENDA MERCAD. COMERCIALIZACAO</td>\n      <td>55</td>\n      <td>1</td>\n      <td>328440</td>\n      <td>26/04/2021</td>\n      <td>1</td>\n      <td>1</td>\n      <td>1</td>\n      <td>1</td>\n      <td>...</td>\n      <td>NaN</td>\n      <td>NaN</td>\n      <td>NaN</td>\n      <td>NaN</td>\n      <td>NaN</td>\n      <td>NaN</td>\n      <td>NaN</td>\n      <td>32210405974276000194550010003284401001242582</td>\n      <td>SUPER CANGURU H HORIZONTE TP.PAGTO.DINHEIRO RE...</td>\n      <td>NaN</td>\n    </tr>\n    <tr>\n      <th>4</th>\n      <td>4</td>\n      <td>VENDA DE MERC. ADQUIRIDA OU RECEBIDA DE TERCEIROS</td>\n      <td>65</td>\n      <td>202</td>\n      <td>6209</td>\n      <td>14/05/2020</td>\n      <td>1</td>\n      <td>1</td>\n      <td>1</td>\n      <td>1</td>\n      <td>...</td>\n      <td>NaN</td>\n      <td>NaN</td>\n      <td>NaN</td>\n      <td>NaN</td>\n      <td>NaN</td>\n      <td>NaN</td>\n      <td>NaN</td>\n      <td>32200527555390000112652020000062091003288015</td>\n      <td>NaN</td>\n      <td>NaN</td>\n    </tr>\n    <tr>\n      <th>...</th>\n      <td>...</td>\n      <td>...</td>\n      <td>...</td>\n      <td>...</td>\n      <td>...</td>\n      <td>...</td>\n      <td>...</td>\n      <td>...</td>\n      <td>...</td>\n      <td>...</td>\n      <td>...</td>\n      <td>...</td>\n      <td>...</td>\n      <td>...</td>\n      <td>...</td>\n      <td>...</td>\n      <td>...</td>\n      <td>...</td>\n      <td>...</td>\n      <td>...</td>\n      <td>...</td>\n    </tr>\n    <tr>\n      <th>497</th>\n      <td>497</td>\n      <td>VENDA DE MERC. ADQUIRIDA OU RECEBIDA DE TERCEIROS</td>\n      <td>65</td>\n      <td>216</td>\n      <td>212527</td>\n      <td>08/04/2020</td>\n      <td>1</td>\n      <td>1</td>\n      <td>1</td>\n      <td>1</td>\n      <td>...</td>\n      <td>6.99</td>\n      <td>NaN</td>\n      <td>1.65</td>\n      <td>NaN</td>\n      <td>0.12</td>\n      <td>7.6</td>\n      <td>0.53</td>\n      <td>32200427555390000112652160002125271003022484</td>\n      <td>NaN</td>\n      <td>NaN</td>\n    </tr>\n    <tr>\n      <th>498</th>\n      <td>498</td>\n      <td>VENDA DE MERC. ADQUIRIDA OU RECEBIDA DE TERCEIROS</td>\n      <td>65</td>\n      <td>216</td>\n      <td>212527</td>\n      <td>08/04/2020</td>\n      <td>1</td>\n      <td>1</td>\n      <td>1</td>\n      <td>1</td>\n      <td>...</td>\n      <td>3.99</td>\n      <td>NaN</td>\n      <td>1.65</td>\n      <td>NaN</td>\n      <td>0.07</td>\n      <td>7.6</td>\n      <td>0.30</td>\n      <td>32200427555390000112652160002125271003022484</td>\n      <td>NaN</td>\n      <td>NaN</td>\n    </tr>\n    <tr>\n      <th>499</th>\n      <td>499</td>\n      <td>VENDA DE MERC. ADQUIRIDA OU RECEBIDA DE TERCEIROS</td>\n      <td>65</td>\n      <td>216</td>\n      <td>212527</td>\n      <td>08/04/2020</td>\n      <td>1</td>\n      <td>1</td>\n      <td>1</td>\n      <td>1</td>\n      <td>...</td>\n      <td>2.89</td>\n      <td>NaN</td>\n      <td>1.65</td>\n      <td>NaN</td>\n      <td>0.05</td>\n      <td>7.6</td>\n      <td>0.22</td>\n      <td>32200427555390000112652160002125271003022484</td>\n      <td>NaN</td>\n      <td>NaN</td>\n    </tr>\n    <tr>\n      <th>500</th>\n      <td>500</td>\n      <td>VENDA MERCAD RECEB ADQ TERCEIR</td>\n      <td>55</td>\n      <td>4</td>\n      <td>61240</td>\n      <td>19/02/2020</td>\n      <td>1</td>\n      <td>2</td>\n      <td>1</td>\n      <td>1</td>\n      <td>...</td>\n      <td>2163.27</td>\n      <td>NaN</td>\n      <td>1.65</td>\n      <td>NaN</td>\n      <td>35.69</td>\n      <td>7.6</td>\n      <td>164.40</td>\n      <td>35200272381189001001550040000612401269860509</td>\n      <td>02-609437124 M   1029805669965 Aliquota de 12%...</td>\n      <td>NaN</td>\n    </tr>\n    <tr>\n      <th>501</th>\n      <td>501</td>\n      <td>VENDA MERCAD RECEB ADQ TERCEIR</td>\n      <td>55</td>\n      <td>4</td>\n      <td>61240</td>\n      <td>19/02/2020</td>\n      <td>1</td>\n      <td>2</td>\n      <td>1</td>\n      <td>1</td>\n      <td>...</td>\n      <td>1060.60</td>\n      <td>NaN</td>\n      <td>1.65</td>\n      <td>NaN</td>\n      <td>17.49</td>\n      <td>7.6</td>\n      <td>80.60</td>\n      <td>35200272381189001001550040000612401269860509</td>\n      <td>02-609437124 M   1029805669965 Aliquota de 12%...</td>\n      <td>NaN</td>\n    </tr>\n  </tbody>\n</table>\n<p>502 rows × 71 columns</p>\n</div>"
     },
     "metadata": {},
     "execution_count": 45
    }
   ],
   "source": [
    "notas"
   ]
  },
  {
   "cell_type": "code",
   "execution_count": 41,
   "metadata": {},
   "outputs": [],
   "source": [
    "notas2 = notas[notas['Serie'] == 4] # como filtrar um DF pelo valor de uma coluna"
   ]
  },
  {
   "cell_type": "code",
   "execution_count": 47,
   "metadata": {},
   "outputs": [],
   "source": [
    "notas2 = notas[notas['EAN'] != 'SEM GTIN']"
   ]
  },
  {
   "cell_type": "code",
   "execution_count": 48,
   "metadata": {},
   "outputs": [
    {
     "output_type": "execute_result",
     "data": {
      "text/plain": [
       "     Unnamed: 0                                          Natu.Oper  Modelo  \\\n",
       "4             4  VENDA DE MERC. ADQUIRIDA OU RECEBIDA DE TERCEIROS      65   \n",
       "5             5  VENDA DE MERC. ADQUIRIDA OU RECEBIDA DE TERCEIROS      65   \n",
       "6             6  VENDA DE MERC. ADQUIRIDA OU RECEBIDA DE TERCEIROS      65   \n",
       "7             7  VENDA DE MERC. ADQUIRIDA OU RECEBIDA DE TERCEIROS      65   \n",
       "8             8  VENDA DE MERC. ADQUIRIDA OU RECEBIDA DE TERCEIROS      65   \n",
       "..          ...                                                ...     ...   \n",
       "495         495  VENDA DE MERC. ADQUIRIDA OU RECEBIDA DE TERCEIROS      65   \n",
       "496         496  VENDA DE MERC. ADQUIRIDA OU RECEBIDA DE TERCEIROS      65   \n",
       "497         497  VENDA DE MERC. ADQUIRIDA OU RECEBIDA DE TERCEIROS      65   \n",
       "498         498  VENDA DE MERC. ADQUIRIDA OU RECEBIDA DE TERCEIROS      65   \n",
       "499         499  VENDA DE MERC. ADQUIRIDA OU RECEBIDA DE TERCEIROS      65   \n",
       "\n",
       "     Serie  Num NF     Emissao  Tipo Oper  Destino  Tipo Emissao  Finalidade  \\\n",
       "4      202    6209  14/05/2020          1        1             1           1   \n",
       "5      202    6209  14/05/2020          1        1             1           1   \n",
       "6      202    6209  14/05/2020          1        1             1           1   \n",
       "7      202    6209  14/05/2020          1        1             1           1   \n",
       "8      202    6209  14/05/2020          1        1             1           1   \n",
       "..     ...     ...         ...        ...      ...           ...         ...   \n",
       "495    216  212527  08/04/2020          1        1             1           1   \n",
       "496    216  212527  08/04/2020          1        1             1           1   \n",
       "497    216  212527  08/04/2020          1        1             1           1   \n",
       "498    216  212527  08/04/2020          1        1             1           1   \n",
       "499    216  212527  08/04/2020          1        1             1           1   \n",
       "\n",
       "     ...  BC PIS  Qtd. BC PIS  Aliq. PIS  PIS qtd. Vlr PIS  Aliq. COFINS  \\\n",
       "4    ...     NaN          NaN        NaN       NaN     NaN           NaN   \n",
       "5    ...     NaN          NaN        NaN       NaN     NaN           NaN   \n",
       "6    ...     NaN          NaN        NaN       NaN     NaN           NaN   \n",
       "7    ...     NaN          NaN        NaN       NaN     NaN           NaN   \n",
       "8    ...    4.99          NaN       1.65       NaN    0.08           7.6   \n",
       "..   ...     ...          ...        ...       ...     ...           ...   \n",
       "495  ...     NaN          NaN        NaN       NaN     NaN           NaN   \n",
       "496  ...   10.99          NaN       1.65       NaN    0.18           7.6   \n",
       "497  ...    6.99          NaN       1.65       NaN    0.12           7.6   \n",
       "498  ...    3.99          NaN       1.65       NaN    0.07           7.6   \n",
       "499  ...    2.89          NaN       1.65       NaN    0.05           7.6   \n",
       "\n",
       "    Vlr. COFINS                                         Chave Inf. Compl.  \\\n",
       "4           NaN  32200527555390000112652020000062091003288015         NaN   \n",
       "5           NaN  32200527555390000112652020000062091003288015         NaN   \n",
       "6           NaN  32200527555390000112652020000062091003288015         NaN   \n",
       "7           NaN  32200527555390000112652020000062091003288015         NaN   \n",
       "8          0.38  32200527555390000112652020000062091003288015         NaN   \n",
       "..          ...                                           ...         ...   \n",
       "495         NaN  32200427555390000112652160002125271003022484         NaN   \n",
       "496        0.84  32200427555390000112652160002125271003022484         NaN   \n",
       "497        0.53  32200427555390000112652160002125271003022484         NaN   \n",
       "498        0.30  32200427555390000112652160002125271003022484         NaN   \n",
       "499        0.22  32200427555390000112652160002125271003022484         NaN   \n",
       "\n",
       "     Inf. Fisco  \n",
       "4           NaN  \n",
       "5           NaN  \n",
       "6           NaN  \n",
       "7           NaN  \n",
       "8           NaN  \n",
       "..          ...  \n",
       "495         NaN  \n",
       "496         NaN  \n",
       "497         NaN  \n",
       "498         NaN  \n",
       "499         NaN  \n",
       "\n",
       "[320 rows x 71 columns]"
      ],
      "text/html": "<div>\n<style scoped>\n    .dataframe tbody tr th:only-of-type {\n        vertical-align: middle;\n    }\n\n    .dataframe tbody tr th {\n        vertical-align: top;\n    }\n\n    .dataframe thead th {\n        text-align: right;\n    }\n</style>\n<table border=\"1\" class=\"dataframe\">\n  <thead>\n    <tr style=\"text-align: right;\">\n      <th></th>\n      <th>Unnamed: 0</th>\n      <th>Natu.Oper</th>\n      <th>Modelo</th>\n      <th>Serie</th>\n      <th>Num NF</th>\n      <th>Emissao</th>\n      <th>Tipo Oper</th>\n      <th>Destino</th>\n      <th>Tipo Emissao</th>\n      <th>Finalidade</th>\n      <th>...</th>\n      <th>BC PIS</th>\n      <th>Qtd. BC PIS</th>\n      <th>Aliq. PIS</th>\n      <th>PIS qtd.</th>\n      <th>Vlr PIS</th>\n      <th>Aliq. COFINS</th>\n      <th>Vlr. COFINS</th>\n      <th>Chave</th>\n      <th>Inf. Compl.</th>\n      <th>Inf. Fisco</th>\n    </tr>\n  </thead>\n  <tbody>\n    <tr>\n      <th>4</th>\n      <td>4</td>\n      <td>VENDA DE MERC. ADQUIRIDA OU RECEBIDA DE TERCEIROS</td>\n      <td>65</td>\n      <td>202</td>\n      <td>6209</td>\n      <td>14/05/2020</td>\n      <td>1</td>\n      <td>1</td>\n      <td>1</td>\n      <td>1</td>\n      <td>...</td>\n      <td>NaN</td>\n      <td>NaN</td>\n      <td>NaN</td>\n      <td>NaN</td>\n      <td>NaN</td>\n      <td>NaN</td>\n      <td>NaN</td>\n      <td>32200527555390000112652020000062091003288015</td>\n      <td>NaN</td>\n      <td>NaN</td>\n    </tr>\n    <tr>\n      <th>5</th>\n      <td>5</td>\n      <td>VENDA DE MERC. ADQUIRIDA OU RECEBIDA DE TERCEIROS</td>\n      <td>65</td>\n      <td>202</td>\n      <td>6209</td>\n      <td>14/05/2020</td>\n      <td>1</td>\n      <td>1</td>\n      <td>1</td>\n      <td>1</td>\n      <td>...</td>\n      <td>NaN</td>\n      <td>NaN</td>\n      <td>NaN</td>\n      <td>NaN</td>\n      <td>NaN</td>\n      <td>NaN</td>\n      <td>NaN</td>\n      <td>32200527555390000112652020000062091003288015</td>\n      <td>NaN</td>\n      <td>NaN</td>\n    </tr>\n    <tr>\n      <th>6</th>\n      <td>6</td>\n      <td>VENDA DE MERC. ADQUIRIDA OU RECEBIDA DE TERCEIROS</td>\n      <td>65</td>\n      <td>202</td>\n      <td>6209</td>\n      <td>14/05/2020</td>\n      <td>1</td>\n      <td>1</td>\n      <td>1</td>\n      <td>1</td>\n      <td>...</td>\n      <td>NaN</td>\n      <td>NaN</td>\n      <td>NaN</td>\n      <td>NaN</td>\n      <td>NaN</td>\n      <td>NaN</td>\n      <td>NaN</td>\n      <td>32200527555390000112652020000062091003288015</td>\n      <td>NaN</td>\n      <td>NaN</td>\n    </tr>\n    <tr>\n      <th>7</th>\n      <td>7</td>\n      <td>VENDA DE MERC. ADQUIRIDA OU RECEBIDA DE TERCEIROS</td>\n      <td>65</td>\n      <td>202</td>\n      <td>6209</td>\n      <td>14/05/2020</td>\n      <td>1</td>\n      <td>1</td>\n      <td>1</td>\n      <td>1</td>\n      <td>...</td>\n      <td>NaN</td>\n      <td>NaN</td>\n      <td>NaN</td>\n      <td>NaN</td>\n      <td>NaN</td>\n      <td>NaN</td>\n      <td>NaN</td>\n      <td>32200527555390000112652020000062091003288015</td>\n      <td>NaN</td>\n      <td>NaN</td>\n    </tr>\n    <tr>\n      <th>8</th>\n      <td>8</td>\n      <td>VENDA DE MERC. ADQUIRIDA OU RECEBIDA DE TERCEIROS</td>\n      <td>65</td>\n      <td>202</td>\n      <td>6209</td>\n      <td>14/05/2020</td>\n      <td>1</td>\n      <td>1</td>\n      <td>1</td>\n      <td>1</td>\n      <td>...</td>\n      <td>4.99</td>\n      <td>NaN</td>\n      <td>1.65</td>\n      <td>NaN</td>\n      <td>0.08</td>\n      <td>7.6</td>\n      <td>0.38</td>\n      <td>32200527555390000112652020000062091003288015</td>\n      <td>NaN</td>\n      <td>NaN</td>\n    </tr>\n    <tr>\n      <th>...</th>\n      <td>...</td>\n      <td>...</td>\n      <td>...</td>\n      <td>...</td>\n      <td>...</td>\n      <td>...</td>\n      <td>...</td>\n      <td>...</td>\n      <td>...</td>\n      <td>...</td>\n      <td>...</td>\n      <td>...</td>\n      <td>...</td>\n      <td>...</td>\n      <td>...</td>\n      <td>...</td>\n      <td>...</td>\n      <td>...</td>\n      <td>...</td>\n      <td>...</td>\n      <td>...</td>\n    </tr>\n    <tr>\n      <th>495</th>\n      <td>495</td>\n      <td>VENDA DE MERC. ADQUIRIDA OU RECEBIDA DE TERCEIROS</td>\n      <td>65</td>\n      <td>216</td>\n      <td>212527</td>\n      <td>08/04/2020</td>\n      <td>1</td>\n      <td>1</td>\n      <td>1</td>\n      <td>1</td>\n      <td>...</td>\n      <td>NaN</td>\n      <td>NaN</td>\n      <td>NaN</td>\n      <td>NaN</td>\n      <td>NaN</td>\n      <td>NaN</td>\n      <td>NaN</td>\n      <td>32200427555390000112652160002125271003022484</td>\n      <td>NaN</td>\n      <td>NaN</td>\n    </tr>\n    <tr>\n      <th>496</th>\n      <td>496</td>\n      <td>VENDA DE MERC. ADQUIRIDA OU RECEBIDA DE TERCEIROS</td>\n      <td>65</td>\n      <td>216</td>\n      <td>212527</td>\n      <td>08/04/2020</td>\n      <td>1</td>\n      <td>1</td>\n      <td>1</td>\n      <td>1</td>\n      <td>...</td>\n      <td>10.99</td>\n      <td>NaN</td>\n      <td>1.65</td>\n      <td>NaN</td>\n      <td>0.18</td>\n      <td>7.6</td>\n      <td>0.84</td>\n      <td>32200427555390000112652160002125271003022484</td>\n      <td>NaN</td>\n      <td>NaN</td>\n    </tr>\n    <tr>\n      <th>497</th>\n      <td>497</td>\n      <td>VENDA DE MERC. ADQUIRIDA OU RECEBIDA DE TERCEIROS</td>\n      <td>65</td>\n      <td>216</td>\n      <td>212527</td>\n      <td>08/04/2020</td>\n      <td>1</td>\n      <td>1</td>\n      <td>1</td>\n      <td>1</td>\n      <td>...</td>\n      <td>6.99</td>\n      <td>NaN</td>\n      <td>1.65</td>\n      <td>NaN</td>\n      <td>0.12</td>\n      <td>7.6</td>\n      <td>0.53</td>\n      <td>32200427555390000112652160002125271003022484</td>\n      <td>NaN</td>\n      <td>NaN</td>\n    </tr>\n    <tr>\n      <th>498</th>\n      <td>498</td>\n      <td>VENDA DE MERC. ADQUIRIDA OU RECEBIDA DE TERCEIROS</td>\n      <td>65</td>\n      <td>216</td>\n      <td>212527</td>\n      <td>08/04/2020</td>\n      <td>1</td>\n      <td>1</td>\n      <td>1</td>\n      <td>1</td>\n      <td>...</td>\n      <td>3.99</td>\n      <td>NaN</td>\n      <td>1.65</td>\n      <td>NaN</td>\n      <td>0.07</td>\n      <td>7.6</td>\n      <td>0.30</td>\n      <td>32200427555390000112652160002125271003022484</td>\n      <td>NaN</td>\n      <td>NaN</td>\n    </tr>\n    <tr>\n      <th>499</th>\n      <td>499</td>\n      <td>VENDA DE MERC. ADQUIRIDA OU RECEBIDA DE TERCEIROS</td>\n      <td>65</td>\n      <td>216</td>\n      <td>212527</td>\n      <td>08/04/2020</td>\n      <td>1</td>\n      <td>1</td>\n      <td>1</td>\n      <td>1</td>\n      <td>...</td>\n      <td>2.89</td>\n      <td>NaN</td>\n      <td>1.65</td>\n      <td>NaN</td>\n      <td>0.05</td>\n      <td>7.6</td>\n      <td>0.22</td>\n      <td>32200427555390000112652160002125271003022484</td>\n      <td>NaN</td>\n      <td>NaN</td>\n    </tr>\n  </tbody>\n</table>\n<p>320 rows × 71 columns</p>\n</div>"
     },
     "metadata": {},
     "execution_count": 48
    }
   ],
   "source": [
    "notas2"
   ]
  },
  {
   "cell_type": "code",
   "execution_count": 7,
   "metadata": {},
   "outputs": [],
   "source": [
    "lista = list(notas['Emissao'])"
   ]
  },
  {
   "cell_type": "code",
   "execution_count": 10,
   "metadata": {},
   "outputs": [
    {
     "output_type": "execute_result",
     "data": {
      "text/plain": [
       "['06/04/2021',\n",
       " '06/04/2021',\n",
       " '26/04/2021',\n",
       " '26/04/2021',\n",
       " '19/02/2020',\n",
       " '19/02/2020']"
      ]
     },
     "metadata": {},
     "execution_count": 10
    }
   ],
   "source": [
    "lista"
   ]
  },
  {
   "cell_type": "code",
   "execution_count": 9,
   "metadata": {},
   "outputs": [],
   "source": [
    "for t in range(len(lista)):\n",
    "    x = lista[t][8:10] + '/' + lista[t][5:7] + '/' + lista[t][:4]\n",
    "    lista[t] = x"
   ]
  },
  {
   "cell_type": "code",
   "execution_count": 54,
   "metadata": {},
   "outputs": [
    {
     "output_type": "execute_result",
     "data": {
      "text/plain": [
       "'2021-04-06T13:48:21-03:00'"
      ]
     },
     "metadata": {},
     "execution_count": 54
    }
   ],
   "source": [
    "lista[0]"
   ]
  },
  {
   "cell_type": "code",
   "execution_count": 33,
   "metadata": {},
   "outputs": [
    {
     "output_type": "execute_result",
     "data": {
      "text/plain": [
       "0    2021-04-06\n",
       "1    2021-04-06\n",
       "2    2021-04-26\n",
       "3    2021-04-26\n",
       "4    2020-02-19\n",
       "5    2020-02-19\n",
       "Name: Emissao, dtype: object"
      ]
     },
     "metadata": {},
     "execution_count": 33
    }
   ],
   "source": [
    "notas['Emissao']"
   ]
  },
  {
   "cell_type": "code",
   "execution_count": 13,
   "metadata": {},
   "outputs": [
    {
     "output_type": "stream",
     "name": "stdout",
     "text": [
      "06/04/2021\n06/04/2021\n26/04/2021\n26/04/2021\n19/02/2020\n19/02/2020\n"
     ]
    }
   ],
   "source": [
    "for i in notas['Emissao']:\n",
    "    #n = i[:4]+'/'+i[5:7]+'/'+i[8:10]\n",
    "    m = i[8:10]+'/'+i[5:7]+'/'+i[:4]\n",
    "    print(m)"
   ]
  },
  {
   "cell_type": "code",
   "execution_count": 17,
   "metadata": {},
   "outputs": [
    {
     "output_type": "execute_result",
     "data": {
      "text/plain": [
       "0    2021-04-06T13:48:21-03:00\n",
       "1    2021-04-06T13:48:21-03:00\n",
       "2    2021-04-26T14:02:16-03:00\n",
       "3    2021-04-26T14:02:16-03:00\n",
       "Name: Emissao, dtype: object"
      ]
     },
     "metadata": {},
     "execution_count": 17
    }
   ],
   "source": [
    "notas['Emissao'].loc[:3]"
   ]
  },
  {
   "cell_type": "code",
   "execution_count": 61,
   "metadata": {},
   "outputs": [
    {
     "output_type": "stream",
     "name": "stderr",
     "text": [
      "C:\\Users\\rodri\\AppData\\Local\\Programs\\Python\\Python38\\lib\\site-packages\\pandas\\core\\indexing.py:1637: SettingWithCopyWarning: \nA value is trying to be set on a copy of a slice from a DataFrame\n\nSee the caveats in the documentation: https://pandas.pydata.org/pandas-docs/stable/user_guide/indexing.html#returning-a-view-versus-a-copy\n  self._setitem_single_block(indexer, value, name)\n"
     ]
    }
   ],
   "source": [
    "indice = 0\n",
    "for i in notas['Emissao']:\n",
    "    #m = i[8:10]+'/'+i[5:7]+'/'+i[:4]\n",
    "    notas['Emissao'].loc[indice] = lista[indice]\n",
    "    indice +=1"
   ]
  },
  {
   "cell_type": "code",
   "execution_count": 62,
   "metadata": {},
   "outputs": [
    {
     "output_type": "execute_result",
     "data": {
      "text/plain": [
       "   Unnamed: 0                       Natu.Oper  Modelo  Serie  Num NF  \\\n",
       "0           0   VENDA MERCAD. COMERCIALIZACAO      55      1  326649   \n",
       "1           1   VENDA MERCAD. COMERCIALIZACAO      55      1  326649   \n",
       "2           2   VENDA MERCAD. COMERCIALIZACAO      55      1  328440   \n",
       "3           3   VENDA MERCAD. COMERCIALIZACAO      55      1  328440   \n",
       "4           4  VENDA MERCAD RECEB ADQ TERCEIR      55      4   61240   \n",
       "5           5  VENDA MERCAD RECEB ADQ TERCEIR      55      4   61240   \n",
       "\n",
       "      Emissao  Tipo Oper  Destino  Tipo Emissao  Finalidade  ...   BC PIS  \\\n",
       "0  2021-04-06          1        1             1           1  ...      NaN   \n",
       "1  2021-04-06          1        1             1           1  ...      NaN   \n",
       "2  2021-04-26          1        1             1           1  ...      NaN   \n",
       "3  2021-04-26          1        1             1           1  ...      NaN   \n",
       "4  2020-02-19          1        2             1           1  ...  2163.27   \n",
       "5  2020-02-19          1        2             1           1  ...  1060.60   \n",
       "\n",
       "   Qtd. BC PIS  Aliq. PIS  PIS qtd. Vlr PIS  Aliq. COFINS Vlr. COFINS  \\\n",
       "0          NaN        NaN       NaN     NaN           NaN         NaN   \n",
       "1          NaN        NaN       NaN     NaN           NaN         NaN   \n",
       "2          NaN        NaN       NaN     NaN           NaN         NaN   \n",
       "3          NaN        NaN       NaN     NaN           NaN         NaN   \n",
       "4          NaN       1.65       NaN   35.69           7.6       164.4   \n",
       "5          NaN       1.65       NaN   17.49           7.6        80.6   \n",
       "\n",
       "                                          Chave  \\\n",
       "0  32210405974276000194550010003266491001224468   \n",
       "1  32210405974276000194550010003266491001224468   \n",
       "2  32210405974276000194550010003284401001242582   \n",
       "3  32210405974276000194550010003284401001242582   \n",
       "4  35200272381189001001550040000612401269860509   \n",
       "5  35200272381189001001550040000612401269860509   \n",
       "\n",
       "                                         Inf. Compl.  Inf. Fisco  \n",
       "0  CENTRAL DE COMPRAS SOORETAMA TP.PAGTO.DINHEIRO...         NaN  \n",
       "1  CENTRAL DE COMPRAS SOORETAMA TP.PAGTO.DINHEIRO...         NaN  \n",
       "2  SUPER CANGURU H HORIZONTE TP.PAGTO.DINHEIRO RE...         NaN  \n",
       "3  SUPER CANGURU H HORIZONTE TP.PAGTO.DINHEIRO RE...         NaN  \n",
       "4  02-609437124 M   1029805669965 Aliquota de 12%...         NaN  \n",
       "5  02-609437124 M   1029805669965 Aliquota de 12%...         NaN  \n",
       "\n",
       "[6 rows x 71 columns]"
      ],
      "text/html": "<div>\n<style scoped>\n    .dataframe tbody tr th:only-of-type {\n        vertical-align: middle;\n    }\n\n    .dataframe tbody tr th {\n        vertical-align: top;\n    }\n\n    .dataframe thead th {\n        text-align: right;\n    }\n</style>\n<table border=\"1\" class=\"dataframe\">\n  <thead>\n    <tr style=\"text-align: right;\">\n      <th></th>\n      <th>Unnamed: 0</th>\n      <th>Natu.Oper</th>\n      <th>Modelo</th>\n      <th>Serie</th>\n      <th>Num NF</th>\n      <th>Emissao</th>\n      <th>Tipo Oper</th>\n      <th>Destino</th>\n      <th>Tipo Emissao</th>\n      <th>Finalidade</th>\n      <th>...</th>\n      <th>BC PIS</th>\n      <th>Qtd. BC PIS</th>\n      <th>Aliq. PIS</th>\n      <th>PIS qtd.</th>\n      <th>Vlr PIS</th>\n      <th>Aliq. COFINS</th>\n      <th>Vlr. COFINS</th>\n      <th>Chave</th>\n      <th>Inf. Compl.</th>\n      <th>Inf. Fisco</th>\n    </tr>\n  </thead>\n  <tbody>\n    <tr>\n      <th>0</th>\n      <td>0</td>\n      <td>VENDA MERCAD. COMERCIALIZACAO</td>\n      <td>55</td>\n      <td>1</td>\n      <td>326649</td>\n      <td>2021-04-06</td>\n      <td>1</td>\n      <td>1</td>\n      <td>1</td>\n      <td>1</td>\n      <td>...</td>\n      <td>NaN</td>\n      <td>NaN</td>\n      <td>NaN</td>\n      <td>NaN</td>\n      <td>NaN</td>\n      <td>NaN</td>\n      <td>NaN</td>\n      <td>32210405974276000194550010003266491001224468</td>\n      <td>CENTRAL DE COMPRAS SOORETAMA TP.PAGTO.DINHEIRO...</td>\n      <td>NaN</td>\n    </tr>\n    <tr>\n      <th>1</th>\n      <td>1</td>\n      <td>VENDA MERCAD. COMERCIALIZACAO</td>\n      <td>55</td>\n      <td>1</td>\n      <td>326649</td>\n      <td>2021-04-06</td>\n      <td>1</td>\n      <td>1</td>\n      <td>1</td>\n      <td>1</td>\n      <td>...</td>\n      <td>NaN</td>\n      <td>NaN</td>\n      <td>NaN</td>\n      <td>NaN</td>\n      <td>NaN</td>\n      <td>NaN</td>\n      <td>NaN</td>\n      <td>32210405974276000194550010003266491001224468</td>\n      <td>CENTRAL DE COMPRAS SOORETAMA TP.PAGTO.DINHEIRO...</td>\n      <td>NaN</td>\n    </tr>\n    <tr>\n      <th>2</th>\n      <td>2</td>\n      <td>VENDA MERCAD. COMERCIALIZACAO</td>\n      <td>55</td>\n      <td>1</td>\n      <td>328440</td>\n      <td>2021-04-26</td>\n      <td>1</td>\n      <td>1</td>\n      <td>1</td>\n      <td>1</td>\n      <td>...</td>\n      <td>NaN</td>\n      <td>NaN</td>\n      <td>NaN</td>\n      <td>NaN</td>\n      <td>NaN</td>\n      <td>NaN</td>\n      <td>NaN</td>\n      <td>32210405974276000194550010003284401001242582</td>\n      <td>SUPER CANGURU H HORIZONTE TP.PAGTO.DINHEIRO RE...</td>\n      <td>NaN</td>\n    </tr>\n    <tr>\n      <th>3</th>\n      <td>3</td>\n      <td>VENDA MERCAD. COMERCIALIZACAO</td>\n      <td>55</td>\n      <td>1</td>\n      <td>328440</td>\n      <td>2021-04-26</td>\n      <td>1</td>\n      <td>1</td>\n      <td>1</td>\n      <td>1</td>\n      <td>...</td>\n      <td>NaN</td>\n      <td>NaN</td>\n      <td>NaN</td>\n      <td>NaN</td>\n      <td>NaN</td>\n      <td>NaN</td>\n      <td>NaN</td>\n      <td>32210405974276000194550010003284401001242582</td>\n      <td>SUPER CANGURU H HORIZONTE TP.PAGTO.DINHEIRO RE...</td>\n      <td>NaN</td>\n    </tr>\n    <tr>\n      <th>4</th>\n      <td>4</td>\n      <td>VENDA MERCAD RECEB ADQ TERCEIR</td>\n      <td>55</td>\n      <td>4</td>\n      <td>61240</td>\n      <td>2020-02-19</td>\n      <td>1</td>\n      <td>2</td>\n      <td>1</td>\n      <td>1</td>\n      <td>...</td>\n      <td>2163.27</td>\n      <td>NaN</td>\n      <td>1.65</td>\n      <td>NaN</td>\n      <td>35.69</td>\n      <td>7.6</td>\n      <td>164.4</td>\n      <td>35200272381189001001550040000612401269860509</td>\n      <td>02-609437124 M   1029805669965 Aliquota de 12%...</td>\n      <td>NaN</td>\n    </tr>\n    <tr>\n      <th>5</th>\n      <td>5</td>\n      <td>VENDA MERCAD RECEB ADQ TERCEIR</td>\n      <td>55</td>\n      <td>4</td>\n      <td>61240</td>\n      <td>2020-02-19</td>\n      <td>1</td>\n      <td>2</td>\n      <td>1</td>\n      <td>1</td>\n      <td>...</td>\n      <td>1060.60</td>\n      <td>NaN</td>\n      <td>1.65</td>\n      <td>NaN</td>\n      <td>17.49</td>\n      <td>7.6</td>\n      <td>80.6</td>\n      <td>35200272381189001001550040000612401269860509</td>\n      <td>02-609437124 M   1029805669965 Aliquota de 12%...</td>\n      <td>NaN</td>\n    </tr>\n  </tbody>\n</table>\n<p>6 rows × 71 columns</p>\n</div>"
     },
     "metadata": {},
     "execution_count": 62
    }
   ],
   "source": [
    "notas"
   ]
  },
  {
   "cell_type": "code",
   "execution_count": 16,
   "metadata": {},
   "outputs": [],
   "source": [
    "import pandas as pd"
   ]
  },
  {
   "cell_type": "code",
   "execution_count": 17,
   "metadata": {},
   "outputs": [
    {
     "output_type": "stream",
     "name": "stderr",
     "text": [
      "C:\\Users\\rodri\\AppData\\Roaming\\Python\\Python38\\site-packages\\IPython\\core\\interactiveshell.py:3155: DtypeWarning: Columns (1,3,4,5,9,12,14,15,16,19,20,21,25,26,31,33,34,37) have mixed types.Specify dtype option on import or set low_memory=False.\n  has_raised = await self.run_ast_nodes(code_ast.body, cell_name,\n"
     ]
    }
   ],
   "source": [
    "dados = pd.read_csv('Leitor de Sped/teste.txt', sep='|')"
   ]
  },
  {
   "cell_type": "code",
   "execution_count": 18,
   "metadata": {},
   "outputs": [
    {
     "output_type": "execute_result",
     "data": {
      "text/plain": [
       "        Unnamed: 0                                                  0  \\\n",
       "0                0                                                NaN   \n",
       "1                1                                                NaN   \n",
       "2                2                                                NaN   \n",
       "3                3                                                NaN   \n",
       "4                4                                                NaN   \n",
       "...            ...                                                ...   \n",
       "324025      324025                            210120181707Z0#\u0006\\t*†H†÷   \n",
       "324026      324026                    \u0001\\t\u00041\u0016\u0004\u0014EK!iL˜\n",
       "=Êy\b™–=„.b\b¡00\u0006   \n",
       "324027      324027                                     +\u0006\u0001\u0004\u0001‚7X\u0002\u00021\"\u0004    \n",
       "324028      324028                                           \u0006\\t*†H†÷   \n",
       "324029      324029  \u0001\u0001\u0001\u0005 \u0004‚\u0001 áXÞÐ!ê[=yVÇ\u0016Ë\u0007ä³_õfÊ£ü\u0017cKªr3_\u0003\u0014kJ‘¯\u0004...   \n",
       "\n",
       "                                                        1  \\\n",
       "0                                                    0000   \n",
       "1                                                    0001   \n",
       "2                                                    0002   \n",
       "3                                                    0005   \n",
       "4                                                    0100   \n",
       "...                                                   ...   \n",
       "324025                                                NaN   \n",
       "324026                                                NaN   \n",
       "324027                                                 1    \n",
       "324028                                                NaN   \n",
       "324029  À€aí9(¸Ú!êÞ)ÙÉ9wÔß¡-åô\u0006â\u0016\n",
       "\u0013]…ÓÆüI€á\u001a’\u0007\\= ç\u0013ì]...   \n",
       "\n",
       "                                             2            3  \\\n",
       "0                                          014            0   \n",
       "1                                            0          NaN   \n",
       "2                                           08          NaN   \n",
       "3                                      CENTRAL     29168055   \n",
       "4                          JONAS LACERDA SILVA  05498022824   \n",
       "...                                        ...          ...   \n",
       "324025                                     NaN          NaN   \n",
       "324026                                     NaN          NaN   \n",
       "324027                              2 . 7 . 0    1 4 0 0 3    \n",
       "324028                                     NaN          NaN   \n",
       "324029  ã\u0017\u0012\b{ãÚ»ï\u0010Úê@\u0013ÿ¦Å;™¡Å\n",
       " :Z½:€xÊ                NaN   \n",
       "\n",
       "                                   4               5  \\\n",
       "0                           01122020        31122020   \n",
       "1                                NaN             NaN   \n",
       "2                                NaN             NaN   \n",
       "3       RUA ATALIDE MOREIRA DE SOUZA            4511   \n",
       "4                         ES009088/O  03760847000162   \n",
       "...                              ...             ...   \n",
       "324025                           NaN             NaN   \n",
       "324026                           NaN             NaN   \n",
       "324027                           5 0             NaN   \n",
       "324028                           NaN             NaN   \n",
       "324029                           NaN             NaN   \n",
       "\n",
       "                                       6                   7             8  \\\n",
       "0       CCB CENTRAL DE COMPRAS DO BRASIL      27751320000130           NaN   \n",
       "1                                    NaN                 NaN           NaN   \n",
       "2                                    NaN                 NaN           NaN   \n",
       "3                                    NaN             CIVIT I  2721211900.0   \n",
       "4                               29046532  RUA OSWALDO ARANHA         309.0   \n",
       "...                                  ...                 ...           ...   \n",
       "324025                               NaN                 NaN           NaN   \n",
       "324026                               NaN                 NaN           NaN   \n",
       "324027                               NaN                 NaN           NaN   \n",
       "324028                               NaN                 NaN           NaN   \n",
       "324029                               NaN                 NaN           NaN   \n",
       "\n",
       "        ...   30  31   32   33  34  35   36  37  38  39  \n",
       "0       ...  NaN NaN  NaN  NaN NaN NaN  NaN NaN NaN NaN  \n",
       "1       ...  NaN NaN  NaN  NaN NaN NaN  NaN NaN NaN NaN  \n",
       "2       ...  NaN NaN  NaN  NaN NaN NaN  NaN NaN NaN NaN  \n",
       "3       ...  NaN NaN  NaN  NaN NaN NaN  NaN NaN NaN NaN  \n",
       "4       ...  NaN NaN  NaN  NaN NaN NaN  NaN NaN NaN NaN  \n",
       "...     ...  ...  ..  ...  ...  ..  ..  ...  ..  ..  ..  \n",
       "324025  ...  NaN NaN  NaN  NaN NaN NaN  NaN NaN NaN NaN  \n",
       "324026  ...  NaN NaN  NaN  NaN NaN NaN  NaN NaN NaN NaN  \n",
       "324027  ...  NaN NaN  NaN  NaN NaN NaN  NaN NaN NaN NaN  \n",
       "324028  ...  NaN NaN  NaN  NaN NaN NaN  NaN NaN NaN NaN  \n",
       "324029  ...  NaN NaN  NaN  NaN NaN NaN  NaN NaN NaN NaN  \n",
       "\n",
       "[324030 rows x 41 columns]"
      ],
      "text/html": "<div>\n<style scoped>\n    .dataframe tbody tr th:only-of-type {\n        vertical-align: middle;\n    }\n\n    .dataframe tbody tr th {\n        vertical-align: top;\n    }\n\n    .dataframe thead th {\n        text-align: right;\n    }\n</style>\n<table border=\"1\" class=\"dataframe\">\n  <thead>\n    <tr style=\"text-align: right;\">\n      <th></th>\n      <th>Unnamed: 0</th>\n      <th>0</th>\n      <th>1</th>\n      <th>2</th>\n      <th>3</th>\n      <th>4</th>\n      <th>5</th>\n      <th>6</th>\n      <th>7</th>\n      <th>8</th>\n      <th>...</th>\n      <th>30</th>\n      <th>31</th>\n      <th>32</th>\n      <th>33</th>\n      <th>34</th>\n      <th>35</th>\n      <th>36</th>\n      <th>37</th>\n      <th>38</th>\n      <th>39</th>\n    </tr>\n  </thead>\n  <tbody>\n    <tr>\n      <th>0</th>\n      <td>0</td>\n      <td>NaN</td>\n      <td>0000</td>\n      <td>014</td>\n      <td>0</td>\n      <td>01122020</td>\n      <td>31122020</td>\n      <td>CCB CENTRAL DE COMPRAS DO BRASIL</td>\n      <td>27751320000130</td>\n      <td>NaN</td>\n      <td>...</td>\n      <td>NaN</td>\n      <td>NaN</td>\n      <td>NaN</td>\n      <td>NaN</td>\n      <td>NaN</td>\n      <td>NaN</td>\n      <td>NaN</td>\n      <td>NaN</td>\n      <td>NaN</td>\n      <td>NaN</td>\n    </tr>\n    <tr>\n      <th>1</th>\n      <td>1</td>\n      <td>NaN</td>\n      <td>0001</td>\n      <td>0</td>\n      <td>NaN</td>\n      <td>NaN</td>\n      <td>NaN</td>\n      <td>NaN</td>\n      <td>NaN</td>\n      <td>NaN</td>\n      <td>...</td>\n      <td>NaN</td>\n      <td>NaN</td>\n      <td>NaN</td>\n      <td>NaN</td>\n      <td>NaN</td>\n      <td>NaN</td>\n      <td>NaN</td>\n      <td>NaN</td>\n      <td>NaN</td>\n      <td>NaN</td>\n    </tr>\n    <tr>\n      <th>2</th>\n      <td>2</td>\n      <td>NaN</td>\n      <td>0002</td>\n      <td>08</td>\n      <td>NaN</td>\n      <td>NaN</td>\n      <td>NaN</td>\n      <td>NaN</td>\n      <td>NaN</td>\n      <td>NaN</td>\n      <td>...</td>\n      <td>NaN</td>\n      <td>NaN</td>\n      <td>NaN</td>\n      <td>NaN</td>\n      <td>NaN</td>\n      <td>NaN</td>\n      <td>NaN</td>\n      <td>NaN</td>\n      <td>NaN</td>\n      <td>NaN</td>\n    </tr>\n    <tr>\n      <th>3</th>\n      <td>3</td>\n      <td>NaN</td>\n      <td>0005</td>\n      <td>CENTRAL</td>\n      <td>29168055</td>\n      <td>RUA ATALIDE MOREIRA DE SOUZA</td>\n      <td>4511</td>\n      <td>NaN</td>\n      <td>CIVIT I</td>\n      <td>2721211900.0</td>\n      <td>...</td>\n      <td>NaN</td>\n      <td>NaN</td>\n      <td>NaN</td>\n      <td>NaN</td>\n      <td>NaN</td>\n      <td>NaN</td>\n      <td>NaN</td>\n      <td>NaN</td>\n      <td>NaN</td>\n      <td>NaN</td>\n    </tr>\n    <tr>\n      <th>4</th>\n      <td>4</td>\n      <td>NaN</td>\n      <td>0100</td>\n      <td>JONAS LACERDA SILVA</td>\n      <td>05498022824</td>\n      <td>ES009088/O</td>\n      <td>03760847000162</td>\n      <td>29046532</td>\n      <td>RUA OSWALDO ARANHA</td>\n      <td>309.0</td>\n      <td>...</td>\n      <td>NaN</td>\n      <td>NaN</td>\n      <td>NaN</td>\n      <td>NaN</td>\n      <td>NaN</td>\n      <td>NaN</td>\n      <td>NaN</td>\n      <td>NaN</td>\n      <td>NaN</td>\n      <td>NaN</td>\n    </tr>\n    <tr>\n      <th>...</th>\n      <td>...</td>\n      <td>...</td>\n      <td>...</td>\n      <td>...</td>\n      <td>...</td>\n      <td>...</td>\n      <td>...</td>\n      <td>...</td>\n      <td>...</td>\n      <td>...</td>\n      <td>...</td>\n      <td>...</td>\n      <td>...</td>\n      <td>...</td>\n      <td>...</td>\n      <td>...</td>\n      <td>...</td>\n      <td>...</td>\n      <td>...</td>\n      <td>...</td>\n      <td>...</td>\n    </tr>\n    <tr>\n      <th>324025</th>\n      <td>324025</td>\n      <td>210120181707Z0#\u0006\\t*†H†÷</td>\n      <td>NaN</td>\n      <td>NaN</td>\n      <td>NaN</td>\n      <td>NaN</td>\n      <td>NaN</td>\n      <td>NaN</td>\n      <td>NaN</td>\n      <td>NaN</td>\n      <td>...</td>\n      <td>NaN</td>\n      <td>NaN</td>\n      <td>NaN</td>\n      <td>NaN</td>\n      <td>NaN</td>\n      <td>NaN</td>\n      <td>NaN</td>\n      <td>NaN</td>\n      <td>NaN</td>\n      <td>NaN</td>\n    </tr>\n    <tr>\n      <th>324026</th>\n      <td>324026</td>\n      <td>\u0001\\t\u00041\u0016\u0004\u0014EK!iL˜\u001c=Êy\b™–=„.b\b¡00\u0006</td>\n      <td>NaN</td>\n      <td>NaN</td>\n      <td>NaN</td>\n      <td>NaN</td>\n      <td>NaN</td>\n      <td>NaN</td>\n      <td>NaN</td>\n      <td>NaN</td>\n      <td>...</td>\n      <td>NaN</td>\n      <td>NaN</td>\n      <td>NaN</td>\n      <td>NaN</td>\n      <td>NaN</td>\n      <td>NaN</td>\n      <td>NaN</td>\n      <td>NaN</td>\n      <td>NaN</td>\n      <td>NaN</td>\n    </tr>\n    <tr>\n      <th>324027</th>\n      <td>324027</td>\n      <td>+\u0006\u0001\u0004\u0001‚7X\u0002\u00021\"\u0004</td>\n      <td>1</td>\n      <td>2 . 7 . 0</td>\n      <td>1 4 0 0 3</td>\n      <td>5 0</td>\n      <td>NaN</td>\n      <td>NaN</td>\n      <td>NaN</td>\n      <td>NaN</td>\n      <td>...</td>\n      <td>NaN</td>\n      <td>NaN</td>\n      <td>NaN</td>\n      <td>NaN</td>\n      <td>NaN</td>\n      <td>NaN</td>\n      <td>NaN</td>\n      <td>NaN</td>\n      <td>NaN</td>\n      <td>NaN</td>\n    </tr>\n    <tr>\n      <th>324028</th>\n      <td>324028</td>\n      <td>\u0006\\t*†H†÷</td>\n      <td>NaN</td>\n      <td>NaN</td>\n      <td>NaN</td>\n      <td>NaN</td>\n      <td>NaN</td>\n      <td>NaN</td>\n      <td>NaN</td>\n      <td>NaN</td>\n      <td>...</td>\n      <td>NaN</td>\n      <td>NaN</td>\n      <td>NaN</td>\n      <td>NaN</td>\n      <td>NaN</td>\n      <td>NaN</td>\n      <td>NaN</td>\n      <td>NaN</td>\n      <td>NaN</td>\n      <td>NaN</td>\n    </tr>\n    <tr>\n      <th>324029</th>\n      <td>324029</td>\n      <td>\u0001\u0001\u0001\u0005 \u0004‚\u0001 áXÞÐ!ê[=yVÇ\u0016Ë\u0007ä³_õfÊ£ü\u0017cKªr3_\u0003\u0014kJ‘¯\u0004...</td>\n      <td>À€aí9(¸Ú!êÞ)ÙÉ9wÔß¡-åô\u0006â\u0016\u001c\u0013]…ÓÆüI€á\u001a’\u0007\\= ç\u0013ì]...</td>\n      <td>ã\u0017\u0012\b{ãÚ»ï\u0010Úê@\u0013ÿ¦Å;™¡Å\u001c :Z½:€xÊ</td>\n      <td>NaN</td>\n      <td>NaN</td>\n      <td>NaN</td>\n      <td>NaN</td>\n      <td>NaN</td>\n      <td>NaN</td>\n      <td>...</td>\n      <td>NaN</td>\n      <td>NaN</td>\n      <td>NaN</td>\n      <td>NaN</td>\n      <td>NaN</td>\n      <td>NaN</td>\n      <td>NaN</td>\n      <td>NaN</td>\n      <td>NaN</td>\n      <td>NaN</td>\n    </tr>\n  </tbody>\n</table>\n<p>324030 rows × 41 columns</p>\n</div>"
     },
     "metadata": {},
     "execution_count": 18
    }
   ],
   "source": [
    "dados"
   ]
  },
  {
   "cell_type": "code",
   "execution_count": 25,
   "metadata": {},
   "outputs": [],
   "source": [
    "dados.rename(columns={0:'ID_DOC'},inplace=True)\n",
    "dados.insert(0,'-1','')"
   ]
  },
  {
   "cell_type": "code",
   "execution_count": 26,
   "metadata": {},
   "outputs": [
    {
     "output_type": "execute_result",
     "data": {
      "text/plain": [
       "       -1  Unnamed: 0                                                  0  \\\n",
       "0                   0                                                NaN   \n",
       "1                   1                                                NaN   \n",
       "2                   2                                                NaN   \n",
       "3                   3                                                NaN   \n",
       "4                   4                                                NaN   \n",
       "...    ..         ...                                                ...   \n",
       "324025         324025                            210120181707Z0#\u0006\\t*†H†÷   \n",
       "324026         324026                    \u0001\\t\u00041\u0016\u0004\u0014EK!iL˜\n",
       "=Êy\b™–=„.b\b¡00\u0006   \n",
       "324027         324027                                     +\u0006\u0001\u0004\u0001‚7X\u0002\u00021\"\u0004    \n",
       "324028         324028                                           \u0006\\t*†H†÷   \n",
       "324029         324029  \u0001\u0001\u0001\u0005 \u0004‚\u0001 áXÞÐ!ê[=yVÇ\u0016Ë\u0007ä³_õfÊ£ü\u0017cKªr3_\u0003\u0014kJ‘¯\u0004...   \n",
       "\n",
       "                                                        1  \\\n",
       "0                                                    0000   \n",
       "1                                                    0001   \n",
       "2                                                    0002   \n",
       "3                                                    0005   \n",
       "4                                                    0100   \n",
       "...                                                   ...   \n",
       "324025                                                NaN   \n",
       "324026                                                NaN   \n",
       "324027                                                 1    \n",
       "324028                                                NaN   \n",
       "324029  À€aí9(¸Ú!êÞ)ÙÉ9wÔß¡-åô\u0006â\u0016\n",
       "\u0013]…ÓÆüI€á\u001a’\u0007\\= ç\u0013ì]...   \n",
       "\n",
       "                                             2            3  \\\n",
       "0                                          014            0   \n",
       "1                                            0          NaN   \n",
       "2                                           08          NaN   \n",
       "3                                      CENTRAL     29168055   \n",
       "4                          JONAS LACERDA SILVA  05498022824   \n",
       "...                                        ...          ...   \n",
       "324025                                     NaN          NaN   \n",
       "324026                                     NaN          NaN   \n",
       "324027                              2 . 7 . 0    1 4 0 0 3    \n",
       "324028                                     NaN          NaN   \n",
       "324029  ã\u0017\u0012\b{ãÚ»ï\u0010Úê@\u0013ÿ¦Å;™¡Å\n",
       " :Z½:€xÊ                NaN   \n",
       "\n",
       "                                   4               5  \\\n",
       "0                           01122020        31122020   \n",
       "1                                NaN             NaN   \n",
       "2                                NaN             NaN   \n",
       "3       RUA ATALIDE MOREIRA DE SOUZA            4511   \n",
       "4                         ES009088/O  03760847000162   \n",
       "...                              ...             ...   \n",
       "324025                           NaN             NaN   \n",
       "324026                           NaN             NaN   \n",
       "324027                           5 0             NaN   \n",
       "324028                           NaN             NaN   \n",
       "324029                           NaN             NaN   \n",
       "\n",
       "                                       6                   7  ...   30  31  \\\n",
       "0       CCB CENTRAL DE COMPRAS DO BRASIL      27751320000130  ...  NaN NaN   \n",
       "1                                    NaN                 NaN  ...  NaN NaN   \n",
       "2                                    NaN                 NaN  ...  NaN NaN   \n",
       "3                                    NaN             CIVIT I  ...  NaN NaN   \n",
       "4                               29046532  RUA OSWALDO ARANHA  ...  NaN NaN   \n",
       "...                                  ...                 ...  ...  ...  ..   \n",
       "324025                               NaN                 NaN  ...  NaN NaN   \n",
       "324026                               NaN                 NaN  ...  NaN NaN   \n",
       "324027                               NaN                 NaN  ...  NaN NaN   \n",
       "324028                               NaN                 NaN  ...  NaN NaN   \n",
       "324029                               NaN                 NaN  ...  NaN NaN   \n",
       "\n",
       "         32   33  34  35   36  37  38  39  \n",
       "0       NaN  NaN NaN NaN  NaN NaN NaN NaN  \n",
       "1       NaN  NaN NaN NaN  NaN NaN NaN NaN  \n",
       "2       NaN  NaN NaN NaN  NaN NaN NaN NaN  \n",
       "3       NaN  NaN NaN NaN  NaN NaN NaN NaN  \n",
       "4       NaN  NaN NaN NaN  NaN NaN NaN NaN  \n",
       "...     ...  ...  ..  ..  ...  ..  ..  ..  \n",
       "324025  NaN  NaN NaN NaN  NaN NaN NaN NaN  \n",
       "324026  NaN  NaN NaN NaN  NaN NaN NaN NaN  \n",
       "324027  NaN  NaN NaN NaN  NaN NaN NaN NaN  \n",
       "324028  NaN  NaN NaN NaN  NaN NaN NaN NaN  \n",
       "324029  NaN  NaN NaN NaN  NaN NaN NaN NaN  \n",
       "\n",
       "[324030 rows x 42 columns]"
      ],
      "text/html": "<div>\n<style scoped>\n    .dataframe tbody tr th:only-of-type {\n        vertical-align: middle;\n    }\n\n    .dataframe tbody tr th {\n        vertical-align: top;\n    }\n\n    .dataframe thead th {\n        text-align: right;\n    }\n</style>\n<table border=\"1\" class=\"dataframe\">\n  <thead>\n    <tr style=\"text-align: right;\">\n      <th></th>\n      <th>-1</th>\n      <th>Unnamed: 0</th>\n      <th>0</th>\n      <th>1</th>\n      <th>2</th>\n      <th>3</th>\n      <th>4</th>\n      <th>5</th>\n      <th>6</th>\n      <th>7</th>\n      <th>...</th>\n      <th>30</th>\n      <th>31</th>\n      <th>32</th>\n      <th>33</th>\n      <th>34</th>\n      <th>35</th>\n      <th>36</th>\n      <th>37</th>\n      <th>38</th>\n      <th>39</th>\n    </tr>\n  </thead>\n  <tbody>\n    <tr>\n      <th>0</th>\n      <td></td>\n      <td>0</td>\n      <td>NaN</td>\n      <td>0000</td>\n      <td>014</td>\n      <td>0</td>\n      <td>01122020</td>\n      <td>31122020</td>\n      <td>CCB CENTRAL DE COMPRAS DO BRASIL</td>\n      <td>27751320000130</td>\n      <td>...</td>\n      <td>NaN</td>\n      <td>NaN</td>\n      <td>NaN</td>\n      <td>NaN</td>\n      <td>NaN</td>\n      <td>NaN</td>\n      <td>NaN</td>\n      <td>NaN</td>\n      <td>NaN</td>\n      <td>NaN</td>\n    </tr>\n    <tr>\n      <th>1</th>\n      <td></td>\n      <td>1</td>\n      <td>NaN</td>\n      <td>0001</td>\n      <td>0</td>\n      <td>NaN</td>\n      <td>NaN</td>\n      <td>NaN</td>\n      <td>NaN</td>\n      <td>NaN</td>\n      <td>...</td>\n      <td>NaN</td>\n      <td>NaN</td>\n      <td>NaN</td>\n      <td>NaN</td>\n      <td>NaN</td>\n      <td>NaN</td>\n      <td>NaN</td>\n      <td>NaN</td>\n      <td>NaN</td>\n      <td>NaN</td>\n    </tr>\n    <tr>\n      <th>2</th>\n      <td></td>\n      <td>2</td>\n      <td>NaN</td>\n      <td>0002</td>\n      <td>08</td>\n      <td>NaN</td>\n      <td>NaN</td>\n      <td>NaN</td>\n      <td>NaN</td>\n      <td>NaN</td>\n      <td>...</td>\n      <td>NaN</td>\n      <td>NaN</td>\n      <td>NaN</td>\n      <td>NaN</td>\n      <td>NaN</td>\n      <td>NaN</td>\n      <td>NaN</td>\n      <td>NaN</td>\n      <td>NaN</td>\n      <td>NaN</td>\n    </tr>\n    <tr>\n      <th>3</th>\n      <td></td>\n      <td>3</td>\n      <td>NaN</td>\n      <td>0005</td>\n      <td>CENTRAL</td>\n      <td>29168055</td>\n      <td>RUA ATALIDE MOREIRA DE SOUZA</td>\n      <td>4511</td>\n      <td>NaN</td>\n      <td>CIVIT I</td>\n      <td>...</td>\n      <td>NaN</td>\n      <td>NaN</td>\n      <td>NaN</td>\n      <td>NaN</td>\n      <td>NaN</td>\n      <td>NaN</td>\n      <td>NaN</td>\n      <td>NaN</td>\n      <td>NaN</td>\n      <td>NaN</td>\n    </tr>\n    <tr>\n      <th>4</th>\n      <td></td>\n      <td>4</td>\n      <td>NaN</td>\n      <td>0100</td>\n      <td>JONAS LACERDA SILVA</td>\n      <td>05498022824</td>\n      <td>ES009088/O</td>\n      <td>03760847000162</td>\n      <td>29046532</td>\n      <td>RUA OSWALDO ARANHA</td>\n      <td>...</td>\n      <td>NaN</td>\n      <td>NaN</td>\n      <td>NaN</td>\n      <td>NaN</td>\n      <td>NaN</td>\n      <td>NaN</td>\n      <td>NaN</td>\n      <td>NaN</td>\n      <td>NaN</td>\n      <td>NaN</td>\n    </tr>\n    <tr>\n      <th>...</th>\n      <td>...</td>\n      <td>...</td>\n      <td>...</td>\n      <td>...</td>\n      <td>...</td>\n      <td>...</td>\n      <td>...</td>\n      <td>...</td>\n      <td>...</td>\n      <td>...</td>\n      <td>...</td>\n      <td>...</td>\n      <td>...</td>\n      <td>...</td>\n      <td>...</td>\n      <td>...</td>\n      <td>...</td>\n      <td>...</td>\n      <td>...</td>\n      <td>...</td>\n      <td>...</td>\n    </tr>\n    <tr>\n      <th>324025</th>\n      <td></td>\n      <td>324025</td>\n      <td>210120181707Z0#\u0006\\t*†H†÷</td>\n      <td>NaN</td>\n      <td>NaN</td>\n      <td>NaN</td>\n      <td>NaN</td>\n      <td>NaN</td>\n      <td>NaN</td>\n      <td>NaN</td>\n      <td>...</td>\n      <td>NaN</td>\n      <td>NaN</td>\n      <td>NaN</td>\n      <td>NaN</td>\n      <td>NaN</td>\n      <td>NaN</td>\n      <td>NaN</td>\n      <td>NaN</td>\n      <td>NaN</td>\n      <td>NaN</td>\n    </tr>\n    <tr>\n      <th>324026</th>\n      <td></td>\n      <td>324026</td>\n      <td>\u0001\\t\u00041\u0016\u0004\u0014EK!iL˜\u001c=Êy\b™–=„.b\b¡00\u0006</td>\n      <td>NaN</td>\n      <td>NaN</td>\n      <td>NaN</td>\n      <td>NaN</td>\n      <td>NaN</td>\n      <td>NaN</td>\n      <td>NaN</td>\n      <td>...</td>\n      <td>NaN</td>\n      <td>NaN</td>\n      <td>NaN</td>\n      <td>NaN</td>\n      <td>NaN</td>\n      <td>NaN</td>\n      <td>NaN</td>\n      <td>NaN</td>\n      <td>NaN</td>\n      <td>NaN</td>\n    </tr>\n    <tr>\n      <th>324027</th>\n      <td></td>\n      <td>324027</td>\n      <td>+\u0006\u0001\u0004\u0001‚7X\u0002\u00021\"\u0004</td>\n      <td>1</td>\n      <td>2 . 7 . 0</td>\n      <td>1 4 0 0 3</td>\n      <td>5 0</td>\n      <td>NaN</td>\n      <td>NaN</td>\n      <td>NaN</td>\n      <td>...</td>\n      <td>NaN</td>\n      <td>NaN</td>\n      <td>NaN</td>\n      <td>NaN</td>\n      <td>NaN</td>\n      <td>NaN</td>\n      <td>NaN</td>\n      <td>NaN</td>\n      <td>NaN</td>\n      <td>NaN</td>\n    </tr>\n    <tr>\n      <th>324028</th>\n      <td></td>\n      <td>324028</td>\n      <td>\u0006\\t*†H†÷</td>\n      <td>NaN</td>\n      <td>NaN</td>\n      <td>NaN</td>\n      <td>NaN</td>\n      <td>NaN</td>\n      <td>NaN</td>\n      <td>NaN</td>\n      <td>...</td>\n      <td>NaN</td>\n      <td>NaN</td>\n      <td>NaN</td>\n      <td>NaN</td>\n      <td>NaN</td>\n      <td>NaN</td>\n      <td>NaN</td>\n      <td>NaN</td>\n      <td>NaN</td>\n      <td>NaN</td>\n    </tr>\n    <tr>\n      <th>324029</th>\n      <td></td>\n      <td>324029</td>\n      <td>\u0001\u0001\u0001\u0005 \u0004‚\u0001 áXÞÐ!ê[=yVÇ\u0016Ë\u0007ä³_õfÊ£ü\u0017cKªr3_\u0003\u0014kJ‘¯\u0004...</td>\n      <td>À€aí9(¸Ú!êÞ)ÙÉ9wÔß¡-åô\u0006â\u0016\u001c\u0013]…ÓÆüI€á\u001a’\u0007\\= ç\u0013ì]...</td>\n      <td>ã\u0017\u0012\b{ãÚ»ï\u0010Úê@\u0013ÿ¦Å;™¡Å\u001c :Z½:€xÊ</td>\n      <td>NaN</td>\n      <td>NaN</td>\n      <td>NaN</td>\n      <td>NaN</td>\n      <td>NaN</td>\n      <td>...</td>\n      <td>NaN</td>\n      <td>NaN</td>\n      <td>NaN</td>\n      <td>NaN</td>\n      <td>NaN</td>\n      <td>NaN</td>\n      <td>NaN</td>\n      <td>NaN</td>\n      <td>NaN</td>\n      <td>NaN</td>\n    </tr>\n  </tbody>\n</table>\n<p>324030 rows × 42 columns</p>\n</div>"
     },
     "metadata": {},
     "execution_count": 26
    }
   ],
   "source": [
    "dados"
   ]
  },
  {
   "cell_type": "code",
   "execution_count": null,
   "metadata": {},
   "outputs": [],
   "source": []
  }
 ]
}