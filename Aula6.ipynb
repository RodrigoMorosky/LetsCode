{
 "metadata": {
  "language_info": {
   "codemirror_mode": {
    "name": "ipython",
    "version": 3
   },
   "file_extension": ".py",
   "mimetype": "text/x-python",
   "name": "python",
   "nbconvert_exporter": "python",
   "pygments_lexer": "ipython3",
   "version": "3.8.5-final"
  },
  "orig_nbformat": 2,
  "kernelspec": {
   "name": "python3",
   "display_name": "Python 3.8.5 64-bit",
   "metadata": {
    "interpreter": {
     "hash": "2462a5e6d325a4f7fb86b9687f65f4e6709c3b54df771fa1746f94613b41bdab"
    }
   }
  }
 },
 "nbformat": 4,
 "nbformat_minor": 2,
 "cells": [
  {
   "cell_type": "code",
   "execution_count": 1,
   "metadata": {},
   "outputs": [],
   "source": [
    "# Funções\n",
    "\n",
    "def cumprimenta (): # função sem argumento e sem return\n",
    "    print('Olá Mundo!')\n",
    "\n",
    "def meu_print(texto): # função com argumento e sem return\n",
    "    print(texto)\n",
    "\n",
    "def cumprimenta_horario(nome, horario):\n",
    "    if horario <12:\n",
    "        print(\"Bom dia {}\".format(nome))\n",
    "    elif horario <18:\n",
    "        print(\"Boa tarde {}\".format(nome))\n",
    "    else:\n",
    "        print(\"Boa noite {}\".format(nome))\n",
    "\n",
    "def soma(num1, num2): # função com argumento e com return\n",
    "    total = num1 + num2\n",
    "    return total"
   ]
  },
  {
   "cell_type": "code",
   "execution_count": 2,
   "metadata": {},
   "outputs": [
    {
     "output_type": "stream",
     "name": "stdout",
     "text": [
      "Olá Mundo!\nRodrigo\nBom dia Erika\nBoa tarde Erika\nBoa noite Erika\n"
     ]
    },
    {
     "output_type": "execute_result",
     "data": {
      "text/plain": [
       "100"
      ]
     },
     "metadata": {},
     "execution_count": 2
    }
   ],
   "source": [
    "cumprimenta()\n",
    "meu_print('Rodrigo')\n",
    "cumprimenta_horario('Erika', 10)\n",
    "cumprimenta_horario('Erika', 15)\n",
    "cumprimenta_horario('Erika', 20)\n",
    "soma(10,90)"
   ]
  },
  {
   "cell_type": "code",
   "execution_count": 3,
   "metadata": {},
   "outputs": [],
   "source": [
    "def calculadora (num1, num2, operador):\n",
    "    if operador =='+':\n",
    "        calculo = num1 + num2\n",
    "    elif operador =='-':\n",
    "        calculo = num1 - num2\n",
    "    elif operador =='/':\n",
    "        calculo = num1 / num2\n",
    "    elif operador =='*':\n",
    "        calculo = num1 * num2\n",
    "    else:\n",
    "        calculo = num1 ** num2\n",
    "        raise ValueError('Essa operação não existe!')\n",
    "    return calculo"
   ]
  },
  {
   "cell_type": "code",
   "execution_count": 4,
   "metadata": {},
   "outputs": [
    {
     "output_type": "execute_result",
     "data": {
      "text/plain": [
       "4"
      ]
     },
     "metadata": {},
     "execution_count": 4
    }
   ],
   "source": [
    "calculadora(2,2,'+')"
   ]
  },
  {
   "cell_type": "code",
   "execution_count": 5,
   "metadata": {},
   "outputs": [
    {
     "output_type": "error",
     "ename": "SyntaxError",
     "evalue": "invalid syntax (<ipython-input-5-a34a179bce91>, line 3)",
     "traceback": [
      "\u001b[1;36m  File \u001b[1;32m\"<ipython-input-5-a34a179bce91>\"\u001b[1;36m, line \u001b[1;32m3\u001b[0m\n\u001b[1;33m    return = num1 + num2\u001b[0m\n\u001b[1;37m           ^\u001b[0m\n\u001b[1;31mSyntaxError\u001b[0m\u001b[1;31m:\u001b[0m invalid syntax\n"
     ]
    }
   ],
   "source": [
    "def calculadora (num1, num2, operador): #função com múltiplos return\n",
    "    if operador =='+':\n",
    "        return = num1 + num2\n",
    "    elif operador =='-':\n",
    "        return = num1 - num2\n",
    "    elif operador =='/':\n",
    "        return = num1 / num2\n",
    "    elif operador =='*':\n",
    "        return = num1 * num2\n",
    "    else:\n",
    "        return = num1 ** num2\n",
    "        raise ValueError('Essa operação não existe!')\n",
    "# retorna erro pois teria que colocar outras funções para serem chamadas"
   ]
  },
  {
   "cell_type": "code",
   "execution_count": 2,
   "metadata": {},
   "outputs": [],
   "source": [
    "# Funções recursivas são funções que chama ela dentro dela mesmo\n",
    "def pot (base, expoente):\n",
    "    if expoente >0:\n",
    "        return base * pot(base, expoente -1)\n",
    "    else:\n",
    "        return 1"
   ]
  },
  {
   "source": [
    "pot(2,10)"
   ],
   "cell_type": "code",
   "metadata": {},
   "execution_count": null,
   "outputs": []
  },
  {
   "cell_type": "code",
   "execution_count": 4,
   "metadata": {},
   "outputs": [],
   "source": [
    "def fatorial (n):\n",
    "    if n >0:\n",
    "        return n * fatorial(n - 1)\n",
    "    else:\n",
    "        return 1"
   ]
  },
  {
   "cell_type": "code",
   "execution_count": 5,
   "metadata": {},
   "outputs": [
    {
     "output_type": "execute_result",
     "data": {
      "text/plain": [
       "120"
      ]
     },
     "metadata": {},
     "execution_count": 5
    }
   ],
   "source": [
    "fatorial(5)"
   ]
  },
  {
   "cell_type": "code",
   "execution_count": 13,
   "metadata": {},
   "outputs": [],
   "source": [
    "import random\n",
    "import math\n",
    "from statistics import mean"
   ]
  },
  {
   "cell_type": "code",
   "execution_count": 10,
   "metadata": {},
   "outputs": [
    {
     "output_type": "stream",
     "name": "stdout",
     "text": [
      "[48, 58, 82, 0, 11, 92, 83, 2, 55, 5]\n"
     ]
    },
    {
     "output_type": "execute_result",
     "data": {
      "text/plain": [
       "92"
      ]
     },
     "metadata": {},
     "execution_count": 10
    }
   ],
   "source": [
    "lista = [random.randint(0,100) for i in range(10)]\n",
    "print(lista)\n",
    "max(lista)"
   ]
  },
  {
   "cell_type": "code",
   "execution_count": 12,
   "metadata": {},
   "outputs": [
    {
     "output_type": "stream",
     "name": "stdout",
     "text": [
      "[63, 82, 66, 51, 1, 10, 27, 28, 4, 11, 52, 84, 64, 77, 19, 24, 31, 55, 73, 57]\n43.95\n"
     ]
    }
   ],
   "source": [
    "qtt = int(input('Digite a quantidade de números:'))\n",
    "lista = [random.randint(0,100) for i in range(qtt)]\n",
    "print(lista)\n",
    "media = sum(lista)/len(lista)\n",
    "print(media)"
   ]
  },
  {
   "cell_type": "code",
   "execution_count": 1,
   "metadata": {},
   "outputs": [
    {
     "output_type": "stream",
     "name": "stdout",
     "text": [
      "zzz"
     ]
    }
   ],
   "source": [
    "def display(b, n):\n",
    "    while n > 0:\n",
    "        print(b,end=\"\")\n",
    "        n=n-1\n",
    "\n",
    "display('z',3)"
   ]
  },
  {
   "cell_type": "code",
   "execution_count": 1,
   "metadata": {},
   "outputs": [],
   "source": [
    "# LC | Funções\n",
    "# Faça uma função que recebe um número e imprime seu dobro.\n",
    "def devolve_dobro(numero):\n",
    "    dobro = numero * 2\n",
    "    return dobro"
   ]
  },
  {
   "cell_type": "code",
   "execution_count": 5,
   "metadata": {},
   "outputs": [],
   "source": [
    "# Faça uma função que recebe o valor do raio de um círculo e retorna o valor do comprimento de sua circunferência: C = 2*pi*r.\n",
    "import math\n",
    "def comprimento(raio):\n",
    "    c = 2 * math.pi * raio\n",
    "    return c"
   ]
  },
  {
   "cell_type": "code",
   "execution_count": 6,
   "metadata": {},
   "outputs": [
    {
     "output_type": "execute_result",
     "data": {
      "text/plain": [
       "12.566370614359172"
      ]
     },
     "metadata": {},
     "execution_count": 6
    }
   ],
   "source": [
    "comprimento(2)"
   ]
  },
  {
   "cell_type": "code",
   "execution_count": 7,
   "metadata": {},
   "outputs": [],
   "source": [
    "# Faça uma função que recebe um nome e imprime “olá, [nome]”.\n",
    "def cumprimenta2 (nome):\n",
    "    print('Olá {}'.format(nome))"
   ]
  },
  {
   "cell_type": "code",
   "execution_count": 10,
   "metadata": {},
   "outputs": [],
   "source": [
    "def par_impar(numero):\n",
    "    if numero % 2 ==0:\n",
    "        return True\n",
    "    else:\n",
    "        return False"
   ]
  },
  {
   "cell_type": "code",
   "execution_count": 17,
   "metadata": {},
   "outputs": [],
   "source": [
    "import random\n",
    "def maior():\n",
    "    l = []\n",
    "    for i in range(10):\n",
    "        n = random.randint(0,100)\n",
    "        l.append(n)\n",
    "    m = max(l)\n",
    "    print(l)\n",
    "    return m"
   ]
  },
  {
   "cell_type": "code",
   "execution_count": 18,
   "metadata": {},
   "outputs": [
    {
     "output_type": "stream",
     "name": "stdout",
     "text": [
      "[36, 20, 57, 76, 50, 75, 46, 8, 78, 43]\n"
     ]
    },
    {
     "output_type": "execute_result",
     "data": {
      "text/plain": [
       "78"
      ]
     },
     "metadata": {},
     "execution_count": 18
    }
   ],
   "source": [
    "maior()"
   ]
  },
  {
   "cell_type": "code",
   "execution_count": 7,
   "metadata": {},
   "outputs": [],
   "source": [
    "# Faça uma função que recebe um número n de entrada, sorteia n números aleatórios entre 0 e 100 e retorna a média deles.\n",
    "from random import randint\n",
    "import math\n",
    "def media_n(n):\n",
    "    lista = []\n",
    "    for i in range(0,n):\n",
    "        lista.append(randint(0,100))\n",
    "    media = sum(lista)/len(lista)\n",
    "    print(lista)\n",
    "    return media"
   ]
  },
  {
   "cell_type": "code",
   "execution_count": 2,
   "metadata": {},
   "outputs": [],
   "source": [
    "# Faça uma função que recebe uma lista de palavras e retorna uma lista contendo as mesmas palavras da lista anterior, porém escritas em caixa alta.\n",
    "palavras = ['carro', 'casa', 'cachorro']\n",
    "palavras_maiuscula = []\n",
    "\n",
    "def maiuscula(lista):\n",
    "    palavras_maiuscula = []\n",
    "    for i in lista:\n",
    "        palavras_maiuscula.append(i.upper())\n",
    "    return palavras_maiuscula"
   ]
  },
  {
   "cell_type": "code",
   "execution_count": 4,
   "metadata": {},
   "outputs": [],
   "source": [
    "# Faça uma função que recebe duas listas e retorna a soma item a item dessas listas.\n",
    "a = [1,2,3,4]\n",
    "b = [10,20,30,40]\n",
    "\n",
    "def soma_lista(lista1,lista2):\n",
    "    lista_soma = [lista1[i] + lista2[i] for i in range(len(lista1))]\n",
    "    return lista_soma"
   ]
  },
  {
   "cell_type": "code",
   "execution_count": 6,
   "metadata": {},
   "outputs": [],
   "source": [
    "# Faça uma função que receba duas listas e retorne o produto item a item dessas listas.\n",
    "a = [1,2,3,4]\n",
    "b = [10,20,30,40]\n",
    "\n",
    "def produto_lista(lista1,lista2):\n",
    "    lista_produto = [lista1[i] * lista2[i] for i in range(len(lista1))]\n",
    "    return lista_produto"
   ]
  },
  {
   "cell_type": "code",
   "execution_count": 9,
   "metadata": {},
   "outputs": [],
   "source": [
    "# Faça uma função que recebe um número x e uma lista numérica e retorna uma lista cujos elementos são os itens da lista de entrada multiplicado por x.\n",
    "n = 5\n",
    "lista = [3,5,1]\n",
    "\n",
    "def multiplicador_lista(numero,lista):\n",
    "    nova_lista = [lista[i]*numero for i in range(len(lista))]\n",
    "    return nova_lista"
   ]
  },
  {
   "cell_type": "code",
   "execution_count": 11,
   "metadata": {},
   "outputs": [],
   "source": [
    "# Faça uma função que recebe uma lista de números e retorna a soma dos elementos dessa lista.\n",
    "lista = [3,5,1]\n",
    "\n",
    "def lista_somada(lista):\n",
    "    soma = 0\n",
    "    for i in lista:\n",
    "        soma = soma +i\n",
    "    return soma"
   ]
  },
  {
   "cell_type": "code",
   "execution_count": 13,
   "metadata": {},
   "outputs": [],
   "source": [
    "# Faça uma função que recebe uma lista de números e retorna a média aritmética dos elementos dessa lista.\n",
    "lista = [3,5,1]\n",
    "\n",
    "def media_da_lista(lista):\n",
    "    media = sum(lista)/len(lista)\n",
    "    return media"
   ]
  },
  {
   "cell_type": "code",
   "execution_count": 1,
   "metadata": {},
   "outputs": [],
   "source": [
    "''' Desafio 2 - Faça uma função que recebe duas entradas: um input dado pelo usuário e um string que informa o tipo de dado (\"idade\", \"salário\" ou \"sexo\"), e verifica se os dados digitados foram válidos, usando os seguintes critérios:\n",
    "a. Idade: entre 0 e 150;\n",
    "b. Salário: maior que 0;\n",
    "c. Sexo: M, F ou Outro.'''\n",
    "def validacao(dado,texto):\n",
    "    if texto == 'idade':\n",
    "        if dado >0 and dado < 150:\n",
    "            return 'Dados ok!'\n",
    "        else:\n",
    "            return 'Erro... idade não pode ser menor que zero nem maior que 150!'\n",
    "    elif texto == 'salario':\n",
    "        if dado >0:\n",
    "            return 'Dados ok!'\n",
    "        else:\n",
    "            return 'Erro... salário não pode ser inferior a zero!'\n",
    "    elif texto == 'sexo':\n",
    "        if dado == 'm' or dado == 'f' or dado == 'outro':\n",
    "            return 'Dados ok!'\n",
    "        else:\n",
    "            return 'Erro... sexo só pode ser M, F ou outro'"
   ]
  },
  {
   "cell_type": "code",
   "execution_count": 6,
   "metadata": {},
   "outputs": [
    {
     "output_type": "execute_result",
     "data": {
      "text/plain": [
       "'Erro... salário não pode ser inferior a zero!'"
      ]
     },
     "metadata": {},
     "execution_count": 6
    }
   ],
   "source": [
    "validacao(-160,'salario')"
   ]
  },
  {
   "cell_type": "code",
   "execution_count": null,
   "metadata": {},
   "outputs": [],
   "source": []
  }
 ]
}