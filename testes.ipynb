{
 "metadata": {
  "language_info": {
   "codemirror_mode": {
    "name": "ipython",
    "version": 3
   },
   "file_extension": ".py",
   "mimetype": "text/x-python",
   "name": "python",
   "nbconvert_exporter": "python",
   "pygments_lexer": "ipython3",
   "version": "3.8.5-final"
  },
  "orig_nbformat": 2,
  "kernelspec": {
   "name": "python385jvsc74a57bd02462a5e6d325a4f7fb86b9687f65f4e6709c3b54df771fa1746f94613b41bdab",
   "display_name": "Python 3.8.5 64-bit"
  },
  "metadata": {
   "interpreter": {
    "hash": "2462a5e6d325a4f7fb86b9687f65f4e6709c3b54df771fa1746f94613b41bdab"
   }
  }
 },
 "nbformat": 4,
 "nbformat_minor": 2,
 "cells": [
  {
   "cell_type": "code",
   "execution_count": 1,
   "metadata": {},
   "outputs": [],
   "source": [
    "# conexão BD MS SQL Server\n",
    "from sqlalchemy import create_engine\n",
    "import pandas as pd \n",
    "# com autenticação do windows\n",
    "\n",
    "server = 'LAPTOP-6TIJRFN2\\SQLEXPRESS'\n",
    "banco_dados = 'SQL_DB_1'\n",
    "driver = 'ODBC Driver 17 for SQL Server'\n",
    "bd_conexao = 'mssql://@{}/{}?driver={}'.format(server, banco_dados, driver)\n",
    "\n",
    "engine = create_engine(bd_conexao)\n",
    "con = engine.connect()\n",
    "\n",
    "df = pd.read_sql_query('select * from [dbo].[Alunos]',con)"
   ]
  },
  {
   "cell_type": "code",
   "execution_count": 2,
   "metadata": {},
   "outputs": [
    {
     "output_type": "execute_result",
     "data": {
      "text/plain": [
       "     id_aluno                 nome data_nascimento sexo       data_cadastro  \\\n",
       "0           1          Alan Mazoni      1989-09-04    M 2020-07-22 19:39:00   \n",
       "1           2  Alessandro Henrique      1990-10-04    M 2020-07-22 19:39:00   \n",
       "2           3      Alexander Peres      1989-08-22    M 2020-07-22 20:13:56   \n",
       "3           4     Alexandre Sayuri      1989-04-25    M 2020-07-22 20:16:58   \n",
       "4           5     Alexandre Moraes      1989-06-06    M 2020-07-22 20:16:58   \n",
       "..        ...                  ...             ...  ...                 ...   \n",
       "787       788            Ramon Pde      1992-02-21    M 2020-07-22 20:16:58   \n",
       "788       789          Ramon Cesar      1990-10-11    M 2020-07-22 20:16:58   \n",
       "789       790         Ranie Stella      2001-03-02    M 2020-07-22 20:16:58   \n",
       "790       791       Raniere Duarte      1998-10-28    M 2020-07-22 20:16:58   \n",
       "791       792       Ranyer Schmitd      1991-09-10    M 2020-07-22 20:16:58   \n",
       "\n",
       "    login_cadastro  \n",
       "0            Aless  \n",
       "1            Aless  \n",
       "2            RODRI  \n",
       "3            RODRI  \n",
       "4            RODRI  \n",
       "..             ...  \n",
       "787          RODRI  \n",
       "788          RODRI  \n",
       "789          RODRI  \n",
       "790          RODRI  \n",
       "791          RODRI  \n",
       "\n",
       "[792 rows x 6 columns]"
      ],
      "text/html": "<div>\n<style scoped>\n    .dataframe tbody tr th:only-of-type {\n        vertical-align: middle;\n    }\n\n    .dataframe tbody tr th {\n        vertical-align: top;\n    }\n\n    .dataframe thead th {\n        text-align: right;\n    }\n</style>\n<table border=\"1\" class=\"dataframe\">\n  <thead>\n    <tr style=\"text-align: right;\">\n      <th></th>\n      <th>id_aluno</th>\n      <th>nome</th>\n      <th>data_nascimento</th>\n      <th>sexo</th>\n      <th>data_cadastro</th>\n      <th>login_cadastro</th>\n    </tr>\n  </thead>\n  <tbody>\n    <tr>\n      <th>0</th>\n      <td>1</td>\n      <td>Alan Mazoni</td>\n      <td>1989-09-04</td>\n      <td>M</td>\n      <td>2020-07-22 19:39:00</td>\n      <td>Aless</td>\n    </tr>\n    <tr>\n      <th>1</th>\n      <td>2</td>\n      <td>Alessandro Henrique</td>\n      <td>1990-10-04</td>\n      <td>M</td>\n      <td>2020-07-22 19:39:00</td>\n      <td>Aless</td>\n    </tr>\n    <tr>\n      <th>2</th>\n      <td>3</td>\n      <td>Alexander Peres</td>\n      <td>1989-08-22</td>\n      <td>M</td>\n      <td>2020-07-22 20:13:56</td>\n      <td>RODRI</td>\n    </tr>\n    <tr>\n      <th>3</th>\n      <td>4</td>\n      <td>Alexandre Sayuri</td>\n      <td>1989-04-25</td>\n      <td>M</td>\n      <td>2020-07-22 20:16:58</td>\n      <td>RODRI</td>\n    </tr>\n    <tr>\n      <th>4</th>\n      <td>5</td>\n      <td>Alexandre Moraes</td>\n      <td>1989-06-06</td>\n      <td>M</td>\n      <td>2020-07-22 20:16:58</td>\n      <td>RODRI</td>\n    </tr>\n    <tr>\n      <th>...</th>\n      <td>...</td>\n      <td>...</td>\n      <td>...</td>\n      <td>...</td>\n      <td>...</td>\n      <td>...</td>\n    </tr>\n    <tr>\n      <th>787</th>\n      <td>788</td>\n      <td>Ramon Pde</td>\n      <td>1992-02-21</td>\n      <td>M</td>\n      <td>2020-07-22 20:16:58</td>\n      <td>RODRI</td>\n    </tr>\n    <tr>\n      <th>788</th>\n      <td>789</td>\n      <td>Ramon Cesar</td>\n      <td>1990-10-11</td>\n      <td>M</td>\n      <td>2020-07-22 20:16:58</td>\n      <td>RODRI</td>\n    </tr>\n    <tr>\n      <th>789</th>\n      <td>790</td>\n      <td>Ranie Stella</td>\n      <td>2001-03-02</td>\n      <td>M</td>\n      <td>2020-07-22 20:16:58</td>\n      <td>RODRI</td>\n    </tr>\n    <tr>\n      <th>790</th>\n      <td>791</td>\n      <td>Raniere Duarte</td>\n      <td>1998-10-28</td>\n      <td>M</td>\n      <td>2020-07-22 20:16:58</td>\n      <td>RODRI</td>\n    </tr>\n    <tr>\n      <th>791</th>\n      <td>792</td>\n      <td>Ranyer Schmitd</td>\n      <td>1991-09-10</td>\n      <td>M</td>\n      <td>2020-07-22 20:16:58</td>\n      <td>RODRI</td>\n    </tr>\n  </tbody>\n</table>\n<p>792 rows × 6 columns</p>\n</div>"
     },
     "metadata": {},
     "execution_count": 2
    }
   ],
   "source": [
    "df"
   ]
  },
  {
   "cell_type": "code",
   "execution_count": 2,
   "metadata": {},
   "outputs": [],
   "source": [
    "# teste com XML\n",
    "import xml.etree.ElementTree as et\n",
    "import xmltodict\n",
    "from nfelib.v4_00 import leiauteNFe_sub as parser"
   ]
  },
  {
   "cell_type": "code",
   "execution_count": 3,
   "metadata": {},
   "outputs": [],
   "source": [
    "arquivo = '32210405974276000194550010003266491001224468-NF-e.xml'\n",
    "tree = et.parse(arquivo)\n",
    "root = tree.getroot()"
   ]
  },
  {
   "cell_type": "code",
   "execution_count": 4,
   "metadata": {},
   "outputs": [
    {
     "output_type": "execute_result",
     "data": {
      "text/plain": [
       "<xml.etree.ElementTree.ElementTree at 0x13a01357310>"
      ]
     },
     "metadata": {},
     "execution_count": 4
    }
   ],
   "source": [
    "tree"
   ]
  },
  {
   "cell_type": "code",
   "execution_count": 9,
   "metadata": {},
   "outputs": [
    {
     "output_type": "execute_result",
     "data": {
      "text/plain": [
       "[('{http://www.portalfiscal.inf.br/nfe}NFe', {}),\n",
       " ('{http://www.portalfiscal.inf.br/nfe}protNFe', {'versao': '4.00'})]"
      ]
     },
     "metadata": {},
     "execution_count": 9
    }
   ],
   "source": [
    "[(x.tag, x.attrib) for x in root]"
   ]
  },
  {
   "cell_type": "code",
   "execution_count": 13,
   "metadata": {},
   "outputs": [
    {
     "output_type": "error",
     "ename": "TypeError",
     "evalue": "read() did not return a bytes object (type=str)",
     "traceback": [
      "\u001b[1;31m---------------------------------------------------------------------------\u001b[0m",
      "\u001b[1;31mTypeError\u001b[0m                                 Traceback (most recent call last)",
      "\u001b[1;32m<ipython-input-13-d8610d09c29e>\u001b[0m in \u001b[0;36m<module>\u001b[1;34m\u001b[0m\n\u001b[0;32m      1\u001b[0m \u001b[1;32mwith\u001b[0m \u001b[0mopen\u001b[0m\u001b[1;33m(\u001b[0m\u001b[1;34m'32210405974276000194550010003266491001224468-NF-e.xml'\u001b[0m\u001b[1;33m)\u001b[0m \u001b[1;32mas\u001b[0m \u001b[0marquivo\u001b[0m\u001b[1;33m:\u001b[0m\u001b[1;33m\u001b[0m\u001b[1;33m\u001b[0m\u001b[0m\n\u001b[1;32m----> 2\u001b[1;33m     \u001b[0mdoc\u001b[0m \u001b[1;33m=\u001b[0m \u001b[0mxmltodict\u001b[0m\u001b[1;33m.\u001b[0m\u001b[0mparse\u001b[0m\u001b[1;33m(\u001b[0m\u001b[0marquivo\u001b[0m\u001b[1;33m)\u001b[0m\u001b[1;33m\u001b[0m\u001b[1;33m\u001b[0m\u001b[0m\n\u001b[0m\u001b[0;32m      3\u001b[0m     \u001b[0mprint\u001b[0m\u001b[1;33m(\u001b[0m\u001b[0mdoc\u001b[0m\u001b[1;33m[\u001b[0m\u001b[1;34m\"nfeProc\"\u001b[0m\u001b[1;33m]\u001b[0m\u001b[1;33m[\u001b[0m\u001b[1;34m\"NFe\"\u001b[0m\u001b[1;33m]\u001b[0m\u001b[1;33m[\u001b[0m\u001b[1;34m\"infNFe\"\u001b[0m\u001b[1;33m]\u001b[0m\u001b[1;33m[\u001b[0m\u001b[1;34m\"ide\"\u001b[0m\u001b[1;33m]\u001b[0m\u001b[1;33m[\u001b[0m\u001b[1;34m\"cUF\"\u001b[0m\u001b[1;33m]\u001b[0m\u001b[1;33m)\u001b[0m\u001b[1;33m\u001b[0m\u001b[1;33m\u001b[0m\u001b[0m\n",
      "\u001b[1;32m~\\AppData\\Local\\Programs\\Python\\Python38\\lib\\site-packages\\xmltodict.py\u001b[0m in \u001b[0;36mparse\u001b[1;34m(xml_input, encoding, expat, process_namespaces, namespace_separator, disable_entities, **kwargs)\u001b[0m\n\u001b[0;32m    323\u001b[0m             \u001b[0mparser\u001b[0m\u001b[1;33m.\u001b[0m\u001b[0mExternalEntityRefHandler\u001b[0m \u001b[1;33m=\u001b[0m \u001b[1;32mlambda\u001b[0m \u001b[1;33m*\u001b[0m\u001b[0mx\u001b[0m\u001b[1;33m:\u001b[0m \u001b[1;36m1\u001b[0m\u001b[1;33m\u001b[0m\u001b[1;33m\u001b[0m\u001b[0m\n\u001b[0;32m    324\u001b[0m     \u001b[1;32mif\u001b[0m \u001b[0mhasattr\u001b[0m\u001b[1;33m(\u001b[0m\u001b[0mxml_input\u001b[0m\u001b[1;33m,\u001b[0m \u001b[1;34m'read'\u001b[0m\u001b[1;33m)\u001b[0m\u001b[1;33m:\u001b[0m\u001b[1;33m\u001b[0m\u001b[1;33m\u001b[0m\u001b[0m\n\u001b[1;32m--> 325\u001b[1;33m         \u001b[0mparser\u001b[0m\u001b[1;33m.\u001b[0m\u001b[0mParseFile\u001b[0m\u001b[1;33m(\u001b[0m\u001b[0mxml_input\u001b[0m\u001b[1;33m)\u001b[0m\u001b[1;33m\u001b[0m\u001b[1;33m\u001b[0m\u001b[0m\n\u001b[0m\u001b[0;32m    326\u001b[0m     \u001b[1;32melse\u001b[0m\u001b[1;33m:\u001b[0m\u001b[1;33m\u001b[0m\u001b[1;33m\u001b[0m\u001b[0m\n\u001b[0;32m    327\u001b[0m         \u001b[0mparser\u001b[0m\u001b[1;33m.\u001b[0m\u001b[0mParse\u001b[0m\u001b[1;33m(\u001b[0m\u001b[0mxml_input\u001b[0m\u001b[1;33m,\u001b[0m \u001b[1;32mTrue\u001b[0m\u001b[1;33m)\u001b[0m\u001b[1;33m\u001b[0m\u001b[1;33m\u001b[0m\u001b[0m\n",
      "\u001b[1;31mTypeError\u001b[0m: read() did not return a bytes object (type=str)"
     ]
    }
   ],
   "source": [
    "with open('32210405974276000194550010003266491001224468-NF-e.xml') as arquivo:\n",
    "    doc = xmltodict.parse(arquivo)\n",
    "    print(doc[\"nfeProc\"][\"NFe\"][\"infNFe\"][\"ide\"][\"cUF\"])"
   ]
  },
  {
   "cell_type": "code",
   "execution_count": 6,
   "metadata": {},
   "outputs": [
    {
     "output_type": "stream",
     "name": "stdout",
     "text": [
      "<?xml version=\"1.0\" ?>\n<nfeProc xmlns=\"http://www.portalfiscal.inf.br/nfe\"                          versao=\"4.00\">\n<NFe xmlns=\"http://www.portalfiscal.inf.br/nfe\">\n    <infNFe versao=\"4.00\" Id=\"NFe32210405974276000194550010003266491001224468\">\n        <ide>\n            <cUF>32</cUF>\n            <cNF>00122446</cNF>\n            <natOp>VENDA MERCAD. COMERCIALIZACAO</natOp>\n            <mod>55</mod>\n            <serie>1</serie>\n            <nNF>326649</nNF>\n            <dhEmi>2021-04-06T13:48:21-03:00</dhEmi>\n            <dhSaiEnt>2021-04-06T13:48:21-03:00</dhSaiEnt>\n            <tpNF>1</tpNF>\n            <idDest>1</idDest>\n            <cMunFG>3205200</cMunFG>\n            <tpImp>1</tpImp>\n            <tpEmis>1</tpEmis>\n            <cDV>8</cDV>\n            <tpAmb>1</tpAmb>\n            <finNFe>1</finNFe>\n            <indFinal>0</indFinal>\n            <indPres>3</indPres>\n            <procEmi>0</procEmi>\n            <verProc>ACIM 4.00</verProc>\n        </ide>\n        <emit>\n            <CNPJ>05974276000194</CNPJ>\n            <xNome>FRINCARNES FRIGORIF INDUSTR DE CARNES DO ES EIRELI</xNome>\n            <xFant>FRIGORIFICO FRINCARNES</xFant>\n            <enderEmit>\n                <xLgr>RUA JOSE ROSALEM</xLgr>\n                <nro>5</nro>\n                <xBairro>SANTA INES</xBairro>\n                <cMun>3205200</cMun>\n                <xMun>VILA VELHA</xMun>\n                <UF>ES</UF>\n                <CEP>29105645</CEP>\n                <cPais>1058</cPais>\n                <xPais>BRASIL</xPais>\n                <fone>2733910985</fone>\n            </enderEmit>\n            <IE>082244731</IE>\n            <CRT>3</CRT>\n        </emit>\n        <dest>\n            <CNPJ>27151620000188</CNPJ>\n            <xNome>SUPERMERCADO BOBBIO LTDA</xNome>\n            <enderDest>\n                <xLgr>AVE ANGELO SUZANO,578</xLgr>\n                <nro>00000</nro>\n                <xBairro>CENTRO</xBairro>\n                <cMun>3205010</cMun>\n                <xMun>SOORETAMA</xMun>\n                <UF>ES</UF>\n                <CEP>29927000</CEP>\n                <cPais>1058</cPais>\n                <xPais>BRASIL</xPais>\n                <fone>2732731104</fone>\n            </enderDest>\n            <indIEDest>1</indIEDest>\n            <IE>080308660</IE>\n        </dest>\n        <det nItem=\"1\">\n            <prod>\n                <cProd>2</cProd>\n                <cEAN>SEM GTIN</cEAN>\n                <xProd>CARNE BOVINA DIANTEIRO</xProd>\n                <NCM>02012010</NCM>\n                <CEST>1708400</CEST>\n                <CFOP>5403</CFOP>\n                <uCom>KG</uCom>\n                <qCom>70.9000</qCom>\n                <vUnCom>19.000000</vUnCom>\n                <vProd>1347.10</vProd>\n                <cEANTrib></cEANTrib>\n                <uTrib>KG</uTrib>\n                <qTrib>70.9000</qTrib>\n                <vUnTrib>19.000000</vUnTrib>\n                <indTot>1</indTot>\n                <xPed>0</xPed>\n                <nItemPed>1</nItemPed>\n            </prod>\n            <imposto>\n                <ICMS>\n                    <ICMS70>\n                        <orig>0</orig>\n                        <CST>70</CST>\n                        <modBC>0</modBC>\n                        <pRedBC>58.82</pRedBC>\n                        <vBC>554.69</vBC>\n                        <pICMS>17.00</pICMS>\n                        <vICMS>94.30</vICMS>\n                        <modBCST>4</modBCST>\n                        <pMVAST>11.38</pMVAST>\n                        <pRedBCST>58.82</pRedBCST>\n                        <vBCST>617.82</vBCST>\n                        <pICMSST>17.00</pICMSST>\n                        <vICMSST>10.73</vICMSST>\n                    </ICMS70>\n                </ICMS>\n                <PIS>\n                    <PISNT>\n                        <CST>06</CST>\n                    </PISNT>\n                </PIS>\n                <COFINS>\n                    <COFINSNT>\n                        <CST>06</CST>\n                    </COFINSNT>\n                </COFINS>\n            </imposto>\n        </det>\n        <det nItem=\"2\">\n            <prod>\n                <cProd>1</cProd>\n                <cEAN>SEM GTIN</cEAN>\n                <xProd>CARNE BOVINA TRASEIRO</xProd>\n                <NCM>02012020</NCM>\n                <CEST>1708400</CEST>\n                <CFOP>5403</CFOP>\n                <uCom>KG</uCom>\n                <qCom>143.7000</qCom>\n                <vUnCom>26.000000</vUnCom>\n                <vProd>3736.20</vProd>\n                <cEANTrib></cEANTrib>\n                <uTrib>KG</uTrib>\n                <qTrib>143.7000</qTrib>\n                <vUnTrib>26.000000</vUnTrib>\n                <indTot>1</indTot>\n                <xPed>0</xPed>\n                <nItemPed>2</nItemPed>\n            </prod>\n            <imposto>\n                <ICMS>\n                    <ICMS70>\n                        <orig>0</orig>\n                        <CST>70</CST>\n                        <modBC>0</modBC>\n                        <pRedBC>58.82</pRedBC>\n                        <vBC>1538.44</vBC>\n                        <pICMS>17.00</pICMS>\n                        <vICMS>261.53</vICMS>\n                        <modBCST>4</modBCST>\n                        <pMVAST>11.38</pMVAST>\n                        <pRedBCST>58.82</pRedBCST>\n                        <vBCST>1713.54</vBCST>\n                        <pICMSST>17.00</pICMSST>\n                        <vICMSST>29.77</vICMSST>\n                    </ICMS70>\n                </ICMS>\n                <PIS>\n                    <PISNT>\n                        <CST>06</CST>\n                    </PISNT>\n                </PIS>\n                <COFINS>\n                    <COFINSNT>\n                        <CST>06</CST>\n                    </COFINSNT>\n                </COFINS>\n            </imposto>\n        </det>\n        <total>\n            <ICMSTot>\n                <vBC>2093.13</vBC>\n                <vICMS>355.83</vICMS>\n                <vICMSDeson>0.00</vICMSDeson>\n                <vFCPUFDest>0.00</vFCPUFDest>\n                <vFCP>0.00</vFCP>\n                <vBCST>2331.36</vBCST>\n                <vST>40.50</vST>\n                <vFCPST>0.00</vFCPST>\n                <vFCPSTRet>0.00</vFCPSTRet>\n                <vProd>5083.30</vProd>\n                <vFrete>0.00</vFrete>\n                <vSeg>0.00</vSeg>\n                <vDesc>0.00</vDesc>\n                <vII>0.00</vII>\n                <vIPI>0.00</vIPI>\n                <vIPIDevol>0.00</vIPIDevol>\n                <vPIS>0.00</vPIS>\n                <vCOFINS>0.00</vCOFINS>\n                <vOutro>0.00</vOutro>\n                <vNF>5123.80</vNF>\n            </ICMSTot>\n        </total>\n        <transp>\n            <modFrete>0</modFrete>\n            <transporta>\n                <CPF>61053554591</CPF>\n                <xNome>CARLOS ALBERTO SOUZA GUIMARAES</xNome>\n                <xEnder>RUA JOSE ROSALEM,5</xEnder>\n                <xMun>VILA VELHA</xMun>\n                <UF>ES</UF>\n            </transporta>\n            <veicTransp>\n                <placa>RBF5A77</placa>\n                <UF>ES</UF>\n            </veicTransp>\n            <vol>\n                <qVol>214</qVol>\n                <marca>VOLUMES</marca>\n                <pesoL>214.600</pesoL>\n                <pesoB>214.600</pesoB>\n            </vol>\n        </transp>\n        <cobr>\n            <fat>\n                <nFat>326649</nFat>\n                <vOrig>5123.80</vOrig>\n                <vDesc>0.00</vDesc>\n                <vLiq>5123.80</vLiq>\n            </fat>\n            <dup>\n                <nDup>001</nDup>\n                <dVenc>2021-04-07</dVenc>\n                <vDup>5123.80</vDup>\n            </dup>\n        </cobr>\n        <pag>\n            <detPag>\n                <indPag>1</indPag>\n                <tPag>99</tPag>\n                <vPag>5123.80</vPag>\n            </detPag>\n        </pag>\n        <infAdic>\n            <infAdFisco>NA</infAdFisco>\n            <infCpl>CENTRAL DE COMPRAS SOORETAMA TP.PAGTO.DINHEIRO RED.BC CONF. ART534. ZZA RICMS DEC 1090R CAP XLI-L PERCENTUAL DO MVA 15 PERC REDUZIDA EM 24,12 PERC PORTARIA 042-R DE 07-10-2015 CONTRIB SUBSTITUTO CF.PORTARIA 22-R DE 31-07-2018, PROCESSO 86992961 MANDADO DE SEGURAN A C VEL - NR 0013230-18.2020.8.08.0000(100200035028).</infCpl>\n        </infAdic>\n    </infNFe>\n</NFe>\n</nfeProc>\n"
     ]
    }
   ],
   "source": [
    "nota = parser.parse(arquivo)"
   ]
  },
  {
   "cell_type": "code",
   "execution_count": 10,
   "metadata": {},
   "outputs": [
    {
     "output_type": "execute_result",
     "data": {
      "text/plain": [
       "'326649'"
      ]
     },
     "metadata": {},
     "execution_count": 10
    }
   ],
   "source": [
    "nota.infNFe.emit.CNPJ\n",
    "nota.infNFe.ide.nNF"
   ]
  },
  {
   "cell_type": "code",
   "execution_count": 15,
   "metadata": {},
   "outputs": [
    {
     "output_type": "execute_result",
     "data": {
      "text/plain": [
       "<function list.index(value, start=0, stop=9223372036854775807, /)>"
      ]
     },
     "metadata": {},
     "execution_count": 15
    }
   ],
   "source": [
    "nota.infNFe.det.index"
   ]
  },
  {
   "cell_type": "code",
   "execution_count": null,
   "metadata": {},
   "outputs": [],
   "source": []
  }
 ]
}